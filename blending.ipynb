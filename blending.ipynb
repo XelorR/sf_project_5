{
 "cells": [
  {
   "cell_type": "markdown",
   "metadata": {},
   "source": [
    "# imports"
   ]
  },
  {
   "cell_type": "code",
   "execution_count": 1,
   "metadata": {},
   "outputs": [
    {
     "data": {
      "text/html": [
       "<style type='text/css'>\n",
       ".datatable table.frame { margin-bottom: 0; }\n",
       ".datatable table.frame thead { border-bottom: none; }\n",
       ".datatable table.frame tr.coltypes td {  color: #FFFFFF;  line-height: 6px;  padding: 0 0.5em;}\n",
       ".datatable .bool    { background: #DDDD99; }\n",
       ".datatable .object  { background: #565656; }\n",
       ".datatable .int     { background: #5D9E5D; }\n",
       ".datatable .float   { background: #4040CC; }\n",
       ".datatable .str     { background: #CC4040; }\n",
       ".datatable .row_index {  background: var(--jp-border-color3);  border-right: 1px solid var(--jp-border-color0);  color: var(--jp-ui-font-color3);  font-size: 9px;}\n",
       ".datatable .frame tr.coltypes .row_index {  background: var(--jp-border-color0);}\n",
       ".datatable th:nth-child(2) { padding-left: 12px; }\n",
       ".datatable .hellipsis {  color: var(--jp-cell-editor-border-color);}\n",
       ".datatable .vellipsis {  background: var(--jp-layout-color0);  color: var(--jp-cell-editor-border-color);}\n",
       ".datatable .na {  color: var(--jp-cell-editor-border-color);  font-size: 80%;}\n",
       ".datatable .footer { font-size: 9px; }\n",
       ".datatable .frame_dimensions {  background: var(--jp-border-color3);  border-top: 1px solid var(--jp-border-color0);  color: var(--jp-ui-font-color3);  display: inline-block;  opacity: 0.6;  padding: 1px 10px 1px 5px;}\n",
       "</style>\n"
      ],
      "text/plain": [
       "<IPython.core.display.HTML object>"
      ]
     },
     "metadata": {},
     "output_type": "display_data"
    }
   ],
   "source": [
    "from warnings import filterwarnings\n",
    "\n",
    "import pandas as pd\n",
    "import numpy as np\n",
    "import matplotlib.pyplot as plt\n",
    "import seaborn as sns\n",
    "\n",
    "from sklearn.preprocessing import StandardScaler, LabelEncoder\n",
    "from sklearn.linear_model import LinearRegression, LogisticRegression\n",
    "from sklearn.ensemble import RandomForestClassifier\n",
    "from sklearn.model_selection import train_test_split, cross_val_score\n",
    "from imblearn.under_sampling import RandomUnderSampler\n",
    "from sklearn.metrics import roc_auc_score, roc_curve\n",
    "from lightgbm import LGBMClassifier\n",
    "from catboost import CatBoostClassifier\n",
    "\n",
    "import optuna\n",
    "\n",
    "sns.set()\n",
    "filterwarnings(\"ignore\")"
   ]
  },
  {
   "cell_type": "markdown",
   "metadata": {},
   "source": [
    "# getting and preprocessing data"
   ]
  },
  {
   "cell_type": "code",
   "execution_count": 2,
   "metadata": {},
   "outputs": [],
   "source": [
    "DATA_DIR = 'kaggle/input'\n",
    "\n",
    "df_train = pd.read_csv(DATA_DIR +'/train.csv')\n",
    "df_test = pd.read_csv(DATA_DIR +'/test.csv')\n",
    "sample_submission = pd.read_csv(DATA_DIR+'/sample_submission.csv')\n",
    "\n",
    "# ВАЖНО! дря корректной обработки признаков объединяем трейн и тест в один датасет\n",
    "df_train['sample'] = 1 # помечаем где у нас трейн\n",
    "df_test['sample'] = 0  # помечаем где у нас тест\n",
    "df_test['default'] = 0 # в тесте у нас нет значения Rating, мы его должны предсказать, по этому пока просто заполняем нулями\n",
    "\n",
    "data = df_test.append(df_train, sort=False).reset_index(drop=True) # объединяем"
   ]
  },
  {
   "cell_type": "code",
   "execution_count": 3,
   "metadata": {},
   "outputs": [],
   "source": [
    "num_cols = ['age', 'score_bki', 'decline_app_cnt', 'bki_request_cnt', 'income']\n",
    "cat_cols = ['education', 'first_time', 'sna', 'work_address', 'home_address', 'region_rating']\n",
    "bin_cols = ['sex', 'car', 'car_type', 'good_work', 'foreign_passport']"
   ]
  },
  {
   "cell_type": "code",
   "execution_count": 4,
   "metadata": {},
   "outputs": [],
   "source": [
    "ids = data[\"client_id\"]  # сохраним на всякий пожарный\n",
    "data.drop(['client_id','app_date',], axis = 1, inplace=True)\n",
    "\n",
    "# Заполнение пропуски 'education' наиболее частым значением 'SCH'\n",
    "# Можно было бы выделить в отдельную категорию, \"без образования\", пробовал, качество от этого не повышается \n",
    "data[\"education\"].fillna(data.education.mode(), inplace=True)\n",
    "\n",
    "# dummies\n",
    "data = pd.get_dummies(data, columns=['education'], dummy_na=True)\n",
    "\n",
    "# label encoding\n",
    "le = LabelEncoder()\n",
    "\n",
    "for column in bin_cols:\n",
    "    data[column] = le.fit_transform(data[column])\n",
    "    \n",
    "columns = ['first_time', 'sna', 'work_address', 'home_address', 'region_rating']\n",
    "\n",
    "for column in columns:\n",
    "    data[column] = le.fit_transform(data[column])\n",
    "\n",
    "# логорифмируем хвостатых\n",
    "data['age'] = np.log(data['age'] + 1)\n",
    "data['decline_app_cnt'] = np.log(data['decline_app_cnt'] + 1)\n",
    "data['income'] = np.log(data['income'] + 1)\n",
    "data['bki_request_cnt'] = np.log(data.bki_request_cnt + 1)\n",
    "\n",
    "# Нормализируем численные\n",
    "for column in num_cols:\n",
    "    data[column] = StandardScaler().fit_transform(np.array(data[column].values).reshape(-1, 1))"
   ]
  },
  {
   "cell_type": "code",
   "execution_count": 5,
   "metadata": {},
   "outputs": [],
   "source": [
    "X, y = (\n",
    "    data.query(\"sample == 1\").drop(columns=[\"sample\", \"default\"]),\n",
    "    data.query(\"sample == 1\")[\"default\"].values,\n",
    ")\n",
    "test = data.query(\"sample == 0\").drop(columns=[\"sample\", \"default\"])"
   ]
  },
  {
   "cell_type": "code",
   "execution_count": 6,
   "metadata": {},
   "outputs": [],
   "source": [
    "rus = RandomUnderSampler(random_state=42)\n",
    "X, y = rus.fit_resample(X, y)"
   ]
  },
  {
   "cell_type": "markdown",
   "metadata": {},
   "source": [
    "# modelling"
   ]
  },
  {
   "cell_type": "markdown",
   "metadata": {},
   "source": [
    "### base models"
   ]
  },
  {
   "cell_type": "code",
   "execution_count": 7,
   "metadata": {},
   "outputs": [],
   "source": [
    "simple_models = [\n",
    "    LinearRegression(),\n",
    "    LogisticRegression(random_state=42),\n",
    "    RandomForestClassifier(random_state=42),\n",
    "    LGBMClassifier(\n",
    "        **{\n",
    "            \"lambda_l1\": 1.6758594914477627e-05,\n",
    "            \"lambda_l2\": 1.555459299457268e-07,\n",
    "            \"num_leaves\": 8,\n",
    "            \"feature_fraction\": 0.4030892028571655,\n",
    "            \"bagging_fraction\": 0.7039470678830023,\n",
    "            \"bagging_freq\": 3,\n",
    "            \"min_child_samples\": 27,\n",
    "        },\n",
    "        random_state=42,\n",
    "        silent=True\n",
    "    ),\n",
    "    CatBoostClassifier(random_state=42, silent=True),\n",
    "]\n",
    "simple_models_names = [\"linear\", \"logistic\", \"rf\", \"lgbm\", \"catboost\"]\n",
    "\n",
    "X_train, X_val, y_train, y_val = train_test_split(X, y, random_state=42, test_size=0.2, shuffle=True)"
   ]
  },
  {
   "cell_type": "code",
   "execution_count": 8,
   "metadata": {},
   "outputs": [
    {
     "name": "stdout",
     "output_type": "stream",
     "text": [
      "Fitting linear done\n",
      "Fitting logistic done\n",
      "Fitting rf done\n",
      "Fitting lgbm [LightGBM] [Warning] bagging_fraction is set=0.7039470678830023, subsample=1.0 will be ignored. Current value: bagging_fraction=0.7039470678830023\n",
      "[LightGBM] [Warning] lambda_l1 is set=1.6758594914477627e-05, reg_alpha=0.0 will be ignored. Current value: lambda_l1=1.6758594914477627e-05\n",
      "[LightGBM] [Warning] feature_fraction is set=0.4030892028571655, colsample_bytree=1.0 will be ignored. Current value: feature_fraction=0.4030892028571655\n",
      "[LightGBM] [Warning] bagging_freq is set=3, subsample_freq=0 will be ignored. Current value: bagging_freq=3\n",
      "[LightGBM] [Warning] lambda_l2 is set=1.555459299457268e-07, reg_lambda=0.0 will be ignored. Current value: lambda_l2=1.555459299457268e-07\n",
      "done\n",
      "Fitting catboost done\n"
     ]
    },
    {
     "data": {
      "text/html": [
       "<div>\n",
       "<style scoped>\n",
       "    .dataframe tbody tr th:only-of-type {\n",
       "        vertical-align: middle;\n",
       "    }\n",
       "\n",
       "    .dataframe tbody tr th {\n",
       "        vertical-align: top;\n",
       "    }\n",
       "\n",
       "    .dataframe thead th {\n",
       "        text-align: right;\n",
       "    }\n",
       "</style>\n",
       "<table border=\"1\" class=\"dataframe\">\n",
       "  <thead>\n",
       "    <tr style=\"text-align: right;\">\n",
       "      <th></th>\n",
       "      <th>linear</th>\n",
       "      <th>logistic</th>\n",
       "      <th>rf</th>\n",
       "      <th>lgbm</th>\n",
       "      <th>catboost</th>\n",
       "    </tr>\n",
       "  </thead>\n",
       "  <tbody>\n",
       "    <tr>\n",
       "      <th>0</th>\n",
       "      <td>0.391481</td>\n",
       "      <td>0.375536</td>\n",
       "      <td>0.38</td>\n",
       "      <td>0.379378</td>\n",
       "      <td>0.335971</td>\n",
       "    </tr>\n",
       "    <tr>\n",
       "      <th>1</th>\n",
       "      <td>0.654895</td>\n",
       "      <td>0.675221</td>\n",
       "      <td>0.66</td>\n",
       "      <td>0.655999</td>\n",
       "      <td>0.654139</td>\n",
       "    </tr>\n",
       "    <tr>\n",
       "      <th>2</th>\n",
       "      <td>0.628189</td>\n",
       "      <td>0.642456</td>\n",
       "      <td>0.66</td>\n",
       "      <td>0.663686</td>\n",
       "      <td>0.736752</td>\n",
       "    </tr>\n",
       "  </tbody>\n",
       "</table>\n",
       "</div>"
      ],
      "text/plain": [
       "     linear  logistic    rf      lgbm  catboost\n",
       "0  0.391481  0.375536  0.38  0.379378  0.335971\n",
       "1  0.654895  0.675221  0.66  0.655999  0.654139\n",
       "2  0.628189  0.642456  0.66  0.663686  0.736752"
      ]
     },
     "execution_count": 8,
     "metadata": {},
     "output_type": "execute_result"
    }
   ],
   "source": [
    "meta_df = pd.DataFrame()\n",
    "for name, model in zip(simple_models_names, simple_models):\n",
    "    print(\"Fitting\", name, end = \" \")\n",
    "    if name != \"linear\":\n",
    "        model.fit(X_train, y_train)\n",
    "        meta_df[name] = model.predict_proba(X_val)[:,1]\n",
    "    else:\n",
    "        model.fit(X_train, y_train)\n",
    "        meta_df[name] = model.predict(X_val)\n",
    "    print(\"done\")\n",
    "\n",
    "meta_df.head(3)"
   ]
  },
  {
   "cell_type": "markdown",
   "metadata": {},
   "source": [
    "### meta model"
   ]
  },
  {
   "cell_type": "code",
   "execution_count": 9,
   "metadata": {},
   "outputs": [
    {
     "name": "stdout",
     "output_type": "stream",
     "text": [
      "Predicting using linear done\n",
      "Predicting using logistic done\n",
      "Predicting using rf done\n",
      "Predicting using lgbm done\n",
      "Predicting using catboost done\n"
     ]
    },
    {
     "data": {
      "text/html": [
       "<div>\n",
       "<style scoped>\n",
       "    .dataframe tbody tr th:only-of-type {\n",
       "        vertical-align: middle;\n",
       "    }\n",
       "\n",
       "    .dataframe tbody tr th {\n",
       "        vertical-align: top;\n",
       "    }\n",
       "\n",
       "    .dataframe thead th {\n",
       "        text-align: right;\n",
       "    }\n",
       "</style>\n",
       "<table border=\"1\" class=\"dataframe\">\n",
       "  <thead>\n",
       "    <tr style=\"text-align: right;\">\n",
       "      <th></th>\n",
       "      <th>linear</th>\n",
       "      <th>logistic</th>\n",
       "      <th>rf</th>\n",
       "      <th>lgbm</th>\n",
       "      <th>catboost</th>\n",
       "      <th>preds</th>\n",
       "    </tr>\n",
       "  </thead>\n",
       "  <tbody>\n",
       "    <tr>\n",
       "      <th>0</th>\n",
       "      <td>0.257588</td>\n",
       "      <td>0.244739</td>\n",
       "      <td>0.21</td>\n",
       "      <td>0.198108</td>\n",
       "      <td>0.178658</td>\n",
       "      <td>0</td>\n",
       "    </tr>\n",
       "    <tr>\n",
       "      <th>1</th>\n",
       "      <td>0.733078</td>\n",
       "      <td>0.753684</td>\n",
       "      <td>0.82</td>\n",
       "      <td>0.774777</td>\n",
       "      <td>0.927645</td>\n",
       "      <td>1</td>\n",
       "    </tr>\n",
       "    <tr>\n",
       "      <th>2</th>\n",
       "      <td>0.336925</td>\n",
       "      <td>0.317852</td>\n",
       "      <td>0.42</td>\n",
       "      <td>0.368779</td>\n",
       "      <td>0.443330</td>\n",
       "      <td>0</td>\n",
       "    </tr>\n",
       "  </tbody>\n",
       "</table>\n",
       "</div>"
      ],
      "text/plain": [
       "     linear  logistic    rf      lgbm  catboost  preds\n",
       "0  0.257588  0.244739  0.21  0.198108  0.178658      0\n",
       "1  0.733078  0.753684  0.82  0.774777  0.927645      1\n",
       "2  0.336925  0.317852  0.42  0.368779  0.443330      0"
      ]
     },
     "execution_count": 9,
     "metadata": {},
     "output_type": "execute_result"
    }
   ],
   "source": [
    "meta_model = CatBoostClassifier(random_state=42, silent=True)\n",
    "meta_model.fit(meta_df, y_val)\n",
    "\n",
    "test_meta_df = pd.DataFrame()\n",
    "for name, model in zip(simple_models_names, simple_models):\n",
    "    print(\"Predicting using\", name, end = \" \")\n",
    "    if name != \"linear\":\n",
    "        test_meta_df[name] = model.predict_proba(test)[:,1]\n",
    "    else:\n",
    "        test_meta_df[name] = model.predict(test)\n",
    "    print(\"done\")\n",
    "\n",
    "test_meta_df[\"preds\"] = meta_model.predict(test_meta_df)\n",
    "test_meta_df.head(3)"
   ]
  },
  {
   "cell_type": "code",
   "execution_count": 10,
   "metadata": {},
   "outputs": [
    {
     "data": {
      "text/html": [
       "<div>\n",
       "<style scoped>\n",
       "    .dataframe tbody tr th:only-of-type {\n",
       "        vertical-align: middle;\n",
       "    }\n",
       "\n",
       "    .dataframe tbody tr th {\n",
       "        vertical-align: top;\n",
       "    }\n",
       "\n",
       "    .dataframe thead th {\n",
       "        text-align: right;\n",
       "    }\n",
       "</style>\n",
       "<table border=\"1\" class=\"dataframe\">\n",
       "  <thead>\n",
       "    <tr style=\"text-align: right;\">\n",
       "      <th></th>\n",
       "      <th>client_id</th>\n",
       "      <th>default</th>\n",
       "    </tr>\n",
       "  </thead>\n",
       "  <tbody>\n",
       "    <tr>\n",
       "      <th>0</th>\n",
       "      <td>74835</td>\n",
       "      <td>0</td>\n",
       "    </tr>\n",
       "    <tr>\n",
       "      <th>1</th>\n",
       "      <td>17527</td>\n",
       "      <td>0</td>\n",
       "    </tr>\n",
       "    <tr>\n",
       "      <th>2</th>\n",
       "      <td>75683</td>\n",
       "      <td>0</td>\n",
       "    </tr>\n",
       "  </tbody>\n",
       "</table>\n",
       "</div>"
      ],
      "text/plain": [
       "   client_id  default\n",
       "0      74835        0\n",
       "1      17527        0\n",
       "2      75683        0"
      ]
     },
     "execution_count": 10,
     "metadata": {},
     "output_type": "execute_result"
    }
   ],
   "source": [
    "sample_submission[:3]"
   ]
  },
  {
   "cell_type": "code",
   "execution_count": 11,
   "metadata": {},
   "outputs": [],
   "source": [
    "sample_submission[\"default\"] = test_meta_df[\"preds\"]"
   ]
  },
  {
   "cell_type": "code",
   "execution_count": 12,
   "metadata": {},
   "outputs": [],
   "source": [
    "sample_submission.to_csv(\"submission.csv\", index=False)"
   ]
  },
  {
   "cell_type": "markdown",
   "metadata": {},
   "source": [
    "## kaggle: 0.33879"
   ]
  }
 ],
 "metadata": {
  "interpreter": {
   "hash": "995ee929d4551839aa49ca7a1183d413d9a8d51b673f4509586a2b7bfb4ef704"
  },
  "kernelspec": {
   "display_name": "Python 3.9.7 64-bit ('base': conda)",
   "language": "python",
   "name": "python3"
  },
  "language_info": {
   "codemirror_mode": {
    "name": "ipython",
    "version": 3
   },
   "file_extension": ".py",
   "mimetype": "text/x-python",
   "name": "python",
   "nbconvert_exporter": "python",
   "pygments_lexer": "ipython3",
   "version": "3.9.10"
  },
  "orig_nbformat": 4
 },
 "nbformat": 4,
 "nbformat_minor": 2
}
