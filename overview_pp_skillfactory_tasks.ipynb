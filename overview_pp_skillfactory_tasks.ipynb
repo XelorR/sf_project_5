{
 "cells": [
  {
   "cell_type": "markdown",
   "metadata": {},
   "source": [
    "## imports"
   ]
  },
  {
   "cell_type": "code",
   "execution_count": 1,
   "metadata": {},
   "outputs": [],
   "source": [
    "from pprint import pprint\n",
    "import warnings\n",
    "\n",
    "warnings.filterwarnings(\"ignore\")\n",
    "\n",
    "import numpy as np\n",
    "import pandas as pd\n",
    "import seaborn as sns\n",
    "import matplotlib.pyplot as plt\n",
    "\n",
    "from sklearn.model_selection import train_test_split\n",
    "from sklearn.feature_selection import f_classif, mutual_info_classif\n",
    "from sklearn.preprocessing import LabelEncoder, OneHotEncoder, StandardScaler\n",
    "from sklearn.metrics import (\n",
    "    confusion_matrix,\n",
    "    roc_auc_score,\n",
    "    accuracy_score,\n",
    "    precision_score,\n",
    "    recall_score,\n",
    "    f1_score,\n",
    "    roc_curve,\n",
    "    classification_report,\n",
    ")\n",
    "from sklearn.linear_model import LogisticRegression\n",
    "\n",
    "from data_viz_functions import *"
   ]
  },
  {
   "cell_type": "code",
   "execution_count": 2,
   "metadata": {},
   "outputs": [],
   "source": [
    "data = pd.read_csv(\"dataset.csv\")\n",
    "train, validation = train_test_split(data, test_size=0.33, random_state=42)\n"
   ]
  },
  {
   "cell_type": "markdown",
   "metadata": {},
   "source": [
    "## first view"
   ]
  },
  {
   "cell_type": "code",
   "execution_count": 3,
   "metadata": {},
   "outputs": [
    {
     "data": {
      "text/plain": [
       "(73799, 14)"
      ]
     },
     "execution_count": 3,
     "metadata": {},
     "output_type": "execute_result"
    }
   ],
   "source": [
    "data.shape\n"
   ]
  },
  {
   "cell_type": "markdown",
   "metadata": {},
   "source": [
    "## общий вид"
   ]
  },
  {
   "cell_type": "code",
   "execution_count": 4,
   "metadata": {},
   "outputs": [
    {
     "data": {
      "text/plain": [
       "client_id            int64\n",
       "education           object\n",
       "sex                 object\n",
       "age                  int64\n",
       "car                 object\n",
       "car_type            object\n",
       "decline_app_cnt      int64\n",
       "good_work            int64\n",
       "bki_request_cnt      int64\n",
       "home_address         int64\n",
       "work_address         int64\n",
       "income               int64\n",
       "foreign_passport    object\n",
       "default              int64\n",
       "dtype: object"
      ]
     },
     "execution_count": 4,
     "metadata": {},
     "output_type": "execute_result"
    }
   ],
   "source": [
    "data.dtypes\n"
   ]
  },
  {
   "cell_type": "code",
   "execution_count": 5,
   "metadata": {},
   "outputs": [
    {
     "data": {
      "text/html": [
       "<div>\n",
       "<style scoped>\n",
       "    .dataframe tbody tr th:only-of-type {\n",
       "        vertical-align: middle;\n",
       "    }\n",
       "\n",
       "    .dataframe tbody tr th {\n",
       "        vertical-align: top;\n",
       "    }\n",
       "\n",
       "    .dataframe thead th {\n",
       "        text-align: right;\n",
       "    }\n",
       "</style>\n",
       "<table border=\"1\" class=\"dataframe\">\n",
       "  <thead>\n",
       "    <tr style=\"text-align: right;\">\n",
       "      <th></th>\n",
       "      <th>client_id</th>\n",
       "      <th>education</th>\n",
       "      <th>sex</th>\n",
       "      <th>age</th>\n",
       "      <th>car</th>\n",
       "      <th>car_type</th>\n",
       "      <th>decline_app_cnt</th>\n",
       "      <th>good_work</th>\n",
       "      <th>bki_request_cnt</th>\n",
       "      <th>home_address</th>\n",
       "      <th>work_address</th>\n",
       "      <th>income</th>\n",
       "      <th>foreign_passport</th>\n",
       "      <th>default</th>\n",
       "    </tr>\n",
       "  </thead>\n",
       "  <tbody>\n",
       "    <tr>\n",
       "      <th>52038</th>\n",
       "      <td>62356</td>\n",
       "      <td>GRD</td>\n",
       "      <td>F</td>\n",
       "      <td>44</td>\n",
       "      <td>N</td>\n",
       "      <td>N</td>\n",
       "      <td>0</td>\n",
       "      <td>0</td>\n",
       "      <td>0</td>\n",
       "      <td>2</td>\n",
       "      <td>2</td>\n",
       "      <td>15000</td>\n",
       "      <td>N</td>\n",
       "      <td>0</td>\n",
       "    </tr>\n",
       "    <tr>\n",
       "      <th>35683</th>\n",
       "      <td>14795</td>\n",
       "      <td>SCH</td>\n",
       "      <td>M</td>\n",
       "      <td>43</td>\n",
       "      <td>Y</td>\n",
       "      <td>N</td>\n",
       "      <td>0</td>\n",
       "      <td>0</td>\n",
       "      <td>3</td>\n",
       "      <td>1</td>\n",
       "      <td>2</td>\n",
       "      <td>25000</td>\n",
       "      <td>N</td>\n",
       "      <td>0</td>\n",
       "    </tr>\n",
       "    <tr>\n",
       "      <th>4260</th>\n",
       "      <td>45727</td>\n",
       "      <td>SCH</td>\n",
       "      <td>F</td>\n",
       "      <td>25</td>\n",
       "      <td>N</td>\n",
       "      <td>N</td>\n",
       "      <td>1</td>\n",
       "      <td>0</td>\n",
       "      <td>2</td>\n",
       "      <td>1</td>\n",
       "      <td>2</td>\n",
       "      <td>15000</td>\n",
       "      <td>Y</td>\n",
       "      <td>0</td>\n",
       "    </tr>\n",
       "    <tr>\n",
       "      <th>71837</th>\n",
       "      <td>7492</td>\n",
       "      <td>SCH</td>\n",
       "      <td>M</td>\n",
       "      <td>22</td>\n",
       "      <td>N</td>\n",
       "      <td>N</td>\n",
       "      <td>4</td>\n",
       "      <td>0</td>\n",
       "      <td>1</td>\n",
       "      <td>1</td>\n",
       "      <td>2</td>\n",
       "      <td>20000</td>\n",
       "      <td>N</td>\n",
       "      <td>0</td>\n",
       "    </tr>\n",
       "    <tr>\n",
       "      <th>10440</th>\n",
       "      <td>99608</td>\n",
       "      <td>SCH</td>\n",
       "      <td>M</td>\n",
       "      <td>46</td>\n",
       "      <td>N</td>\n",
       "      <td>N</td>\n",
       "      <td>0</td>\n",
       "      <td>0</td>\n",
       "      <td>0</td>\n",
       "      <td>2</td>\n",
       "      <td>3</td>\n",
       "      <td>80000</td>\n",
       "      <td>Y</td>\n",
       "      <td>0</td>\n",
       "    </tr>\n",
       "    <tr>\n",
       "      <th>17135</th>\n",
       "      <td>108058</td>\n",
       "      <td>GRD</td>\n",
       "      <td>F</td>\n",
       "      <td>41</td>\n",
       "      <td>N</td>\n",
       "      <td>N</td>\n",
       "      <td>0</td>\n",
       "      <td>0</td>\n",
       "      <td>2</td>\n",
       "      <td>2</td>\n",
       "      <td>3</td>\n",
       "      <td>25000</td>\n",
       "      <td>N</td>\n",
       "      <td>0</td>\n",
       "    </tr>\n",
       "    <tr>\n",
       "      <th>9199</th>\n",
       "      <td>35258</td>\n",
       "      <td>SCH</td>\n",
       "      <td>F</td>\n",
       "      <td>59</td>\n",
       "      <td>N</td>\n",
       "      <td>N</td>\n",
       "      <td>0</td>\n",
       "      <td>0</td>\n",
       "      <td>1</td>\n",
       "      <td>3</td>\n",
       "      <td>3</td>\n",
       "      <td>19000</td>\n",
       "      <td>N</td>\n",
       "      <td>0</td>\n",
       "    </tr>\n",
       "    <tr>\n",
       "      <th>36468</th>\n",
       "      <td>94960</td>\n",
       "      <td>SCH</td>\n",
       "      <td>F</td>\n",
       "      <td>42</td>\n",
       "      <td>N</td>\n",
       "      <td>N</td>\n",
       "      <td>0</td>\n",
       "      <td>0</td>\n",
       "      <td>1</td>\n",
       "      <td>2</td>\n",
       "      <td>3</td>\n",
       "      <td>60000</td>\n",
       "      <td>Y</td>\n",
       "      <td>0</td>\n",
       "    </tr>\n",
       "    <tr>\n",
       "      <th>39148</th>\n",
       "      <td>89668</td>\n",
       "      <td>UGR</td>\n",
       "      <td>M</td>\n",
       "      <td>23</td>\n",
       "      <td>N</td>\n",
       "      <td>N</td>\n",
       "      <td>2</td>\n",
       "      <td>0</td>\n",
       "      <td>0</td>\n",
       "      <td>1</td>\n",
       "      <td>1</td>\n",
       "      <td>30000</td>\n",
       "      <td>N</td>\n",
       "      <td>0</td>\n",
       "    </tr>\n",
       "    <tr>\n",
       "      <th>50349</th>\n",
       "      <td>81455</td>\n",
       "      <td>SCH</td>\n",
       "      <td>M</td>\n",
       "      <td>26</td>\n",
       "      <td>Y</td>\n",
       "      <td>Y</td>\n",
       "      <td>1</td>\n",
       "      <td>0</td>\n",
       "      <td>3</td>\n",
       "      <td>1</td>\n",
       "      <td>1</td>\n",
       "      <td>45000</td>\n",
       "      <td>N</td>\n",
       "      <td>0</td>\n",
       "    </tr>\n",
       "  </tbody>\n",
       "</table>\n",
       "</div>"
      ],
      "text/plain": [
       "       client_id education sex  age car car_type  decline_app_cnt  good_work  \\\n",
       "52038      62356       GRD   F   44   N        N                0          0   \n",
       "35683      14795       SCH   M   43   Y        N                0          0   \n",
       "4260       45727       SCH   F   25   N        N                1          0   \n",
       "71837       7492       SCH   M   22   N        N                4          0   \n",
       "10440      99608       SCH   M   46   N        N                0          0   \n",
       "17135     108058       GRD   F   41   N        N                0          0   \n",
       "9199       35258       SCH   F   59   N        N                0          0   \n",
       "36468      94960       SCH   F   42   N        N                0          0   \n",
       "39148      89668       UGR   M   23   N        N                2          0   \n",
       "50349      81455       SCH   M   26   Y        Y                1          0   \n",
       "\n",
       "       bki_request_cnt  home_address  work_address  income foreign_passport  \\\n",
       "52038                0             2             2   15000                N   \n",
       "35683                3             1             2   25000                N   \n",
       "4260                 2             1             2   15000                Y   \n",
       "71837                1             1             2   20000                N   \n",
       "10440                0             2             3   80000                Y   \n",
       "17135                2             2             3   25000                N   \n",
       "9199                 1             3             3   19000                N   \n",
       "36468                1             2             3   60000                Y   \n",
       "39148                0             1             1   30000                N   \n",
       "50349                3             1             1   45000                N   \n",
       "\n",
       "       default  \n",
       "52038        0  \n",
       "35683        0  \n",
       "4260         0  \n",
       "71837        0  \n",
       "10440        0  \n",
       "17135        0  \n",
       "9199         0  \n",
       "36468        0  \n",
       "39148        0  \n",
       "50349        0  "
      ]
     },
     "execution_count": 5,
     "metadata": {},
     "output_type": "execute_result"
    }
   ],
   "source": [
    "data.sample(10)\n"
   ]
  },
  {
   "cell_type": "markdown",
   "metadata": {},
   "source": [
    "### цифровые\n",
    "\n",
    "по факту следующие цифровые переменные также стоит считать категориальными:\n",
    "\n",
    "- home_address\n",
    "- work_address\n",
    "- good_work\n",
    "- default"
   ]
  },
  {
   "cell_type": "code",
   "execution_count": 6,
   "metadata": {},
   "outputs": [
    {
     "data": {
      "text/html": [
       "<style  type=\"text/css\" >\n",
       "    #T_95eac2d8_5a46_11ec_8cdc_2752392c5b15row0_col0 {\n",
       "            width:  10em;\n",
       "             height:  80%;\n",
       "            background:  linear-gradient(90deg,lightblue 100.0%, transparent 100.0%);\n",
       "        }    #T_95eac2d8_5a46_11ec_8cdc_2752392c5b15row0_col3 {\n",
       "            width:  10em;\n",
       "             height:  80%;\n",
       "            background:  linear-gradient(90deg,#d65f5f 79.1%, transparent 79.1%);\n",
       "        }    #T_95eac2d8_5a46_11ec_8cdc_2752392c5b15row0_col4 {\n",
       "            background-color:  #67000d;\n",
       "            color:  #f1f1f1;\n",
       "        }    #T_95eac2d8_5a46_11ec_8cdc_2752392c5b15row0_col7 {\n",
       "            background-color:  #31688e;\n",
       "            color:  #f1f1f1;\n",
       "        }    #T_95eac2d8_5a46_11ec_8cdc_2752392c5b15row1_col0 {\n",
       "            width:  10em;\n",
       "             height:  80%;\n",
       "            background:  linear-gradient(90deg,lightblue 52.8%, transparent 52.8%);\n",
       "        }    #T_95eac2d8_5a46_11ec_8cdc_2752392c5b15row1_col3 {\n",
       "            width:  10em;\n",
       "             height:  80%;\n",
       "            background:  linear-gradient(90deg,#d65f5f 6.3%, transparent 6.3%);\n",
       "        }    #T_95eac2d8_5a46_11ec_8cdc_2752392c5b15row1_col4 {\n",
       "            background-color:  #fcbda4;\n",
       "            color:  #000000;\n",
       "        }    #T_95eac2d8_5a46_11ec_8cdc_2752392c5b15row1_col7 {\n",
       "            background-color:  #440154;\n",
       "            color:  #f1f1f1;\n",
       "        }    #T_95eac2d8_5a46_11ec_8cdc_2752392c5b15row2_col0 {\n",
       "            width:  10em;\n",
       "             height:  80%;\n",
       "            background:  linear-gradient(90deg,lightblue 2.8%, transparent 2.8%);\n",
       "        }    #T_95eac2d8_5a46_11ec_8cdc_2752392c5b15row2_col3 {\n",
       "            width:  10em;\n",
       "             height:  80%;\n",
       "            background:  linear-gradient(90deg,#d65f5f 61.1%, transparent 61.1%);\n",
       "        }    #T_95eac2d8_5a46_11ec_8cdc_2752392c5b15row2_col4 {\n",
       "            background-color:  #fee5d8;\n",
       "            color:  #000000;\n",
       "        }    #T_95eac2d8_5a46_11ec_8cdc_2752392c5b15row2_col7 {\n",
       "            background-color:  #35b779;\n",
       "            color:  #000000;\n",
       "        }    #T_95eac2d8_5a46_11ec_8cdc_2752392c5b15row3_col0 {\n",
       "            width:  10em;\n",
       "             height:  80%;\n",
       "            background:  linear-gradient(90deg,lightblue 2.8%, transparent 2.8%);\n",
       "        }    #T_95eac2d8_5a46_11ec_8cdc_2752392c5b15row3_col3 {\n",
       "            width:  10em;\n",
       "             height:  80%;\n",
       "            background:  linear-gradient(90deg,#d65f5f 100.0%, transparent 100.0%);\n",
       "        }    #T_95eac2d8_5a46_11ec_8cdc_2752392c5b15row3_col4 {\n",
       "            background-color:  #fdcebb;\n",
       "            color:  #000000;\n",
       "        }    #T_95eac2d8_5a46_11ec_8cdc_2752392c5b15row3_col7 {\n",
       "            background-color:  #fde725;\n",
       "            color:  #000000;\n",
       "        }    #T_95eac2d8_5a46_11ec_8cdc_2752392c5b15row4_col0 {\n",
       "            width:  10em;\n",
       "             height:  80%;\n",
       "        }    #T_95eac2d8_5a46_11ec_8cdc_2752392c5b15row4_col3 {\n",
       "            width:  10em;\n",
       "             height:  80%;\n",
       "            background:  linear-gradient(90deg,#d65f5f 1.6%, transparent 1.6%);\n",
       "        }    #T_95eac2d8_5a46_11ec_8cdc_2752392c5b15row4_col4 {\n",
       "            background-color:  #fff2eb;\n",
       "            color:  #000000;\n",
       "        }    #T_95eac2d8_5a46_11ec_8cdc_2752392c5b15row4_col7 {\n",
       "            background-color:  #440154;\n",
       "            color:  #f1f1f1;\n",
       "        }    #T_95eac2d8_5a46_11ec_8cdc_2752392c5b15row5_col0 {\n",
       "            width:  10em;\n",
       "             height:  80%;\n",
       "        }    #T_95eac2d8_5a46_11ec_8cdc_2752392c5b15row5_col3 {\n",
       "            width:  10em;\n",
       "             height:  80%;\n",
       "        }    #T_95eac2d8_5a46_11ec_8cdc_2752392c5b15row5_col4 {\n",
       "            background-color:  #fff5f0;\n",
       "            color:  #000000;\n",
       "        }    #T_95eac2d8_5a46_11ec_8cdc_2752392c5b15row5_col7 {\n",
       "            background-color:  #440154;\n",
       "            color:  #f1f1f1;\n",
       "        }</style><table id=\"T_95eac2d8_5a46_11ec_8cdc_2752392c5b15\" ><thead>    <tr>        <th class=\"blank level0\" ></th>        <th class=\"col_heading level0 col0\" >unique</th>        <th class=\"col_heading level0 col1\" >n/a count</th>        <th class=\"col_heading level0 col2\" >count</th>        <th class=\"col_heading level0 col3\" >mean</th>        <th class=\"col_heading level0 col4\" >std</th>        <th class=\"col_heading level0 col5\" >min</th>        <th class=\"col_heading level0 col6\" >25%</th>        <th class=\"col_heading level0 col7\" >50%</th>        <th class=\"col_heading level0 col8\" >75%</th>        <th class=\"col_heading level0 col9\" >max</th>    </tr></thead><tbody>\n",
       "                <tr>\n",
       "                        <th id=\"T_95eac2d8_5a46_11ec_8cdc_2752392c5b15level0_row0\" class=\"row_heading level0 row0\" >bki_request_cnt</th>\n",
       "                        <td id=\"T_95eac2d8_5a46_11ec_8cdc_2752392c5b15row0_col0\" class=\"data row0 col0\" >38</td>\n",
       "                        <td id=\"T_95eac2d8_5a46_11ec_8cdc_2752392c5b15row0_col1\" class=\"data row0 col1\" >0</td>\n",
       "                        <td id=\"T_95eac2d8_5a46_11ec_8cdc_2752392c5b15row0_col2\" class=\"data row0 col2\" >73799</td>\n",
       "                        <td id=\"T_95eac2d8_5a46_11ec_8cdc_2752392c5b15row0_col3\" class=\"data row0 col3\" >2.00034</td>\n",
       "                        <td id=\"T_95eac2d8_5a46_11ec_8cdc_2752392c5b15row0_col4\" class=\"data row0 col4\" >2.25207</td>\n",
       "                        <td id=\"T_95eac2d8_5a46_11ec_8cdc_2752392c5b15row0_col5\" class=\"data row0 col5\" >0</td>\n",
       "                        <td id=\"T_95eac2d8_5a46_11ec_8cdc_2752392c5b15row0_col6\" class=\"data row0 col6\" >0</td>\n",
       "                        <td id=\"T_95eac2d8_5a46_11ec_8cdc_2752392c5b15row0_col7\" class=\"data row0 col7\" >1</td>\n",
       "                        <td id=\"T_95eac2d8_5a46_11ec_8cdc_2752392c5b15row0_col8\" class=\"data row0 col8\" >3</td>\n",
       "                        <td id=\"T_95eac2d8_5a46_11ec_8cdc_2752392c5b15row0_col9\" class=\"data row0 col9\" >53</td>\n",
       "            </tr>\n",
       "            <tr>\n",
       "                        <th id=\"T_95eac2d8_5a46_11ec_8cdc_2752392c5b15level0_row1\" class=\"row_heading level0 row1\" >decline_app_cnt</th>\n",
       "                        <td id=\"T_95eac2d8_5a46_11ec_8cdc_2752392c5b15row1_col0\" class=\"data row1 col0\" >21</td>\n",
       "                        <td id=\"T_95eac2d8_5a46_11ec_8cdc_2752392c5b15row1_col1\" class=\"data row1 col1\" >0</td>\n",
       "                        <td id=\"T_95eac2d8_5a46_11ec_8cdc_2752392c5b15row1_col2\" class=\"data row1 col2\" >73799</td>\n",
       "                        <td id=\"T_95eac2d8_5a46_11ec_8cdc_2752392c5b15row1_col3\" class=\"data row1 col3\" >0.275749</td>\n",
       "                        <td id=\"T_95eac2d8_5a46_11ec_8cdc_2752392c5b15row1_col4\" class=\"data row1 col4\" >0.804272</td>\n",
       "                        <td id=\"T_95eac2d8_5a46_11ec_8cdc_2752392c5b15row1_col5\" class=\"data row1 col5\" >0</td>\n",
       "                        <td id=\"T_95eac2d8_5a46_11ec_8cdc_2752392c5b15row1_col6\" class=\"data row1 col6\" >0</td>\n",
       "                        <td id=\"T_95eac2d8_5a46_11ec_8cdc_2752392c5b15row1_col7\" class=\"data row1 col7\" >0</td>\n",
       "                        <td id=\"T_95eac2d8_5a46_11ec_8cdc_2752392c5b15row1_col8\" class=\"data row1 col8\" >0</td>\n",
       "                        <td id=\"T_95eac2d8_5a46_11ec_8cdc_2752392c5b15row1_col9\" class=\"data row1 col9\" >33</td>\n",
       "            </tr>\n",
       "            <tr>\n",
       "                        <th id=\"T_95eac2d8_5a46_11ec_8cdc_2752392c5b15level0_row2\" class=\"row_heading level0 row2\" >home_address</th>\n",
       "                        <td id=\"T_95eac2d8_5a46_11ec_8cdc_2752392c5b15row2_col0\" class=\"data row2 col0\" >3</td>\n",
       "                        <td id=\"T_95eac2d8_5a46_11ec_8cdc_2752392c5b15row2_col1\" class=\"data row2 col1\" >0</td>\n",
       "                        <td id=\"T_95eac2d8_5a46_11ec_8cdc_2752392c5b15row2_col2\" class=\"data row2 col2\" >73799</td>\n",
       "                        <td id=\"T_95eac2d8_5a46_11ec_8cdc_2752392c5b15row2_col3\" class=\"data row2 col3\" >1.57551</td>\n",
       "                        <td id=\"T_95eac2d8_5a46_11ec_8cdc_2752392c5b15row2_col4\" class=\"data row2 col4\" >0.527631</td>\n",
       "                        <td id=\"T_95eac2d8_5a46_11ec_8cdc_2752392c5b15row2_col5\" class=\"data row2 col5\" >1</td>\n",
       "                        <td id=\"T_95eac2d8_5a46_11ec_8cdc_2752392c5b15row2_col6\" class=\"data row2 col6\" >1</td>\n",
       "                        <td id=\"T_95eac2d8_5a46_11ec_8cdc_2752392c5b15row2_col7\" class=\"data row2 col7\" >2</td>\n",
       "                        <td id=\"T_95eac2d8_5a46_11ec_8cdc_2752392c5b15row2_col8\" class=\"data row2 col8\" >2</td>\n",
       "                        <td id=\"T_95eac2d8_5a46_11ec_8cdc_2752392c5b15row2_col9\" class=\"data row2 col9\" >3</td>\n",
       "            </tr>\n",
       "            <tr>\n",
       "                        <th id=\"T_95eac2d8_5a46_11ec_8cdc_2752392c5b15level0_row3\" class=\"row_heading level0 row3\" >work_address</th>\n",
       "                        <td id=\"T_95eac2d8_5a46_11ec_8cdc_2752392c5b15row3_col0\" class=\"data row3 col0\" >3</td>\n",
       "                        <td id=\"T_95eac2d8_5a46_11ec_8cdc_2752392c5b15row3_col1\" class=\"data row3 col1\" >0</td>\n",
       "                        <td id=\"T_95eac2d8_5a46_11ec_8cdc_2752392c5b15row3_col2\" class=\"data row3 col2\" >73799</td>\n",
       "                        <td id=\"T_95eac2d8_5a46_11ec_8cdc_2752392c5b15row3_col3\" class=\"data row3 col3\" >2.49628</td>\n",
       "                        <td id=\"T_95eac2d8_5a46_11ec_8cdc_2752392c5b15row3_col4\" class=\"data row3 col4\" >0.689818</td>\n",
       "                        <td id=\"T_95eac2d8_5a46_11ec_8cdc_2752392c5b15row3_col5\" class=\"data row3 col5\" >1</td>\n",
       "                        <td id=\"T_95eac2d8_5a46_11ec_8cdc_2752392c5b15row3_col6\" class=\"data row3 col6\" >2</td>\n",
       "                        <td id=\"T_95eac2d8_5a46_11ec_8cdc_2752392c5b15row3_col7\" class=\"data row3 col7\" >3</td>\n",
       "                        <td id=\"T_95eac2d8_5a46_11ec_8cdc_2752392c5b15row3_col8\" class=\"data row3 col8\" >3</td>\n",
       "                        <td id=\"T_95eac2d8_5a46_11ec_8cdc_2752392c5b15row3_col9\" class=\"data row3 col9\" >3</td>\n",
       "            </tr>\n",
       "            <tr>\n",
       "                        <th id=\"T_95eac2d8_5a46_11ec_8cdc_2752392c5b15level0_row4\" class=\"row_heading level0 row4\" >good_work</th>\n",
       "                        <td id=\"T_95eac2d8_5a46_11ec_8cdc_2752392c5b15row4_col0\" class=\"data row4 col0\" >2</td>\n",
       "                        <td id=\"T_95eac2d8_5a46_11ec_8cdc_2752392c5b15row4_col1\" class=\"data row4 col1\" >0</td>\n",
       "                        <td id=\"T_95eac2d8_5a46_11ec_8cdc_2752392c5b15row4_col2\" class=\"data row4 col2\" >73799</td>\n",
       "                        <td id=\"T_95eac2d8_5a46_11ec_8cdc_2752392c5b15row4_col3\" class=\"data row4 col3\" >0.164894</td>\n",
       "                        <td id=\"T_95eac2d8_5a46_11ec_8cdc_2752392c5b15row4_col4\" class=\"data row4 col4\" >0.371087</td>\n",
       "                        <td id=\"T_95eac2d8_5a46_11ec_8cdc_2752392c5b15row4_col5\" class=\"data row4 col5\" >0</td>\n",
       "                        <td id=\"T_95eac2d8_5a46_11ec_8cdc_2752392c5b15row4_col6\" class=\"data row4 col6\" >0</td>\n",
       "                        <td id=\"T_95eac2d8_5a46_11ec_8cdc_2752392c5b15row4_col7\" class=\"data row4 col7\" >0</td>\n",
       "                        <td id=\"T_95eac2d8_5a46_11ec_8cdc_2752392c5b15row4_col8\" class=\"data row4 col8\" >0</td>\n",
       "                        <td id=\"T_95eac2d8_5a46_11ec_8cdc_2752392c5b15row4_col9\" class=\"data row4 col9\" >1</td>\n",
       "            </tr>\n",
       "            <tr>\n",
       "                        <th id=\"T_95eac2d8_5a46_11ec_8cdc_2752392c5b15level0_row5\" class=\"row_heading level0 row5\" >default</th>\n",
       "                        <td id=\"T_95eac2d8_5a46_11ec_8cdc_2752392c5b15row5_col0\" class=\"data row5 col0\" >2</td>\n",
       "                        <td id=\"T_95eac2d8_5a46_11ec_8cdc_2752392c5b15row5_col1\" class=\"data row5 col1\" >0</td>\n",
       "                        <td id=\"T_95eac2d8_5a46_11ec_8cdc_2752392c5b15row5_col2\" class=\"data row5 col2\" >73799</td>\n",
       "                        <td id=\"T_95eac2d8_5a46_11ec_8cdc_2752392c5b15row5_col3\" class=\"data row5 col3\" >0.126994</td>\n",
       "                        <td id=\"T_95eac2d8_5a46_11ec_8cdc_2752392c5b15row5_col4\" class=\"data row5 col4\" >0.332968</td>\n",
       "                        <td id=\"T_95eac2d8_5a46_11ec_8cdc_2752392c5b15row5_col5\" class=\"data row5 col5\" >0</td>\n",
       "                        <td id=\"T_95eac2d8_5a46_11ec_8cdc_2752392c5b15row5_col6\" class=\"data row5 col6\" >0</td>\n",
       "                        <td id=\"T_95eac2d8_5a46_11ec_8cdc_2752392c5b15row5_col7\" class=\"data row5 col7\" >0</td>\n",
       "                        <td id=\"T_95eac2d8_5a46_11ec_8cdc_2752392c5b15row5_col8\" class=\"data row5 col8\" >0</td>\n",
       "                        <td id=\"T_95eac2d8_5a46_11ec_8cdc_2752392c5b15row5_col9\" class=\"data row5 col9\" >1</td>\n",
       "            </tr>\n",
       "    </tbody></table>"
      ],
      "text/plain": [
       "<pandas.io.formats.style.Styler at 0x7f0fc7b6bd90>"
      ]
     },
     "execution_count": 6,
     "metadata": {},
     "output_type": "execute_result"
    }
   ],
   "source": [
    "describe_nums(\n",
    "    data.drop([\"client_id\", \"income\", \"age\"], axis=\"columns\").select_dtypes(\"int64\")\n",
    ")\n"
   ]
  },
  {
   "cell_type": "markdown",
   "metadata": {},
   "source": [
    "### категориальные"
   ]
  },
  {
   "cell_type": "code",
   "execution_count": 7,
   "metadata": {},
   "outputs": [
    {
     "data": {
      "text/html": [
       "<div>\n",
       "<style scoped>\n",
       "    .dataframe tbody tr th:only-of-type {\n",
       "        vertical-align: middle;\n",
       "    }\n",
       "\n",
       "    .dataframe tbody tr th {\n",
       "        vertical-align: top;\n",
       "    }\n",
       "\n",
       "    .dataframe thead th {\n",
       "        text-align: right;\n",
       "    }\n",
       "</style>\n",
       "<table border=\"1\" class=\"dataframe\">\n",
       "  <thead>\n",
       "    <tr style=\"text-align: right;\">\n",
       "      <th></th>\n",
       "      <th>count</th>\n",
       "      <th>unique</th>\n",
       "      <th>top</th>\n",
       "      <th>freq</th>\n",
       "    </tr>\n",
       "  </thead>\n",
       "  <tbody>\n",
       "    <tr>\n",
       "      <th>foreign_passport</th>\n",
       "      <td>73799</td>\n",
       "      <td>2</td>\n",
       "      <td>N</td>\n",
       "      <td>62733</td>\n",
       "    </tr>\n",
       "    <tr>\n",
       "      <th>car_type</th>\n",
       "      <td>73799</td>\n",
       "      <td>2</td>\n",
       "      <td>N</td>\n",
       "      <td>59791</td>\n",
       "    </tr>\n",
       "    <tr>\n",
       "      <th>car</th>\n",
       "      <td>73799</td>\n",
       "      <td>2</td>\n",
       "      <td>N</td>\n",
       "      <td>49832</td>\n",
       "    </tr>\n",
       "    <tr>\n",
       "      <th>sex</th>\n",
       "      <td>73799</td>\n",
       "      <td>2</td>\n",
       "      <td>F</td>\n",
       "      <td>41562</td>\n",
       "    </tr>\n",
       "    <tr>\n",
       "      <th>education</th>\n",
       "      <td>73492</td>\n",
       "      <td>5</td>\n",
       "      <td>SCH</td>\n",
       "      <td>38860</td>\n",
       "    </tr>\n",
       "  </tbody>\n",
       "</table>\n",
       "</div>"
      ],
      "text/plain": [
       "                  count unique  top   freq\n",
       "foreign_passport  73799      2    N  62733\n",
       "car_type          73799      2    N  59791\n",
       "car               73799      2    N  49832\n",
       "sex               73799      2    F  41562\n",
       "education         73492      5  SCH  38860"
      ]
     },
     "execution_count": 7,
     "metadata": {},
     "output_type": "execute_result"
    }
   ],
   "source": [
    "data.select_dtypes(\"object\").describe().T.sort_values(\"freq\", ascending=False)\n"
   ]
  },
  {
   "cell_type": "code",
   "execution_count": 8,
   "metadata": {},
   "outputs": [
    {
     "data": {
      "text/plain": [
       "([2, 3, 1], [1, 2, 3])"
      ]
     },
     "execution_count": 8,
     "metadata": {},
     "output_type": "execute_result"
    }
   ],
   "source": [
    "data.work_address.unique().tolist(), data.home_address.unique().tolist()\n"
   ]
  },
  {
   "cell_type": "markdown",
   "metadata": {},
   "source": [
    "### делим на списки"
   ]
  },
  {
   "cell_type": "code",
   "execution_count": 9,
   "metadata": {},
   "outputs": [],
   "source": [
    "nums = [\"income\", \"age\", \"bki_request_cnt\", \"decline_app_cnt\"]\n",
    "cats = [\n",
    "    \"home_address\",\n",
    "    \"work_address\",\n",
    "    \"good_work\",\n",
    "    \"default\",\n",
    "    \"foreign_passport\",\n",
    "    \"car_type\",\n",
    "    \"car\",\n",
    "    \"sex\",\n",
    "    \"education\",\n",
    "]\n"
   ]
  },
  {
   "cell_type": "markdown",
   "metadata": {},
   "source": [
    "### деление в задании"
   ]
  },
  {
   "cell_type": "code",
   "execution_count": 10,
   "metadata": {},
   "outputs": [],
   "source": [
    "# бинарные переменные\n",
    "bin_cols = [\"sex\", \"car\", \"car_type\", \"good_work\", \"foreign_passport\"]\n",
    "\n",
    "# категориальные переменные\n",
    "cat_cols = [\"education\", \"work_address\", \"home_address\"]\n",
    "\n",
    "# числовые переменные\n",
    "\n",
    "num_cols = [\"age\", \"decline_app_cnt\", \"bki_request_cnt\", \"income\"]\n"
   ]
  },
  {
   "cell_type": "markdown",
   "metadata": {},
   "source": [
    "### корреляция числовых переменных\n",
    "\n",
    "они почти не скоррелированы, что неплохо для нас, не надо избавляться от мультиколлинеарности"
   ]
  },
  {
   "cell_type": "code",
   "execution_count": 11,
   "metadata": {},
   "outputs": [
    {
     "data": {
      "image/png": "[encoded data removed]",
      "text/plain": [
       "<Figure size 720x576 with 2 Axes>"
      ]
     },
     "metadata": {
      "needs_background": "light"
     },
     "output_type": "display_data"
    }
   ],
   "source": [
    "plt.subplots(figsize=(10, 8))\n",
    "sns.heatmap(data[nums].corr(), cmap=\"viridis\", annot=True)\n",
    "plt.show()\n"
   ]
  },
  {
   "cell_type": "markdown",
   "metadata": {},
   "source": [
    "## preprocessing"
   ]
  },
  {
   "cell_type": "markdown",
   "metadata": {},
   "source": [
    "### значимость числовых призников"
   ]
  },
  {
   "cell_type": "code",
   "execution_count": 12,
   "metadata": {},
   "outputs": [
    {
     "data": {
      "text/plain": [
       "<matplotlib.axes._subplots.AxesSubplot at 0x7f0fc5f206a0>"
      ]
     },
     "execution_count": 12,
     "metadata": {},
     "output_type": "execute_result"
    },
    {
     "data": {
      "image/png": "[encoded data removed]",
      "text/plain": [
       "<Figure size 432x288 with 1 Axes>"
      ]
     },
     "metadata": {
      "needs_background": "light"
     },
     "output_type": "display_data"
    }
   ],
   "source": [
    "imp_num = pd.Series(f_classif(train[num_cols], train[\"default\"])[0], index=num_cols)\n",
    "imp_num.sort_values(inplace=True)\n",
    "imp_num.plot(kind=\"barh\")\n"
   ]
  },
  {
   "cell_type": "markdown",
   "metadata": {},
   "source": [
    "### label encoding\n",
    "\n",
    "Почему мы применили метод только к бинарным переменным? Единственным минусом использования кодирования при помощи LabelEncoder() является то, что при использовании этого подхода мы должны быть уверены, что признак не может принимать неизвестных ранее значений. "
   ]
  },
  {
   "cell_type": "code",
   "execution_count": 13,
   "metadata": {},
   "outputs": [
    {
     "data": {
      "text/html": [
       "<div>\n",
       "<style scoped>\n",
       "    .dataframe tbody tr th:only-of-type {\n",
       "        vertical-align: middle;\n",
       "    }\n",
       "\n",
       "    .dataframe tbody tr th {\n",
       "        vertical-align: top;\n",
       "    }\n",
       "\n",
       "    .dataframe thead th {\n",
       "        text-align: right;\n",
       "    }\n",
       "</style>\n",
       "<table border=\"1\" class=\"dataframe\">\n",
       "  <thead>\n",
       "    <tr style=\"text-align: right;\">\n",
       "      <th></th>\n",
       "      <th>client_id</th>\n",
       "      <th>education</th>\n",
       "      <th>sex</th>\n",
       "      <th>age</th>\n",
       "      <th>car</th>\n",
       "      <th>car_type</th>\n",
       "      <th>decline_app_cnt</th>\n",
       "      <th>good_work</th>\n",
       "      <th>bki_request_cnt</th>\n",
       "      <th>home_address</th>\n",
       "      <th>work_address</th>\n",
       "      <th>income</th>\n",
       "      <th>foreign_passport</th>\n",
       "      <th>default</th>\n",
       "    </tr>\n",
       "  </thead>\n",
       "  <tbody>\n",
       "    <tr>\n",
       "      <th>8931</th>\n",
       "      <td>104346</td>\n",
       "      <td>GRD</td>\n",
       "      <td>0</td>\n",
       "      <td>27</td>\n",
       "      <td>0</td>\n",
       "      <td>0</td>\n",
       "      <td>0</td>\n",
       "      <td>0</td>\n",
       "      <td>3</td>\n",
       "      <td>2</td>\n",
       "      <td>3</td>\n",
       "      <td>30000</td>\n",
       "      <td>0</td>\n",
       "      <td>0</td>\n",
       "    </tr>\n",
       "    <tr>\n",
       "      <th>63915</th>\n",
       "      <td>56248</td>\n",
       "      <td>GRD</td>\n",
       "      <td>0</td>\n",
       "      <td>47</td>\n",
       "      <td>0</td>\n",
       "      <td>0</td>\n",
       "      <td>0</td>\n",
       "      <td>0</td>\n",
       "      <td>4</td>\n",
       "      <td>1</td>\n",
       "      <td>2</td>\n",
       "      <td>20000</td>\n",
       "      <td>0</td>\n",
       "      <td>0</td>\n",
       "    </tr>\n",
       "    <tr>\n",
       "      <th>45568</th>\n",
       "      <td>59433</td>\n",
       "      <td>SCH</td>\n",
       "      <td>0</td>\n",
       "      <td>47</td>\n",
       "      <td>0</td>\n",
       "      <td>0</td>\n",
       "      <td>0</td>\n",
       "      <td>0</td>\n",
       "      <td>0</td>\n",
       "      <td>2</td>\n",
       "      <td>3</td>\n",
       "      <td>45000</td>\n",
       "      <td>0</td>\n",
       "      <td>0</td>\n",
       "    </tr>\n",
       "    <tr>\n",
       "      <th>3391</th>\n",
       "      <td>21096</td>\n",
       "      <td>SCH</td>\n",
       "      <td>0</td>\n",
       "      <td>32</td>\n",
       "      <td>0</td>\n",
       "      <td>0</td>\n",
       "      <td>0</td>\n",
       "      <td>0</td>\n",
       "      <td>3</td>\n",
       "      <td>2</td>\n",
       "      <td>3</td>\n",
       "      <td>21000</td>\n",
       "      <td>0</td>\n",
       "      <td>1</td>\n",
       "    </tr>\n",
       "    <tr>\n",
       "      <th>40660</th>\n",
       "      <td>18878</td>\n",
       "      <td>SCH</td>\n",
       "      <td>0</td>\n",
       "      <td>31</td>\n",
       "      <td>0</td>\n",
       "      <td>0</td>\n",
       "      <td>0</td>\n",
       "      <td>1</td>\n",
       "      <td>6</td>\n",
       "      <td>2</td>\n",
       "      <td>3</td>\n",
       "      <td>30000</td>\n",
       "      <td>1</td>\n",
       "      <td>0</td>\n",
       "    </tr>\n",
       "  </tbody>\n",
       "</table>\n",
       "</div>"
      ],
      "text/plain": [
       "       client_id education  sex  age  car  car_type  decline_app_cnt  \\\n",
       "8931      104346       GRD    0   27    0         0                0   \n",
       "63915      56248       GRD    0   47    0         0                0   \n",
       "45568      59433       SCH    0   47    0         0                0   \n",
       "3391       21096       SCH    0   32    0         0                0   \n",
       "40660      18878       SCH    0   31    0         0                0   \n",
       "\n",
       "       good_work  bki_request_cnt  home_address  work_address  income  \\\n",
       "8931           0                3             2             3   30000   \n",
       "63915          0                4             1             2   20000   \n",
       "45568          0                0             2             3   45000   \n",
       "3391           0                3             2             3   21000   \n",
       "40660          1                6             2             3   30000   \n",
       "\n",
       "       foreign_passport  default  \n",
       "8931                  0        0  \n",
       "63915                 0        0  \n",
       "45568                 0        0  \n",
       "3391                  0        1  \n",
       "40660                 1        0  "
      ]
     },
     "execution_count": 13,
     "metadata": {},
     "output_type": "execute_result"
    }
   ],
   "source": [
    "# Для бинарных признаков мы будем использовать LabelEncoder\n",
    "label_encoder = LabelEncoder()\n",
    "\n",
    "for column in bin_cols:\n",
    "    train[column] = label_encoder.fit_transform(train[column])\n",
    "    validation[column] = label_encoder.fit_transform(validation[column])\n",
    "\n",
    "# убедимся в преобразовании\n",
    "train.head()\n"
   ]
  },
  {
   "cell_type": "code",
   "execution_count": 14,
   "metadata": {},
   "outputs": [
    {
     "data": {
      "text/plain": [
       "['GRD', 'SCH', 'UGR', 'PGR', 'ACD', nan]"
      ]
     },
     "execution_count": 14,
     "metadata": {},
     "output_type": "execute_result"
    }
   ],
   "source": [
    "train[\"education\"].unique().tolist()\n"
   ]
  },
  {
   "cell_type": "code",
   "execution_count": 15,
   "metadata": {},
   "outputs": [],
   "source": [
    "train[\"education\"] = train[\"education\"].map(\n",
    "    {\"GRD\": 1, \"SCH\": 2, \"UGR\": 3, \"PGR\": 4, \"ACD\": 5, np.nan: 6}\n",
    ")\n",
    "\n",
    "validation[\"education\"] = validation[\"education\"].map(\n",
    "    {\"GRD\": 1, \"SCH\": 2, \"UGR\": 3, \"PGR\": 4, \"ACD\": 5, np.nan: 6}\n",
    ")\n"
   ]
  },
  {
   "cell_type": "markdown",
   "metadata": {},
   "source": [
    "### значимость категориальных признаков\n",
    "\n",
    "Для оценки значимости категориальных и бинарных переменных будем использовать функцию mutual_info_classif из библиотеки sklearn. Данная функция опирается на непараметрические методы, основанные на оценке энтропии в группах категориальных переменных."
   ]
  },
  {
   "cell_type": "code",
   "execution_count": 16,
   "metadata": {},
   "outputs": [
    {
     "data": {
      "text/plain": [
       "<matplotlib.axes._subplots.AxesSubplot at 0x7f0fc5caf790>"
      ]
     },
     "execution_count": 16,
     "metadata": {},
     "output_type": "execute_result"
    },
    {
     "data": {
      "image/png": "[encoded data removed]",
      "text/plain": [
       "<Figure size 432x288 with 1 Axes>"
      ]
     },
     "metadata": {
      "needs_background": "light"
     },
     "output_type": "display_data"
    }
   ],
   "source": [
    "imp_cat = pd.Series(\n",
    "    mutual_info_classif(\n",
    "        train[bin_cols + cat_cols], train[\"default\"], discrete_features=True\n",
    "    ),\n",
    "    index=bin_cols + cat_cols,\n",
    ")\n",
    "imp_cat.sort_values(inplace=True)\n",
    "imp_cat.plot(kind=\"barh\")\n"
   ]
  },
  {
   "cell_type": "markdown",
   "metadata": {},
   "source": [
    "### one hot encoder"
   ]
  },
  {
   "cell_type": "code",
   "execution_count": 17,
   "metadata": {},
   "outputs": [],
   "source": [
    "X_cat_train = OneHotEncoder(sparse=False).fit_transform(train[cat_cols].values)\n",
    "X_cat_validation = OneHotEncoder(sparse=False).fit_transform(validation[cat_cols].values)\n"
   ]
  },
  {
   "cell_type": "code",
   "execution_count": 18,
   "metadata": {},
   "outputs": [
    {
     "data": {
      "text/plain": [
       "((49445, 12),\n",
       " array([[0., 0., 1., ..., 1., 0., 0.],\n",
       "        [0., 1., 0., ..., 1., 0., 0.],\n",
       "        [1., 0., 0., ..., 0., 1., 0.],\n",
       "        ...,\n",
       "        [1., 0., 0., ..., 0., 1., 0.],\n",
       "        [0., 1., 0., ..., 0., 1., 0.],\n",
       "        [0., 1., 0., ..., 1., 0., 0.]]))"
      ]
     },
     "execution_count": 18,
     "metadata": {},
     "output_type": "execute_result"
    }
   ],
   "source": [
    "X_cat_train.shape, X_cat_validation\n"
   ]
  },
  {
   "cell_type": "markdown",
   "metadata": {},
   "source": [
    "### стандартизируем"
   ]
  },
  {
   "cell_type": "code",
   "execution_count": 19,
   "metadata": {},
   "outputs": [],
   "source": [
    "X_num_train = StandardScaler().fit_transform(train[num_cols].values)\n",
    "X_num_validation = StandardScaler().fit_transform(validation[num_cols].values)\n",
    "\n",
    "X_train = np.hstack([X_num_train, train[bin_cols].values, X_cat_train])\n",
    "y_train = train[\"default\"].values\n",
    "\n",
    "X_validation = np.hstack([X_num_validation, validation[bin_cols].values, X_cat_validation])\n",
    "y_validation = validation[\"default\"].values"
   ]
  },
  {
   "cell_type": "markdown",
   "metadata": {},
   "source": [
    "## углубляемся в переменные"
   ]
  },
  {
   "cell_type": "markdown",
   "metadata": {},
   "source": [
    "фича education"
   ]
  },
  {
   "cell_type": "code",
   "execution_count": 20,
   "metadata": {},
   "outputs": [],
   "source": [
    "data.education.fillna(\"NA\", inplace=True)\n"
   ]
  },
  {
   "cell_type": "code",
   "execution_count": 21,
   "metadata": {},
   "outputs": [
    {
     "data": {
      "text/html": [
       "<div>\n",
       "<style scoped>\n",
       "    .dataframe tbody tr th:only-of-type {\n",
       "        vertical-align: middle;\n",
       "    }\n",
       "\n",
       "    .dataframe tbody tr th {\n",
       "        vertical-align: top;\n",
       "    }\n",
       "\n",
       "    .dataframe thead th {\n",
       "        text-align: right;\n",
       "    }\n",
       "</style>\n",
       "<table border=\"1\" class=\"dataframe\">\n",
       "  <thead>\n",
       "    <tr style=\"text-align: right;\">\n",
       "      <th></th>\n",
       "      <th>education</th>\n",
       "    </tr>\n",
       "  </thead>\n",
       "  <tbody>\n",
       "    <tr>\n",
       "      <th>SCH</th>\n",
       "      <td>38860</td>\n",
       "    </tr>\n",
       "    <tr>\n",
       "      <th>GRD</th>\n",
       "      <td>23365</td>\n",
       "    </tr>\n",
       "    <tr>\n",
       "      <th>UGR</th>\n",
       "      <td>9816</td>\n",
       "    </tr>\n",
       "    <tr>\n",
       "      <th>PGR</th>\n",
       "      <td>1257</td>\n",
       "    </tr>\n",
       "    <tr>\n",
       "      <th>NA</th>\n",
       "      <td>307</td>\n",
       "    </tr>\n",
       "    <tr>\n",
       "      <th>ACD</th>\n",
       "      <td>194</td>\n",
       "    </tr>\n",
       "  </tbody>\n",
       "</table>\n",
       "</div>"
      ],
      "text/plain": [
       "     education\n",
       "SCH      38860\n",
       "GRD      23365\n",
       "UGR       9816\n",
       "PGR       1257\n",
       "NA         307\n",
       "ACD        194"
      ]
     },
     "execution_count": 21,
     "metadata": {},
     "output_type": "execute_result"
    }
   ],
   "source": [
    "data.education.value_counts().to_frame()\n"
   ]
  },
  {
   "cell_type": "code",
   "execution_count": 22,
   "metadata": {},
   "outputs": [
    {
     "data": {
      "image/png": "[encoded data removed]",
      "text/plain": [
       "<Figure size 864x432 with 1 Axes>"
      ]
     },
     "metadata": {
      "needs_background": "light"
     },
     "output_type": "display_data"
    },
    {
     "data": {
      "image/png": "[encoded data removed]",
      "text/plain": [
       "<Figure size 864x432 with 1 Axes>"
      ]
     },
     "metadata": {
      "needs_background": "light"
     },
     "output_type": "display_data"
    },
    {
     "data": {
      "image/png": "[encoded data removed]",
      "text/plain": [
       "<Figure size 864x432 with 1 Axes>"
      ]
     },
     "metadata": {
      "needs_background": "light"
     },
     "output_type": "display_data"
    },
    {
     "data": {
      "image/png": "[encoded data removed]",
      "text/plain": [
       "<Figure size 864x432 with 1 Axes>"
      ]
     },
     "metadata": {
      "needs_background": "light"
     },
     "output_type": "display_data"
    }
   ],
   "source": [
    "for n in nums:\n",
    "    show_boxplots(data, \"education\", n)\n"
   ]
  },
  {
   "cell_type": "markdown",
   "metadata": {},
   "source": [
    "логорифмируем"
   ]
  },
  {
   "cell_type": "code",
   "execution_count": 23,
   "metadata": {},
   "outputs": [
    {
     "data": {
      "image/png": "[encoded data removed]",
      "text/plain": [
       "<Figure size 864x432 with 1 Axes>"
      ]
     },
     "metadata": {
      "needs_background": "light"
     },
     "output_type": "display_data"
    },
    {
     "data": {
      "image/png": "[encoded data removed]",
      "text/plain": [
       "<Figure size 864x432 with 1 Axes>"
      ]
     },
     "metadata": {
      "needs_background": "light"
     },
     "output_type": "display_data"
    },
    {
     "data": {
      "image/png": "[encoded data removed]",
      "text/plain": [
       "<Figure size 864x432 with 1 Axes>"
      ]
     },
     "metadata": {
      "needs_background": "light"
     },
     "output_type": "display_data"
    }
   ],
   "source": [
    "# большие хвосты, надо отлогорифмировать числовые переменные, кроме возможно возраста\n",
    "# обратная операция делается с помощью np.exp на вектор целиком\n",
    "\n",
    "for n in [\"decline_app_cnt\", \"bki_request_cnt\", \"income\"]:\n",
    "    train[n] = train[n].apply(lambda w: np.log(w + 1))\n",
    "    validation[n] = validation[n].apply(lambda w: np.log(w + 1))\n",
    "    show_boxplots(train, \"education\", n)\n"
   ]
  },
  {
   "cell_type": "markdown",
   "metadata": {},
   "source": [
    "фича default"
   ]
  },
  {
   "cell_type": "code",
   "execution_count": 24,
   "metadata": {},
   "outputs": [
    {
     "data": {
      "text/html": [
       "<div>\n",
       "<style scoped>\n",
       "    .dataframe tbody tr th:only-of-type {\n",
       "        vertical-align: middle;\n",
       "    }\n",
       "\n",
       "    .dataframe tbody tr th {\n",
       "        vertical-align: top;\n",
       "    }\n",
       "\n",
       "    .dataframe thead th {\n",
       "        text-align: right;\n",
       "    }\n",
       "</style>\n",
       "<table border=\"1\" class=\"dataframe\">\n",
       "  <thead>\n",
       "    <tr style=\"text-align: right;\">\n",
       "      <th></th>\n",
       "      <th>default</th>\n",
       "    </tr>\n",
       "  </thead>\n",
       "  <tbody>\n",
       "    <tr>\n",
       "      <th>0</th>\n",
       "      <td>64427</td>\n",
       "    </tr>\n",
       "    <tr>\n",
       "      <th>1</th>\n",
       "      <td>9372</td>\n",
       "    </tr>\n",
       "  </tbody>\n",
       "</table>\n",
       "</div>"
      ],
      "text/plain": [
       "   default\n",
       "0    64427\n",
       "1     9372"
      ]
     },
     "execution_count": 24,
     "metadata": {},
     "output_type": "execute_result"
    }
   ],
   "source": [
    "data.default.value_counts().to_frame()\n"
   ]
  },
  {
   "cell_type": "code",
   "execution_count": 25,
   "metadata": {},
   "outputs": [
    {
     "data": {
      "image/png": "[encoded data removed]",
      "text/plain": [
       "<Figure size 864x432 with 1 Axes>"
      ]
     },
     "metadata": {
      "needs_background": "light"
     },
     "output_type": "display_data"
    },
    {
     "data": {
      "image/png": "[encoded data removed]",
      "text/plain": [
       "<Figure size 864x432 with 1 Axes>"
      ]
     },
     "metadata": {
      "needs_background": "light"
     },
     "output_type": "display_data"
    },
    {
     "data": {
      "image/png": "[encoded data removed]",
      "text/plain": [
       "<Figure size 864x432 with 1 Axes>"
      ]
     },
     "metadata": {
      "needs_background": "light"
     },
     "output_type": "display_data"
    },
    {
     "data": {
      "image/png": "[encoded data removed]",
      "text/plain": [
       "<Figure size 864x432 with 1 Axes>"
      ]
     },
     "metadata": {
      "needs_background": "light"
     },
     "output_type": "display_data"
    }
   ],
   "source": [
    "for n in nums:\n",
    "    show_boxplots(train, \"default\", n)\n"
   ]
  },
  {
   "cell_type": "markdown",
   "metadata": {},
   "source": [
    "фича age"
   ]
  },
  {
   "cell_type": "code",
   "execution_count": 26,
   "metadata": {},
   "outputs": [
    {
     "name": "stdout",
     "output_type": "stream",
     "text": [
      "Unique values count: 52 \n",
      "Q1: 30.0\n",
      "Q3: 48.0\n",
      "IQR: 18.0 \n",
      "Outliers borders: [3.0, 75.0]\n"
     ]
    },
    {
     "data": {
      "image/png": "[encoded data removed]",
      "text/plain": [
       "<Figure size 1152x432 with 2 Axes>"
      ]
     },
     "metadata": {
      "needs_background": "light"
     },
     "output_type": "display_data"
    }
   ],
   "source": [
    "show_IQR(data.age)\n"
   ]
  },
  {
   "cell_type": "markdown",
   "metadata": {},
   "source": [
    "фича income"
   ]
  },
  {
   "cell_type": "code",
   "execution_count": 27,
   "metadata": {},
   "outputs": [
    {
     "name": "stdout",
     "output_type": "stream",
     "text": [
      "Unique values count: 966 \n",
      "Q1: 20000.0\n",
      "Q3: 48000.0\n",
      "IQR: 28000.0 \n",
      "Outliers borders: [-22000.0, 90000.0]\n"
     ]
    },
    {
     "data": {
      "image/png": "[encoded data removed]",
      "text/plain": [
       "<Figure size 1152x432 with 2 Axes>"
      ]
     },
     "metadata": {
      "needs_background": "light"
     },
     "output_type": "display_data"
    }
   ],
   "source": [
    "show_IQR(data.income)\n"
   ]
  },
  {
   "cell_type": "markdown",
   "metadata": {},
   "source": [
    "## оценка качества модели"
   ]
  },
  {
   "cell_type": "markdown",
   "metadata": {},
   "source": [
    "model"
   ]
  },
  {
   "cell_type": "code",
   "execution_count": 28,
   "metadata": {},
   "outputs": [],
   "source": [
    "model = LogisticRegression().fit(X_train, y_train)"
   ]
  },
  {
   "cell_type": "code",
   "execution_count": 29,
   "metadata": {},
   "outputs": [],
   "source": [
    "y_pred_on_train = model.predict(X_train)\n",
    "y_pred_on_validation = model.predict(X_validation)"
   ]
  },
  {
   "cell_type": "markdown",
   "metadata": {},
   "source": [
    "[confusion matrix](https://scikit-learn.org/stable/modules/generated/sklearn.metrics.confusion_matrix.html#sklearn.metrics.confusion_matrix)"
   ]
  },
  {
   "cell_type": "code",
   "execution_count": 30,
   "metadata": {},
   "outputs": [
    {
     "data": {
      "text/plain": [
       "(43054, 79, 6260, 52)"
      ]
     },
     "execution_count": 30,
     "metadata": {},
     "output_type": "execute_result"
    }
   ],
   "source": [
    "TN, FP, FN, TP = confusion_matrix(y_train, y_pred_on_train).ravel()\n",
    "TN, FP, FN, TP"
   ]
  },
  {
   "cell_type": "code",
   "execution_count": 31,
   "metadata": {},
   "outputs": [],
   "source": [
    "# Sensitivity, hit rate, recall, or true positive rate\n",
    "TPR = TP / (TP + FN)\n",
    "\n",
    "# Specificity or true negative rate\n",
    "TNR = TN / (TN + FP)\n",
    "\n",
    "# Precision or positive predictive value\n",
    "PPV = TP / (TP + FP)\n",
    "\n",
    "# Negative predictive value\n",
    "NPV = TN / (TN + FN)\n",
    "\n",
    "# Fall out or false positive rate\n",
    "FPR = FP / (FP + TN)\n",
    "\n",
    "# False negative rate\n",
    "FNR = FN / (TP + FN)\n",
    "\n",
    "# False discovery rate\n",
    "FDR = FP / (TP + FP)\n",
    "\n",
    "# Overall accuracy\n",
    "ACC = (TP + TN) / (TP + FP + FN + TN)"
   ]
  },
  {
   "cell_type": "markdown",
   "metadata": {},
   "source": [
    "roc_auc and classification report"
   ]
  },
  {
   "cell_type": "code",
   "execution_count": 32,
   "metadata": {},
   "outputs": [
    {
     "data": {
      "image/png": "[encoded data removed]",
      "text/plain": [
       "<Figure size 432x288 with 1 Axes>"
      ]
     },
     "metadata": {
      "needs_background": "light"
     },
     "output_type": "display_data"
    },
    {
     "name": "stdout",
     "output_type": "stream",
     "text": [
      "['              precision    recall  f1-score   support',\n",
      " '',\n",
      " '           0       0.87      1.00      0.93     43133',\n",
      " '           1       0.40      0.01      0.02      6312',\n",
      " '',\n",
      " '    accuracy                           0.87     49445',\n",
      " '   macro avg       0.64      0.50      0.47     49445',\n",
      " 'weighted avg       0.81      0.87      0.81     49445',\n",
      " '']\n"
     ]
    }
   ],
   "source": [
    "show_classification_details(y_train, y_pred_on_train)"
   ]
  }
 ],
 "metadata": {
  "interpreter": {
   "hash": "916dbcbb3f70747c44a77c7bcd40155683ae19c65e1c03b4aa3499c5328201f1"
  },
  "kernelspec": {
   "display_name": "Python 3.8.10 64-bit",
   "language": "python",
   "name": "python3"
  },
  "language_info": {
   "codemirror_mode": {
    "name": "ipython",
    "version": 3
   },
   "file_extension": ".py",
   "mimetype": "text/x-python",
   "name": "python",
   "nbconvert_exporter": "python",
   "pygments_lexer": "ipython3",
   "version": "3.8.10"
  },
  "orig_nbformat": 4
 },
 "nbformat": 4,
 "nbformat_minor": 2
}
