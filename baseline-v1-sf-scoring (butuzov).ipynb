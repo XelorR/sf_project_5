{
 "cells": [
  {
   "cell_type": "markdown",
   "id": "bbf1811f",
   "metadata": {
    "papermill": {
     "duration": 0.039578,
     "end_time": "2021-12-15T19:05:15.523997",
     "exception": false,
     "start_time": "2021-12-15T19:05:15.484419",
     "status": "completed"
    },
    "tags": []
   },
   "source": [
    "Значения признаков:\n",
    "    \n",
    "    client_id - идентификатор клиента\n",
    "    education - уровень образования\n",
    "    sex - пол заемщика\n",
    "    age - возраст заемщика\n",
    "    car - флаг наличия автомобиля\n",
    "    car_type - флаг автомобиля иномарки\n",
    "    decline_app_cnt - количество отказанных прошлых заявок\n",
    "    good_work - флаг наличия “хорошей” работы\n",
    "    bki_request_cnt - количество запросов в БКИ\n",
    "    home_address - категоризатор домашнего адреса\n",
    "    work_address - категоризатор рабочего адреса\n",
    "    income - доход заемщика\n",
    "    foreign_passport - наличие загранпаспорта\n",
    "    sna - связь заемщика с клиентами банка\n",
    "    first_time - давность наличия информации о заемщике\n",
    "    score_bki - скоринговый балл по данным из БКИ\n",
    "    region_rating - рейтинг региона\n",
    "    app_date - дата подачи заявки\n",
    "    default - флаг дефолта по кредиту"
   ]
  },
  {
   "cell_type": "code",
   "execution_count": 1,
   "id": "fb57ab0d",
   "metadata": {
    "_cell_guid": "b1076dfc-b9ad-4769-8c92-a6c4dae69d19",
    "_uuid": "8f2839f25d086af736a60e9eeb907d3b93b6e0e5",
    "execution": {
     "iopub.execute_input": "2021-12-15T19:05:15.598969Z",
     "iopub.status.busy": "2021-12-15T19:05:15.597649Z",
     "iopub.status.idle": "2021-12-15T19:05:15.615201Z",
     "shell.execute_reply": "2021-12-15T19:05:15.615897Z",
     "shell.execute_reply.started": "2021-12-15T19:04:34.193210Z"
    },
    "papermill": {
     "duration": 0.056735,
     "end_time": "2021-12-15T19:05:15.616204",
     "exception": false,
     "start_time": "2021-12-15T19:05:15.559469",
     "status": "completed"
    },
    "tags": []
   },
   "outputs": [
    {
     "name": "stdout",
     "output_type": "stream",
     "text": [
      "/kaggle/input/sf-scoring/sample_submission.csv\n",
      "/kaggle/input/sf-scoring/train.csv\n",
      "/kaggle/input/sf-scoring/test.csv\n"
     ]
    }
   ],
   "source": [
    "#Копия для редактирования\n",
    "\n",
    "# This Python 3 environment comes with many helpful analytics libraries installed\n",
    "# It is defined by the kaggle/python Docker image: https://github.com/kaggle/docker-python\n",
    "# For example, here's several helpful packages to load\n",
    "\n",
    "import numpy as np # linear algebra\n",
    "import pandas as pd # data processing, CSV file I/O (e.g. pd.read_csv)\n",
    "\n",
    "\n",
    "# Input data files are available in the read-only \"../input/\" directory\n",
    "# For example, running this (by clicking run or pressing Shift+Enter) will list all files under the input directory\n",
    "\n",
    "import os\n",
    "for dirname, _, filenames in os.walk('/kaggle/input'):\n",
    "    for filename in filenames:\n",
    "        print(os.path.join(dirname, filename))\n",
    "\n",
    "# You can write up to 20GB to the current directory (/kaggle/working/) that gets preserved as output when you create a version using \"Save & Run All\" \n",
    "# You can also write temporary files to /kaggle/temp/, but they won't be saved outside of the current session"
   ]
  },
  {
   "cell_type": "code",
   "execution_count": 2,
   "id": "cb624ecf",
   "metadata": {
    "execution": {
     "iopub.execute_input": "2021-12-15T19:05:15.692615Z",
     "iopub.status.busy": "2021-12-15T19:05:15.689622Z",
     "iopub.status.idle": "2021-12-15T19:05:16.086499Z",
     "shell.execute_reply": "2021-12-15T19:05:16.085838Z",
     "shell.execute_reply.started": "2021-12-15T19:04:34.204475Z"
    },
    "papermill": {
     "duration": 0.435167,
     "end_time": "2021-12-15T19:05:16.086661",
     "exception": false,
     "start_time": "2021-12-15T19:05:15.651494",
     "status": "completed"
    },
    "tags": []
   },
   "outputs": [],
   "source": [
    "DATA_DIR = '/kaggle/input/sf-scoring/'\n",
    "#DATA_DIR = '.' #Для локальной работы\n",
    "df_train = pd.read_csv(DATA_DIR +'/train.csv')\n",
    "df_test = pd.read_csv(DATA_DIR +'/test.csv')\n",
    "sample_submission = pd.read_csv(DATA_DIR+'/sample_submission.csv')"
   ]
  },
  {
   "cell_type": "code",
   "execution_count": 3,
   "id": "0e32296f",
   "metadata": {
    "execution": {
     "iopub.execute_input": "2021-12-15T19:05:16.162425Z",
     "iopub.status.busy": "2021-12-15T19:05:16.161391Z",
     "iopub.status.idle": "2021-12-15T19:05:16.169625Z",
     "shell.execute_reply": "2021-12-15T19:05:16.170264Z",
     "shell.execute_reply.started": "2021-12-15T19:04:34.410418Z"
    },
    "papermill": {
     "duration": 0.047845,
     "end_time": "2021-12-15T19:05:16.170475",
     "exception": false,
     "start_time": "2021-12-15T19:05:16.122630",
     "status": "completed"
    },
    "tags": []
   },
   "outputs": [
    {
     "data": {
      "text/plain": [
       "(36349, 2)"
      ]
     },
     "execution_count": 3,
     "metadata": {},
     "output_type": "execute_result"
    }
   ],
   "source": [
    "sample_submission.shape"
   ]
  },
  {
   "cell_type": "code",
   "execution_count": 4,
   "id": "7a4bc920",
   "metadata": {
    "execution": {
     "iopub.execute_input": "2021-12-15T19:05:16.245527Z",
     "iopub.status.busy": "2021-12-15T19:05:16.244509Z",
     "iopub.status.idle": "2021-12-15T19:05:16.249920Z",
     "shell.execute_reply": "2021-12-15T19:05:16.250442Z",
     "shell.execute_reply.started": "2021-12-15T19:04:34.418975Z"
    },
    "papermill": {
     "duration": 0.045062,
     "end_time": "2021-12-15T19:05:16.250630",
     "exception": false,
     "start_time": "2021-12-15T19:05:16.205568",
     "status": "completed"
    },
    "tags": []
   },
   "outputs": [
    {
     "data": {
      "text/plain": [
       "(73799, 19)"
      ]
     },
     "execution_count": 4,
     "metadata": {},
     "output_type": "execute_result"
    }
   ],
   "source": [
    "df_train.shape"
   ]
  },
  {
   "cell_type": "code",
   "execution_count": 5,
   "id": "e00e6760",
   "metadata": {
    "execution": {
     "iopub.execute_input": "2021-12-15T19:05:16.329429Z",
     "iopub.status.busy": "2021-12-15T19:05:16.328553Z",
     "iopub.status.idle": "2021-12-15T19:05:16.331857Z",
     "shell.execute_reply": "2021-12-15T19:05:16.332370Z",
     "shell.execute_reply.started": "2021-12-15T19:04:34.432216Z"
    },
    "papermill": {
     "duration": 0.045824,
     "end_time": "2021-12-15T19:05:16.332560",
     "exception": false,
     "start_time": "2021-12-15T19:05:16.286736",
     "status": "completed"
    },
    "tags": []
   },
   "outputs": [
    {
     "data": {
      "text/plain": [
       "(36349, 18)"
      ]
     },
     "execution_count": 5,
     "metadata": {},
     "output_type": "execute_result"
    }
   ],
   "source": [
    "df_test.shape"
   ]
  },
  {
   "cell_type": "code",
   "execution_count": 6,
   "id": "8962407a",
   "metadata": {
    "execution": {
     "iopub.execute_input": "2021-12-15T19:05:16.414017Z",
     "iopub.status.busy": "2021-12-15T19:05:16.413141Z",
     "iopub.status.idle": "2021-12-15T19:05:16.491085Z",
     "shell.execute_reply": "2021-12-15T19:05:16.492471Z",
     "shell.execute_reply.started": "2021-12-15T19:04:34.445769Z"
    },
    "papermill": {
     "duration": 0.123034,
     "end_time": "2021-12-15T19:05:16.492710",
     "exception": false,
     "start_time": "2021-12-15T19:05:16.369676",
     "status": "completed"
    },
    "tags": []
   },
   "outputs": [
    {
     "name": "stdout",
     "output_type": "stream",
     "text": [
      "<class 'pandas.core.frame.DataFrame'>\n",
      "RangeIndex: 73799 entries, 0 to 73798\n",
      "Data columns (total 19 columns):\n",
      " #   Column            Non-Null Count  Dtype  \n",
      "---  ------            --------------  -----  \n",
      " 0   client_id         73799 non-null  int64  \n",
      " 1   app_date          73799 non-null  object \n",
      " 2   education         73492 non-null  object \n",
      " 3   sex               73799 non-null  object \n",
      " 4   age               73799 non-null  int64  \n",
      " 5   car               73799 non-null  object \n",
      " 6   car_type          73799 non-null  object \n",
      " 7   decline_app_cnt   73799 non-null  int64  \n",
      " 8   good_work         73799 non-null  int64  \n",
      " 9   score_bki         73799 non-null  float64\n",
      " 10  bki_request_cnt   73799 non-null  int64  \n",
      " 11  region_rating     73799 non-null  int64  \n",
      " 12  home_address      73799 non-null  int64  \n",
      " 13  work_address      73799 non-null  int64  \n",
      " 14  income            73799 non-null  int64  \n",
      " 15  sna               73799 non-null  int64  \n",
      " 16  first_time        73799 non-null  int64  \n",
      " 17  foreign_passport  73799 non-null  object \n",
      " 18  default           73799 non-null  int64  \n",
      "dtypes: float64(1), int64(12), object(6)\n",
      "memory usage: 10.7+ MB\n"
     ]
    }
   ],
   "source": [
    "df_train.info()"
   ]
  },
  {
   "cell_type": "code",
   "execution_count": 7,
   "id": "da85bcd6",
   "metadata": {
    "execution": {
     "iopub.execute_input": "2021-12-15T19:05:16.572547Z",
     "iopub.status.busy": "2021-12-15T19:05:16.571777Z",
     "iopub.status.idle": "2021-12-15T19:05:16.595113Z",
     "shell.execute_reply": "2021-12-15T19:05:16.594469Z",
     "shell.execute_reply.started": "2021-12-15T19:04:34.487904Z"
    },
    "papermill": {
     "duration": 0.065893,
     "end_time": "2021-12-15T19:05:16.595262",
     "exception": false,
     "start_time": "2021-12-15T19:05:16.529369",
     "status": "completed"
    },
    "tags": []
   },
   "outputs": [
    {
     "data": {
      "text/html": [
       "<div>\n",
       "<style scoped>\n",
       "    .dataframe tbody tr th:only-of-type {\n",
       "        vertical-align: middle;\n",
       "    }\n",
       "\n",
       "    .dataframe tbody tr th {\n",
       "        vertical-align: top;\n",
       "    }\n",
       "\n",
       "    .dataframe thead th {\n",
       "        text-align: right;\n",
       "    }\n",
       "</style>\n",
       "<table border=\"1\" class=\"dataframe\">\n",
       "  <thead>\n",
       "    <tr style=\"text-align: right;\">\n",
       "      <th></th>\n",
       "      <th>client_id</th>\n",
       "      <th>app_date</th>\n",
       "      <th>education</th>\n",
       "      <th>sex</th>\n",
       "      <th>age</th>\n",
       "      <th>car</th>\n",
       "      <th>car_type</th>\n",
       "      <th>decline_app_cnt</th>\n",
       "      <th>good_work</th>\n",
       "      <th>score_bki</th>\n",
       "      <th>bki_request_cnt</th>\n",
       "      <th>region_rating</th>\n",
       "      <th>home_address</th>\n",
       "      <th>work_address</th>\n",
       "      <th>income</th>\n",
       "      <th>sna</th>\n",
       "      <th>first_time</th>\n",
       "      <th>foreign_passport</th>\n",
       "      <th>default</th>\n",
       "    </tr>\n",
       "  </thead>\n",
       "  <tbody>\n",
       "    <tr>\n",
       "      <th>0</th>\n",
       "      <td>25905</td>\n",
       "      <td>01FEB2014</td>\n",
       "      <td>SCH</td>\n",
       "      <td>M</td>\n",
       "      <td>62</td>\n",
       "      <td>Y</td>\n",
       "      <td>Y</td>\n",
       "      <td>0</td>\n",
       "      <td>0</td>\n",
       "      <td>-2.008753</td>\n",
       "      <td>1</td>\n",
       "      <td>50</td>\n",
       "      <td>1</td>\n",
       "      <td>2</td>\n",
       "      <td>18000</td>\n",
       "      <td>4</td>\n",
       "      <td>1</td>\n",
       "      <td>N</td>\n",
       "      <td>0</td>\n",
       "    </tr>\n",
       "    <tr>\n",
       "      <th>1</th>\n",
       "      <td>63161</td>\n",
       "      <td>12MAR2014</td>\n",
       "      <td>SCH</td>\n",
       "      <td>F</td>\n",
       "      <td>59</td>\n",
       "      <td>N</td>\n",
       "      <td>N</td>\n",
       "      <td>0</td>\n",
       "      <td>0</td>\n",
       "      <td>-1.532276</td>\n",
       "      <td>3</td>\n",
       "      <td>50</td>\n",
       "      <td>2</td>\n",
       "      <td>3</td>\n",
       "      <td>19000</td>\n",
       "      <td>4</td>\n",
       "      <td>1</td>\n",
       "      <td>N</td>\n",
       "      <td>0</td>\n",
       "    </tr>\n",
       "    <tr>\n",
       "      <th>2</th>\n",
       "      <td>25887</td>\n",
       "      <td>01FEB2014</td>\n",
       "      <td>SCH</td>\n",
       "      <td>M</td>\n",
       "      <td>25</td>\n",
       "      <td>Y</td>\n",
       "      <td>N</td>\n",
       "      <td>2</td>\n",
       "      <td>0</td>\n",
       "      <td>-1.408142</td>\n",
       "      <td>1</td>\n",
       "      <td>80</td>\n",
       "      <td>1</td>\n",
       "      <td>2</td>\n",
       "      <td>30000</td>\n",
       "      <td>1</td>\n",
       "      <td>4</td>\n",
       "      <td>Y</td>\n",
       "      <td>0</td>\n",
       "    </tr>\n",
       "    <tr>\n",
       "      <th>3</th>\n",
       "      <td>16222</td>\n",
       "      <td>23JAN2014</td>\n",
       "      <td>SCH</td>\n",
       "      <td>F</td>\n",
       "      <td>53</td>\n",
       "      <td>N</td>\n",
       "      <td>N</td>\n",
       "      <td>0</td>\n",
       "      <td>0</td>\n",
       "      <td>-2.057471</td>\n",
       "      <td>2</td>\n",
       "      <td>50</td>\n",
       "      <td>2</td>\n",
       "      <td>3</td>\n",
       "      <td>10000</td>\n",
       "      <td>1</td>\n",
       "      <td>3</td>\n",
       "      <td>N</td>\n",
       "      <td>0</td>\n",
       "    </tr>\n",
       "    <tr>\n",
       "      <th>4</th>\n",
       "      <td>101655</td>\n",
       "      <td>18APR2014</td>\n",
       "      <td>GRD</td>\n",
       "      <td>M</td>\n",
       "      <td>48</td>\n",
       "      <td>N</td>\n",
       "      <td>N</td>\n",
       "      <td>0</td>\n",
       "      <td>1</td>\n",
       "      <td>-1.244723</td>\n",
       "      <td>1</td>\n",
       "      <td>60</td>\n",
       "      <td>2</td>\n",
       "      <td>3</td>\n",
       "      <td>30000</td>\n",
       "      <td>1</td>\n",
       "      <td>4</td>\n",
       "      <td>Y</td>\n",
       "      <td>0</td>\n",
       "    </tr>\n",
       "  </tbody>\n",
       "</table>\n",
       "</div>"
      ],
      "text/plain": [
       "   client_id   app_date education sex  age car car_type  decline_app_cnt  \\\n",
       "0      25905  01FEB2014       SCH   M   62   Y        Y                0   \n",
       "1      63161  12MAR2014       SCH   F   59   N        N                0   \n",
       "2      25887  01FEB2014       SCH   M   25   Y        N                2   \n",
       "3      16222  23JAN2014       SCH   F   53   N        N                0   \n",
       "4     101655  18APR2014       GRD   M   48   N        N                0   \n",
       "\n",
       "   good_work  score_bki  bki_request_cnt  region_rating  home_address  \\\n",
       "0          0  -2.008753                1             50             1   \n",
       "1          0  -1.532276                3             50             2   \n",
       "2          0  -1.408142                1             80             1   \n",
       "3          0  -2.057471                2             50             2   \n",
       "4          1  -1.244723                1             60             2   \n",
       "\n",
       "   work_address  income  sna  first_time foreign_passport  default  \n",
       "0             2   18000    4           1                N        0  \n",
       "1             3   19000    4           1                N        0  \n",
       "2             2   30000    1           4                Y        0  \n",
       "3             3   10000    1           3                N        0  \n",
       "4             3   30000    1           4                Y        0  "
      ]
     },
     "execution_count": 7,
     "metadata": {},
     "output_type": "execute_result"
    }
   ],
   "source": [
    "df_train.head(5)"
   ]
  },
  {
   "cell_type": "code",
   "execution_count": 8,
   "id": "8f9e40de",
   "metadata": {
    "execution": {
     "iopub.execute_input": "2021-12-15T19:05:16.675485Z",
     "iopub.status.busy": "2021-12-15T19:05:16.674533Z",
     "iopub.status.idle": "2021-12-15T19:05:16.711082Z",
     "shell.execute_reply": "2021-12-15T19:05:16.711614Z",
     "shell.execute_reply.started": "2021-12-15T19:04:34.507365Z"
    },
    "papermill": {
     "duration": 0.079645,
     "end_time": "2021-12-15T19:05:16.711809",
     "exception": false,
     "start_time": "2021-12-15T19:05:16.632164",
     "status": "completed"
    },
    "tags": []
   },
   "outputs": [
    {
     "name": "stdout",
     "output_type": "stream",
     "text": [
      "<class 'pandas.core.frame.DataFrame'>\n",
      "RangeIndex: 36349 entries, 0 to 36348\n",
      "Data columns (total 18 columns):\n",
      " #   Column            Non-Null Count  Dtype  \n",
      "---  ------            --------------  -----  \n",
      " 0   client_id         36349 non-null  int64  \n",
      " 1   app_date          36349 non-null  object \n",
      " 2   education         36178 non-null  object \n",
      " 3   sex               36349 non-null  object \n",
      " 4   age               36349 non-null  int64  \n",
      " 5   car               36349 non-null  object \n",
      " 6   car_type          36349 non-null  object \n",
      " 7   decline_app_cnt   36349 non-null  int64  \n",
      " 8   good_work         36349 non-null  int64  \n",
      " 9   score_bki         36349 non-null  float64\n",
      " 10  bki_request_cnt   36349 non-null  int64  \n",
      " 11  region_rating     36349 non-null  int64  \n",
      " 12  home_address      36349 non-null  int64  \n",
      " 13  work_address      36349 non-null  int64  \n",
      " 14  income            36349 non-null  int64  \n",
      " 15  sna               36349 non-null  int64  \n",
      " 16  first_time        36349 non-null  int64  \n",
      " 17  foreign_passport  36349 non-null  object \n",
      "dtypes: float64(1), int64(11), object(6)\n",
      "memory usage: 5.0+ MB\n"
     ]
    }
   ],
   "source": [
    "df_test.info()"
   ]
  },
  {
   "cell_type": "code",
   "execution_count": 9,
   "id": "4463ea85",
   "metadata": {
    "execution": {
     "iopub.execute_input": "2021-12-15T19:05:16.797457Z",
     "iopub.status.busy": "2021-12-15T19:05:16.796656Z",
     "iopub.status.idle": "2021-12-15T19:05:16.799870Z",
     "shell.execute_reply": "2021-12-15T19:05:16.800392Z",
     "shell.execute_reply.started": "2021-12-15T19:04:34.539569Z"
    },
    "papermill": {
     "duration": 0.051011,
     "end_time": "2021-12-15T19:05:16.800564",
     "exception": false,
     "start_time": "2021-12-15T19:05:16.749553",
     "status": "completed"
    },
    "tags": []
   },
   "outputs": [
    {
     "data": {
      "text/html": [
       "<div>\n",
       "<style scoped>\n",
       "    .dataframe tbody tr th:only-of-type {\n",
       "        vertical-align: middle;\n",
       "    }\n",
       "\n",
       "    .dataframe tbody tr th {\n",
       "        vertical-align: top;\n",
       "    }\n",
       "\n",
       "    .dataframe thead th {\n",
       "        text-align: right;\n",
       "    }\n",
       "</style>\n",
       "<table border=\"1\" class=\"dataframe\">\n",
       "  <thead>\n",
       "    <tr style=\"text-align: right;\">\n",
       "      <th></th>\n",
       "      <th>client_id</th>\n",
       "      <th>default</th>\n",
       "    </tr>\n",
       "  </thead>\n",
       "  <tbody>\n",
       "    <tr>\n",
       "      <th>0</th>\n",
       "      <td>74835</td>\n",
       "      <td>0</td>\n",
       "    </tr>\n",
       "    <tr>\n",
       "      <th>1</th>\n",
       "      <td>17527</td>\n",
       "      <td>0</td>\n",
       "    </tr>\n",
       "    <tr>\n",
       "      <th>2</th>\n",
       "      <td>75683</td>\n",
       "      <td>0</td>\n",
       "    </tr>\n",
       "    <tr>\n",
       "      <th>3</th>\n",
       "      <td>26883</td>\n",
       "      <td>0</td>\n",
       "    </tr>\n",
       "    <tr>\n",
       "      <th>4</th>\n",
       "      <td>28862</td>\n",
       "      <td>0</td>\n",
       "    </tr>\n",
       "  </tbody>\n",
       "</table>\n",
       "</div>"
      ],
      "text/plain": [
       "   client_id  default\n",
       "0      74835        0\n",
       "1      17527        0\n",
       "2      75683        0\n",
       "3      26883        0\n",
       "4      28862        0"
      ]
     },
     "execution_count": 9,
     "metadata": {},
     "output_type": "execute_result"
    }
   ],
   "source": [
    "sample_submission.head(5)"
   ]
  },
  {
   "cell_type": "code",
   "execution_count": 10,
   "id": "ab73c8d2",
   "metadata": {
    "execution": {
     "iopub.execute_input": "2021-12-15T19:05:16.881162Z",
     "iopub.status.busy": "2021-12-15T19:05:16.880242Z",
     "iopub.status.idle": "2021-12-15T19:05:16.891897Z",
     "shell.execute_reply": "2021-12-15T19:05:16.892489Z",
     "shell.execute_reply.started": "2021-12-15T19:04:34.551973Z"
    },
    "papermill": {
     "duration": 0.054688,
     "end_time": "2021-12-15T19:05:16.892684",
     "exception": false,
     "start_time": "2021-12-15T19:05:16.837996",
     "status": "completed"
    },
    "tags": []
   },
   "outputs": [
    {
     "name": "stdout",
     "output_type": "stream",
     "text": [
      "<class 'pandas.core.frame.DataFrame'>\n",
      "RangeIndex: 36349 entries, 0 to 36348\n",
      "Data columns (total 2 columns):\n",
      " #   Column     Non-Null Count  Dtype\n",
      "---  ------     --------------  -----\n",
      " 0   client_id  36349 non-null  int64\n",
      " 1   default    36349 non-null  int64\n",
      "dtypes: int64(2)\n",
      "memory usage: 568.1 KB\n"
     ]
    }
   ],
   "source": [
    "sample_submission.info()"
   ]
  },
  {
   "cell_type": "code",
   "execution_count": 11,
   "id": "deba8f6c",
   "metadata": {
    "execution": {
     "iopub.execute_input": "2021-12-15T19:05:16.973416Z",
     "iopub.status.busy": "2021-12-15T19:05:16.972437Z",
     "iopub.status.idle": "2021-12-15T19:05:17.055776Z",
     "shell.execute_reply": "2021-12-15T19:05:17.055134Z",
     "shell.execute_reply.started": "2021-12-15T19:04:34.570554Z"
    },
    "papermill": {
     "duration": 0.124855,
     "end_time": "2021-12-15T19:05:17.055944",
     "exception": false,
     "start_time": "2021-12-15T19:05:16.931089",
     "status": "completed"
    },
    "tags": []
   },
   "outputs": [],
   "source": [
    "# ВАЖНО! дря корректной обработки признаков объединяем трейн и тест в один датасет\n",
    "df_train['sample'] = 1 # помечаем где у нас трейн\n",
    "df_test['sample'] = 0  # помечаем где у нас тест\n",
    "df_test['default'] = 0 # в тесте у нас нет значения Rating, мы его должны предсказать, по этому пока просто заполняем нулями\n",
    "\n",
    "data = df_test.append(df_train, sort=False).reset_index(drop=True) # объединяем"
   ]
  },
  {
   "cell_type": "code",
   "execution_count": 12,
   "id": "16099d72",
   "metadata": {
    "execution": {
     "iopub.execute_input": "2021-12-15T19:05:17.141435Z",
     "iopub.status.busy": "2021-12-15T19:05:17.140331Z",
     "iopub.status.idle": "2021-12-15T19:05:17.222299Z",
     "shell.execute_reply": "2021-12-15T19:05:17.222823Z",
     "shell.execute_reply.started": "2021-12-15T19:04:34.625751Z"
    },
    "papermill": {
     "duration": 0.126775,
     "end_time": "2021-12-15T19:05:17.223040",
     "exception": false,
     "start_time": "2021-12-15T19:05:17.096265",
     "status": "completed"
    },
    "tags": []
   },
   "outputs": [
    {
     "data": {
      "text/plain": [
       "client_id           110148\n",
       "app_date               120\n",
       "education                6\n",
       "sex                      2\n",
       "age                     52\n",
       "car                      2\n",
       "car_type                 2\n",
       "decline_app_cnt         24\n",
       "good_work                2\n",
       "score_bki           102618\n",
       "bki_request_cnt         40\n",
       "region_rating            7\n",
       "home_address             3\n",
       "work_address             3\n",
       "income                1207\n",
       "sna                      4\n",
       "first_time               4\n",
       "foreign_passport         2\n",
       "sample                   2\n",
       "default                  2\n",
       "dtype: int64"
      ]
     },
     "execution_count": 12,
     "metadata": {},
     "output_type": "execute_result"
    }
   ],
   "source": [
    "data.nunique(dropna=False)"
   ]
  },
  {
   "cell_type": "code",
   "execution_count": 13,
   "id": "481dca31",
   "metadata": {
    "execution": {
     "iopub.execute_input": "2021-12-15T19:05:17.307114Z",
     "iopub.status.busy": "2021-12-15T19:05:17.306486Z",
     "iopub.status.idle": "2021-12-15T19:05:17.308286Z",
     "shell.execute_reply": "2021-12-15T19:05:17.308859Z",
     "shell.execute_reply.started": "2021-12-15T19:04:34.690768Z"
    },
    "papermill": {
     "duration": 0.046988,
     "end_time": "2021-12-15T19:05:17.309030",
     "exception": false,
     "start_time": "2021-12-15T19:05:17.262042",
     "status": "completed"
    },
    "tags": []
   },
   "outputs": [],
   "source": [
    "num_cols = ['age', 'score_bki', 'decline_app_cnt', 'score_bki', 'bki_request_cnt', 'income']\n",
    "cat_cols = ['education', 'first_time', 'sna', 'work_address', 'home_address', 'region_rating']\n",
    "bin_cols = ['sex', 'car', 'car_type', 'good_work', 'foreign_passport']"
   ]
  },
  {
   "cell_type": "code",
   "execution_count": 14,
   "id": "39bf19b9",
   "metadata": {
    "execution": {
     "iopub.execute_input": "2021-12-15T19:05:17.390789Z",
     "iopub.status.busy": "2021-12-15T19:05:17.390140Z",
     "iopub.status.idle": "2021-12-15T19:05:17.628604Z",
     "shell.execute_reply": "2021-12-15T19:05:17.627925Z",
     "shell.execute_reply.started": "2021-12-15T19:04:34.697339Z"
    },
    "papermill": {
     "duration": 0.280625,
     "end_time": "2021-12-15T19:05:17.628755",
     "exception": false,
     "start_time": "2021-12-15T19:05:17.348130",
     "status": "completed"
    },
    "tags": []
   },
   "outputs": [
    {
     "data": {
      "text/plain": [
       "<AxesSubplot:>"
      ]
     },
     "execution_count": 14,
     "metadata": {},
     "output_type": "execute_result"
    },
    {
     "data": {
      "image/png": "[encoded data removed]",
      "text/plain": [
       "<Figure size 432x288 with 1 Axes>"
      ]
     },
     "metadata": {
      "needs_background": "light"
     },
     "output_type": "display_data"
    }
   ],
   "source": [
    "data['default'].value_counts(ascending=True).plot(kind='barh')"
   ]
  },
  {
   "cell_type": "code",
   "execution_count": 15,
   "id": "c3b8bfe8",
   "metadata": {
    "execution": {
     "iopub.execute_input": "2021-12-15T19:05:17.713376Z",
     "iopub.status.busy": "2021-12-15T19:05:17.712441Z",
     "iopub.status.idle": "2021-12-15T19:05:17.725390Z",
     "shell.execute_reply": "2021-12-15T19:05:17.725927Z",
     "shell.execute_reply.started": "2021-12-15T19:04:34.884040Z"
    },
    "papermill": {
     "duration": 0.056101,
     "end_time": "2021-12-15T19:05:17.726123",
     "exception": false,
     "start_time": "2021-12-15T19:05:17.670022",
     "status": "completed"
    },
    "tags": []
   },
   "outputs": [],
   "source": [
    "data.drop(['client_id','app_date',], axis = 1, inplace=True)"
   ]
  },
  {
   "cell_type": "code",
   "execution_count": 16,
   "id": "0f8c395c",
   "metadata": {
    "execution": {
     "iopub.execute_input": "2021-12-15T19:05:17.811995Z",
     "iopub.status.busy": "2021-12-15T19:05:17.811049Z",
     "iopub.status.idle": "2021-12-15T19:05:17.829248Z",
     "shell.execute_reply": "2021-12-15T19:05:17.829863Z",
     "shell.execute_reply.started": "2021-12-15T19:04:34.899802Z"
    },
    "papermill": {
     "duration": 0.062568,
     "end_time": "2021-12-15T19:05:17.830053",
     "exception": false,
     "start_time": "2021-12-15T19:05:17.767485",
     "status": "completed"
    },
    "tags": []
   },
   "outputs": [],
   "source": [
    "# Заподнение пропускоы в ['education'] наиболее частым значением 'SCH'\n",
    "data['education'].fillna('SCH',inplace=True)"
   ]
  },
  {
   "cell_type": "code",
   "execution_count": 17,
   "id": "dac5177a",
   "metadata": {
    "execution": {
     "iopub.execute_input": "2021-12-15T19:05:17.915325Z",
     "iopub.status.busy": "2021-12-15T19:05:17.914330Z",
     "iopub.status.idle": "2021-12-15T19:05:17.956740Z",
     "shell.execute_reply": "2021-12-15T19:05:17.957229Z",
     "shell.execute_reply.started": "2021-12-15T19:04:34.915248Z"
    },
    "papermill": {
     "duration": 0.087232,
     "end_time": "2021-12-15T19:05:17.957482",
     "exception": false,
     "start_time": "2021-12-15T19:05:17.870250",
     "status": "completed"
    },
    "tags": []
   },
   "outputs": [],
   "source": [
    "data = pd.get_dummies(data, columns=['education'], dummy_na=True)"
   ]
  },
  {
   "cell_type": "code",
   "execution_count": 18,
   "id": "8eb1f64a",
   "metadata": {
    "execution": {
     "iopub.execute_input": "2021-12-15T19:05:18.049082Z",
     "iopub.status.busy": "2021-12-15T19:05:18.048217Z",
     "iopub.status.idle": "2021-12-15T19:05:19.245892Z",
     "shell.execute_reply": "2021-12-15T19:05:19.245233Z",
     "shell.execute_reply.started": "2021-12-15T19:04:34.951148Z"
    },
    "papermill": {
     "duration": 1.248874,
     "end_time": "2021-12-15T19:05:19.246053",
     "exception": false,
     "start_time": "2021-12-15T19:05:17.997179",
     "status": "completed"
    },
    "tags": []
   },
   "outputs": [],
   "source": [
    "from sklearn import preprocessing\n",
    "le = preprocessing.LabelEncoder()\n",
    "\n",
    "for column in bin_cols:\n",
    "    data[column] = le.fit_transform(data[column])\n",
    "    \n",
    "columns = ['first_time', 'sna', 'work_address', 'home_address', 'region_rating']\n",
    "\n",
    "for column in columns:\n",
    "    data[column] = le.fit_transform(data[column])"
   ]
  },
  {
   "cell_type": "code",
   "execution_count": 19,
   "id": "10d97e97",
   "metadata": {
    "execution": {
     "iopub.execute_input": "2021-12-15T19:05:19.333184Z",
     "iopub.status.busy": "2021-12-15T19:05:19.332174Z",
     "iopub.status.idle": "2021-12-15T19:05:19.355501Z",
     "shell.execute_reply": "2021-12-15T19:05:19.354754Z",
     "shell.execute_reply.started": "2021-12-15T19:04:35.068678Z"
    },
    "papermill": {
     "duration": 0.069921,
     "end_time": "2021-12-15T19:05:19.355676",
     "exception": false,
     "start_time": "2021-12-15T19:05:19.285755",
     "status": "completed"
    },
    "tags": []
   },
   "outputs": [],
   "source": [
    "# логарифмируем признак age\n",
    "data['age'] = np.log(data['age'] + 1)\n",
    "\n",
    "# логарифмируем признак decline_app_cnt\n",
    "data['decline_app_cnt'] = np.log(data['decline_app_cnt'] + 1)\n",
    "\n",
    "# логарифмируем признак income\n",
    "data['income'] = np.log(data['income'] + 1)\n",
    "\n",
    "# логарифмируем признак bki_request_cnt\n",
    "data['bki_request_cnt'] = np.log(data.bki_request_cnt + 1)\n",
    "\n"
   ]
  },
  {
   "cell_type": "code",
   "execution_count": 20,
   "id": "132e0eef",
   "metadata": {
    "execution": {
     "iopub.execute_input": "2021-12-15T19:05:19.444528Z",
     "iopub.status.busy": "2021-12-15T19:05:19.443233Z",
     "iopub.status.idle": "2021-12-15T19:05:19.460415Z",
     "shell.execute_reply": "2021-12-15T19:05:19.459782Z",
     "shell.execute_reply.started": "2021-12-15T19:04:35.094140Z"
    },
    "papermill": {
     "duration": 0.065346,
     "end_time": "2021-12-15T19:05:19.460588",
     "exception": false,
     "start_time": "2021-12-15T19:05:19.395242",
     "status": "completed"
    },
    "tags": []
   },
   "outputs": [],
   "source": [
    "#Нормализация численных данных\n",
    "from sklearn.preprocessing import StandardScaler\n",
    "\n",
    "for column in num_cols:\n",
    "    data[column] = StandardScaler().fit_transform(np.array(data[column].values).reshape(-1, 1))\n"
   ]
  },
  {
   "cell_type": "code",
   "execution_count": 21,
   "id": "3adcd9db",
   "metadata": {
    "execution": {
     "iopub.execute_input": "2021-12-15T19:05:19.703671Z",
     "iopub.status.busy": "2021-12-15T19:05:19.702570Z",
     "iopub.status.idle": "2021-12-15T19:05:19.752820Z",
     "shell.execute_reply": "2021-12-15T19:05:19.752160Z",
     "shell.execute_reply.started": "2021-12-15T19:04:35.115750Z"
    },
    "papermill": {
     "duration": 0.25207,
     "end_time": "2021-12-15T19:05:19.752989",
     "exception": false,
     "start_time": "2021-12-15T19:05:19.500919",
     "status": "completed"
    },
    "tags": []
   },
   "outputs": [],
   "source": [
    "# Теперь выделим тестовую часть\n",
    "train_data = data.query('sample == 1').drop(['sample'], axis=1)\n",
    "test_data = data.query('sample == 0').drop(['sample', 'default'], axis=1)\n",
    "\n",
    "y = train_data['default'].values  # наш таргет\n",
    "X = train_data.drop(['default'], axis=1)"
   ]
  },
  {
   "cell_type": "code",
   "execution_count": 22,
   "id": "43b98471",
   "metadata": {
    "execution": {
     "iopub.execute_input": "2021-12-15T19:05:19.839615Z",
     "iopub.status.busy": "2021-12-15T19:05:19.838798Z",
     "iopub.status.idle": "2021-12-15T19:05:19.915277Z",
     "shell.execute_reply": "2021-12-15T19:05:19.915854Z",
     "shell.execute_reply.started": "2021-12-15T19:04:35.155075Z"
    },
    "papermill": {
     "duration": 0.122955,
     "end_time": "2021-12-15T19:05:19.916068",
     "exception": false,
     "start_time": "2021-12-15T19:05:19.793113",
     "status": "completed"
    },
    "tags": []
   },
   "outputs": [],
   "source": [
    "# Воспользуемся специальной функцие train_test_split для разбивки тестовых данных\n",
    "from sklearn.model_selection import train_test_split\n",
    "\n",
    "# выделим 20% данных на валидацию (параметр test_size)\n",
    "X_train, X_test, y_train, y_test = train_test_split(X, y, test_size=0.2, random_state=42)"
   ]
  },
  {
   "cell_type": "code",
   "execution_count": 23,
   "id": "8b8fe56d",
   "metadata": {
    "execution": {
     "iopub.execute_input": "2021-12-15T19:05:20.003622Z",
     "iopub.status.busy": "2021-12-15T19:05:20.002892Z",
     "iopub.status.idle": "2021-12-15T19:05:20.007101Z",
     "shell.execute_reply": "2021-12-15T19:05:20.006528Z",
     "shell.execute_reply.started": "2021-12-15T19:04:35.176227Z"
    },
    "papermill": {
     "duration": 0.051167,
     "end_time": "2021-12-15T19:05:20.007253",
     "exception": false,
     "start_time": "2021-12-15T19:05:19.956086",
     "status": "completed"
    },
    "tags": []
   },
   "outputs": [
    {
     "data": {
      "text/plain": [
       "((59039, 21), (14760, 21), (59039,), (14760,))"
      ]
     },
     "execution_count": 23,
     "metadata": {},
     "output_type": "execute_result"
    }
   ],
   "source": [
    "# проверяем\n",
    "X_train.shape, X_test.shape, y_train.shape, y_test.shape"
   ]
  },
  {
   "cell_type": "code",
   "execution_count": 24,
   "id": "f6940a5e",
   "metadata": {
    "execution": {
     "iopub.execute_input": "2021-12-15T19:05:20.101255Z",
     "iopub.status.busy": "2021-12-15T19:05:20.100261Z",
     "iopub.status.idle": "2021-12-15T19:05:20.103209Z",
     "shell.execute_reply": "2021-12-15T19:05:20.102686Z",
     "shell.execute_reply.started": "2021-12-15T19:04:35.183085Z"
    },
    "papermill": {
     "duration": 0.055839,
     "end_time": "2021-12-15T19:05:20.103381",
     "exception": false,
     "start_time": "2021-12-15T19:05:20.047542",
     "status": "completed"
    },
    "tags": []
   },
   "outputs": [],
   "source": [
    "random_seed = 42\n",
    "C = np.logspace(-2, 1, 10)\n",
    "iter_ = 100\n",
    "epsilon_stop = 1e-3\n",
    " \n",
    "param_grid = [\n",
    "    {'penalty': ['l1'], \n",
    "     'C': C,\n",
    "     'solver': ['liblinear', 'lbfgs'], \n",
    "     'class_weight':['none', 'balanced'], \n",
    "     'multi_class': ['auto','ovr'], \n",
    "     'max_iter':[iter_],\n",
    "     'tol':[epsilon_stop]},\n",
    "    {'penalty': ['l2'],\n",
    "     #'C': C,\n",
    "     'solver': ['newton-cg', 'lbfgs', 'liblinear', 'sag', 'saga'], \n",
    "     'class_weight':['none', 'balanced'], \n",
    "     'multi_class': ['auto','ovr'], \n",
    "     'max_iter':[iter_],\n",
    "     'tol':[epsilon_stop]},\n",
    "    {'penalty': ['none'],\n",
    "     'C': C,\n",
    "     'solver': ['newton-cg', 'lbfgs', 'sag', 'saga'], \n",
    "     'class_weight':['none', 'balanced'], \n",
    "     'multi_class': ['auto','ovr'], \n",
    "     'max_iter':[iter_],\n",
    "     'tol':[epsilon_stop]},\n",
    "    {'penalty': ['elasticnet'],\n",
    "     'class_weight':['none', 'balanced'], \n",
    "     'C': C,\n",
    "     'solver': ['saga'], \n",
    "     'multi_class': ['auto','ovr'], \n",
    "     'max_iter':[iter_],\n",
    "     'tol':[epsilon_stop]},\n",
    "]"
   ]
  },
  {
   "cell_type": "code",
   "execution_count": 25,
   "id": "0175f22e",
   "metadata": {
    "execution": {
     "iopub.execute_input": "2021-12-15T19:05:20.269903Z",
     "iopub.status.busy": "2021-12-15T19:05:20.269211Z",
     "iopub.status.idle": "2021-12-15T19:05:20.355253Z",
     "shell.execute_reply": "2021-12-15T19:05:20.355822Z",
     "shell.execute_reply.started": "2021-12-15T19:04:35.195444Z"
    },
    "papermill": {
     "duration": 0.130031,
     "end_time": "2021-12-15T19:05:20.356044",
     "exception": false,
     "start_time": "2021-12-15T19:05:20.226013",
     "status": "completed"
    },
    "tags": []
   },
   "outputs": [],
   "source": [
    "# Импортируем необходимые библиотеки:\n",
    "from sklearn.linear_model import LogisticRegression # инструмент для создания и обучения модели\n",
    "from sklearn import metrics # инструменты для оценки точности модели\n",
    "from sklearn.model_selection import GridSearchCV"
   ]
  },
  {
   "cell_type": "code",
   "execution_count": 26,
   "id": "fff9ad25",
   "metadata": {
    "execution": {
     "iopub.execute_input": "2021-12-15T19:05:20.444007Z",
     "iopub.status.busy": "2021-12-15T19:05:20.443179Z",
     "iopub.status.idle": "2021-12-15T19:05:20.446632Z",
     "shell.execute_reply": "2021-12-15T19:05:20.447126Z",
     "shell.execute_reply.started": "2021-12-15T19:04:35.210523Z"
    },
    "papermill": {
     "duration": 0.050657,
     "end_time": "2021-12-15T19:05:20.447336",
     "exception": false,
     "start_time": "2021-12-15T19:05:20.396679",
     "status": "completed"
    },
    "tags": []
   },
   "outputs": [
    {
     "data": {
      "text/plain": [
       "\" \\n\\n# Обучаем модель\\ngridsearch = GridSearchCV(model, param_grid, scoring='f1', n_jobs=-1, cv=5)\\ngridsearch.fit(X_train, y_train)\\nmodel_best_params = gridsearch.best_estimator_\\n\\n# Печатаем параметры\\nbest_params = model_best_params.get_params()\\nprint(f'Лучшие значения параметров:') \\nfor param_name in best_params.keys():\\n        print(f'  {param_name} = {best_params[param_name]},')\\n\""
      ]
     },
     "execution_count": 26,
     "metadata": {},
     "output_type": "execute_result"
    }
   ],
   "source": [
    "model = LogisticRegression(random_state=random_seed)\n",
    "\n",
    "''' \n",
    "\n",
    "# Обучаем модель\n",
    "gridsearch = GridSearchCV(model, param_grid, scoring='f1', n_jobs=-1, cv=5)\n",
    "gridsearch.fit(X_train, y_train)\n",
    "model_best_params = gridsearch.best_estimator_\n",
    "\n",
    "# Печатаем параметры\n",
    "best_params = model_best_params.get_params()\n",
    "print(f'Лучшие значения параметров:') \n",
    "for param_name in best_params.keys():\n",
    "        print(f'  {param_name} = {best_params[param_name]},')\n",
    "''' "
   ]
  },
  {
   "cell_type": "markdown",
   "id": "4316e679",
   "metadata": {
    "papermill": {
     "duration": 0.040729,
     "end_time": "2021-12-15T19:05:20.528431",
     "exception": false,
     "start_time": "2021-12-15T19:05:20.487702",
     "status": "completed"
    },
    "tags": []
   },
   "source": [
    "Результат работы по подбору паарметров параметров:\n",
    "  C = 0.1,\n",
    "  class_weight = balanced,\n",
    "  dual = False,\n",
    "  fit_intercept = True,\n",
    "  intercept_scaling = 1,\n",
    "  l1_ratio = None,\n",
    "  max_iter = 1000,\n",
    "  multi_class = auto,\n",
    "  n_jobs = None,\n",
    "  penalty = l1,\n",
    "  random_state = 42,\n",
    "  solver = liblinear,\n",
    "  tol = 0.001,\n",
    "  verbose = 0,\n",
    "  warm_start = False\n",
    "\n",
    "Лучшие значения параметров:\n",
    "  C = 1.0,\n",
    "  class_weight = balanced,\n",
    "  dual = False,\n",
    "  fit_intercept = True,\n",
    "  intercept_scaling = 1,\n",
    "  l1_ratio = None,\n",
    "  max_iter = 1000,\n",
    "  multi_class = auto,\n",
    "  n_jobs = None,\n",
    "  penalty = l2,\n",
    "  random_state = 42,\n",
    "  solver = newton-cg,\n",
    "  tol = 0.001,\n",
    "  verbose = 0,\n",
    "  warm_start = False,\n"
   ]
  },
  {
   "cell_type": "code",
   "execution_count": 27,
   "id": "3a186cd6",
   "metadata": {
    "execution": {
     "iopub.execute_input": "2021-12-15T19:05:20.617596Z",
     "iopub.status.busy": "2021-12-15T19:05:20.616565Z",
     "iopub.status.idle": "2021-12-15T19:05:21.009433Z",
     "shell.execute_reply": "2021-12-15T19:05:21.010380Z",
     "shell.execute_reply.started": "2021-12-15T19:04:35.225450Z"
    },
    "papermill": {
     "duration": 0.44052,
     "end_time": "2021-12-15T19:05:21.010777",
     "exception": false,
     "start_time": "2021-12-15T19:05:20.570257",
     "status": "completed"
    },
    "tags": []
   },
   "outputs": [],
   "source": [
    "#Обучаем модель\n",
    "  \n",
    "logreg = LogisticRegression(solver='liblinear', max_iter=1000,class_weight='balanced', random_state=random_seed)\n",
    "logreg.fit(X_train, y_train)\n",
    "y_pred = logreg.predict(X_test)"
   ]
  },
  {
   "cell_type": "code",
   "execution_count": 28,
   "id": "52361a3c",
   "metadata": {
    "execution": {
     "iopub.execute_input": "2021-12-15T19:05:21.172356Z",
     "iopub.status.busy": "2021-12-15T19:05:21.171280Z",
     "iopub.status.idle": "2021-12-15T19:05:21.205368Z",
     "shell.execute_reply": "2021-12-15T19:05:21.205911Z",
     "shell.execute_reply.started": "2021-12-15T19:04:35.570153Z"
    },
    "papermill": {
     "duration": 0.114824,
     "end_time": "2021-12-15T19:05:21.206110",
     "exception": false,
     "start_time": "2021-12-15T19:05:21.091286",
     "status": "completed"
    },
    "tags": []
   },
   "outputs": [
    {
     "name": "stdout",
     "output_type": "stream",
     "text": [
      "              precision    recall  f1-score   support\n",
      "\n",
      "           0       0.94      0.67      0.78     12933\n",
      "           1       0.22      0.68      0.34      1827\n",
      "\n",
      "    accuracy                           0.67     14760\n",
      "   macro avg       0.58      0.67      0.56     14760\n",
      "weighted avg       0.85      0.67      0.72     14760\n",
      "\n"
     ]
    }
   ],
   "source": [
    "from sklearn.metrics import classification_report\n",
    "classification_report = classification_report(y_test, y_pred)\n",
    "print(classification_report)"
   ]
  },
  {
   "cell_type": "markdown",
   "id": "bda142e3",
   "metadata": {
    "papermill": {
     "duration": 0.04093,
     "end_time": "2021-12-15T19:05:21.288692",
     "exception": false,
     "start_time": "2021-12-15T19:05:21.247762",
     "status": "completed"
    },
    "tags": []
   },
   "source": [
    "                precision    recall  f1-score   support\n",
    "\n",
    "           0       0.88      1.00      0.93     12933\n",
    "           1       0.50      0.00      0.00      1827\n",
    "\n",
    "    accuracy                           0.88     14760\n",
    "   macro avg       0.69      0.50      0.47     14760\n",
    "weighted avg       0.83      0.88      0.82     14760\n"
   ]
  },
  {
   "cell_type": "code",
   "execution_count": 29,
   "id": "bcc4b8b4",
   "metadata": {
    "execution": {
     "iopub.execute_input": "2021-12-15T19:05:21.393221Z",
     "iopub.status.busy": "2021-12-15T19:05:21.390670Z",
     "iopub.status.idle": "2021-12-15T19:05:21.842878Z",
     "shell.execute_reply": "2021-12-15T19:05:21.842228Z",
     "shell.execute_reply.started": "2021-12-15T19:04:35.620694Z"
    },
    "papermill": {
     "duration": 0.506748,
     "end_time": "2021-12-15T19:05:21.843045",
     "exception": false,
     "start_time": "2021-12-15T19:05:21.336297",
     "status": "completed"
    },
    "tags": []
   },
   "outputs": [
    {
     "data": {
      "text/plain": [
       "<matplotlib.legend.Legend at 0x7f31c8051c90>"
      ]
     },
     "execution_count": 29,
     "metadata": {},
     "output_type": "execute_result"
    },
    {
     "data": {
      "image/png": "[encoded data removed]",
      "text/plain": [
       "<Figure size 576x576 with 1 Axes>"
      ]
     },
     "metadata": {
      "needs_background": "light"
     },
     "output_type": "display_data"
    }
   ],
   "source": [
    "# Отрисовать ROC кривую\n",
    "from sklearn.metrics import mean_squared_error, f1_score, accuracy_score, roc_curve, roc_auc_score,confusion_matrix\n",
    "from matplotlib import pyplot as plt\n",
    "\n",
    "# Посчитать значения ROC кривой и значение площади под кривой AUC\n",
    "fpr, tpr, thresholds = roc_curve(y_train,logreg.predict_proba(X_train).T[1])\n",
    "roc_auc = roc_auc_score(y_train,logreg.predict_proba(X_train).T[1])   \n",
    "plt.figure(figsize=(8, 8))\n",
    "plt.plot(fpr, tpr, label=f'AUC = {roc_auc:.4f}')\n",
    "plt.title('Receiver Operating Characteristic', fontsize=15)\n",
    "plt.xlabel('False positive rate (FPR)', fontsize=15)\n",
    "plt.ylabel('True positive rate (TPR)', fontsize=15)\n",
    "plt.legend(fontsize=15)\n",
    "\n"
   ]
  },
  {
   "cell_type": "code",
   "execution_count": 30,
   "id": "edc021fd",
   "metadata": {
    "execution": {
     "iopub.execute_input": "2021-12-15T19:05:21.934965Z",
     "iopub.status.busy": "2021-12-15T19:05:21.933907Z",
     "iopub.status.idle": "2021-12-15T19:05:21.963305Z",
     "shell.execute_reply": "2021-12-15T19:05:21.964054Z",
     "shell.execute_reply.started": "2021-12-15T19:04:35.983507Z"
    },
    "papermill": {
     "duration": 0.078383,
     "end_time": "2021-12-15T19:05:21.964302",
     "exception": false,
     "start_time": "2021-12-15T19:05:21.885919",
     "status": "completed"
    },
    "tags": []
   },
   "outputs": [
    {
     "name": "stdout",
     "output_type": "stream",
     "text": [
      "confusion_matrix:\n",
      "[[8615 4318]\n",
      " [ 583 1244]]\n"
     ]
    }
   ],
   "source": [
    "#Построение матрицы ошибок\n",
    "print('confusion_matrix:')\n",
    "print(confusion_matrix(y_test,y_pred))"
   ]
  },
  {
   "cell_type": "code",
   "execution_count": 31,
   "id": "aa13d822",
   "metadata": {
    "execution": {
     "iopub.execute_input": "2021-12-15T19:05:22.061849Z",
     "iopub.status.busy": "2021-12-15T19:05:22.061131Z",
     "iopub.status.idle": "2021-12-15T19:05:22.927172Z",
     "shell.execute_reply": "2021-12-15T19:05:22.927723Z",
     "shell.execute_reply.started": "2021-12-15T19:04:36.004678Z"
    },
    "papermill": {
     "duration": 0.917897,
     "end_time": "2021-12-15T19:05:22.927974",
     "exception": false,
     "start_time": "2021-12-15T19:05:22.010077",
     "status": "completed"
    },
    "tags": []
   },
   "outputs": [],
   "source": [
    "#Пробуем применить Undersampling \n",
    "\n",
    "from imblearn.under_sampling import RandomUnderSampler\n",
    "\n",
    "random_seed=42\n",
    "\n",
    "rus = RandomUnderSampler(random_state=42)\n",
    "X_us, y_us = rus.fit_resample(X, y)\n",
    "\n",
    "\n",
    "X_train_us, X_test_us, y_train_us, y_test_us = train_test_split(X_us, y_us, test_size=0.10, shuffle = True, random_state=random_seed)\n",
    "\n",
    "logreg_us = LogisticRegression(solver='saga', max_iter=1000, random_state=random_seed)\n",
    "logreg_us.fit(X_train_us, y_train_us)\n",
    "\n",
    "y_pred_us = logreg_us.predict(X_test_us)\n",
    "\n"
   ]
  },
  {
   "cell_type": "code",
   "execution_count": 32,
   "id": "f3875a40",
   "metadata": {
    "execution": {
     "iopub.execute_input": "2021-12-15T19:05:23.074609Z",
     "iopub.status.busy": "2021-12-15T19:05:23.073543Z",
     "iopub.status.idle": "2021-12-15T19:05:23.386866Z",
     "shell.execute_reply": "2021-12-15T19:05:23.387566Z",
     "shell.execute_reply.started": "2021-12-15T19:04:36.848525Z"
    },
    "papermill": {
     "duration": 0.38458,
     "end_time": "2021-12-15T19:05:23.387743",
     "exception": false,
     "start_time": "2021-12-15T19:05:23.003163",
     "status": "completed"
    },
    "tags": []
   },
   "outputs": [
    {
     "data": {
      "text/plain": [
       "<matplotlib.legend.Legend at 0x7f31b3c1c390>"
      ]
     },
     "execution_count": 32,
     "metadata": {},
     "output_type": "execute_result"
    },
    {
     "data": {
      "image/png": "[encoded data removed]",
      "text/plain": [
       "<Figure size 576x576 with 1 Axes>"
      ]
     },
     "metadata": {
      "needs_background": "light"
     },
     "output_type": "display_data"
    }
   ],
   "source": [
    "# Отрисовать ROC кривую\n",
    "from sklearn.metrics import mean_squared_error, f1_score, accuracy_score, roc_curve, roc_auc_score\n",
    "from matplotlib import pyplot as plt\n",
    "\n",
    "# Посчитать значения ROC кривой и значение площади под кривой AUC\n",
    "fpr, tpr, thresholds = roc_curve(y_train_us,logreg_us.predict_proba(X_train_us).T[1])\n",
    "roc_auc = roc_auc_score(y_train_us,logreg_us.predict_proba(X_train_us).T[1])   \n",
    "plt.figure(figsize=(8, 8))\n",
    "plt.plot(fpr, tpr, label=f'AUC = {roc_auc:.4f}')\n",
    "plt.title('Receiver Operating Characteristic', fontsize=15)\n",
    "plt.xlabel('False positive rate (FPR)', fontsize=15)\n",
    "plt.ylabel('True positive rate (TPR)', fontsize=15)\n",
    "plt.legend(fontsize=15)"
   ]
  },
  {
   "cell_type": "code",
   "execution_count": 33,
   "id": "c364b7c6",
   "metadata": {
    "execution": {
     "iopub.execute_input": "2021-12-15T19:05:23.480529Z",
     "iopub.status.busy": "2021-12-15T19:05:23.479797Z",
     "iopub.status.idle": "2021-12-15T19:05:23.487063Z",
     "shell.execute_reply": "2021-12-15T19:05:23.487558Z",
     "shell.execute_reply.started": "2021-12-15T19:04:37.164755Z"
    },
    "papermill": {
     "duration": 0.056051,
     "end_time": "2021-12-15T19:05:23.487734",
     "exception": false,
     "start_time": "2021-12-15T19:05:23.431683",
     "status": "completed"
    },
    "tags": []
   },
   "outputs": [
    {
     "name": "stdout",
     "output_type": "stream",
     "text": [
      "confusion_matrix:\n",
      "[[620 303]\n",
      " [297 655]]\n"
     ]
    }
   ],
   "source": [
    "#Построение матрицы ошибок\n",
    "print('confusion_matrix:')\n",
    "print(confusion_matrix(y_test_us,y_pred_us))"
   ]
  },
  {
   "cell_type": "code",
   "execution_count": 34,
   "id": "9ed83a32",
   "metadata": {
    "execution": {
     "iopub.execute_input": "2021-12-15T19:05:23.583861Z",
     "iopub.status.busy": "2021-12-15T19:05:23.582480Z",
     "iopub.status.idle": "2021-12-15T19:05:23.628348Z",
     "shell.execute_reply": "2021-12-15T19:05:23.629367Z",
     "shell.execute_reply.started": "2021-12-15T19:04:37.174544Z"
    },
    "papermill": {
     "duration": 0.097495,
     "end_time": "2021-12-15T19:05:23.629703",
     "exception": false,
     "start_time": "2021-12-15T19:05:23.532208",
     "status": "completed"
    },
    "tags": []
   },
   "outputs": [
    {
     "name": "stdout",
     "output_type": "stream",
     "text": [
      "confusion_matrix:\n",
      "[[8682 4251]\n",
      " [ 584 1243]]\n"
     ]
    }
   ],
   "source": [
    "#Построение матрицы ошибок на тестовых данных без US\n",
    "print('confusion_matrix:')\n",
    "print(confusion_matrix(y_test,logreg_us.predict(X_test)))\n"
   ]
  },
  {
   "cell_type": "markdown",
   "id": "dd9467e9",
   "metadata": {
    "papermill": {
     "duration": 0.044012,
     "end_time": "2021-12-15T19:05:23.753968",
     "exception": false,
     "start_time": "2021-12-15T19:05:23.709956",
     "status": "completed"
    },
    "tags": []
   },
   "source": [
    "Undersampling дал небольшое улучшение итогового результата"
   ]
  },
  {
   "cell_type": "markdown",
   "id": "68f3903d",
   "metadata": {
    "papermill": {
     "duration": 0.044065,
     "end_time": "2021-12-15T19:05:23.843088",
     "exception": false,
     "start_time": "2021-12-15T19:05:23.799023",
     "status": "completed"
    },
    "tags": []
   },
   "source": [
    "# Submission"
   ]
  },
  {
   "cell_type": "code",
   "execution_count": 35,
   "id": "51197d86",
   "metadata": {
    "execution": {
     "iopub.execute_input": "2021-12-15T19:05:23.939751Z",
     "iopub.status.busy": "2021-12-15T19:05:23.939072Z",
     "iopub.status.idle": "2021-12-15T19:05:24.511152Z",
     "shell.execute_reply": "2021-12-15T19:05:24.510596Z",
     "shell.execute_reply.started": "2021-12-15T19:04:37.216722Z"
    },
    "papermill": {
     "duration": 0.623388,
     "end_time": "2021-12-15T19:05:24.511294",
     "exception": false,
     "start_time": "2021-12-15T19:05:23.887906",
     "status": "completed"
    },
    "tags": []
   },
   "outputs": [
    {
     "data": {
      "text/plain": [
       "LogisticRegression(class_weight='balanced', max_iter=1000, random_state=42,\n",
       "                   solver='liblinear')"
      ]
     },
     "execution_count": 35,
     "metadata": {},
     "output_type": "execute_result"
    }
   ],
   "source": [
    "# если качество нас устраивает, обучаем финальную модель на всех обучающи данных\n",
    "#logreg_final = LogisticRegression(solver='liblinear', max_iter=1000,penalty='l2', C=0.51)\n",
    "random_seed = 42\n",
    "logreg_final = LogisticRegression(solver='liblinear', max_iter=1000,class_weight='balanced', random_state=random_seed)\n",
    "logreg_final.fit(X, y)"
   ]
  },
  {
   "cell_type": "code",
   "execution_count": 36,
   "id": "6546ffbb",
   "metadata": {
    "execution": {
     "iopub.execute_input": "2021-12-15T19:05:24.609608Z",
     "iopub.status.busy": "2021-12-15T19:05:24.608354Z",
     "iopub.status.idle": "2021-12-15T19:05:24.620421Z",
     "shell.execute_reply": "2021-12-15T19:05:24.621479Z",
     "shell.execute_reply.started": "2021-12-15T19:04:37.826453Z"
    },
    "papermill": {
     "duration": 0.065346,
     "end_time": "2021-12-15T19:05:24.621756",
     "exception": false,
     "start_time": "2021-12-15T19:05:24.556410",
     "status": "completed"
    },
    "tags": []
   },
   "outputs": [],
   "source": [
    "#predict_submission = logreg_final.predict(test_data)\n",
    "#Делаем финальное предсказание на основе модели, обученной на данных с undersampling \n",
    "predict_submission = logreg_us.predict(test_data)"
   ]
  },
  {
   "cell_type": "code",
   "execution_count": 37,
   "id": "11022db6",
   "metadata": {
    "execution": {
     "iopub.execute_input": "2021-12-15T19:05:24.766501Z",
     "iopub.status.busy": "2021-12-15T19:05:24.765539Z",
     "iopub.status.idle": "2021-12-15T19:05:24.848323Z",
     "shell.execute_reply": "2021-12-15T19:05:24.847499Z",
     "shell.execute_reply.started": "2021-12-15T19:04:37.845189Z"
    },
    "papermill": {
     "duration": 0.145483,
     "end_time": "2021-12-15T19:05:24.848500",
     "exception": false,
     "start_time": "2021-12-15T19:05:24.703017",
     "status": "completed"
    },
    "tags": []
   },
   "outputs": [
    {
     "data": {
      "text/html": [
       "<div>\n",
       "<style scoped>\n",
       "    .dataframe tbody tr th:only-of-type {\n",
       "        vertical-align: middle;\n",
       "    }\n",
       "\n",
       "    .dataframe tbody tr th {\n",
       "        vertical-align: top;\n",
       "    }\n",
       "\n",
       "    .dataframe thead th {\n",
       "        text-align: right;\n",
       "    }\n",
       "</style>\n",
       "<table border=\"1\" class=\"dataframe\">\n",
       "  <thead>\n",
       "    <tr style=\"text-align: right;\">\n",
       "      <th></th>\n",
       "      <th>client_id</th>\n",
       "      <th>default</th>\n",
       "    </tr>\n",
       "  </thead>\n",
       "  <tbody>\n",
       "    <tr>\n",
       "      <th>0</th>\n",
       "      <td>74835</td>\n",
       "      <td>0</td>\n",
       "    </tr>\n",
       "    <tr>\n",
       "      <th>1</th>\n",
       "      <td>17527</td>\n",
       "      <td>1</td>\n",
       "    </tr>\n",
       "    <tr>\n",
       "      <th>2</th>\n",
       "      <td>75683</td>\n",
       "      <td>0</td>\n",
       "    </tr>\n",
       "    <tr>\n",
       "      <th>3</th>\n",
       "      <td>26883</td>\n",
       "      <td>0</td>\n",
       "    </tr>\n",
       "    <tr>\n",
       "      <th>4</th>\n",
       "      <td>28862</td>\n",
       "      <td>0</td>\n",
       "    </tr>\n",
       "    <tr>\n",
       "      <th>5</th>\n",
       "      <td>99881</td>\n",
       "      <td>1</td>\n",
       "    </tr>\n",
       "    <tr>\n",
       "      <th>6</th>\n",
       "      <td>26630</td>\n",
       "      <td>1</td>\n",
       "    </tr>\n",
       "    <tr>\n",
       "      <th>7</th>\n",
       "      <td>79934</td>\n",
       "      <td>0</td>\n",
       "    </tr>\n",
       "    <tr>\n",
       "      <th>8</th>\n",
       "      <td>16605</td>\n",
       "      <td>0</td>\n",
       "    </tr>\n",
       "    <tr>\n",
       "      <th>9</th>\n",
       "      <td>105449</td>\n",
       "      <td>0</td>\n",
       "    </tr>\n",
       "  </tbody>\n",
       "</table>\n",
       "</div>"
      ],
      "text/plain": [
       "   client_id  default\n",
       "0      74835        0\n",
       "1      17527        1\n",
       "2      75683        0\n",
       "3      26883        0\n",
       "4      28862        0\n",
       "5      99881        1\n",
       "6      26630        1\n",
       "7      79934        0\n",
       "8      16605        0\n",
       "9     105449        0"
      ]
     },
     "execution_count": 37,
     "metadata": {},
     "output_type": "execute_result"
    }
   ],
   "source": [
    "sample_submission['default'] = predict_submission\n",
    "sample_submission.to_csv('submission.csv', index=False)\n",
    "sample_submission.head(10)"
   ]
  },
  {
   "cell_type": "code",
   "execution_count": 38,
   "id": "fd22cdbf",
   "metadata": {
    "execution": {
     "iopub.execute_input": "2021-12-15T19:05:24.950750Z",
     "iopub.status.busy": "2021-12-15T19:05:24.949515Z",
     "iopub.status.idle": "2021-12-15T19:05:24.966769Z",
     "shell.execute_reply": "2021-12-15T19:05:24.967260Z",
     "shell.execute_reply.started": "2021-12-15T19:04:37.949248Z"
    },
    "papermill": {
     "duration": 0.071513,
     "end_time": "2021-12-15T19:05:24.967488",
     "exception": false,
     "start_time": "2021-12-15T19:05:24.895975",
     "status": "completed"
    },
    "tags": []
   },
   "outputs": [
    {
     "data": {
      "text/html": [
       "<div>\n",
       "<style scoped>\n",
       "    .dataframe tbody tr th:only-of-type {\n",
       "        vertical-align: middle;\n",
       "    }\n",
       "\n",
       "    .dataframe tbody tr th {\n",
       "        vertical-align: top;\n",
       "    }\n",
       "\n",
       "    .dataframe thead th {\n",
       "        text-align: right;\n",
       "    }\n",
       "</style>\n",
       "<table border=\"1\" class=\"dataframe\">\n",
       "  <thead>\n",
       "    <tr style=\"text-align: right;\">\n",
       "      <th></th>\n",
       "      <th>client_id</th>\n",
       "      <th>default</th>\n",
       "    </tr>\n",
       "  </thead>\n",
       "  <tbody>\n",
       "    <tr>\n",
       "      <th>count</th>\n",
       "      <td>36349.000000</td>\n",
       "      <td>36349.000000</td>\n",
       "    </tr>\n",
       "    <tr>\n",
       "      <th>mean</th>\n",
       "      <td>54945.647473</td>\n",
       "      <td>0.374976</td>\n",
       "    </tr>\n",
       "    <tr>\n",
       "      <th>std</th>\n",
       "      <td>31706.052195</td>\n",
       "      <td>0.484123</td>\n",
       "    </tr>\n",
       "    <tr>\n",
       "      <th>min</th>\n",
       "      <td>4.000000</td>\n",
       "      <td>0.000000</td>\n",
       "    </tr>\n",
       "    <tr>\n",
       "      <th>25%</th>\n",
       "      <td>27744.000000</td>\n",
       "      <td>0.000000</td>\n",
       "    </tr>\n",
       "    <tr>\n",
       "      <th>50%</th>\n",
       "      <td>54657.000000</td>\n",
       "      <td>0.000000</td>\n",
       "    </tr>\n",
       "    <tr>\n",
       "      <th>75%</th>\n",
       "      <td>82322.000000</td>\n",
       "      <td>1.000000</td>\n",
       "    </tr>\n",
       "    <tr>\n",
       "      <th>max</th>\n",
       "      <td>110148.000000</td>\n",
       "      <td>1.000000</td>\n",
       "    </tr>\n",
       "  </tbody>\n",
       "</table>\n",
       "</div>"
      ],
      "text/plain": [
       "           client_id       default\n",
       "count   36349.000000  36349.000000\n",
       "mean    54945.647473      0.374976\n",
       "std     31706.052195      0.484123\n",
       "min         4.000000      0.000000\n",
       "25%     27744.000000      0.000000\n",
       "50%     54657.000000      0.000000\n",
       "75%     82322.000000      1.000000\n",
       "max    110148.000000      1.000000"
      ]
     },
     "execution_count": 38,
     "metadata": {},
     "output_type": "execute_result"
    }
   ],
   "source": [
    "sample_submission.describe()"
   ]
  },
  {
   "cell_type": "code",
   "execution_count": 39,
   "id": "d6122f70",
   "metadata": {
    "execution": {
     "iopub.execute_input": "2021-12-15T19:05:25.070180Z",
     "iopub.status.busy": "2021-12-15T19:05:25.069138Z",
     "iopub.status.idle": "2021-12-15T19:05:27.369027Z",
     "shell.execute_reply": "2021-12-15T19:05:27.368221Z",
     "shell.execute_reply.started": "2021-12-15T19:04:37.974188Z"
    },
    "papermill": {
     "duration": 2.352717,
     "end_time": "2021-12-15T19:05:27.369187",
     "exception": false,
     "start_time": "2021-12-15T19:05:25.016470",
     "status": "completed"
    },
    "tags": []
   },
   "outputs": [
    {
     "name": "stdout",
     "output_type": "stream",
     "text": [
      "Traceback (most recent call last):\r\n",
      "  File \"/opt/conda/bin/kaggle\", line 5, in <module>\r\n",
      "    from kaggle.cli import main\r\n",
      "  File \"/opt/conda/lib/python3.7/site-packages/kaggle/__init__.py\", line 23, in <module>\r\n",
      "    api.authenticate()\r\n",
      "  File \"/opt/conda/lib/python3.7/site-packages/kaggle/api/kaggle_api_extended.py\", line 166, in authenticate\r\n",
      "    self.config_file, self.config_dir))\r\n",
      "OSError: Could not find kaggle.json. Make sure it's located in /root/.kaggle. Or use the environment method.\r\n",
      "Traceback (most recent call last):\r\n",
      "  File \"/opt/conda/bin/kaggle\", line 5, in <module>\r\n",
      "    from kaggle.cli import main\r\n",
      "  File \"/opt/conda/lib/python3.7/site-packages/kaggle/__init__.py\", line 23, in <module>\r\n",
      "    api.authenticate()\r\n",
      "  File \"/opt/conda/lib/python3.7/site-packages/kaggle/api/kaggle_api_extended.py\", line 166, in authenticate\r\n",
      "    self.config_file, self.config_dir))\r\n",
      "OSError: Could not find kaggle.json. Make sure it's located in /root/.kaggle. Or use the environment method.\r\n"
     ]
    }
   ],
   "source": [
    "!kaggle competitions submit -c sf-scoring -f ssubmission.csv -m \"Message\"\n",
    "!kaggle competitions submit your-competition-name -f submission.csv -m 'My submission message'"
   ]
  }
 ],
 "metadata": {
  "kernelspec": {
   "display_name": "Python 3",
   "language": "python",
   "name": "python3"
  },
  "language_info": {
   "codemirror_mode": {
    "name": "ipython",
    "version": 3
   },
   "file_extension": ".py",
   "mimetype": "text/x-python",
   "name": "python",
   "nbconvert_exporter": "python",
   "pygments_lexer": "ipython3",
   "version": "3.7.10"
  },
  "papermill": {
   "default_parameters": {},
   "duration": 23.189516,
   "end_time": "2021-12-15T19:05:28.429833",
   "environment_variables": {},
   "exception": null,
   "input_path": "__notebook__.ipynb",
   "output_path": "__notebook__.ipynb",
   "parameters": {},
   "start_time": "2021-12-15T19:05:05.240317",
   "version": "2.3.3"
  }
 },
 "nbformat": 4,
 "nbformat_minor": 5
}
