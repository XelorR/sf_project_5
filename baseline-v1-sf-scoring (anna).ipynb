{
 "cells": [
  {
   "cell_type": "code",
   "execution_count": 1,
   "id": "8342078d",
   "metadata": {
    "_cell_guid": "b1076dfc-b9ad-4769-8c92-a6c4dae69d19",
    "_uuid": "8f2839f25d086af736a60e9eeb907d3b93b6e0e5",
    "execution": {
     "iopub.execute_input": "2021-12-04T22:05:14.355977Z",
     "iopub.status.busy": "2021-12-04T22:05:14.354152Z",
     "iopub.status.idle": "2021-12-04T22:05:14.371279Z",
     "shell.execute_reply": "2021-12-04T22:05:14.370419Z",
     "shell.execute_reply.started": "2021-12-04T22:02:07.999586Z"
    },
    "papermill": {
     "duration": 0.044743,
     "end_time": "2021-12-04T22:05:14.371495",
     "exception": false,
     "start_time": "2021-12-04T22:05:14.326752",
     "status": "completed"
    },
    "tags": []
   },
   "outputs": [
    {
     "name": "stdout",
     "output_type": "stream",
     "text": [
      "/kaggle/input/sf-scoring/sample_submission.csv\n",
      "/kaggle/input/sf-scoring/train.csv\n",
      "/kaggle/input/sf-scoring/test.csv\n"
     ]
    }
   ],
   "source": [
    "# This Python 3 environment comes with many helpful analytics libraries installed\n",
    "# It is defined by the kaggle/python Docker image: https://github.com/kaggle/docker-python\n",
    "# For example, here's several helpful packages to load\n",
    "\n",
    "import numpy as np # linear algebra\n",
    "import pandas as pd # data processing, CSV file I/O (e.g. pd.read_csv)\n",
    "\n",
    "# Input data files are available in the read-only \"../input/\" directory\n",
    "# For example, running this (by clicking run or pressing Shift+Enter) will list all files under the input directory\n",
    "\n",
    "import os\n",
    "for dirname, _, filenames in os.walk('/kaggle/input'):\n",
    "    for filename in filenames:\n",
    "        print(os.path.join(dirname, filename))\n",
    "\n",
    "# You can write up to 20GB to the current directory (/kaggle/working/) that gets preserved as output when you create a version using \"Save & Run All\" \n",
    "# You can also write temporary files to /kaggle/temp/, but they won't be saved outside of the current session"
   ]
  },
  {
   "cell_type": "code",
   "execution_count": 2,
   "id": "2d3502ce",
   "metadata": {
    "execution": {
     "iopub.execute_input": "2021-12-04T22:05:14.422476Z",
     "iopub.status.busy": "2021-12-04T22:05:14.421481Z",
     "iopub.status.idle": "2021-12-04T22:05:14.746194Z",
     "shell.execute_reply": "2021-12-04T22:05:14.746773Z",
     "shell.execute_reply.started": "2021-12-04T22:02:08.023910Z"
    },
    "papermill": {
     "duration": 0.348054,
     "end_time": "2021-12-04T22:05:14.746952",
     "exception": false,
     "start_time": "2021-12-04T22:05:14.398898",
     "status": "completed"
    },
    "tags": []
   },
   "outputs": [],
   "source": [
    "DATA_DIR = '/kaggle/input/sf-scoring/'\n",
    "df_train = pd.read_csv(DATA_DIR +'/train.csv')\n",
    "df_test = pd.read_csv(DATA_DIR +'/test.csv')\n",
    "sample_submission = pd.read_csv(DATA_DIR+'/sample_submission.csv')"
   ]
  },
  {
   "cell_type": "code",
   "execution_count": 3,
   "id": "98d2f3a8",
   "metadata": {
    "execution": {
     "iopub.execute_input": "2021-12-04T22:05:14.814551Z",
     "iopub.status.busy": "2021-12-04T22:05:14.813565Z",
     "iopub.status.idle": "2021-12-04T22:05:14.817666Z",
     "shell.execute_reply": "2021-12-04T22:05:14.818170Z",
     "shell.execute_reply.started": "2021-12-04T22:02:08.349548Z"
    },
    "papermill": {
     "duration": 0.045199,
     "end_time": "2021-12-04T22:05:14.818336",
     "exception": false,
     "start_time": "2021-12-04T22:05:14.773137",
     "status": "completed"
    },
    "tags": []
   },
   "outputs": [
    {
     "data": {
      "text/plain": [
       "(36349, 2)"
      ]
     },
     "execution_count": 3,
     "metadata": {},
     "output_type": "execute_result"
    }
   ],
   "source": [
    "sample_submission.shape"
   ]
  },
  {
   "cell_type": "code",
   "execution_count": 4,
   "id": "82d02802",
   "metadata": {
    "execution": {
     "iopub.execute_input": "2021-12-04T22:05:14.860934Z",
     "iopub.status.busy": "2021-12-04T22:05:14.860331Z",
     "iopub.status.idle": "2021-12-04T22:05:14.862541Z",
     "shell.execute_reply": "2021-12-04T22:05:14.863086Z",
     "shell.execute_reply.started": "2021-12-04T22:02:08.361719Z"
    },
    "papermill": {
     "duration": 0.025643,
     "end_time": "2021-12-04T22:05:14.863245",
     "exception": false,
     "start_time": "2021-12-04T22:05:14.837602",
     "status": "completed"
    },
    "tags": []
   },
   "outputs": [
    {
     "data": {
      "text/plain": [
       "(36349, 18)"
      ]
     },
     "execution_count": 4,
     "metadata": {},
     "output_type": "execute_result"
    }
   ],
   "source": [
    "df_test.shape"
   ]
  },
  {
   "cell_type": "code",
   "execution_count": 5,
   "id": "ec303d70",
   "metadata": {
    "execution": {
     "iopub.execute_input": "2021-12-04T22:05:14.904445Z",
     "iopub.status.busy": "2021-12-04T22:05:14.903695Z",
     "iopub.status.idle": "2021-12-04T22:05:14.951582Z",
     "shell.execute_reply": "2021-12-04T22:05:14.952062Z",
     "shell.execute_reply.started": "2021-12-04T22:02:08.375025Z"
    },
    "papermill": {
     "duration": 0.069994,
     "end_time": "2021-12-04T22:05:14.952232",
     "exception": false,
     "start_time": "2021-12-04T22:05:14.882238",
     "status": "completed"
    },
    "tags": []
   },
   "outputs": [
    {
     "name": "stdout",
     "output_type": "stream",
     "text": [
      "<class 'pandas.core.frame.DataFrame'>\n",
      "RangeIndex: 73799 entries, 0 to 73798\n",
      "Data columns (total 19 columns):\n",
      " #   Column            Non-Null Count  Dtype  \n",
      "---  ------            --------------  -----  \n",
      " 0   client_id         73799 non-null  int64  \n",
      " 1   app_date          73799 non-null  object \n",
      " 2   education         73492 non-null  object \n",
      " 3   sex               73799 non-null  object \n",
      " 4   age               73799 non-null  int64  \n",
      " 5   car               73799 non-null  object \n",
      " 6   car_type          73799 non-null  object \n",
      " 7   decline_app_cnt   73799 non-null  int64  \n",
      " 8   good_work         73799 non-null  int64  \n",
      " 9   score_bki         73799 non-null  float64\n",
      " 10  bki_request_cnt   73799 non-null  int64  \n",
      " 11  region_rating     73799 non-null  int64  \n",
      " 12  home_address      73799 non-null  int64  \n",
      " 13  work_address      73799 non-null  int64  \n",
      " 14  income            73799 non-null  int64  \n",
      " 15  sna               73799 non-null  int64  \n",
      " 16  first_time        73799 non-null  int64  \n",
      " 17  foreign_passport  73799 non-null  object \n",
      " 18  default           73799 non-null  int64  \n",
      "dtypes: float64(1), int64(12), object(6)\n",
      "memory usage: 10.7+ MB\n"
     ]
    }
   ],
   "source": [
    "df_train.info()"
   ]
  },
  {
   "cell_type": "code",
   "execution_count": 6,
   "id": "71b22dc5",
   "metadata": {
    "execution": {
     "iopub.execute_input": "2021-12-04T22:05:15.000054Z",
     "iopub.status.busy": "2021-12-04T22:05:14.998319Z",
     "iopub.status.idle": "2021-12-04T22:05:15.017795Z",
     "shell.execute_reply": "2021-12-04T22:05:15.018258Z",
     "shell.execute_reply.started": "2021-12-04T22:02:08.447694Z"
    },
    "papermill": {
     "duration": 0.045755,
     "end_time": "2021-12-04T22:05:15.018451",
     "exception": false,
     "start_time": "2021-12-04T22:05:14.972696",
     "status": "completed"
    },
    "tags": []
   },
   "outputs": [
    {
     "data": {
      "text/html": [
       "<div>\n",
       "<style scoped>\n",
       "    .dataframe tbody tr th:only-of-type {\n",
       "        vertical-align: middle;\n",
       "    }\n",
       "\n",
       "    .dataframe tbody tr th {\n",
       "        vertical-align: top;\n",
       "    }\n",
       "\n",
       "    .dataframe thead th {\n",
       "        text-align: right;\n",
       "    }\n",
       "</style>\n",
       "<table border=\"1\" class=\"dataframe\">\n",
       "  <thead>\n",
       "    <tr style=\"text-align: right;\">\n",
       "      <th></th>\n",
       "      <th>client_id</th>\n",
       "      <th>app_date</th>\n",
       "      <th>education</th>\n",
       "      <th>sex</th>\n",
       "      <th>age</th>\n",
       "      <th>car</th>\n",
       "      <th>car_type</th>\n",
       "      <th>decline_app_cnt</th>\n",
       "      <th>good_work</th>\n",
       "      <th>score_bki</th>\n",
       "      <th>bki_request_cnt</th>\n",
       "      <th>region_rating</th>\n",
       "      <th>home_address</th>\n",
       "      <th>work_address</th>\n",
       "      <th>income</th>\n",
       "      <th>sna</th>\n",
       "      <th>first_time</th>\n",
       "      <th>foreign_passport</th>\n",
       "      <th>default</th>\n",
       "    </tr>\n",
       "  </thead>\n",
       "  <tbody>\n",
       "    <tr>\n",
       "      <th>0</th>\n",
       "      <td>25905</td>\n",
       "      <td>01FEB2014</td>\n",
       "      <td>SCH</td>\n",
       "      <td>M</td>\n",
       "      <td>62</td>\n",
       "      <td>Y</td>\n",
       "      <td>Y</td>\n",
       "      <td>0</td>\n",
       "      <td>0</td>\n",
       "      <td>-2.008753</td>\n",
       "      <td>1</td>\n",
       "      <td>50</td>\n",
       "      <td>1</td>\n",
       "      <td>2</td>\n",
       "      <td>18000</td>\n",
       "      <td>4</td>\n",
       "      <td>1</td>\n",
       "      <td>N</td>\n",
       "      <td>0</td>\n",
       "    </tr>\n",
       "    <tr>\n",
       "      <th>1</th>\n",
       "      <td>63161</td>\n",
       "      <td>12MAR2014</td>\n",
       "      <td>SCH</td>\n",
       "      <td>F</td>\n",
       "      <td>59</td>\n",
       "      <td>N</td>\n",
       "      <td>N</td>\n",
       "      <td>0</td>\n",
       "      <td>0</td>\n",
       "      <td>-1.532276</td>\n",
       "      <td>3</td>\n",
       "      <td>50</td>\n",
       "      <td>2</td>\n",
       "      <td>3</td>\n",
       "      <td>19000</td>\n",
       "      <td>4</td>\n",
       "      <td>1</td>\n",
       "      <td>N</td>\n",
       "      <td>0</td>\n",
       "    </tr>\n",
       "    <tr>\n",
       "      <th>2</th>\n",
       "      <td>25887</td>\n",
       "      <td>01FEB2014</td>\n",
       "      <td>SCH</td>\n",
       "      <td>M</td>\n",
       "      <td>25</td>\n",
       "      <td>Y</td>\n",
       "      <td>N</td>\n",
       "      <td>2</td>\n",
       "      <td>0</td>\n",
       "      <td>-1.408142</td>\n",
       "      <td>1</td>\n",
       "      <td>80</td>\n",
       "      <td>1</td>\n",
       "      <td>2</td>\n",
       "      <td>30000</td>\n",
       "      <td>1</td>\n",
       "      <td>4</td>\n",
       "      <td>Y</td>\n",
       "      <td>0</td>\n",
       "    </tr>\n",
       "    <tr>\n",
       "      <th>3</th>\n",
       "      <td>16222</td>\n",
       "      <td>23JAN2014</td>\n",
       "      <td>SCH</td>\n",
       "      <td>F</td>\n",
       "      <td>53</td>\n",
       "      <td>N</td>\n",
       "      <td>N</td>\n",
       "      <td>0</td>\n",
       "      <td>0</td>\n",
       "      <td>-2.057471</td>\n",
       "      <td>2</td>\n",
       "      <td>50</td>\n",
       "      <td>2</td>\n",
       "      <td>3</td>\n",
       "      <td>10000</td>\n",
       "      <td>1</td>\n",
       "      <td>3</td>\n",
       "      <td>N</td>\n",
       "      <td>0</td>\n",
       "    </tr>\n",
       "    <tr>\n",
       "      <th>4</th>\n",
       "      <td>101655</td>\n",
       "      <td>18APR2014</td>\n",
       "      <td>GRD</td>\n",
       "      <td>M</td>\n",
       "      <td>48</td>\n",
       "      <td>N</td>\n",
       "      <td>N</td>\n",
       "      <td>0</td>\n",
       "      <td>1</td>\n",
       "      <td>-1.244723</td>\n",
       "      <td>1</td>\n",
       "      <td>60</td>\n",
       "      <td>2</td>\n",
       "      <td>3</td>\n",
       "      <td>30000</td>\n",
       "      <td>1</td>\n",
       "      <td>4</td>\n",
       "      <td>Y</td>\n",
       "      <td>0</td>\n",
       "    </tr>\n",
       "  </tbody>\n",
       "</table>\n",
       "</div>"
      ],
      "text/plain": [
       "   client_id   app_date education sex  age car car_type  decline_app_cnt  \\\n",
       "0      25905  01FEB2014       SCH   M   62   Y        Y                0   \n",
       "1      63161  12MAR2014       SCH   F   59   N        N                0   \n",
       "2      25887  01FEB2014       SCH   M   25   Y        N                2   \n",
       "3      16222  23JAN2014       SCH   F   53   N        N                0   \n",
       "4     101655  18APR2014       GRD   M   48   N        N                0   \n",
       "\n",
       "   good_work  score_bki  bki_request_cnt  region_rating  home_address  \\\n",
       "0          0  -2.008753                1             50             1   \n",
       "1          0  -1.532276                3             50             2   \n",
       "2          0  -1.408142                1             80             1   \n",
       "3          0  -2.057471                2             50             2   \n",
       "4          1  -1.244723                1             60             2   \n",
       "\n",
       "   work_address  income  sna  first_time foreign_passport  default  \n",
       "0             2   18000    4           1                N        0  \n",
       "1             3   19000    4           1                N        0  \n",
       "2             2   30000    1           4                Y        0  \n",
       "3             3   10000    1           3                N        0  \n",
       "4             3   30000    1           4                Y        0  "
      ]
     },
     "execution_count": 6,
     "metadata": {},
     "output_type": "execute_result"
    }
   ],
   "source": [
    "df_train.head(5)"
   ]
  },
  {
   "cell_type": "code",
   "execution_count": 7,
   "id": "4c39d14b",
   "metadata": {
    "execution": {
     "iopub.execute_input": "2021-12-04T22:05:15.065463Z",
     "iopub.status.busy": "2021-12-04T22:05:15.064636Z",
     "iopub.status.idle": "2021-12-04T22:05:15.086410Z",
     "shell.execute_reply": "2021-12-04T22:05:15.085738Z",
     "shell.execute_reply.started": "2021-12-04T22:02:08.472865Z"
    },
    "papermill": {
     "duration": 0.047135,
     "end_time": "2021-12-04T22:05:15.086564",
     "exception": false,
     "start_time": "2021-12-04T22:05:15.039429",
     "status": "completed"
    },
    "tags": []
   },
   "outputs": [
    {
     "name": "stdout",
     "output_type": "stream",
     "text": [
      "<class 'pandas.core.frame.DataFrame'>\n",
      "RangeIndex: 36349 entries, 0 to 36348\n",
      "Data columns (total 18 columns):\n",
      " #   Column            Non-Null Count  Dtype  \n",
      "---  ------            --------------  -----  \n",
      " 0   client_id         36349 non-null  int64  \n",
      " 1   app_date          36349 non-null  object \n",
      " 2   education         36178 non-null  object \n",
      " 3   sex               36349 non-null  object \n",
      " 4   age               36349 non-null  int64  \n",
      " 5   car               36349 non-null  object \n",
      " 6   car_type          36349 non-null  object \n",
      " 7   decline_app_cnt   36349 non-null  int64  \n",
      " 8   good_work         36349 non-null  int64  \n",
      " 9   score_bki         36349 non-null  float64\n",
      " 10  bki_request_cnt   36349 non-null  int64  \n",
      " 11  region_rating     36349 non-null  int64  \n",
      " 12  home_address      36349 non-null  int64  \n",
      " 13  work_address      36349 non-null  int64  \n",
      " 14  income            36349 non-null  int64  \n",
      " 15  sna               36349 non-null  int64  \n",
      " 16  first_time        36349 non-null  int64  \n",
      " 17  foreign_passport  36349 non-null  object \n",
      "dtypes: float64(1), int64(11), object(6)\n",
      "memory usage: 5.0+ MB\n"
     ]
    }
   ],
   "source": [
    "df_test.info()"
   ]
  },
  {
   "cell_type": "code",
   "execution_count": 8,
   "id": "c3928263",
   "metadata": {
    "execution": {
     "iopub.execute_input": "2021-12-04T22:05:15.138971Z",
     "iopub.status.busy": "2021-12-04T22:05:15.133463Z",
     "iopub.status.idle": "2021-12-04T22:05:15.142186Z",
     "shell.execute_reply": "2021-12-04T22:05:15.142636Z",
     "shell.execute_reply.started": "2021-12-04T22:02:08.515055Z"
    },
    "papermill": {
     "duration": 0.0345,
     "end_time": "2021-12-04T22:05:15.142796",
     "exception": false,
     "start_time": "2021-12-04T22:05:15.108296",
     "status": "completed"
    },
    "tags": []
   },
   "outputs": [
    {
     "data": {
      "text/html": [
       "<div>\n",
       "<style scoped>\n",
       "    .dataframe tbody tr th:only-of-type {\n",
       "        vertical-align: middle;\n",
       "    }\n",
       "\n",
       "    .dataframe tbody tr th {\n",
       "        vertical-align: top;\n",
       "    }\n",
       "\n",
       "    .dataframe thead th {\n",
       "        text-align: right;\n",
       "    }\n",
       "</style>\n",
       "<table border=\"1\" class=\"dataframe\">\n",
       "  <thead>\n",
       "    <tr style=\"text-align: right;\">\n",
       "      <th></th>\n",
       "      <th>client_id</th>\n",
       "      <th>default</th>\n",
       "    </tr>\n",
       "  </thead>\n",
       "  <tbody>\n",
       "    <tr>\n",
       "      <th>0</th>\n",
       "      <td>74835</td>\n",
       "      <td>0</td>\n",
       "    </tr>\n",
       "    <tr>\n",
       "      <th>1</th>\n",
       "      <td>17527</td>\n",
       "      <td>0</td>\n",
       "    </tr>\n",
       "    <tr>\n",
       "      <th>2</th>\n",
       "      <td>75683</td>\n",
       "      <td>0</td>\n",
       "    </tr>\n",
       "    <tr>\n",
       "      <th>3</th>\n",
       "      <td>26883</td>\n",
       "      <td>0</td>\n",
       "    </tr>\n",
       "    <tr>\n",
       "      <th>4</th>\n",
       "      <td>28862</td>\n",
       "      <td>0</td>\n",
       "    </tr>\n",
       "  </tbody>\n",
       "</table>\n",
       "</div>"
      ],
      "text/plain": [
       "   client_id  default\n",
       "0      74835        0\n",
       "1      17527        0\n",
       "2      75683        0\n",
       "3      26883        0\n",
       "4      28862        0"
      ]
     },
     "execution_count": 8,
     "metadata": {},
     "output_type": "execute_result"
    }
   ],
   "source": [
    "sample_submission.head(5)"
   ]
  },
  {
   "cell_type": "code",
   "execution_count": 9,
   "id": "aa636993",
   "metadata": {
    "execution": {
     "iopub.execute_input": "2021-12-04T22:05:15.195618Z",
     "iopub.status.busy": "2021-12-04T22:05:15.194939Z",
     "iopub.status.idle": "2021-12-04T22:05:15.197620Z",
     "shell.execute_reply": "2021-12-04T22:05:15.198096Z",
     "shell.execute_reply.started": "2021-12-04T22:02:08.525951Z"
    },
    "papermill": {
     "duration": 0.034982,
     "end_time": "2021-12-04T22:05:15.198260",
     "exception": false,
     "start_time": "2021-12-04T22:05:15.163278",
     "status": "completed"
    },
    "tags": []
   },
   "outputs": [
    {
     "name": "stdout",
     "output_type": "stream",
     "text": [
      "<class 'pandas.core.frame.DataFrame'>\n",
      "RangeIndex: 36349 entries, 0 to 36348\n",
      "Data columns (total 2 columns):\n",
      " #   Column     Non-Null Count  Dtype\n",
      "---  ------     --------------  -----\n",
      " 0   client_id  36349 non-null  int64\n",
      " 1   default    36349 non-null  int64\n",
      "dtypes: int64(2)\n",
      "memory usage: 568.1 KB\n"
     ]
    }
   ],
   "source": [
    "sample_submission.info()"
   ]
  },
  {
   "cell_type": "code",
   "execution_count": 10,
   "id": "49b55667",
   "metadata": {
    "execution": {
     "iopub.execute_input": "2021-12-04T22:05:15.246699Z",
     "iopub.status.busy": "2021-12-04T22:05:15.243721Z",
     "iopub.status.idle": "2021-12-04T22:05:15.318194Z",
     "shell.execute_reply": "2021-12-04T22:05:15.318687Z",
     "shell.execute_reply.started": "2021-12-04T22:02:08.543928Z"
    },
    "papermill": {
     "duration": 0.099435,
     "end_time": "2021-12-04T22:05:15.318876",
     "exception": false,
     "start_time": "2021-12-04T22:05:15.219441",
     "status": "completed"
    },
    "tags": []
   },
   "outputs": [],
   "source": [
    "# ВАЖНО! дря корректной обработки признаков объединяем трейн и тест в один датасет\n",
    "df_train['sample'] = 1 # помечаем где у нас трейн\n",
    "df_test['sample'] = 0  # помечаем где у нас тест\n",
    "df_test['default'] = 0 # в тесте у нас нет значения Rating, мы его должны предсказать, по этому пока просто заполняем нулями\n",
    "\n",
    "data = df_test.append(df_train, sort=False).reset_index(drop=True) # объединяем"
   ]
  },
  {
   "cell_type": "code",
   "execution_count": 11,
   "id": "ac001ad2",
   "metadata": {
    "execution": {
     "iopub.execute_input": "2021-12-04T22:05:15.367139Z",
     "iopub.status.busy": "2021-12-04T22:05:15.365601Z",
     "iopub.status.idle": "2021-12-04T22:05:15.430798Z",
     "shell.execute_reply": "2021-12-04T22:05:15.430272Z",
     "shell.execute_reply.started": "2021-12-04T22:02:08.640315Z"
    },
    "papermill": {
     "duration": 0.090008,
     "end_time": "2021-12-04T22:05:15.430932",
     "exception": false,
     "start_time": "2021-12-04T22:05:15.340924",
     "status": "completed"
    },
    "tags": []
   },
   "outputs": [
    {
     "data": {
      "text/plain": [
       "client_id           110148\n",
       "app_date               120\n",
       "education                6\n",
       "sex                      2\n",
       "age                     52\n",
       "car                      2\n",
       "car_type                 2\n",
       "decline_app_cnt         24\n",
       "good_work                2\n",
       "score_bki           102618\n",
       "bki_request_cnt         40\n",
       "region_rating            7\n",
       "home_address             3\n",
       "work_address             3\n",
       "income                1207\n",
       "sna                      4\n",
       "first_time               4\n",
       "foreign_passport         2\n",
       "sample                   2\n",
       "default                  2\n",
       "dtype: int64"
      ]
     },
     "execution_count": 11,
     "metadata": {},
     "output_type": "execute_result"
    }
   ],
   "source": [
    "data.nunique(dropna=False)"
   ]
  },
  {
   "cell_type": "code",
   "execution_count": 12,
   "id": "be7b7d64",
   "metadata": {
    "execution": {
     "iopub.execute_input": "2021-12-04T22:05:15.481885Z",
     "iopub.status.busy": "2021-12-04T22:05:15.481041Z",
     "iopub.status.idle": "2021-12-04T22:05:15.483108Z",
     "shell.execute_reply": "2021-12-04T22:05:15.483525Z",
     "shell.execute_reply.started": "2021-12-04T22:02:08.726645Z"
    },
    "papermill": {
     "duration": 0.02995,
     "end_time": "2021-12-04T22:05:15.483689",
     "exception": false,
     "start_time": "2021-12-04T22:05:15.453739",
     "status": "completed"
    },
    "tags": []
   },
   "outputs": [],
   "source": [
    "num_cols = ['age', 'score_bki', 'decline_app_cnt', 'score_bki', 'bki_request_cnt', 'income']\n",
    "cat_cols = ['education', 'first_time', 'sna', 'work_address', 'home_address', 'region_rating']\n",
    "bin_cols = ['sex', 'car', 'car_type', 'good_work', 'foreign_passport']"
   ]
  },
  {
   "cell_type": "code",
   "execution_count": 13,
   "id": "dce6157a",
   "metadata": {
    "execution": {
     "iopub.execute_input": "2021-12-04T22:05:15.532251Z",
     "iopub.status.busy": "2021-12-04T22:05:15.531491Z",
     "iopub.status.idle": "2021-12-04T22:05:15.755021Z",
     "shell.execute_reply": "2021-12-04T22:05:15.754521Z",
     "shell.execute_reply.started": "2021-12-04T22:02:08.733995Z"
    },
    "papermill": {
     "duration": 0.249916,
     "end_time": "2021-12-04T22:05:15.755166",
     "exception": false,
     "start_time": "2021-12-04T22:05:15.505250",
     "status": "completed"
    },
    "tags": []
   },
   "outputs": [
    {
     "data": {
      "text/plain": [
       "<AxesSubplot:>"
      ]
     },
     "execution_count": 13,
     "metadata": {},
     "output_type": "execute_result"
    },
    {
     "data": {
      "image/png": "[encoded data removed]",
      "text/plain": [
       "<Figure size 432x288 with 1 Axes>"
      ]
     },
     "metadata": {
      "needs_background": "light"
     },
     "output_type": "display_data"
    }
   ],
   "source": [
    "data['default'].value_counts(ascending=True).plot(kind='barh')"
   ]
  },
  {
   "cell_type": "code",
   "execution_count": 14,
   "id": "c4048845",
   "metadata": {
    "execution": {
     "iopub.execute_input": "2021-12-04T22:05:15.805171Z",
     "iopub.status.busy": "2021-12-04T22:05:15.804229Z",
     "iopub.status.idle": "2021-12-04T22:05:15.813845Z",
     "shell.execute_reply": "2021-12-04T22:05:15.813386Z",
     "shell.execute_reply.started": "2021-12-04T22:02:08.956936Z"
    },
    "papermill": {
     "duration": 0.037205,
     "end_time": "2021-12-04T22:05:15.814011",
     "exception": false,
     "start_time": "2021-12-04T22:05:15.776806",
     "status": "completed"
    },
    "tags": []
   },
   "outputs": [],
   "source": [
    "data.drop(['client_id','app_date',], axis = 1, inplace=True)"
   ]
  },
  {
   "cell_type": "code",
   "execution_count": 15,
   "id": "f1be8bfd",
   "metadata": {
    "execution": {
     "iopub.execute_input": "2021-12-04T22:05:15.863460Z",
     "iopub.status.busy": "2021-12-04T22:05:15.862546Z",
     "iopub.status.idle": "2021-12-04T22:05:15.894962Z",
     "shell.execute_reply": "2021-12-04T22:05:15.895457Z",
     "shell.execute_reply.started": "2021-12-04T22:02:08.972519Z"
    },
    "papermill": {
     "duration": 0.058713,
     "end_time": "2021-12-04T22:05:15.895675",
     "exception": false,
     "start_time": "2021-12-04T22:05:15.836962",
     "status": "completed"
    },
    "tags": []
   },
   "outputs": [],
   "source": [
    "data = pd.get_dummies(data, columns=['education'], dummy_na=True)"
   ]
  },
  {
   "cell_type": "code",
   "execution_count": 16,
   "id": "96230429",
   "metadata": {
    "execution": {
     "iopub.execute_input": "2021-12-04T22:05:15.947649Z",
     "iopub.status.busy": "2021-12-04T22:05:15.946917Z",
     "iopub.status.idle": "2021-12-04T22:05:16.933319Z",
     "shell.execute_reply": "2021-12-04T22:05:16.932751Z",
     "shell.execute_reply.started": "2021-12-04T22:02:09.020025Z"
    },
    "papermill": {
     "duration": 1.015418,
     "end_time": "2021-12-04T22:05:16.933475",
     "exception": false,
     "start_time": "2021-12-04T22:05:15.918057",
     "status": "completed"
    },
    "tags": []
   },
   "outputs": [],
   "source": [
    "from sklearn import preprocessing\n",
    "le = preprocessing.LabelEncoder()\n",
    "\n",
    "for column in bin_cols:\n",
    "    data[column] = le.fit_transform(data[column])\n",
    "    \n",
    "columns = ['first_time', 'sna', 'work_address', 'home_address', 'region_rating']\n",
    "\n",
    "for column in columns:\n",
    "    data[column] = le.fit_transform(data[column])"
   ]
  },
  {
   "cell_type": "code",
   "execution_count": 17,
   "id": "c949bec0",
   "metadata": {
    "execution": {
     "iopub.execute_input": "2021-12-04T22:05:16.982094Z",
     "iopub.status.busy": "2021-12-04T22:05:16.981410Z",
     "iopub.status.idle": "2021-12-04T22:05:16.999459Z",
     "shell.execute_reply": "2021-12-04T22:05:17.000204Z",
     "shell.execute_reply.started": "2021-12-04T22:02:09.522211Z"
    },
    "papermill": {
     "duration": 0.044394,
     "end_time": "2021-12-04T22:05:17.000655",
     "exception": false,
     "start_time": "2021-12-04T22:05:16.956261",
     "status": "completed"
    },
    "tags": []
   },
   "outputs": [
    {
     "name": "stdout",
     "output_type": "stream",
     "text": [
      "<class 'pandas.core.frame.DataFrame'>\n",
      "RangeIndex: 110148 entries, 0 to 110147\n",
      "Data columns (total 23 columns):\n",
      " #   Column            Non-Null Count   Dtype  \n",
      "---  ------            --------------   -----  \n",
      " 0   sex               110148 non-null  int64  \n",
      " 1   age               110148 non-null  int64  \n",
      " 2   car               110148 non-null  int64  \n",
      " 3   car_type          110148 non-null  int64  \n",
      " 4   decline_app_cnt   110148 non-null  int64  \n",
      " 5   good_work         110148 non-null  int64  \n",
      " 6   score_bki         110148 non-null  float64\n",
      " 7   bki_request_cnt   110148 non-null  int64  \n",
      " 8   region_rating     110148 non-null  int64  \n",
      " 9   home_address      110148 non-null  int64  \n",
      " 10  work_address      110148 non-null  int64  \n",
      " 11  income            110148 non-null  int64  \n",
      " 12  sna               110148 non-null  int64  \n",
      " 13  first_time        110148 non-null  int64  \n",
      " 14  foreign_passport  110148 non-null  int64  \n",
      " 15  sample            110148 non-null  int64  \n",
      " 16  default           110148 non-null  int64  \n",
      " 17  education_ACD     110148 non-null  uint8  \n",
      " 18  education_GRD     110148 non-null  uint8  \n",
      " 19  education_PGR     110148 non-null  uint8  \n",
      " 20  education_SCH     110148 non-null  uint8  \n",
      " 21  education_UGR     110148 non-null  uint8  \n",
      " 22  education_nan     110148 non-null  uint8  \n",
      "dtypes: float64(1), int64(16), uint8(6)\n",
      "memory usage: 14.9 MB\n"
     ]
    }
   ],
   "source": [
    "data.info()"
   ]
  },
  {
   "cell_type": "code",
   "execution_count": 18,
   "id": "32fd1a22",
   "metadata": {
    "execution": {
     "iopub.execute_input": "2021-12-04T22:05:17.059345Z",
     "iopub.status.busy": "2021-12-04T22:05:17.052856Z",
     "iopub.status.idle": "2021-12-04T22:05:17.091550Z",
     "shell.execute_reply": "2021-12-04T22:05:17.091048Z",
     "shell.execute_reply.started": "2021-12-04T22:02:09.683004Z"
    },
    "papermill": {
     "duration": 0.065914,
     "end_time": "2021-12-04T22:05:17.091710",
     "exception": false,
     "start_time": "2021-12-04T22:05:17.025796",
     "status": "completed"
    },
    "tags": []
   },
   "outputs": [
    {
     "data": {
      "text/html": [
       "<div>\n",
       "<style scoped>\n",
       "    .dataframe tbody tr th:only-of-type {\n",
       "        vertical-align: middle;\n",
       "    }\n",
       "\n",
       "    .dataframe tbody tr th {\n",
       "        vertical-align: top;\n",
       "    }\n",
       "\n",
       "    .dataframe thead th {\n",
       "        text-align: right;\n",
       "    }\n",
       "</style>\n",
       "<table border=\"1\" class=\"dataframe\">\n",
       "  <thead>\n",
       "    <tr style=\"text-align: right;\">\n",
       "      <th></th>\n",
       "      <th>sex</th>\n",
       "      <th>age</th>\n",
       "      <th>car</th>\n",
       "      <th>car_type</th>\n",
       "      <th>decline_app_cnt</th>\n",
       "      <th>good_work</th>\n",
       "      <th>score_bki</th>\n",
       "      <th>bki_request_cnt</th>\n",
       "      <th>region_rating</th>\n",
       "      <th>home_address</th>\n",
       "      <th>...</th>\n",
       "      <th>first_time</th>\n",
       "      <th>foreign_passport</th>\n",
       "      <th>sample</th>\n",
       "      <th>default</th>\n",
       "      <th>education_ACD</th>\n",
       "      <th>education_GRD</th>\n",
       "      <th>education_PGR</th>\n",
       "      <th>education_SCH</th>\n",
       "      <th>education_UGR</th>\n",
       "      <th>education_nan</th>\n",
       "    </tr>\n",
       "  </thead>\n",
       "  <tbody>\n",
       "    <tr>\n",
       "      <th>0</th>\n",
       "      <td>1</td>\n",
       "      <td>29</td>\n",
       "      <td>1</td>\n",
       "      <td>1</td>\n",
       "      <td>0</td>\n",
       "      <td>0</td>\n",
       "      <td>-2.271884</td>\n",
       "      <td>3</td>\n",
       "      <td>3</td>\n",
       "      <td>0</td>\n",
       "      <td>...</td>\n",
       "      <td>3</td>\n",
       "      <td>0</td>\n",
       "      <td>0</td>\n",
       "      <td>0</td>\n",
       "      <td>0</td>\n",
       "      <td>1</td>\n",
       "      <td>0</td>\n",
       "      <td>0</td>\n",
       "      <td>0</td>\n",
       "      <td>0</td>\n",
       "    </tr>\n",
       "    <tr>\n",
       "      <th>1</th>\n",
       "      <td>0</td>\n",
       "      <td>39</td>\n",
       "      <td>0</td>\n",
       "      <td>0</td>\n",
       "      <td>5</td>\n",
       "      <td>0</td>\n",
       "      <td>-1.504999</td>\n",
       "      <td>2</td>\n",
       "      <td>3</td>\n",
       "      <td>0</td>\n",
       "      <td>...</td>\n",
       "      <td>2</td>\n",
       "      <td>0</td>\n",
       "      <td>0</td>\n",
       "      <td>0</td>\n",
       "      <td>0</td>\n",
       "      <td>0</td>\n",
       "      <td>0</td>\n",
       "      <td>1</td>\n",
       "      <td>0</td>\n",
       "      <td>0</td>\n",
       "    </tr>\n",
       "    <tr>\n",
       "      <th>2</th>\n",
       "      <td>1</td>\n",
       "      <td>50</td>\n",
       "      <td>1</td>\n",
       "      <td>1</td>\n",
       "      <td>0</td>\n",
       "      <td>0</td>\n",
       "      <td>-1.691339</td>\n",
       "      <td>1</td>\n",
       "      <td>3</td>\n",
       "      <td>0</td>\n",
       "      <td>...</td>\n",
       "      <td>2</td>\n",
       "      <td>1</td>\n",
       "      <td>0</td>\n",
       "      <td>0</td>\n",
       "      <td>0</td>\n",
       "      <td>0</td>\n",
       "      <td>0</td>\n",
       "      <td>0</td>\n",
       "      <td>1</td>\n",
       "      <td>0</td>\n",
       "    </tr>\n",
       "    <tr>\n",
       "      <th>3</th>\n",
       "      <td>1</td>\n",
       "      <td>56</td>\n",
       "      <td>0</td>\n",
       "      <td>0</td>\n",
       "      <td>0</td>\n",
       "      <td>0</td>\n",
       "      <td>-2.374182</td>\n",
       "      <td>1</td>\n",
       "      <td>2</td>\n",
       "      <td>0</td>\n",
       "      <td>...</td>\n",
       "      <td>2</td>\n",
       "      <td>0</td>\n",
       "      <td>0</td>\n",
       "      <td>0</td>\n",
       "      <td>0</td>\n",
       "      <td>0</td>\n",
       "      <td>0</td>\n",
       "      <td>1</td>\n",
       "      <td>0</td>\n",
       "      <td>0</td>\n",
       "    </tr>\n",
       "    <tr>\n",
       "      <th>4</th>\n",
       "      <td>0</td>\n",
       "      <td>38</td>\n",
       "      <td>0</td>\n",
       "      <td>0</td>\n",
       "      <td>0</td>\n",
       "      <td>0</td>\n",
       "      <td>-2.487502</td>\n",
       "      <td>0</td>\n",
       "      <td>6</td>\n",
       "      <td>1</td>\n",
       "      <td>...</td>\n",
       "      <td>2</td>\n",
       "      <td>0</td>\n",
       "      <td>0</td>\n",
       "      <td>0</td>\n",
       "      <td>0</td>\n",
       "      <td>1</td>\n",
       "      <td>0</td>\n",
       "      <td>0</td>\n",
       "      <td>0</td>\n",
       "      <td>0</td>\n",
       "    </tr>\n",
       "    <tr>\n",
       "      <th>...</th>\n",
       "      <td>...</td>\n",
       "      <td>...</td>\n",
       "      <td>...</td>\n",
       "      <td>...</td>\n",
       "      <td>...</td>\n",
       "      <td>...</td>\n",
       "      <td>...</td>\n",
       "      <td>...</td>\n",
       "      <td>...</td>\n",
       "      <td>...</td>\n",
       "      <td>...</td>\n",
       "      <td>...</td>\n",
       "      <td>...</td>\n",
       "      <td>...</td>\n",
       "      <td>...</td>\n",
       "      <td>...</td>\n",
       "      <td>...</td>\n",
       "      <td>...</td>\n",
       "      <td>...</td>\n",
       "      <td>...</td>\n",
       "      <td>...</td>\n",
       "    </tr>\n",
       "    <tr>\n",
       "      <th>110143</th>\n",
       "      <td>0</td>\n",
       "      <td>45</td>\n",
       "      <td>0</td>\n",
       "      <td>0</td>\n",
       "      <td>0</td>\n",
       "      <td>0</td>\n",
       "      <td>-1.792064</td>\n",
       "      <td>3</td>\n",
       "      <td>3</td>\n",
       "      <td>0</td>\n",
       "      <td>...</td>\n",
       "      <td>3</td>\n",
       "      <td>0</td>\n",
       "      <td>1</td>\n",
       "      <td>0</td>\n",
       "      <td>0</td>\n",
       "      <td>1</td>\n",
       "      <td>0</td>\n",
       "      <td>0</td>\n",
       "      <td>0</td>\n",
       "      <td>0</td>\n",
       "    </tr>\n",
       "    <tr>\n",
       "      <th>110144</th>\n",
       "      <td>1</td>\n",
       "      <td>41</td>\n",
       "      <td>1</td>\n",
       "      <td>1</td>\n",
       "      <td>0</td>\n",
       "      <td>0</td>\n",
       "      <td>-2.058029</td>\n",
       "      <td>1</td>\n",
       "      <td>3</td>\n",
       "      <td>1</td>\n",
       "      <td>...</td>\n",
       "      <td>3</td>\n",
       "      <td>0</td>\n",
       "      <td>1</td>\n",
       "      <td>0</td>\n",
       "      <td>0</td>\n",
       "      <td>0</td>\n",
       "      <td>0</td>\n",
       "      <td>1</td>\n",
       "      <td>0</td>\n",
       "      <td>0</td>\n",
       "    </tr>\n",
       "    <tr>\n",
       "      <th>110145</th>\n",
       "      <td>1</td>\n",
       "      <td>31</td>\n",
       "      <td>0</td>\n",
       "      <td>0</td>\n",
       "      <td>0</td>\n",
       "      <td>0</td>\n",
       "      <td>-1.512635</td>\n",
       "      <td>4</td>\n",
       "      <td>6</td>\n",
       "      <td>1</td>\n",
       "      <td>...</td>\n",
       "      <td>1</td>\n",
       "      <td>0</td>\n",
       "      <td>1</td>\n",
       "      <td>0</td>\n",
       "      <td>0</td>\n",
       "      <td>0</td>\n",
       "      <td>0</td>\n",
       "      <td>1</td>\n",
       "      <td>0</td>\n",
       "      <td>0</td>\n",
       "    </tr>\n",
       "    <tr>\n",
       "      <th>110146</th>\n",
       "      <td>0</td>\n",
       "      <td>29</td>\n",
       "      <td>0</td>\n",
       "      <td>0</td>\n",
       "      <td>0</td>\n",
       "      <td>1</td>\n",
       "      <td>-1.479334</td>\n",
       "      <td>3</td>\n",
       "      <td>3</td>\n",
       "      <td>0</td>\n",
       "      <td>...</td>\n",
       "      <td>2</td>\n",
       "      <td>0</td>\n",
       "      <td>1</td>\n",
       "      <td>1</td>\n",
       "      <td>0</td>\n",
       "      <td>0</td>\n",
       "      <td>0</td>\n",
       "      <td>1</td>\n",
       "      <td>0</td>\n",
       "      <td>0</td>\n",
       "    </tr>\n",
       "    <tr>\n",
       "      <th>110147</th>\n",
       "      <td>1</td>\n",
       "      <td>34</td>\n",
       "      <td>0</td>\n",
       "      <td>0</td>\n",
       "      <td>0</td>\n",
       "      <td>0</td>\n",
       "      <td>-1.764711</td>\n",
       "      <td>2</td>\n",
       "      <td>3</td>\n",
       "      <td>1</td>\n",
       "      <td>...</td>\n",
       "      <td>2</td>\n",
       "      <td>0</td>\n",
       "      <td>1</td>\n",
       "      <td>0</td>\n",
       "      <td>0</td>\n",
       "      <td>1</td>\n",
       "      <td>0</td>\n",
       "      <td>0</td>\n",
       "      <td>0</td>\n",
       "      <td>0</td>\n",
       "    </tr>\n",
       "  </tbody>\n",
       "</table>\n",
       "<p>110148 rows × 23 columns</p>\n",
       "</div>"
      ],
      "text/plain": [
       "        sex  age  car  car_type  decline_app_cnt  good_work  score_bki  \\\n",
       "0         1   29    1         1                0          0  -2.271884   \n",
       "1         0   39    0         0                5          0  -1.504999   \n",
       "2         1   50    1         1                0          0  -1.691339   \n",
       "3         1   56    0         0                0          0  -2.374182   \n",
       "4         0   38    0         0                0          0  -2.487502   \n",
       "...     ...  ...  ...       ...              ...        ...        ...   \n",
       "110143    0   45    0         0                0          0  -1.792064   \n",
       "110144    1   41    1         1                0          0  -2.058029   \n",
       "110145    1   31    0         0                0          0  -1.512635   \n",
       "110146    0   29    0         0                0          1  -1.479334   \n",
       "110147    1   34    0         0                0          0  -1.764711   \n",
       "\n",
       "        bki_request_cnt  region_rating  home_address  ...  first_time  \\\n",
       "0                     3              3             0  ...           3   \n",
       "1                     2              3             0  ...           2   \n",
       "2                     1              3             0  ...           2   \n",
       "3                     1              2             0  ...           2   \n",
       "4                     0              6             1  ...           2   \n",
       "...                 ...            ...           ...  ...         ...   \n",
       "110143                3              3             0  ...           3   \n",
       "110144                1              3             1  ...           3   \n",
       "110145                4              6             1  ...           1   \n",
       "110146                3              3             0  ...           2   \n",
       "110147                2              3             1  ...           2   \n",
       "\n",
       "        foreign_passport  sample  default  education_ACD  education_GRD  \\\n",
       "0                      0       0        0              0              1   \n",
       "1                      0       0        0              0              0   \n",
       "2                      1       0        0              0              0   \n",
       "3                      0       0        0              0              0   \n",
       "4                      0       0        0              0              1   \n",
       "...                  ...     ...      ...            ...            ...   \n",
       "110143                 0       1        0              0              1   \n",
       "110144                 0       1        0              0              0   \n",
       "110145                 0       1        0              0              0   \n",
       "110146                 0       1        1              0              0   \n",
       "110147                 0       1        0              0              1   \n",
       "\n",
       "        education_PGR  education_SCH  education_UGR  education_nan  \n",
       "0                   0              0              0              0  \n",
       "1                   0              1              0              0  \n",
       "2                   0              0              1              0  \n",
       "3                   0              1              0              0  \n",
       "4                   0              0              0              0  \n",
       "...               ...            ...            ...            ...  \n",
       "110143              0              0              0              0  \n",
       "110144              0              1              0              0  \n",
       "110145              0              1              0              0  \n",
       "110146              0              1              0              0  \n",
       "110147              0              0              0              0  \n",
       "\n",
       "[110148 rows x 23 columns]"
      ]
     },
     "execution_count": 18,
     "metadata": {},
     "output_type": "execute_result"
    }
   ],
   "source": [
    "data"
   ]
  },
  {
   "cell_type": "code",
   "execution_count": 19,
   "id": "9124885f",
   "metadata": {
    "execution": {
     "iopub.execute_input": "2021-12-04T22:05:17.141675Z",
     "iopub.status.busy": "2021-12-04T22:05:17.140671Z",
     "iopub.status.idle": "2021-12-04T22:05:17.186275Z",
     "shell.execute_reply": "2021-12-04T22:05:17.185032Z",
     "shell.execute_reply.started": "2021-12-04T22:02:09.734382Z"
    },
    "papermill": {
     "duration": 0.071204,
     "end_time": "2021-12-04T22:05:17.186427",
     "exception": false,
     "start_time": "2021-12-04T22:05:17.115223",
     "status": "completed"
    },
    "tags": []
   },
   "outputs": [],
   "source": [
    "# Теперь выделим тестовую часть\n",
    "train_data = data.query('sample == 1').drop(['sample'], axis=1)\n",
    "test_data = data.query('sample == 0').drop(['sample', 'default'], axis=1)\n",
    "\n",
    "y = train_data['default'].values  # наш таргет\n",
    "X = train_data.drop(['default'], axis=1)"
   ]
  },
  {
   "cell_type": "code",
   "execution_count": 20,
   "id": "1eabe367",
   "metadata": {
    "execution": {
     "iopub.execute_input": "2021-12-04T22:05:17.239928Z",
     "iopub.status.busy": "2021-12-04T22:05:17.239266Z",
     "iopub.status.idle": "2021-12-04T22:05:17.302623Z",
     "shell.execute_reply": "2021-12-04T22:05:17.303112Z",
     "shell.execute_reply.started": "2021-12-04T22:02:09.786815Z"
    },
    "papermill": {
     "duration": 0.09219,
     "end_time": "2021-12-04T22:05:17.303300",
     "exception": false,
     "start_time": "2021-12-04T22:05:17.211110",
     "status": "completed"
    },
    "tags": []
   },
   "outputs": [],
   "source": [
    "# Воспользуемся специальной функцие train_test_split для разбивки тестовых данных\n",
    "from sklearn.model_selection import train_test_split\n",
    "\n",
    "# выделим 20% данных на валидацию (параметр test_size)\n",
    "X_train, X_test, y_train, y_test = train_test_split(X, y, test_size=0.2, random_state=42)"
   ]
  },
  {
   "cell_type": "code",
   "execution_count": 21,
   "id": "e39cdaa9",
   "metadata": {
    "execution": {
     "iopub.execute_input": "2021-12-04T22:05:17.352031Z",
     "iopub.status.busy": "2021-12-04T22:05:17.351284Z",
     "iopub.status.idle": "2021-12-04T22:05:17.355827Z",
     "shell.execute_reply": "2021-12-04T22:05:17.356464Z",
     "shell.execute_reply.started": "2021-12-04T22:02:09.830024Z"
    },
    "papermill": {
     "duration": 0.030753,
     "end_time": "2021-12-04T22:05:17.356633",
     "exception": false,
     "start_time": "2021-12-04T22:05:17.325880",
     "status": "completed"
    },
    "tags": []
   },
   "outputs": [
    {
     "data": {
      "text/plain": [
       "((59039, 21), (14760, 21), (59039,), (14760,))"
      ]
     },
     "execution_count": 21,
     "metadata": {},
     "output_type": "execute_result"
    }
   ],
   "source": [
    "# проверяем\n",
    "X_train.shape, X_test.shape, y_train.shape, y_test.shape"
   ]
  },
  {
   "cell_type": "code",
   "execution_count": 22,
   "id": "6f1f5e6f",
   "metadata": {
    "execution": {
     "iopub.execute_input": "2021-12-04T22:05:17.405254Z",
     "iopub.status.busy": "2021-12-04T22:05:17.404556Z",
     "iopub.status.idle": "2021-12-04T22:05:17.592847Z",
     "shell.execute_reply": "2021-12-04T22:05:17.593339Z",
     "shell.execute_reply.started": "2021-12-04T22:02:09.837854Z"
    },
    "papermill": {
     "duration": 0.214285,
     "end_time": "2021-12-04T22:05:17.593526",
     "exception": false,
     "start_time": "2021-12-04T22:05:17.379241",
     "status": "completed"
    },
    "tags": []
   },
   "outputs": [],
   "source": [
    "# Импортируем необходимые библиотеки:\n",
    "from sklearn.linear_model import LogisticRegression # инструмент для создания и обучения модели\n",
    "from sklearn import metrics # инструменты для оценки точности модели"
   ]
  },
  {
   "cell_type": "code",
   "execution_count": 23,
   "id": "ed02c9aa",
   "metadata": {
    "execution": {
     "iopub.execute_input": "2021-12-04T22:05:17.646849Z",
     "iopub.status.busy": "2021-12-04T22:05:17.645701Z",
     "iopub.status.idle": "2021-12-04T22:05:17.975773Z",
     "shell.execute_reply": "2021-12-04T22:05:17.976630Z",
     "shell.execute_reply.started": "2021-12-04T22:02:09.875133Z"
    },
    "papermill": {
     "duration": 0.360291,
     "end_time": "2021-12-04T22:05:17.976937",
     "exception": false,
     "start_time": "2021-12-04T22:05:17.616646",
     "status": "completed"
    },
    "tags": []
   },
   "outputs": [],
   "source": [
    "logreg = LogisticRegression(solver='liblinear', max_iter=1000)\n",
    "logreg.fit(X_train, y_train)\n",
    "y_pred = logreg.predict(X_test)"
   ]
  },
  {
   "cell_type": "code",
   "execution_count": 24,
   "id": "74c99cc1",
   "metadata": {
    "execution": {
     "iopub.execute_input": "2021-12-04T22:05:18.084520Z",
     "iopub.status.busy": "2021-12-04T22:05:18.083449Z",
     "iopub.status.idle": "2021-12-04T22:05:18.106464Z",
     "shell.execute_reply": "2021-12-04T22:05:18.107059Z",
     "shell.execute_reply.started": "2021-12-04T22:03:10.059517Z"
    },
    "papermill": {
     "duration": 0.084795,
     "end_time": "2021-12-04T22:05:18.107224",
     "exception": false,
     "start_time": "2021-12-04T22:05:18.022429",
     "status": "completed"
    },
    "tags": []
   },
   "outputs": [
    {
     "name": "stdout",
     "output_type": "stream",
     "text": [
      "              precision    recall  f1-score   support\n",
      "\n",
      "           0       0.88      1.00      0.93     12933\n",
      "           1       0.50      0.00      0.00      1827\n",
      "\n",
      "    accuracy                           0.88     14760\n",
      "   macro avg       0.69      0.50      0.47     14760\n",
      "weighted avg       0.83      0.88      0.82     14760\n",
      "\n"
     ]
    }
   ],
   "source": [
    "from sklearn.metrics import classification_report\n",
    "classification_report = classification_report(y_test, y_pred)\n",
    "print(classification_report)"
   ]
  },
  {
   "cell_type": "code",
   "execution_count": 25,
   "id": "3b732a42",
   "metadata": {
    "execution": {
     "iopub.execute_input": "2021-12-04T22:05:18.160917Z",
     "iopub.status.busy": "2021-12-04T22:05:18.159619Z",
     "iopub.status.idle": "2021-12-04T22:05:18.582590Z",
     "shell.execute_reply": "2021-12-04T22:05:18.581962Z",
     "shell.execute_reply.started": "2021-12-04T22:02:10.383752Z"
    },
    "papermill": {
     "duration": 0.452614,
     "end_time": "2021-12-04T22:05:18.582723",
     "exception": false,
     "start_time": "2021-12-04T22:05:18.130109",
     "status": "completed"
    },
    "tags": []
   },
   "outputs": [
    {
     "data": {
      "text/plain": [
       "LogisticRegression(max_iter=1000, solver='liblinear')"
      ]
     },
     "execution_count": 25,
     "metadata": {},
     "output_type": "execute_result"
    }
   ],
   "source": [
    "# если качество нас устраивает, обучаем финальную модель на всех обучающи данных\n",
    "logreg_final = LogisticRegression(solver='liblinear', max_iter=1000)\n",
    "logreg_final.fit(X, y)"
   ]
  },
  {
   "cell_type": "code",
   "execution_count": 26,
   "id": "43e231c4",
   "metadata": {
    "execution": {
     "iopub.execute_input": "2021-12-04T22:05:18.636344Z",
     "iopub.status.busy": "2021-12-04T22:05:18.635082Z",
     "iopub.status.idle": "2021-12-04T22:05:18.642738Z",
     "shell.execute_reply": "2021-12-04T22:05:18.643639Z",
     "shell.execute_reply.started": "2021-12-04T22:02:10.963813Z"
    },
    "papermill": {
     "duration": 0.037628,
     "end_time": "2021-12-04T22:05:18.643904",
     "exception": false,
     "start_time": "2021-12-04T22:05:18.606276",
     "status": "completed"
    },
    "tags": []
   },
   "outputs": [],
   "source": [
    "predict_submission = logreg_final.predict(test_data)"
   ]
  },
  {
   "cell_type": "code",
   "execution_count": 27,
   "id": "bb6d40a8",
   "metadata": {
    "execution": {
     "iopub.execute_input": "2021-12-04T22:05:18.743864Z",
     "iopub.status.busy": "2021-12-04T22:05:18.742814Z",
     "iopub.status.idle": "2021-12-04T22:05:18.797927Z",
     "shell.execute_reply": "2021-12-04T22:05:18.798503Z",
     "shell.execute_reply.started": "2021-12-04T22:02:10.977992Z"
    },
    "papermill": {
     "duration": 0.108647,
     "end_time": "2021-12-04T22:05:18.798664",
     "exception": false,
     "start_time": "2021-12-04T22:05:18.690017",
     "status": "completed"
    },
    "tags": []
   },
   "outputs": [
    {
     "data": {
      "text/html": [
       "<div>\n",
       "<style scoped>\n",
       "    .dataframe tbody tr th:only-of-type {\n",
       "        vertical-align: middle;\n",
       "    }\n",
       "\n",
       "    .dataframe tbody tr th {\n",
       "        vertical-align: top;\n",
       "    }\n",
       "\n",
       "    .dataframe thead th {\n",
       "        text-align: right;\n",
       "    }\n",
       "</style>\n",
       "<table border=\"1\" class=\"dataframe\">\n",
       "  <thead>\n",
       "    <tr style=\"text-align: right;\">\n",
       "      <th></th>\n",
       "      <th>client_id</th>\n",
       "      <th>default</th>\n",
       "    </tr>\n",
       "  </thead>\n",
       "  <tbody>\n",
       "    <tr>\n",
       "      <th>0</th>\n",
       "      <td>74835</td>\n",
       "      <td>0</td>\n",
       "    </tr>\n",
       "    <tr>\n",
       "      <th>1</th>\n",
       "      <td>17527</td>\n",
       "      <td>0</td>\n",
       "    </tr>\n",
       "    <tr>\n",
       "      <th>2</th>\n",
       "      <td>75683</td>\n",
       "      <td>0</td>\n",
       "    </tr>\n",
       "    <tr>\n",
       "      <th>3</th>\n",
       "      <td>26883</td>\n",
       "      <td>0</td>\n",
       "    </tr>\n",
       "    <tr>\n",
       "      <th>4</th>\n",
       "      <td>28862</td>\n",
       "      <td>0</td>\n",
       "    </tr>\n",
       "    <tr>\n",
       "      <th>5</th>\n",
       "      <td>99881</td>\n",
       "      <td>0</td>\n",
       "    </tr>\n",
       "    <tr>\n",
       "      <th>6</th>\n",
       "      <td>26630</td>\n",
       "      <td>0</td>\n",
       "    </tr>\n",
       "    <tr>\n",
       "      <th>7</th>\n",
       "      <td>79934</td>\n",
       "      <td>0</td>\n",
       "    </tr>\n",
       "    <tr>\n",
       "      <th>8</th>\n",
       "      <td>16605</td>\n",
       "      <td>0</td>\n",
       "    </tr>\n",
       "    <tr>\n",
       "      <th>9</th>\n",
       "      <td>105449</td>\n",
       "      <td>0</td>\n",
       "    </tr>\n",
       "  </tbody>\n",
       "</table>\n",
       "</div>"
      ],
      "text/plain": [
       "   client_id  default\n",
       "0      74835        0\n",
       "1      17527        0\n",
       "2      75683        0\n",
       "3      26883        0\n",
       "4      28862        0\n",
       "5      99881        0\n",
       "6      26630        0\n",
       "7      79934        0\n",
       "8      16605        0\n",
       "9     105449        0"
      ]
     },
     "execution_count": 27,
     "metadata": {},
     "output_type": "execute_result"
    }
   ],
   "source": [
    "sample_submission['default'] = predict_submission\n",
    "sample_submission.to_csv('submission.csv', index=False)\n",
    "sample_submission.head(10)"
   ]
  },
  {
   "cell_type": "code",
   "execution_count": 28,
   "id": "3ef47a1b",
   "metadata": {
    "execution": {
     "iopub.execute_input": "2021-12-04T22:05:18.848009Z",
     "iopub.status.busy": "2021-12-04T22:05:18.847439Z",
     "iopub.status.idle": "2021-12-04T22:05:18.864324Z",
     "shell.execute_reply": "2021-12-04T22:05:18.864859Z",
     "shell.execute_reply.started": "2021-12-04T22:02:11.116379Z"
    },
    "papermill": {
     "duration": 0.043024,
     "end_time": "2021-12-04T22:05:18.865039",
     "exception": false,
     "start_time": "2021-12-04T22:05:18.822015",
     "status": "completed"
    },
    "tags": []
   },
   "outputs": [
    {
     "data": {
      "text/html": [
       "<div>\n",
       "<style scoped>\n",
       "    .dataframe tbody tr th:only-of-type {\n",
       "        vertical-align: middle;\n",
       "    }\n",
       "\n",
       "    .dataframe tbody tr th {\n",
       "        vertical-align: top;\n",
       "    }\n",
       "\n",
       "    .dataframe thead th {\n",
       "        text-align: right;\n",
       "    }\n",
       "</style>\n",
       "<table border=\"1\" class=\"dataframe\">\n",
       "  <thead>\n",
       "    <tr style=\"text-align: right;\">\n",
       "      <th></th>\n",
       "      <th>client_id</th>\n",
       "      <th>default</th>\n",
       "    </tr>\n",
       "  </thead>\n",
       "  <tbody>\n",
       "    <tr>\n",
       "      <th>count</th>\n",
       "      <td>36349.000000</td>\n",
       "      <td>36349.00000</td>\n",
       "    </tr>\n",
       "    <tr>\n",
       "      <th>mean</th>\n",
       "      <td>54945.647473</td>\n",
       "      <td>0.00011</td>\n",
       "    </tr>\n",
       "    <tr>\n",
       "      <th>std</th>\n",
       "      <td>31706.052195</td>\n",
       "      <td>0.01049</td>\n",
       "    </tr>\n",
       "    <tr>\n",
       "      <th>min</th>\n",
       "      <td>4.000000</td>\n",
       "      <td>0.00000</td>\n",
       "    </tr>\n",
       "    <tr>\n",
       "      <th>25%</th>\n",
       "      <td>27744.000000</td>\n",
       "      <td>0.00000</td>\n",
       "    </tr>\n",
       "    <tr>\n",
       "      <th>50%</th>\n",
       "      <td>54657.000000</td>\n",
       "      <td>0.00000</td>\n",
       "    </tr>\n",
       "    <tr>\n",
       "      <th>75%</th>\n",
       "      <td>82322.000000</td>\n",
       "      <td>0.00000</td>\n",
       "    </tr>\n",
       "    <tr>\n",
       "      <th>max</th>\n",
       "      <td>110148.000000</td>\n",
       "      <td>1.00000</td>\n",
       "    </tr>\n",
       "  </tbody>\n",
       "</table>\n",
       "</div>"
      ],
      "text/plain": [
       "           client_id      default\n",
       "count   36349.000000  36349.00000\n",
       "mean    54945.647473      0.00011\n",
       "std     31706.052195      0.01049\n",
       "min         4.000000      0.00000\n",
       "25%     27744.000000      0.00000\n",
       "50%     54657.000000      0.00000\n",
       "75%     82322.000000      0.00000\n",
       "max    110148.000000      1.00000"
      ]
     },
     "execution_count": 28,
     "metadata": {},
     "output_type": "execute_result"
    }
   ],
   "source": [
    "sample_submission.describe()"
   ]
  },
  {
   "cell_type": "code",
   "execution_count": 29,
   "id": "f18dee27",
   "metadata": {
    "execution": {
     "iopub.execute_input": "2021-12-04T22:05:18.915910Z",
     "iopub.status.busy": "2021-12-04T22:05:18.915303Z",
     "iopub.status.idle": "2021-12-04T22:05:20.073361Z",
     "shell.execute_reply": "2021-12-04T22:05:20.074523Z",
     "shell.execute_reply.started": "2021-12-04T22:02:11.138984Z"
    },
    "papermill": {
     "duration": 1.18609,
     "end_time": "2021-12-04T22:05:20.074775",
     "exception": false,
     "start_time": "2021-12-04T22:05:18.888685",
     "status": "completed"
    },
    "tags": []
   },
   "outputs": [
    {
     "name": "stdout",
     "output_type": "stream",
     "text": [
      "Traceback (most recent call last):\r\n",
      "  File \"/opt/conda/bin/kaggle\", line 5, in <module>\r\n",
      "    from kaggle.cli import main\r\n",
      "  File \"/opt/conda/lib/python3.7/site-packages/kaggle/__init__.py\", line 23, in <module>\r\n",
      "    api.authenticate()\r\n",
      "  File \"/opt/conda/lib/python3.7/site-packages/kaggle/api/kaggle_api_extended.py\", line 166, in authenticate\r\n",
      "    self.config_file, self.config_dir))\r\n",
      "OSError: Could not find kaggle.json. Make sure it's located in /root/.kaggle. Or use the environment method.\r\n"
     ]
    }
   ],
   "source": [
    "!kaggle competitions submit -c sf-scoring -f ssubmission.csv -m \"Message\"\n",
    "# !kaggle competitions submit your-competition-name -f submission.csv -m 'My submission message'"
   ]
  }
 ],
 "metadata": {
  "kernelspec": {
   "display_name": "Python 3",
   "language": "python",
   "name": "python3"
  },
  "language_info": {
   "codemirror_mode": {
    "name": "ipython",
    "version": 3
   },
   "file_extension": ".py",
   "mimetype": "text/x-python",
   "name": "python",
   "nbconvert_exporter": "python",
   "pygments_lexer": "ipython3",
   "version": "3.7.10"
  },
  "papermill": {
   "default_parameters": {},
   "duration": 14.625956,
   "end_time": "2021-12-04T22:05:20.815483",
   "environment_variables": {},
   "exception": null,
   "input_path": "__notebook__.ipynb",
   "output_path": "__notebook__.ipynb",
   "parameters": {},
   "start_time": "2021-12-04T22:05:06.189527",
   "version": "2.3.3"
  }
 },
 "nbformat": 4,
 "nbformat_minor": 5
}
