{
 "cells": [
  {
   "cell_type": "markdown",
   "id": "33643fc9",
   "metadata": {},
   "source": [
    "## Импорты"
   ]
  },
  {
   "cell_type": "code",
   "execution_count": 83,
   "id": "8342078d",
   "metadata": {
    "_cell_guid": "b1076dfc-b9ad-4769-8c92-a6c4dae69d19",
    "_uuid": "8f2839f25d086af736a60e9eeb907d3b93b6e0e5",
    "execution": {
     "iopub.execute_input": "2021-12-04T22:05:14.355977Z",
     "iopub.status.busy": "2021-12-04T22:05:14.354152Z",
     "iopub.status.idle": "2021-12-04T22:05:14.371279Z",
     "shell.execute_reply": "2021-12-04T22:05:14.370419Z",
     "shell.execute_reply.started": "2021-12-04T22:02:07.999586Z"
    },
    "papermill": {
     "duration": 0.044743,
     "end_time": "2021-12-04T22:05:14.371495",
     "exception": false,
     "start_time": "2021-12-04T22:05:14.326752",
     "status": "completed"
    },
    "tags": []
   },
   "outputs": [],
   "source": [
    "import os\n",
    "import warnings\n",
    "\n",
    "warnings.filterwarnings(\"ignore\")\n",
    "\n",
    "import numpy as np\n",
    "import pandas as pd\n",
    "import seaborn as sns\n",
    "import matplotlib.pyplot as plt\n",
    "\n",
    "from sklearn.model_selection import train_test_split, GridSearchCV\n",
    "from sklearn.feature_selection import f_classif, mutual_info_classif\n",
    "from sklearn.preprocessing import LabelEncoder, OneHotEncoder, StandardScaler, RobustScaler, MinMaxScaler\n",
    "from sklearn.metrics import confusion_matrix\n",
    "from sklearn.linear_model import LogisticRegression\n",
    "\n",
    "from data_viz_functions import *"
   ]
  },
  {
   "cell_type": "code",
   "execution_count": 84,
   "id": "2d3502ce",
   "metadata": {
    "execution": {
     "iopub.execute_input": "2021-12-04T22:05:14.422476Z",
     "iopub.status.busy": "2021-12-04T22:05:14.421481Z",
     "iopub.status.idle": "2021-12-04T22:05:14.746194Z",
     "shell.execute_reply": "2021-12-04T22:05:14.746773Z",
     "shell.execute_reply.started": "2021-12-04T22:02:08.023910Z"
    },
    "papermill": {
     "duration": 0.348054,
     "end_time": "2021-12-04T22:05:14.746952",
     "exception": false,
     "start_time": "2021-12-04T22:05:14.398898",
     "status": "completed"
    },
    "tags": []
   },
   "outputs": [
    {
     "name": "stdout",
     "output_type": "stream",
     "text": [
      "kaggle/input/sf-scoring.zip\n",
      "kaggle/input/sample_submission.csv\n",
      "kaggle/input/train.csv\n",
      "kaggle/input/test.csv\n"
     ]
    }
   ],
   "source": [
    "DATA_DIR = 'kaggle/input/'\n",
    "df_train = pd.read_csv(DATA_DIR +'/train.csv')\n",
    "df_test = pd.read_csv(DATA_DIR +'/test.csv')\n",
    "sample_submission = pd.read_csv(DATA_DIR+'/sample_submission.csv')\n",
    "\n",
    "for dirname, _, filenames in os.walk(DATA_DIR):\n",
    "    for filename in filenames:\n",
    "        print(os.path.join(dirname, filename))"
   ]
  },
  {
   "cell_type": "code",
   "execution_count": 85,
   "id": "ec303d70",
   "metadata": {
    "execution": {
     "iopub.execute_input": "2021-12-04T22:05:14.904445Z",
     "iopub.status.busy": "2021-12-04T22:05:14.903695Z",
     "iopub.status.idle": "2021-12-04T22:05:14.951582Z",
     "shell.execute_reply": "2021-12-04T22:05:14.952062Z",
     "shell.execute_reply.started": "2021-12-04T22:02:08.375025Z"
    },
    "papermill": {
     "duration": 0.069994,
     "end_time": "2021-12-04T22:05:14.952232",
     "exception": false,
     "start_time": "2021-12-04T22:05:14.882238",
     "status": "completed"
    },
    "tags": []
   },
   "outputs": [
    {
     "data": {
      "text/plain": [
       "client_id             int64\n",
       "app_date             object\n",
       "education            object\n",
       "sex                  object\n",
       "age                   int64\n",
       "car                  object\n",
       "car_type             object\n",
       "decline_app_cnt       int64\n",
       "good_work             int64\n",
       "score_bki           float64\n",
       "bki_request_cnt       int64\n",
       "region_rating         int64\n",
       "home_address          int64\n",
       "work_address          int64\n",
       "income                int64\n",
       "sna                   int64\n",
       "first_time            int64\n",
       "foreign_passport     object\n",
       "default               int64\n",
       "dtype: object"
      ]
     },
     "execution_count": 85,
     "metadata": {},
     "output_type": "execute_result"
    }
   ],
   "source": [
    "df_train.dtypes"
   ]
  },
  {
   "cell_type": "markdown",
   "id": "49b55667",
   "metadata": {
    "execution": {
     "iopub.execute_input": "2021-12-04T22:05:15.246699Z",
     "iopub.status.busy": "2021-12-04T22:05:15.243721Z",
     "iopub.status.idle": "2021-12-04T22:05:15.318194Z",
     "shell.execute_reply": "2021-12-04T22:05:15.318687Z",
     "shell.execute_reply.started": "2021-12-04T22:02:08.543928Z"
    },
    "papermill": {
     "duration": 0.099435,
     "end_time": "2021-12-04T22:05:15.318876",
     "exception": false,
     "start_time": "2021-12-04T22:05:15.219441",
     "status": "completed"
    },
    "tags": []
   },
   "source": [
    "## объединяем трейн и тест для предобработки\n"
   ]
  },
  {
   "cell_type": "code",
   "execution_count": 86,
   "id": "0e0febb9",
   "metadata": {},
   "outputs": [],
   "source": [
    "\n",
    "df_train['sample'] = 1 # где у нас трейн\n",
    "df_test['sample'] = 0  # где у нас тест\n",
    "df_test['default'] = 0 # в тесте у нас нет значения Rating, мы его должны предсказать, по этому пока просто заполняем нулями\n",
    "\n",
    "data = df_test.append(df_train, sort=False).reset_index(drop=True) # объединяем"
   ]
  },
  {
   "cell_type": "markdown",
   "id": "e96042d6",
   "metadata": {},
   "source": [
    "## группируем имена колонок в списки"
   ]
  },
  {
   "cell_type": "code",
   "execution_count": 87,
   "id": "be7b7d64",
   "metadata": {
    "execution": {
     "iopub.execute_input": "2021-12-04T22:05:15.481885Z",
     "iopub.status.busy": "2021-12-04T22:05:15.481041Z",
     "iopub.status.idle": "2021-12-04T22:05:15.483108Z",
     "shell.execute_reply": "2021-12-04T22:05:15.483525Z",
     "shell.execute_reply.started": "2021-12-04T22:02:08.726645Z"
    },
    "papermill": {
     "duration": 0.02995,
     "end_time": "2021-12-04T22:05:15.483689",
     "exception": false,
     "start_time": "2021-12-04T22:05:15.453739",
     "status": "completed"
    },
    "tags": []
   },
   "outputs": [],
   "source": [
    "num_cols = ['age', 'decline_app_cnt', 'score_bki', 'bki_request_cnt', 'income']\n",
    "cat_cols = ['education', 'first_time', 'sna', 'work_address', 'home_address', 'region_rating']\n",
    "bin_cols = ['sex', 'car', 'car_type', 'good_work', 'foreign_passport']"
   ]
  },
  {
   "cell_type": "markdown",
   "id": "bf4a517c",
   "metadata": {},
   "source": [
    "### смотрим числовые"
   ]
  },
  {
   "cell_type": "code",
   "execution_count": 88,
   "id": "5ec4ae03",
   "metadata": {},
   "outputs": [
    {
     "data": {
      "text/html": [
       "<div>\n",
       "<style scoped>\n",
       "    .dataframe tbody tr th:only-of-type {\n",
       "        vertical-align: middle;\n",
       "    }\n",
       "\n",
       "    .dataframe tbody tr th {\n",
       "        vertical-align: top;\n",
       "    }\n",
       "\n",
       "    .dataframe thead th {\n",
       "        text-align: right;\n",
       "    }\n",
       "</style>\n",
       "<table border=\"1\" class=\"dataframe\">\n",
       "  <thead>\n",
       "    <tr style=\"text-align: right;\">\n",
       "      <th></th>\n",
       "      <th>age</th>\n",
       "      <th>decline_app_cnt</th>\n",
       "      <th>score_bki</th>\n",
       "      <th>bki_request_cnt</th>\n",
       "      <th>income</th>\n",
       "    </tr>\n",
       "  </thead>\n",
       "  <tbody>\n",
       "    <tr>\n",
       "      <th>21007</th>\n",
       "      <td>55</td>\n",
       "      <td>0</td>\n",
       "      <td>-1.696577</td>\n",
       "      <td>4</td>\n",
       "      <td>27000</td>\n",
       "    </tr>\n",
       "    <tr>\n",
       "      <th>61190</th>\n",
       "      <td>32</td>\n",
       "      <td>0</td>\n",
       "      <td>-2.003745</td>\n",
       "      <td>2</td>\n",
       "      <td>60000</td>\n",
       "    </tr>\n",
       "    <tr>\n",
       "      <th>68838</th>\n",
       "      <td>54</td>\n",
       "      <td>1</td>\n",
       "      <td>-2.236594</td>\n",
       "      <td>0</td>\n",
       "      <td>100000</td>\n",
       "    </tr>\n",
       "  </tbody>\n",
       "</table>\n",
       "</div>"
      ],
      "text/plain": [
       "       age  decline_app_cnt  score_bki  bki_request_cnt  income\n",
       "21007   55                0  -1.696577                4   27000\n",
       "61190   32                0  -2.003745                2   60000\n",
       "68838   54                1  -2.236594                0  100000"
      ]
     },
     "execution_count": 88,
     "metadata": {},
     "output_type": "execute_result"
    }
   ],
   "source": [
    "data[num_cols].sample(3)"
   ]
  },
  {
   "cell_type": "code",
   "execution_count": 89,
   "id": "ea194e8f",
   "metadata": {},
   "outputs": [
    {
     "data": {
      "text/html": [
       "<style type=\"text/css\">\n",
       "#T_19045_row0_col0 {\n",
       "  width: 10em;\n",
       "  height: 80%;\n",
       "  background: linear-gradient(90deg,lightblue 100.0%, transparent 100.0%);\n",
       "}\n",
       "#T_19045_row0_col3, #T_19045_row4_col0 {\n",
       "  width: 10em;\n",
       "  height: 80%;\n",
       "}\n",
       "#T_19045_row0_col4, #T_19045_row2_col4, #T_19045_row3_col4, #T_19045_row4_col4 {\n",
       "  background-color: #fff5f0;\n",
       "  color: #000000;\n",
       "}\n",
       "#T_19045_row0_col7, #T_19045_row2_col7, #T_19045_row3_col7, #T_19045_row4_col7 {\n",
       "  background-color: #440154;\n",
       "  color: #f1f1f1;\n",
       "}\n",
       "#T_19045_row1_col0 {\n",
       "  width: 10em;\n",
       "  height: 80%;\n",
       "  background: linear-gradient(90deg,lightblue 1.2%, transparent 1.2%);\n",
       "}\n",
       "#T_19045_row1_col3 {\n",
       "  width: 10em;\n",
       "  height: 80%;\n",
       "  background: linear-gradient(90deg,#d65f5f 100.0%, transparent 100.0%);\n",
       "}\n",
       "#T_19045_row1_col4 {\n",
       "  background-color: #67000d;\n",
       "  color: #f1f1f1;\n",
       "}\n",
       "#T_19045_row1_col7 {\n",
       "  background-color: #fde725;\n",
       "  color: #000000;\n",
       "}\n",
       "#T_19045_row2_col0, #T_19045_row3_col0 {\n",
       "  width: 10em;\n",
       "  height: 80%;\n",
       "  background: linear-gradient(90deg,lightblue 0.0%, transparent 0.0%);\n",
       "}\n",
       "#T_19045_row2_col3 {\n",
       "  width: 10em;\n",
       "  height: 80%;\n",
       "  background: linear-gradient(90deg,#d65f5f 0.1%, transparent 0.1%);\n",
       "}\n",
       "#T_19045_row3_col3, #T_19045_row4_col3 {\n",
       "  width: 10em;\n",
       "  height: 80%;\n",
       "  background: linear-gradient(90deg,#d65f5f 0.0%, transparent 0.0%);\n",
       "}\n",
       "</style>\n",
       "<table id=\"T_19045_\">\n",
       "  <thead>\n",
       "    <tr>\n",
       "      <th class=\"blank level0\" >&nbsp;</th>\n",
       "      <th class=\"col_heading level0 col0\" >unique</th>\n",
       "      <th class=\"col_heading level0 col1\" >n/a count</th>\n",
       "      <th class=\"col_heading level0 col2\" >count</th>\n",
       "      <th class=\"col_heading level0 col3\" >mean</th>\n",
       "      <th class=\"col_heading level0 col4\" >std</th>\n",
       "      <th class=\"col_heading level0 col5\" >min</th>\n",
       "      <th class=\"col_heading level0 col6\" >25%</th>\n",
       "      <th class=\"col_heading level0 col7\" >50%</th>\n",
       "      <th class=\"col_heading level0 col8\" >75%</th>\n",
       "      <th class=\"col_heading level0 col9\" >max</th>\n",
       "    </tr>\n",
       "  </thead>\n",
       "  <tbody>\n",
       "    <tr>\n",
       "      <th id=\"T_19045_level0_row0\" class=\"row_heading level0 row0\" >score_bki</th>\n",
       "      <td id=\"T_19045_row0_col0\" class=\"data row0 col0\" >102618</td>\n",
       "      <td id=\"T_19045_row0_col1\" class=\"data row0 col1\" >0</td>\n",
       "      <td id=\"T_19045_row0_col2\" class=\"data row0 col2\" >110148.000000</td>\n",
       "      <td id=\"T_19045_row0_col3\" class=\"data row0 col3\" >-1.904535</td>\n",
       "      <td id=\"T_19045_row0_col4\" class=\"data row0 col4\" >0.499397</td>\n",
       "      <td id=\"T_19045_row0_col5\" class=\"data row0 col5\" >-3.624586</td>\n",
       "      <td id=\"T_19045_row0_col6\" class=\"data row0 col6\" >-2.260434</td>\n",
       "      <td id=\"T_19045_row0_col7\" class=\"data row0 col7\" >-1.920823</td>\n",
       "      <td id=\"T_19045_row0_col8\" class=\"data row0 col8\" >-1.567888</td>\n",
       "      <td id=\"T_19045_row0_col9\" class=\"data row0 col9\" >0.199773</td>\n",
       "    </tr>\n",
       "    <tr>\n",
       "      <th id=\"T_19045_level0_row1\" class=\"row_heading level0 row1\" >income</th>\n",
       "      <td id=\"T_19045_row1_col0\" class=\"data row1 col0\" >1207</td>\n",
       "      <td id=\"T_19045_row1_col1\" class=\"data row1 col1\" >0</td>\n",
       "      <td id=\"T_19045_row1_col2\" class=\"data row1 col2\" >110148.000000</td>\n",
       "      <td id=\"T_19045_row1_col3\" class=\"data row1 col3\" >41012.648537</td>\n",
       "      <td id=\"T_19045_row1_col4\" class=\"data row1 col4\" >45399.735051</td>\n",
       "      <td id=\"T_19045_row1_col5\" class=\"data row1 col5\" >1000.000000</td>\n",
       "      <td id=\"T_19045_row1_col6\" class=\"data row1 col6\" >20000.000000</td>\n",
       "      <td id=\"T_19045_row1_col7\" class=\"data row1 col7\" >30000.000000</td>\n",
       "      <td id=\"T_19045_row1_col8\" class=\"data row1 col8\" >48000.000000</td>\n",
       "      <td id=\"T_19045_row1_col9\" class=\"data row1 col9\" >1000000.000000</td>\n",
       "    </tr>\n",
       "    <tr>\n",
       "      <th id=\"T_19045_level0_row2\" class=\"row_heading level0 row2\" >age</th>\n",
       "      <td id=\"T_19045_row2_col0\" class=\"data row2 col0\" >52</td>\n",
       "      <td id=\"T_19045_row2_col1\" class=\"data row2 col1\" >0</td>\n",
       "      <td id=\"T_19045_row2_col2\" class=\"data row2 col2\" >110148.000000</td>\n",
       "      <td id=\"T_19045_row2_col3\" class=\"data row2 col3\" >39.249410</td>\n",
       "      <td id=\"T_19045_row2_col4\" class=\"data row2 col4\" >11.518063</td>\n",
       "      <td id=\"T_19045_row2_col5\" class=\"data row2 col5\" >21.000000</td>\n",
       "      <td id=\"T_19045_row2_col6\" class=\"data row2 col6\" >30.000000</td>\n",
       "      <td id=\"T_19045_row2_col7\" class=\"data row2 col7\" >37.000000</td>\n",
       "      <td id=\"T_19045_row2_col8\" class=\"data row2 col8\" >48.000000</td>\n",
       "      <td id=\"T_19045_row2_col9\" class=\"data row2 col9\" >72.000000</td>\n",
       "    </tr>\n",
       "    <tr>\n",
       "      <th id=\"T_19045_level0_row3\" class=\"row_heading level0 row3\" >bki_request_cnt</th>\n",
       "      <td id=\"T_19045_row3_col0\" class=\"data row3 col0\" >40</td>\n",
       "      <td id=\"T_19045_row3_col1\" class=\"data row3 col1\" >0</td>\n",
       "      <td id=\"T_19045_row3_col2\" class=\"data row3 col2\" >110148.000000</td>\n",
       "      <td id=\"T_19045_row3_col3\" class=\"data row3 col3\" >2.005002</td>\n",
       "      <td id=\"T_19045_row3_col4\" class=\"data row3 col4\" >2.266926</td>\n",
       "      <td id=\"T_19045_row3_col5\" class=\"data row3 col5\" >0.000000</td>\n",
       "      <td id=\"T_19045_row3_col6\" class=\"data row3 col6\" >0.000000</td>\n",
       "      <td id=\"T_19045_row3_col7\" class=\"data row3 col7\" >1.000000</td>\n",
       "      <td id=\"T_19045_row3_col8\" class=\"data row3 col8\" >3.000000</td>\n",
       "      <td id=\"T_19045_row3_col9\" class=\"data row3 col9\" >53.000000</td>\n",
       "    </tr>\n",
       "    <tr>\n",
       "      <th id=\"T_19045_level0_row4\" class=\"row_heading level0 row4\" >decline_app_cnt</th>\n",
       "      <td id=\"T_19045_row4_col0\" class=\"data row4 col0\" >24</td>\n",
       "      <td id=\"T_19045_row4_col1\" class=\"data row4 col1\" >0</td>\n",
       "      <td id=\"T_19045_row4_col2\" class=\"data row4 col2\" >110148.000000</td>\n",
       "      <td id=\"T_19045_row4_col3\" class=\"data row4 col3\" >0.273205</td>\n",
       "      <td id=\"T_19045_row4_col4\" class=\"data row4 col4\" >0.799099</td>\n",
       "      <td id=\"T_19045_row4_col5\" class=\"data row4 col5\" >0.000000</td>\n",
       "      <td id=\"T_19045_row4_col6\" class=\"data row4 col6\" >0.000000</td>\n",
       "      <td id=\"T_19045_row4_col7\" class=\"data row4 col7\" >0.000000</td>\n",
       "      <td id=\"T_19045_row4_col8\" class=\"data row4 col8\" >0.000000</td>\n",
       "      <td id=\"T_19045_row4_col9\" class=\"data row4 col9\" >33.000000</td>\n",
       "    </tr>\n",
       "  </tbody>\n",
       "</table>\n"
      ],
      "text/plain": [
       "<pandas.io.formats.style.Styler at 0x7fee367354c0>"
      ]
     },
     "execution_count": 89,
     "metadata": {},
     "output_type": "execute_result"
    }
   ],
   "source": [
    "describe_nums(data[num_cols])"
   ]
  },
  {
   "cell_type": "code",
   "execution_count": 107,
   "id": "b0cd2d21",
   "metadata": {},
   "outputs": [
    {
     "name": "stdout",
     "output_type": "stream",
     "text": [
      "Unique values count: 52 \n",
      "Q1: 30.0\n",
      "Q3: 48.0\n",
      "IQR: 18.0 \n",
      "Outliers borders: [3.0, 75.0]\n"
     ]
    },
    {
     "data": {
      "image/png": "[encoded data removed]",
      "text/plain": [
       "<Figure size 1152x432 with 2 Axes>"
      ]
     },
     "metadata": {
      "needs_background": "light"
     },
     "output_type": "display_data"
    },
    {
     "name": "stdout",
     "output_type": "stream",
     "text": [
      "Unique values count: 24 \n",
      "Q1: 0.0\n",
      "Q3: 0.0\n",
      "IQR: 0.0 \n",
      "Outliers borders: [0.0, 0.0]\n"
     ]
    },
    {
     "data": {
      "image/png": "[encoded data removed]",
      "text/plain": [
       "<Figure size 1152x432 with 2 Axes>"
      ]
     },
     "metadata": {
      "needs_background": "light"
     },
     "output_type": "display_data"
    },
    {
     "name": "stdout",
     "output_type": "stream",
     "text": [
      "Unique values count: 102618 \n",
      "Q1: -2.26044074\n",
      "Q3: -1.5678840649999999\n",
      "IQR: 0.6925566750000001 \n",
      "Outliers borders: [-3.2992757525, -0.5290490524999998]\n"
     ]
    },
    {
     "data": {
      "image/png": "[encoded data removed]",
      "text/plain": [
       "<Figure size 1152x432 with 2 Axes>"
      ]
     },
     "metadata": {
      "needs_background": "light"
     },
     "output_type": "display_data"
    },
    {
     "name": "stdout",
     "output_type": "stream",
     "text": [
      "Unique values count: 40 \n",
      "Q1: 0.0\n",
      "Q3: 3.0\n",
      "IQR: 3.0 \n",
      "Outliers borders: [-4.5, 7.5]\n"
     ]
    },
    {
     "data": {
      "image/png": "[encoded data removed]",
      "text/plain": [
       "<Figure size 1152x432 with 2 Axes>"
      ]
     },
     "metadata": {
      "needs_background": "light"
     },
     "output_type": "display_data"
    },
    {
     "name": "stdout",
     "output_type": "stream",
     "text": [
      "Unique values count: 1207 \n",
      "Q1: 20000.0\n",
      "Q3: 48000.0\n",
      "IQR: 28000.0 \n",
      "Outliers borders: [-22000.0, 90000.0]\n"
     ]
    },
    {
     "data": {
      "image/png": "[encoded data removed]",
      "text/plain": [
       "<Figure size 1152x432 with 2 Axes>"
      ]
     },
     "metadata": {
      "needs_background": "light"
     },
     "output_type": "display_data"
    }
   ],
   "source": [
    "for n in num_cols:\n",
    "    show_IQR(data[n])"
   ]
  },
  {
   "cell_type": "markdown",
   "id": "812ce5dd",
   "metadata": {},
   "source": [
    "Кроме score_bki все имеют выраженный хвост. Логорифмировать"
   ]
  },
  {
   "cell_type": "code",
   "execution_count": 106,
   "id": "dce6157a",
   "metadata": {
    "execution": {
     "iopub.execute_input": "2021-12-04T22:05:15.532251Z",
     "iopub.status.busy": "2021-12-04T22:05:15.531491Z",
     "iopub.status.idle": "2021-12-04T22:05:15.755021Z",
     "shell.execute_reply": "2021-12-04T22:05:15.754521Z",
     "shell.execute_reply.started": "2021-12-04T22:02:08.733995Z"
    },
    "papermill": {
     "duration": 0.249916,
     "end_time": "2021-12-04T22:05:15.755166",
     "exception": false,
     "start_time": "2021-12-04T22:05:15.505250",
     "status": "completed"
    },
    "tags": []
   },
   "outputs": [
    {
     "data": {
      "text/plain": [
       "<AxesSubplot:>"
      ]
     },
     "execution_count": 106,
     "metadata": {},
     "output_type": "execute_result"
    },
    {
     "data": {
      "image/png": "[encoded data removed]",
      "text/plain": [
       "<Figure size 432x288 with 1 Axes>"
      ]
     },
     "metadata": {
      "needs_background": "light"
     },
     "output_type": "display_data"
    }
   ],
   "source": [
    "data.loc[data[\"sample\"] == 1]['default'].value_counts(ascending=True).plot(kind='barh')"
   ]
  },
  {
   "cell_type": "markdown",
   "id": "b6e57f84",
   "metadata": {},
   "source": [
    "## корреляция и значимость признаков"
   ]
  },
  {
   "cell_type": "code",
   "execution_count": 91,
   "id": "c4048845",
   "metadata": {
    "execution": {
     "iopub.execute_input": "2021-12-04T22:05:15.805171Z",
     "iopub.status.busy": "2021-12-04T22:05:15.804229Z",
     "iopub.status.idle": "2021-12-04T22:05:15.813845Z",
     "shell.execute_reply": "2021-12-04T22:05:15.813386Z",
     "shell.execute_reply.started": "2021-12-04T22:02:08.956936Z"
    },
    "papermill": {
     "duration": 0.037205,
     "end_time": "2021-12-04T22:05:15.814011",
     "exception": false,
     "start_time": "2021-12-04T22:05:15.776806",
     "status": "completed"
    },
    "tags": []
   },
   "outputs": [],
   "source": [
    "data.drop(['client_id','app_date',], axis = 1, inplace=True)"
   ]
  },
  {
   "cell_type": "code",
   "execution_count": 92,
   "id": "f1be8bfd",
   "metadata": {
    "execution": {
     "iopub.execute_input": "2021-12-04T22:05:15.863460Z",
     "iopub.status.busy": "2021-12-04T22:05:15.862546Z",
     "iopub.status.idle": "2021-12-04T22:05:15.894962Z",
     "shell.execute_reply": "2021-12-04T22:05:15.895457Z",
     "shell.execute_reply.started": "2021-12-04T22:02:08.972519Z"
    },
    "papermill": {
     "duration": 0.058713,
     "end_time": "2021-12-04T22:05:15.895675",
     "exception": false,
     "start_time": "2021-12-04T22:05:15.836962",
     "status": "completed"
    },
    "tags": []
   },
   "outputs": [],
   "source": [
    "data = pd.get_dummies(data, columns=['education'], dummy_na=True)"
   ]
  },
  {
   "cell_type": "code",
   "execution_count": 93,
   "id": "96230429",
   "metadata": {
    "execution": {
     "iopub.execute_input": "2021-12-04T22:05:15.947649Z",
     "iopub.status.busy": "2021-12-04T22:05:15.946917Z",
     "iopub.status.idle": "2021-12-04T22:05:16.933319Z",
     "shell.execute_reply": "2021-12-04T22:05:16.932751Z",
     "shell.execute_reply.started": "2021-12-04T22:02:09.020025Z"
    },
    "papermill": {
     "duration": 1.015418,
     "end_time": "2021-12-04T22:05:16.933475",
     "exception": false,
     "start_time": "2021-12-04T22:05:15.918057",
     "status": "completed"
    },
    "tags": []
   },
   "outputs": [],
   "source": [
    "le = LabelEncoder()\n",
    "\n",
    "for column in bin_cols:\n",
    "    data[column] = le.fit_transform(data[column])\n",
    "    \n",
    "columns = ['first_time', 'sna', 'work_address', 'home_address', 'region_rating']\n",
    "\n",
    "for column in columns:\n",
    "    data[column] = le.fit_transform(data[column])"
   ]
  },
  {
   "cell_type": "code",
   "execution_count": 96,
   "id": "9124885f",
   "metadata": {
    "execution": {
     "iopub.execute_input": "2021-12-04T22:05:17.141675Z",
     "iopub.status.busy": "2021-12-04T22:05:17.140671Z",
     "iopub.status.idle": "2021-12-04T22:05:17.186275Z",
     "shell.execute_reply": "2021-12-04T22:05:17.185032Z",
     "shell.execute_reply.started": "2021-12-04T22:02:09.734382Z"
    },
    "papermill": {
     "duration": 0.071204,
     "end_time": "2021-12-04T22:05:17.186427",
     "exception": false,
     "start_time": "2021-12-04T22:05:17.115223",
     "status": "completed"
    },
    "tags": []
   },
   "outputs": [],
   "source": [
    "# Теперь выделим тестовую часть\n",
    "train_data = data.query('sample == 1').drop(['sample'], axis=1)\n",
    "test_data = data.query('sample == 0').drop(['sample', 'default'], axis=1)\n",
    "\n",
    "X = train_data.drop(['default'], axis=1)\n",
    "y = train_data['default'].values  # наш таргет"
   ]
  },
  {
   "cell_type": "code",
   "execution_count": 97,
   "id": "1eabe367",
   "metadata": {
    "execution": {
     "iopub.execute_input": "2021-12-04T22:05:17.239928Z",
     "iopub.status.busy": "2021-12-04T22:05:17.239266Z",
     "iopub.status.idle": "2021-12-04T22:05:17.302623Z",
     "shell.execute_reply": "2021-12-04T22:05:17.303112Z",
     "shell.execute_reply.started": "2021-12-04T22:02:09.786815Z"
    },
    "papermill": {
     "duration": 0.09219,
     "end_time": "2021-12-04T22:05:17.303300",
     "exception": false,
     "start_time": "2021-12-04T22:05:17.211110",
     "status": "completed"
    },
    "tags": []
   },
   "outputs": [],
   "source": [
    "# Воспользуемся специальной функцией train_test_split для разбивки тестовых данных\n",
    "from sklearn.model_selection import train_test_split\n",
    "\n",
    "# выделим 20% данных на валидацию (параметр test_size)\n",
    "X_train, X_test, y_train, y_test = train_test_split(X, y, test_size=0.2, random_state=42)"
   ]
  },
  {
   "cell_type": "code",
   "execution_count": 98,
   "id": "e39cdaa9",
   "metadata": {
    "execution": {
     "iopub.execute_input": "2021-12-04T22:05:17.352031Z",
     "iopub.status.busy": "2021-12-04T22:05:17.351284Z",
     "iopub.status.idle": "2021-12-04T22:05:17.355827Z",
     "shell.execute_reply": "2021-12-04T22:05:17.356464Z",
     "shell.execute_reply.started": "2021-12-04T22:02:09.830024Z"
    },
    "papermill": {
     "duration": 0.030753,
     "end_time": "2021-12-04T22:05:17.356633",
     "exception": false,
     "start_time": "2021-12-04T22:05:17.325880",
     "status": "completed"
    },
    "tags": []
   },
   "outputs": [
    {
     "data": {
      "text/plain": [
       "((59039, 21), (14760, 21), (59039,), (14760,))"
      ]
     },
     "execution_count": 98,
     "metadata": {},
     "output_type": "execute_result"
    }
   ],
   "source": [
    "# проверяем\n",
    "X_train.shape, X_test.shape, y_train.shape, y_test.shape"
   ]
  },
  {
   "cell_type": "code",
   "execution_count": 99,
   "id": "ed02c9aa",
   "metadata": {
    "execution": {
     "iopub.execute_input": "2021-12-04T22:05:17.646849Z",
     "iopub.status.busy": "2021-12-04T22:05:17.645701Z",
     "iopub.status.idle": "2021-12-04T22:05:17.975773Z",
     "shell.execute_reply": "2021-12-04T22:05:17.976630Z",
     "shell.execute_reply.started": "2021-12-04T22:02:09.875133Z"
    },
    "papermill": {
     "duration": 0.360291,
     "end_time": "2021-12-04T22:05:17.976937",
     "exception": false,
     "start_time": "2021-12-04T22:05:17.616646",
     "status": "completed"
    },
    "tags": []
   },
   "outputs": [],
   "source": [
    "logreg = LogisticRegression(solver='liblinear', max_iter=1000)\n",
    "logreg.fit(X_train, y_train)\n",
    "y_pred = logreg.predict(X_test)"
   ]
  },
  {
   "cell_type": "code",
   "execution_count": 100,
   "id": "a85a3a58",
   "metadata": {},
   "outputs": [
    {
     "data": {
      "image/png": "[encoded data removed]",
      "text/plain": [
       "<Figure size 432x288 with 1 Axes>"
      ]
     },
     "metadata": {
      "needs_background": "light"
     },
     "output_type": "display_data"
    },
    {
     "name": "stdout",
     "output_type": "stream",
     "text": [
      "['              precision    recall  f1-score   support',\n",
      " '',\n",
      " '           0       0.88      1.00      0.93     12933',\n",
      " '           1       0.50      0.00      0.00      1827',\n",
      " '',\n",
      " '    accuracy                           0.88     14760',\n",
      " '   macro avg       0.69      0.50      0.47     14760',\n",
      " 'weighted avg       0.83      0.88      0.82     14760',\n",
      " '']\n"
     ]
    }
   ],
   "source": [
    "show_classification_details(y_test, y_pred)"
   ]
  },
  {
   "cell_type": "markdown",
   "id": "af3ef218",
   "metadata": {},
   "source": [
    "## final model"
   ]
  },
  {
   "cell_type": "code",
   "execution_count": 101,
   "id": "3b732a42",
   "metadata": {
    "execution": {
     "iopub.execute_input": "2021-12-04T22:05:18.160917Z",
     "iopub.status.busy": "2021-12-04T22:05:18.159619Z",
     "iopub.status.idle": "2021-12-04T22:05:18.582590Z",
     "shell.execute_reply": "2021-12-04T22:05:18.581962Z",
     "shell.execute_reply.started": "2021-12-04T22:02:10.383752Z"
    },
    "papermill": {
     "duration": 0.452614,
     "end_time": "2021-12-04T22:05:18.582723",
     "exception": false,
     "start_time": "2021-12-04T22:05:18.130109",
     "status": "completed"
    },
    "tags": []
   },
   "outputs": [
    {
     "data": {
      "text/plain": [
       "LogisticRegression(max_iter=1000, solver='liblinear')"
      ]
     },
     "execution_count": 101,
     "metadata": {},
     "output_type": "execute_result"
    }
   ],
   "source": [
    "# если качество нас устраивает, обучаем финальную модель на всех обучающи данных\n",
    "logreg_final = LogisticRegression(solver='liblinear', max_iter=1000)\n",
    "logreg_final.fit(X, y)"
   ]
  },
  {
   "cell_type": "code",
   "execution_count": 102,
   "id": "43e231c4",
   "metadata": {
    "execution": {
     "iopub.execute_input": "2021-12-04T22:05:18.636344Z",
     "iopub.status.busy": "2021-12-04T22:05:18.635082Z",
     "iopub.status.idle": "2021-12-04T22:05:18.642738Z",
     "shell.execute_reply": "2021-12-04T22:05:18.643639Z",
     "shell.execute_reply.started": "2021-12-04T22:02:10.963813Z"
    },
    "papermill": {
     "duration": 0.037628,
     "end_time": "2021-12-04T22:05:18.643904",
     "exception": false,
     "start_time": "2021-12-04T22:05:18.606276",
     "status": "completed"
    },
    "tags": []
   },
   "outputs": [],
   "source": [
    "predict_submission = logreg_final.predict(test_data)"
   ]
  },
  {
   "cell_type": "markdown",
   "id": "bb6d40a8",
   "metadata": {
    "execution": {
     "iopub.execute_input": "2021-12-04T22:05:18.743864Z",
     "iopub.status.busy": "2021-12-04T22:05:18.742814Z",
     "iopub.status.idle": "2021-12-04T22:05:18.797927Z",
     "shell.execute_reply": "2021-12-04T22:05:18.798503Z",
     "shell.execute_reply.started": "2021-12-04T22:02:10.977992Z"
    },
    "papermill": {
     "duration": 0.108647,
     "end_time": "2021-12-04T22:05:18.798664",
     "exception": false,
     "start_time": "2021-12-04T22:05:18.690017",
     "status": "completed"
    },
    "tags": []
   },
   "source": [
    "## submission\n"
   ]
  },
  {
   "cell_type": "code",
   "execution_count": 103,
   "id": "f6c03c39",
   "metadata": {},
   "outputs": [
    {
     "data": {
      "text/html": [
       "<div>\n",
       "<style scoped>\n",
       "    .dataframe tbody tr th:only-of-type {\n",
       "        vertical-align: middle;\n",
       "    }\n",
       "\n",
       "    .dataframe tbody tr th {\n",
       "        vertical-align: top;\n",
       "    }\n",
       "\n",
       "    .dataframe thead th {\n",
       "        text-align: right;\n",
       "    }\n",
       "</style>\n",
       "<table border=\"1\" class=\"dataframe\">\n",
       "  <thead>\n",
       "    <tr style=\"text-align: right;\">\n",
       "      <th></th>\n",
       "      <th>client_id</th>\n",
       "      <th>default</th>\n",
       "    </tr>\n",
       "  </thead>\n",
       "  <tbody>\n",
       "    <tr>\n",
       "      <th>0</th>\n",
       "      <td>74835</td>\n",
       "      <td>0</td>\n",
       "    </tr>\n",
       "    <tr>\n",
       "      <th>1</th>\n",
       "      <td>17527</td>\n",
       "      <td>0</td>\n",
       "    </tr>\n",
       "    <tr>\n",
       "      <th>2</th>\n",
       "      <td>75683</td>\n",
       "      <td>0</td>\n",
       "    </tr>\n",
       "    <tr>\n",
       "      <th>3</th>\n",
       "      <td>26883</td>\n",
       "      <td>0</td>\n",
       "    </tr>\n",
       "    <tr>\n",
       "      <th>4</th>\n",
       "      <td>28862</td>\n",
       "      <td>0</td>\n",
       "    </tr>\n",
       "    <tr>\n",
       "      <th>5</th>\n",
       "      <td>99881</td>\n",
       "      <td>0</td>\n",
       "    </tr>\n",
       "    <tr>\n",
       "      <th>6</th>\n",
       "      <td>26630</td>\n",
       "      <td>0</td>\n",
       "    </tr>\n",
       "    <tr>\n",
       "      <th>7</th>\n",
       "      <td>79934</td>\n",
       "      <td>0</td>\n",
       "    </tr>\n",
       "    <tr>\n",
       "      <th>8</th>\n",
       "      <td>16605</td>\n",
       "      <td>0</td>\n",
       "    </tr>\n",
       "    <tr>\n",
       "      <th>9</th>\n",
       "      <td>105449</td>\n",
       "      <td>0</td>\n",
       "    </tr>\n",
       "  </tbody>\n",
       "</table>\n",
       "</div>"
      ],
      "text/plain": [
       "   client_id  default\n",
       "0      74835        0\n",
       "1      17527        0\n",
       "2      75683        0\n",
       "3      26883        0\n",
       "4      28862        0\n",
       "5      99881        0\n",
       "6      26630        0\n",
       "7      79934        0\n",
       "8      16605        0\n",
       "9     105449        0"
      ]
     },
     "execution_count": 103,
     "metadata": {},
     "output_type": "execute_result"
    }
   ],
   "source": [
    "\n",
    "sample_submission['default'] = predict_submission\n",
    "sample_submission.to_csv('submission.csv', index=False)\n",
    "sample_submission.head(10)"
   ]
  },
  {
   "cell_type": "code",
   "execution_count": 104,
   "id": "3ef47a1b",
   "metadata": {
    "execution": {
     "iopub.execute_input": "2021-12-04T22:05:18.848009Z",
     "iopub.status.busy": "2021-12-04T22:05:18.847439Z",
     "iopub.status.idle": "2021-12-04T22:05:18.864324Z",
     "shell.execute_reply": "2021-12-04T22:05:18.864859Z",
     "shell.execute_reply.started": "2021-12-04T22:02:11.116379Z"
    },
    "papermill": {
     "duration": 0.043024,
     "end_time": "2021-12-04T22:05:18.865039",
     "exception": false,
     "start_time": "2021-12-04T22:05:18.822015",
     "status": "completed"
    },
    "tags": []
   },
   "outputs": [
    {
     "data": {
      "text/html": [
       "<div>\n",
       "<style scoped>\n",
       "    .dataframe tbody tr th:only-of-type {\n",
       "        vertical-align: middle;\n",
       "    }\n",
       "\n",
       "    .dataframe tbody tr th {\n",
       "        vertical-align: top;\n",
       "    }\n",
       "\n",
       "    .dataframe thead th {\n",
       "        text-align: right;\n",
       "    }\n",
       "</style>\n",
       "<table border=\"1\" class=\"dataframe\">\n",
       "  <thead>\n",
       "    <tr style=\"text-align: right;\">\n",
       "      <th></th>\n",
       "      <th>client_id</th>\n",
       "      <th>default</th>\n",
       "    </tr>\n",
       "  </thead>\n",
       "  <tbody>\n",
       "    <tr>\n",
       "      <th>count</th>\n",
       "      <td>36349.000000</td>\n",
       "      <td>36349.00000</td>\n",
       "    </tr>\n",
       "    <tr>\n",
       "      <th>mean</th>\n",
       "      <td>54945.647473</td>\n",
       "      <td>0.00011</td>\n",
       "    </tr>\n",
       "    <tr>\n",
       "      <th>std</th>\n",
       "      <td>31706.052195</td>\n",
       "      <td>0.01049</td>\n",
       "    </tr>\n",
       "    <tr>\n",
       "      <th>min</th>\n",
       "      <td>4.000000</td>\n",
       "      <td>0.00000</td>\n",
       "    </tr>\n",
       "    <tr>\n",
       "      <th>25%</th>\n",
       "      <td>27744.000000</td>\n",
       "      <td>0.00000</td>\n",
       "    </tr>\n",
       "    <tr>\n",
       "      <th>50%</th>\n",
       "      <td>54657.000000</td>\n",
       "      <td>0.00000</td>\n",
       "    </tr>\n",
       "    <tr>\n",
       "      <th>75%</th>\n",
       "      <td>82322.000000</td>\n",
       "      <td>0.00000</td>\n",
       "    </tr>\n",
       "    <tr>\n",
       "      <th>max</th>\n",
       "      <td>110148.000000</td>\n",
       "      <td>1.00000</td>\n",
       "    </tr>\n",
       "  </tbody>\n",
       "</table>\n",
       "</div>"
      ],
      "text/plain": [
       "           client_id      default\n",
       "count   36349.000000  36349.00000\n",
       "mean    54945.647473      0.00011\n",
       "std     31706.052195      0.01049\n",
       "min         4.000000      0.00000\n",
       "25%     27744.000000      0.00000\n",
       "50%     54657.000000      0.00000\n",
       "75%     82322.000000      0.00000\n",
       "max    110148.000000      1.00000"
      ]
     },
     "execution_count": 104,
     "metadata": {},
     "output_type": "execute_result"
    }
   ],
   "source": [
    "sample_submission.describe()"
   ]
  },
  {
   "cell_type": "code",
   "execution_count": 105,
   "id": "f18dee27",
   "metadata": {
    "execution": {
     "iopub.execute_input": "2021-12-04T22:05:18.915910Z",
     "iopub.status.busy": "2021-12-04T22:05:18.915303Z",
     "iopub.status.idle": "2021-12-04T22:05:20.073361Z",
     "shell.execute_reply": "2021-12-04T22:05:20.074523Z",
     "shell.execute_reply.started": "2021-12-04T22:02:11.138984Z"
    },
    "papermill": {
     "duration": 1.18609,
     "end_time": "2021-12-04T22:05:20.074775",
     "exception": false,
     "start_time": "2021-12-04T22:05:18.888685",
     "status": "completed"
    },
    "tags": []
   },
   "outputs": [],
   "source": [
    "# !kaggle competitions submit -c sf-scoring -f submission.csv -m \"one more try\""
   ]
  },
  {
   "cell_type": "code",
   "execution_count": null,
   "id": "401908b8",
   "metadata": {},
   "outputs": [],
   "source": []
  }
 ],
 "metadata": {
  "kernelspec": {
   "display_name": "Python 3",
   "language": "python",
   "name": "python3"
  },
  "language_info": {
   "codemirror_mode": {
    "name": "ipython",
    "version": 3
   },
   "file_extension": ".py",
   "mimetype": "text/x-python",
   "name": "python",
   "nbconvert_exporter": "python",
   "pygments_lexer": "ipython3",
   "version": "3.9.7"
  },
  "papermill": {
   "default_parameters": {},
   "duration": 14.625956,
   "end_time": "2021-12-04T22:05:20.815483",
   "environment_variables": {},
   "exception": null,
   "input_path": "__notebook__.ipynb",
   "output_path": "__notebook__.ipynb",
   "parameters": {},
   "start_time": "2021-12-04T22:05:06.189527",
   "version": "2.3.3"
  }
 },
 "nbformat": 4,
 "nbformat_minor": 5
}
