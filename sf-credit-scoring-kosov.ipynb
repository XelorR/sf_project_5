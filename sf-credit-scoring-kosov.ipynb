{
 "cells": [
  {
   "cell_type": "markdown",
   "id": "bdcfae36",
   "metadata": {
    "papermill": {
     "duration": 0.167551,
     "end_time": "2022-01-19T07:07:55.008572",
     "exception": false,
     "start_time": "2022-01-19T07:07:54.841021",
     "status": "completed"
    },
    "tags": []
   },
   "source": [
    "## 1. Знакомство с проектом и данными\n",
    "\n",
    "#### Цель: \n",
    "\"Для каждого client_id в наборе тестов ('test.csv') вы должны предсказать вероятность для default переменной. Итоговый файл должен содержать в заголовоке: \n",
    "* client_id - идентификатор заемщика;\n",
    "* default - вероятность дефолта по кредиту.\"\n",
    "\n",
    "Исходные данные представленные в виде обучающей выборки: train(73,799 записей) и тестовой: test(36,349 записей). Данные выборок хорошо сбалансированны по всем параметрам (пропорции классов в обоих файлах по всем параметрам сохраняются), но искомые классы в парамтре default не сбалансированны и представленны в пропорции: 12,7% / 87,3%\n",
    "\n",
    "##### Учитывая, что искомые классы не сбалансированны, а так же то, что нас интересует максималый процент верных предсказаний по обеим классам - в качестве ключевой метрики для оценки точности будем использовать F-меру (ну и тем более по ней оценивается рейтинг в лидерборде!)."
   ]
  },
  {
   "cell_type": "code",
   "execution_count": 1,
   "id": "f733c306",
   "metadata": {
    "execution": {
     "iopub.execute_input": "2022-01-19T07:07:55.225992Z",
     "iopub.status.busy": "2022-01-19T07:07:55.222201Z",
     "iopub.status.idle": "2022-01-19T07:07:56.336537Z",
     "shell.execute_reply": "2022-01-19T07:07:56.335943Z",
     "shell.execute_reply.started": "2022-01-18T12:31:05.546881Z"
    },
    "papermill": {
     "duration": 1.242705,
     "end_time": "2022-01-19T07:07:56.336691",
     "exception": false,
     "start_time": "2022-01-19T07:07:55.093986",
     "status": "completed"
    },
    "tags": []
   },
   "outputs": [
    {
     "name": "stdout",
     "output_type": "stream",
     "text": [
      "kaggle/input/sample_submission.csv\n",
      "kaggle/input/sf-scoring.zip\n",
      "kaggle/input/test.csv\n",
      "kaggle/input/train.csv\n"
     ]
    }
   ],
   "source": [
    "# импортируем библиотеки\n",
    "\n",
    "import numpy as np\n",
    "import pandas as pd\n",
    "import seaborn as sns\n",
    "import sklearn\n",
    "\n",
    "from sklearn.linear_model import LogisticRegression\n",
    "from sklearn.tree import DecisionTreeClassifier\n",
    "from sklearn.feature_selection import f_classif, mutual_info_classif\n",
    "from sklearn.model_selection import train_test_split, KFold, StratifiedKFold, StratifiedShuffleSplit\n",
    "from sklearn.model_selection import cross_val_score, cross_validate, GridSearchCV\n",
    "from sklearn.metrics import mean_squared_error, f1_score, accuracy_score\n",
    "from sklearn.metrics import balanced_accuracy_score, precision_recall_curve\n",
    "from sklearn.metrics import classification_report, confusion_matrix, roc_curve, roc_auc_score\n",
    "from sklearn.preprocessing import MinMaxScaler, StandardScaler, RobustScaler, LabelEncoder, OneHotEncoder\n",
    "from itertools import combinations, combinations_with_replacement\n",
    "\n",
    "import os\n",
    "for dirname, _, filenames in os.walk('kaggle/input'):\n",
    "    for filename in filenames:\n",
    "        print(os.path.join(dirname, filename))"
   ]
  },
  {
   "cell_type": "code",
   "execution_count": 2,
   "id": "2e82b097",
   "metadata": {
    "execution": {
     "iopub.execute_input": "2022-01-19T07:07:56.508764Z",
     "iopub.status.busy": "2022-01-19T07:07:56.507962Z",
     "iopub.status.idle": "2022-01-19T07:07:56.514017Z",
     "shell.execute_reply": "2022-01-19T07:07:56.513563Z",
     "shell.execute_reply.started": "2022-01-18T12:31:05.561941Z"
    },
    "papermill": {
     "duration": 0.094091,
     "end_time": "2022-01-19T07:07:56.514144",
     "exception": false,
     "start_time": "2022-01-19T07:07:56.420053",
     "status": "completed"
    },
    "tags": []
   },
   "outputs": [],
   "source": [
    "# подгрузим дополнительные настройки\n",
    "\n",
    "import warnings\n",
    "warnings.simplefilter('ignore')\n",
    "\n",
    "# import matplotlib.pyplot as plt2\n",
    "from matplotlib import pylab as plt\n",
    "%matplotlib inline\n",
    "\n",
    "pd.set_option('display.width', 140, 'display.max_columns', None)"
   ]
  },
  {
   "cell_type": "code",
   "execution_count": 3,
   "id": "23f252f3",
   "metadata": {
    "execution": {
     "iopub.execute_input": "2022-01-19T07:07:56.686021Z",
     "iopub.status.busy": "2022-01-19T07:07:56.685394Z",
     "iopub.status.idle": "2022-01-19T07:08:00.420497Z",
     "shell.execute_reply": "2022-01-19T07:08:00.419957Z",
     "shell.execute_reply.started": "2022-01-18T12:31:05.572891Z"
    },
    "papermill": {
     "duration": 3.822413,
     "end_time": "2022-01-19T07:08:00.420634",
     "exception": false,
     "start_time": "2022-01-19T07:07:56.598221",
     "status": "completed"
    },
    "tags": []
   },
   "outputs": [],
   "source": [
    "# зафиксируем версию пакетов, чтобы эксперименты были воспроизводимы:\n",
    "!pip freeze > requirements.txt\n",
    "SEED = 100"
   ]
  },
  {
   "cell_type": "code",
   "execution_count": 4,
   "id": "38ad7086",
   "metadata": {
    "execution": {
     "iopub.execute_input": "2022-01-19T07:08:00.595600Z",
     "iopub.status.busy": "2022-01-19T07:08:00.594759Z",
     "iopub.status.idle": "2022-01-19T07:08:00.597288Z",
     "shell.execute_reply": "2022-01-19T07:08:00.596878Z",
     "shell.execute_reply.started": "2022-01-18T12:31:07.770279Z"
    },
    "papermill": {
     "duration": 0.092947,
     "end_time": "2022-01-19T07:08:00.597404",
     "exception": false,
     "start_time": "2022-01-19T07:08:00.504457",
     "status": "completed"
    },
    "tags": []
   },
   "outputs": [],
   "source": [
    "# функция обработки бинарных категориальных признаков (в бинарный числовой):\n",
    "def binary_futures(*dfs, **columns_args):\n",
    "    for df in dfs:\n",
    "        for col, arg in columns_args.items():\n",
    "            df[col] = (df[col] == arg).astype('int32')"
   ]
  },
  {
   "cell_type": "markdown",
   "id": "65838daa",
   "metadata": {
    "papermill": {
     "duration": 0.082321,
     "end_time": "2022-01-19T07:08:00.762354",
     "exception": false,
     "start_time": "2022-01-19T07:08:00.680033",
     "status": "completed"
    },
    "tags": []
   },
   "source": [
    "#### Посмотрим на обучающие и тестовые данные:"
   ]
  },
  {
   "cell_type": "code",
   "execution_count": 5,
   "id": "58e5d6d5",
   "metadata": {
    "execution": {
     "iopub.execute_input": "2022-01-19T07:08:00.934407Z",
     "iopub.status.busy": "2022-01-19T07:08:00.933686Z",
     "iopub.status.idle": "2022-01-19T07:08:01.221817Z",
     "shell.execute_reply": "2022-01-19T07:08:01.220895Z",
     "shell.execute_reply.started": "2022-01-18T12:31:07.778988Z"
    },
    "papermill": {
     "duration": 0.376528,
     "end_time": "2022-01-19T07:08:01.221966",
     "exception": false,
     "start_time": "2022-01-19T07:08:00.845438",
     "status": "completed"
    },
    "tags": []
   },
   "outputs": [],
   "source": [
    "DATA_DIR = 'kaggle/input/'\n",
    "train = pd.read_csv(DATA_DIR+'train.csv')\n",
    "test = pd.read_csv(DATA_DIR+'test.csv')"
   ]
  },
  {
   "cell_type": "code",
   "execution_count": 6,
   "id": "a1eb06be",
   "metadata": {
    "execution": {
     "iopub.execute_input": "2022-01-19T07:08:01.397444Z",
     "iopub.status.busy": "2022-01-19T07:08:01.396700Z",
     "iopub.status.idle": "2022-01-19T07:08:01.457907Z",
     "shell.execute_reply": "2022-01-19T07:08:01.458616Z",
     "shell.execute_reply.started": "2022-01-18T12:31:07.944596Z"
    },
    "papermill": {
     "duration": 0.153719,
     "end_time": "2022-01-19T07:08:01.458773",
     "exception": false,
     "start_time": "2022-01-19T07:08:01.305054",
     "status": "completed"
    },
    "tags": []
   },
   "outputs": [
    {
     "name": "stdout",
     "output_type": "stream",
     "text": [
      "<class 'pandas.core.frame.DataFrame'>\n",
      "RangeIndex: 73799 entries, 0 to 73798\n",
      "Data columns (total 19 columns):\n",
      " #   Column            Non-Null Count  Dtype  \n",
      "---  ------            --------------  -----  \n",
      " 0   client_id         73799 non-null  int64  \n",
      " 1   app_date          73799 non-null  object \n",
      " 2   education         73492 non-null  object \n",
      " 3   sex               73799 non-null  object \n",
      " 4   age               73799 non-null  int64  \n",
      " 5   car               73799 non-null  object \n",
      " 6   car_type          73799 non-null  object \n",
      " 7   decline_app_cnt   73799 non-null  int64  \n",
      " 8   good_work         73799 non-null  int64  \n",
      " 9   score_bki         73799 non-null  float64\n",
      " 10  bki_request_cnt   73799 non-null  int64  \n",
      " 11  region_rating     73799 non-null  int64  \n",
      " 12  home_address      73799 non-null  int64  \n",
      " 13  work_address      73799 non-null  int64  \n",
      " 14  income            73799 non-null  int64  \n",
      " 15  sna               73799 non-null  int64  \n",
      " 16  first_time        73799 non-null  int64  \n",
      " 17  foreign_passport  73799 non-null  object \n",
      " 18  default           73799 non-null  int64  \n",
      "dtypes: float64(1), int64(12), object(6)\n",
      "memory usage: 10.7+ MB\n"
     ]
    }
   ],
   "source": [
    "# Как видим в данных присутсвует 6 категориальных признаков, 12 числовых и один целевой параметр (в обучающей выборке): default - флаг дефолта по кредиту.\n",
    "train.info()"
   ]
  },
  {
   "cell_type": "code",
   "execution_count": 7,
   "id": "b492f8d9",
   "metadata": {
    "execution": {
     "iopub.execute_input": "2022-01-19T07:08:01.636898Z",
     "iopub.status.busy": "2022-01-19T07:08:01.636074Z",
     "iopub.status.idle": "2022-01-19T07:08:01.656747Z",
     "shell.execute_reply": "2022-01-19T07:08:01.656288Z",
     "shell.execute_reply.started": "2022-01-18T12:31:08.005788Z"
    },
    "papermill": {
     "duration": 0.114242,
     "end_time": "2022-01-19T07:08:01.656874",
     "exception": false,
     "start_time": "2022-01-19T07:08:01.542632",
     "status": "completed"
    },
    "scrolled": true,
    "tags": []
   },
   "outputs": [
    {
     "name": "stdout",
     "output_type": "stream",
     "text": [
      "(73799, 19)\n"
     ]
    },
    {
     "data": {
      "text/html": [
       "<div>\n",
       "<style scoped>\n",
       "    .dataframe tbody tr th:only-of-type {\n",
       "        vertical-align: middle;\n",
       "    }\n",
       "\n",
       "    .dataframe tbody tr th {\n",
       "        vertical-align: top;\n",
       "    }\n",
       "\n",
       "    .dataframe thead th {\n",
       "        text-align: right;\n",
       "    }\n",
       "</style>\n",
       "<table border=\"1\" class=\"dataframe\">\n",
       "  <thead>\n",
       "    <tr style=\"text-align: right;\">\n",
       "      <th></th>\n",
       "      <th>client_id</th>\n",
       "      <th>app_date</th>\n",
       "      <th>education</th>\n",
       "      <th>sex</th>\n",
       "      <th>age</th>\n",
       "      <th>car</th>\n",
       "      <th>car_type</th>\n",
       "      <th>decline_app_cnt</th>\n",
       "      <th>good_work</th>\n",
       "      <th>score_bki</th>\n",
       "      <th>bki_request_cnt</th>\n",
       "      <th>region_rating</th>\n",
       "      <th>home_address</th>\n",
       "      <th>work_address</th>\n",
       "      <th>income</th>\n",
       "      <th>sna</th>\n",
       "      <th>first_time</th>\n",
       "      <th>foreign_passport</th>\n",
       "      <th>default</th>\n",
       "    </tr>\n",
       "  </thead>\n",
       "  <tbody>\n",
       "    <tr>\n",
       "      <th>65190</th>\n",
       "      <td>27308</td>\n",
       "      <td>03FEB2014</td>\n",
       "      <td>PGR</td>\n",
       "      <td>M</td>\n",
       "      <td>57</td>\n",
       "      <td>Y</td>\n",
       "      <td>Y</td>\n",
       "      <td>0</td>\n",
       "      <td>0</td>\n",
       "      <td>-1.976751</td>\n",
       "      <td>3</td>\n",
       "      <td>60</td>\n",
       "      <td>1</td>\n",
       "      <td>3</td>\n",
       "      <td>43000</td>\n",
       "      <td>3</td>\n",
       "      <td>3</td>\n",
       "      <td>N</td>\n",
       "      <td>0</td>\n",
       "    </tr>\n",
       "    <tr>\n",
       "      <th>5849</th>\n",
       "      <td>109910</td>\n",
       "      <td>30APR2014</td>\n",
       "      <td>SCH</td>\n",
       "      <td>F</td>\n",
       "      <td>42</td>\n",
       "      <td>N</td>\n",
       "      <td>N</td>\n",
       "      <td>0</td>\n",
       "      <td>0</td>\n",
       "      <td>-2.417815</td>\n",
       "      <td>4</td>\n",
       "      <td>60</td>\n",
       "      <td>2</td>\n",
       "      <td>3</td>\n",
       "      <td>19200</td>\n",
       "      <td>4</td>\n",
       "      <td>3</td>\n",
       "      <td>N</td>\n",
       "      <td>0</td>\n",
       "    </tr>\n",
       "    <tr>\n",
       "      <th>56655</th>\n",
       "      <td>104013</td>\n",
       "      <td>22APR2014</td>\n",
       "      <td>GRD</td>\n",
       "      <td>F</td>\n",
       "      <td>48</td>\n",
       "      <td>Y</td>\n",
       "      <td>Y</td>\n",
       "      <td>2</td>\n",
       "      <td>0</td>\n",
       "      <td>-2.263434</td>\n",
       "      <td>1</td>\n",
       "      <td>50</td>\n",
       "      <td>1</td>\n",
       "      <td>2</td>\n",
       "      <td>65000</td>\n",
       "      <td>1</td>\n",
       "      <td>3</td>\n",
       "      <td>N</td>\n",
       "      <td>0</td>\n",
       "    </tr>\n",
       "    <tr>\n",
       "      <th>11868</th>\n",
       "      <td>22113</td>\n",
       "      <td>29JAN2014</td>\n",
       "      <td>SCH</td>\n",
       "      <td>F</td>\n",
       "      <td>51</td>\n",
       "      <td>Y</td>\n",
       "      <td>N</td>\n",
       "      <td>0</td>\n",
       "      <td>0</td>\n",
       "      <td>-1.425023</td>\n",
       "      <td>2</td>\n",
       "      <td>50</td>\n",
       "      <td>2</td>\n",
       "      <td>3</td>\n",
       "      <td>13000</td>\n",
       "      <td>2</td>\n",
       "      <td>3</td>\n",
       "      <td>N</td>\n",
       "      <td>0</td>\n",
       "    </tr>\n",
       "    <tr>\n",
       "      <th>12533</th>\n",
       "      <td>105217</td>\n",
       "      <td>24APR2014</td>\n",
       "      <td>SCH</td>\n",
       "      <td>F</td>\n",
       "      <td>60</td>\n",
       "      <td>N</td>\n",
       "      <td>N</td>\n",
       "      <td>0</td>\n",
       "      <td>0</td>\n",
       "      <td>-1.752949</td>\n",
       "      <td>9</td>\n",
       "      <td>40</td>\n",
       "      <td>2</td>\n",
       "      <td>3</td>\n",
       "      <td>9600</td>\n",
       "      <td>1</td>\n",
       "      <td>4</td>\n",
       "      <td>N</td>\n",
       "      <td>0</td>\n",
       "    </tr>\n",
       "  </tbody>\n",
       "</table>\n",
       "</div>"
      ],
      "text/plain": [
       "       client_id   app_date education sex  age car car_type  decline_app_cnt  good_work  score_bki  bki_request_cnt  region_rating  \\\n",
       "65190      27308  03FEB2014       PGR   M   57   Y        Y                0          0  -1.976751                3             60   \n",
       "5849      109910  30APR2014       SCH   F   42   N        N                0          0  -2.417815                4             60   \n",
       "56655     104013  22APR2014       GRD   F   48   Y        Y                2          0  -2.263434                1             50   \n",
       "11868      22113  29JAN2014       SCH   F   51   Y        N                0          0  -1.425023                2             50   \n",
       "12533     105217  24APR2014       SCH   F   60   N        N                0          0  -1.752949                9             40   \n",
       "\n",
       "       home_address  work_address  income  sna  first_time foreign_passport  default  \n",
       "65190             1             3   43000    3           3                N        0  \n",
       "5849              2             3   19200    4           3                N        0  \n",
       "56655             1             2   65000    1           3                N        0  \n",
       "11868             2             3   13000    2           3                N        0  \n",
       "12533             2             3    9600    1           4                N        0  "
      ]
     },
     "execution_count": 7,
     "metadata": {},
     "output_type": "execute_result"
    }
   ],
   "source": [
    "print(train.shape)\n",
    "train.sample(5)"
   ]
  },
  {
   "cell_type": "code",
   "execution_count": 8,
   "id": "1d2e0838",
   "metadata": {
    "execution": {
     "iopub.execute_input": "2022-01-19T07:08:01.843571Z",
     "iopub.status.busy": "2022-01-19T07:08:01.830158Z",
     "iopub.status.idle": "2022-01-19T07:08:01.848078Z",
     "shell.execute_reply": "2022-01-19T07:08:01.847615Z",
     "shell.execute_reply.started": "2022-01-18T12:31:08.031629Z"
    },
    "papermill": {
     "duration": 0.106992,
     "end_time": "2022-01-19T07:08:01.848194",
     "exception": false,
     "start_time": "2022-01-19T07:08:01.741202",
     "status": "completed"
    },
    "scrolled": true,
    "tags": []
   },
   "outputs": [
    {
     "name": "stdout",
     "output_type": "stream",
     "text": [
      "(36349, 18)\n"
     ]
    },
    {
     "data": {
      "text/html": [
       "<div>\n",
       "<style scoped>\n",
       "    .dataframe tbody tr th:only-of-type {\n",
       "        vertical-align: middle;\n",
       "    }\n",
       "\n",
       "    .dataframe tbody tr th {\n",
       "        vertical-align: top;\n",
       "    }\n",
       "\n",
       "    .dataframe thead th {\n",
       "        text-align: right;\n",
       "    }\n",
       "</style>\n",
       "<table border=\"1\" class=\"dataframe\">\n",
       "  <thead>\n",
       "    <tr style=\"text-align: right;\">\n",
       "      <th></th>\n",
       "      <th>client_id</th>\n",
       "      <th>app_date</th>\n",
       "      <th>education</th>\n",
       "      <th>sex</th>\n",
       "      <th>age</th>\n",
       "      <th>car</th>\n",
       "      <th>car_type</th>\n",
       "      <th>decline_app_cnt</th>\n",
       "      <th>good_work</th>\n",
       "      <th>score_bki</th>\n",
       "      <th>bki_request_cnt</th>\n",
       "      <th>region_rating</th>\n",
       "      <th>home_address</th>\n",
       "      <th>work_address</th>\n",
       "      <th>income</th>\n",
       "      <th>sna</th>\n",
       "      <th>first_time</th>\n",
       "      <th>foreign_passport</th>\n",
       "    </tr>\n",
       "  </thead>\n",
       "  <tbody>\n",
       "    <tr>\n",
       "      <th>16785</th>\n",
       "      <td>1584</td>\n",
       "      <td>06JAN2014</td>\n",
       "      <td>SCH</td>\n",
       "      <td>F</td>\n",
       "      <td>55</td>\n",
       "      <td>N</td>\n",
       "      <td>N</td>\n",
       "      <td>0</td>\n",
       "      <td>1</td>\n",
       "      <td>-1.947518</td>\n",
       "      <td>0</td>\n",
       "      <td>60</td>\n",
       "      <td>3</td>\n",
       "      <td>3</td>\n",
       "      <td>10000</td>\n",
       "      <td>1</td>\n",
       "      <td>3</td>\n",
       "      <td>N</td>\n",
       "    </tr>\n",
       "    <tr>\n",
       "      <th>22999</th>\n",
       "      <td>16181</td>\n",
       "      <td>23JAN2014</td>\n",
       "      <td>GRD</td>\n",
       "      <td>F</td>\n",
       "      <td>35</td>\n",
       "      <td>N</td>\n",
       "      <td>N</td>\n",
       "      <td>0</td>\n",
       "      <td>1</td>\n",
       "      <td>-1.455022</td>\n",
       "      <td>0</td>\n",
       "      <td>60</td>\n",
       "      <td>1</td>\n",
       "      <td>2</td>\n",
       "      <td>30000</td>\n",
       "      <td>3</td>\n",
       "      <td>3</td>\n",
       "      <td>Y</td>\n",
       "    </tr>\n",
       "    <tr>\n",
       "      <th>12117</th>\n",
       "      <td>10407</td>\n",
       "      <td>17JAN2014</td>\n",
       "      <td>GRD</td>\n",
       "      <td>M</td>\n",
       "      <td>31</td>\n",
       "      <td>N</td>\n",
       "      <td>N</td>\n",
       "      <td>0</td>\n",
       "      <td>0</td>\n",
       "      <td>-1.500604</td>\n",
       "      <td>4</td>\n",
       "      <td>70</td>\n",
       "      <td>1</td>\n",
       "      <td>3</td>\n",
       "      <td>300000</td>\n",
       "      <td>1</td>\n",
       "      <td>3</td>\n",
       "      <td>N</td>\n",
       "    </tr>\n",
       "    <tr>\n",
       "      <th>33607</th>\n",
       "      <td>60229</td>\n",
       "      <td>09MAR2014</td>\n",
       "      <td>UGR</td>\n",
       "      <td>M</td>\n",
       "      <td>41</td>\n",
       "      <td>Y</td>\n",
       "      <td>Y</td>\n",
       "      <td>0</td>\n",
       "      <td>0</td>\n",
       "      <td>-1.749756</td>\n",
       "      <td>1</td>\n",
       "      <td>80</td>\n",
       "      <td>2</td>\n",
       "      <td>3</td>\n",
       "      <td>50000</td>\n",
       "      <td>1</td>\n",
       "      <td>4</td>\n",
       "      <td>Y</td>\n",
       "    </tr>\n",
       "    <tr>\n",
       "      <th>32942</th>\n",
       "      <td>24405</td>\n",
       "      <td>31JAN2014</td>\n",
       "      <td>SCH</td>\n",
       "      <td>F</td>\n",
       "      <td>24</td>\n",
       "      <td>N</td>\n",
       "      <td>N</td>\n",
       "      <td>0</td>\n",
       "      <td>0</td>\n",
       "      <td>-1.973287</td>\n",
       "      <td>2</td>\n",
       "      <td>40</td>\n",
       "      <td>1</td>\n",
       "      <td>2</td>\n",
       "      <td>12000</td>\n",
       "      <td>4</td>\n",
       "      <td>2</td>\n",
       "      <td>N</td>\n",
       "    </tr>\n",
       "  </tbody>\n",
       "</table>\n",
       "</div>"
      ],
      "text/plain": [
       "       client_id   app_date education sex  age car car_type  decline_app_cnt  good_work  score_bki  bki_request_cnt  region_rating  \\\n",
       "16785       1584  06JAN2014       SCH   F   55   N        N                0          1  -1.947518                0             60   \n",
       "22999      16181  23JAN2014       GRD   F   35   N        N                0          1  -1.455022                0             60   \n",
       "12117      10407  17JAN2014       GRD   M   31   N        N                0          0  -1.500604                4             70   \n",
       "33607      60229  09MAR2014       UGR   M   41   Y        Y                0          0  -1.749756                1             80   \n",
       "32942      24405  31JAN2014       SCH   F   24   N        N                0          0  -1.973287                2             40   \n",
       "\n",
       "       home_address  work_address  income  sna  first_time foreign_passport  \n",
       "16785             3             3   10000    1           3                N  \n",
       "22999             1             2   30000    3           3                Y  \n",
       "12117             1             3  300000    1           3                N  \n",
       "33607             2             3   50000    1           4                Y  \n",
       "32942             1             2   12000    4           2                N  "
      ]
     },
     "execution_count": 8,
     "metadata": {},
     "output_type": "execute_result"
    }
   ],
   "source": [
    "print(test.shape)\n",
    "test.sample(5)"
   ]
  },
  {
   "cell_type": "code",
   "execution_count": 9,
   "id": "e5f469fb",
   "metadata": {
    "execution": {
     "iopub.execute_input": "2022-01-19T07:08:02.033340Z",
     "iopub.status.busy": "2022-01-19T07:08:02.032499Z",
     "iopub.status.idle": "2022-01-19T07:08:02.035354Z",
     "shell.execute_reply": "2022-01-19T07:08:02.035837Z",
     "shell.execute_reply.started": "2022-01-18T12:31:08.053477Z"
    },
    "papermill": {
     "duration": 0.098789,
     "end_time": "2022-01-19T07:08:02.035987",
     "exception": false,
     "start_time": "2022-01-19T07:08:01.937198",
     "status": "completed"
    },
    "tags": []
   },
   "outputs": [
    {
     "data": {
      "text/plain": [
       "0    87.300641\n",
       "1    12.699359\n",
       "Name: default, dtype: float64"
      ]
     },
     "execution_count": 9,
     "metadata": {},
     "output_type": "execute_result"
    }
   ],
   "source": [
    "# Посмотрим какой процент дефолтных записей:\n",
    "train.default.value_counts(normalize=True)*100"
   ]
  },
  {
   "cell_type": "markdown",
   "id": "72225301",
   "metadata": {
    "papermill": {
     "duration": 0.085274,
     "end_time": "2022-01-19T07:08:02.210078",
     "exception": false,
     "start_time": "2022-01-19T07:08:02.124804",
     "status": "completed"
    },
    "tags": []
   },
   "source": [
    "##### Видим, что выборка не сбалансированна и вероятно потребуется добавить записей по дефолтным клиентам."
   ]
  },
  {
   "cell_type": "code",
   "execution_count": 10,
   "id": "806e4cd8",
   "metadata": {
    "execution": {
     "iopub.execute_input": "2022-01-19T07:08:02.386308Z",
     "iopub.status.busy": "2022-01-19T07:08:02.385579Z",
     "iopub.status.idle": "2022-01-19T07:08:02.523566Z",
     "shell.execute_reply": "2022-01-19T07:08:02.524278Z",
     "shell.execute_reply.started": "2022-01-18T12:31:08.063768Z"
    },
    "papermill": {
     "duration": 0.229028,
     "end_time": "2022-01-19T07:08:02.524494",
     "exception": false,
     "start_time": "2022-01-19T07:08:02.295466",
     "status": "completed"
    },
    "tags": []
   },
   "outputs": [
    {
     "name": "stdout",
     "output_type": "stream",
     "text": [
      "Пропуски в train: education    307\n",
      "dtype: int64\n",
      "Пропуски в test: education    171\n",
      "dtype: int64\n"
     ]
    }
   ],
   "source": [
    "# Проверим наличие пропусков в данных:\n",
    "print('Пропуски в train:', train.isnull().sum()[train.isnull().sum() > 0])\n",
    "print('Пропуски в test:', test.isnull().sum()[test.isnull().sum() > 0])"
   ]
  },
  {
   "cell_type": "code",
   "execution_count": 11,
   "id": "977f0032",
   "metadata": {
    "execution": {
     "iopub.execute_input": "2022-01-19T07:08:02.701264Z",
     "iopub.status.busy": "2022-01-19T07:08:02.700361Z",
     "iopub.status.idle": "2022-01-19T07:08:02.702688Z",
     "shell.execute_reply": "2022-01-19T07:08:02.702164Z",
     "shell.execute_reply.started": "2022-01-18T12:31:08.206765Z"
    },
    "papermill": {
     "duration": 0.091269,
     "end_time": "2022-01-19T07:08:02.702801",
     "exception": false,
     "start_time": "2022-01-19T07:08:02.611532",
     "status": "completed"
    },
    "tags": []
   },
   "outputs": [],
   "source": [
    "# Можно построить быстрый анализ данный с помощью profiling, но не станем и проведем данный анализ самостоятельно.\n",
    "# import pandas_profiling\n",
    "# pandas_profiling.ProfileReport(train)"
   ]
  },
  {
   "cell_type": "markdown",
   "id": "872d0499",
   "metadata": {
    "papermill": {
     "duration": 0.085328,
     "end_time": "2022-01-19T07:08:02.873234",
     "exception": false,
     "start_time": "2022-01-19T07:08:02.787906",
     "status": "completed"
    },
    "tags": []
   },
   "source": [
    "## 2. Анализ и обработка бинарных, категориальных и ординальных признаков:"
   ]
  },
  {
   "cell_type": "markdown",
   "id": "688be892",
   "metadata": {
    "papermill": {
     "duration": 0.086918,
     "end_time": "2022-01-19T07:08:03.046243",
     "exception": false,
     "start_time": "2022-01-19T07:08:02.959325",
     "status": "completed"
    },
    "tags": []
   },
   "source": [
    "#### 'sex'"
   ]
  },
  {
   "cell_type": "code",
   "execution_count": 12,
   "id": "c405852f",
   "metadata": {
    "execution": {
     "iopub.execute_input": "2022-01-19T07:08:03.232127Z",
     "iopub.status.busy": "2022-01-19T07:08:03.231278Z",
     "iopub.status.idle": "2022-01-19T07:08:03.265090Z",
     "shell.execute_reply": "2022-01-19T07:08:03.264483Z",
     "shell.execute_reply.started": "2022-01-18T12:31:08.212435Z"
    },
    "papermill": {
     "duration": 0.132637,
     "end_time": "2022-01-19T07:08:03.265230",
     "exception": false,
     "start_time": "2022-01-19T07:08:03.132593",
     "status": "completed"
    },
    "tags": []
   },
   "outputs": [
    {
     "name": "stdout",
     "output_type": "stream",
     "text": [
      "F    41562\n",
      "M    32237\n",
      "Name: sex, dtype: int64\n"
     ]
    },
    {
     "data": {
      "text/html": [
       "<div>\n",
       "<style scoped>\n",
       "    .dataframe tbody tr th:only-of-type {\n",
       "        vertical-align: middle;\n",
       "    }\n",
       "\n",
       "    .dataframe tbody tr th {\n",
       "        vertical-align: top;\n",
       "    }\n",
       "\n",
       "    .dataframe thead th {\n",
       "        text-align: right;\n",
       "    }\n",
       "</style>\n",
       "<table border=\"1\" class=\"dataframe\">\n",
       "  <thead>\n",
       "    <tr style=\"text-align: right;\">\n",
       "      <th>default</th>\n",
       "      <th>0</th>\n",
       "      <th>1</th>\n",
       "    </tr>\n",
       "    <tr>\n",
       "      <th>sex</th>\n",
       "      <th></th>\n",
       "      <th></th>\n",
       "    </tr>\n",
       "  </thead>\n",
       "  <tbody>\n",
       "    <tr>\n",
       "      <th>F</th>\n",
       "      <td>87.875944</td>\n",
       "      <td>12.124056</td>\n",
       "    </tr>\n",
       "    <tr>\n",
       "      <th>M</th>\n",
       "      <td>86.558923</td>\n",
       "      <td>13.441077</td>\n",
       "    </tr>\n",
       "  </tbody>\n",
       "</table>\n",
       "</div>"
      ],
      "text/plain": [
       "default          0          1\n",
       "sex                          \n",
       "F        87.875944  12.124056\n",
       "M        86.558923  13.441077"
      ]
     },
     "execution_count": 12,
     "metadata": {},
     "output_type": "execute_result"
    }
   ],
   "source": [
    "# Посмотрим на пропорции выборки:\n",
    "print(train.sex.value_counts())\n",
    "pd.crosstab(train.sex, train.default, normalize='index')*100"
   ]
  },
  {
   "cell_type": "markdown",
   "id": "b40fadbe",
   "metadata": {
    "papermill": {
     "duration": 0.086405,
     "end_time": "2022-01-19T07:08:03.440983",
     "exception": false,
     "start_time": "2022-01-19T07:08:03.354578",
     "status": "completed"
    },
    "tags": []
   },
   "source": [
    "##### Выраженной зависимости дефолта по привязке к полу - не наблюдается (видимо можем прогнозировать, что данный признак не значительный)."
   ]
  },
  {
   "cell_type": "code",
   "execution_count": 13,
   "id": "915aa259",
   "metadata": {
    "execution": {
     "iopub.execute_input": "2022-01-19T07:08:03.623032Z",
     "iopub.status.busy": "2022-01-19T07:08:03.622307Z",
     "iopub.status.idle": "2022-01-19T07:08:03.625587Z",
     "shell.execute_reply": "2022-01-19T07:08:03.626281Z",
     "shell.execute_reply.started": "2022-01-18T12:31:08.255375Z"
    },
    "papermill": {
     "duration": 0.098635,
     "end_time": "2022-01-19T07:08:03.626476",
     "exception": false,
     "start_time": "2022-01-19T07:08:03.527841",
     "status": "completed"
    },
    "tags": []
   },
   "outputs": [
    {
     "name": "stdout",
     "output_type": "stream",
     "text": [
      "F    20274\n",
      "M    16075\n",
      "Name: sex, dtype: int64\n"
     ]
    }
   ],
   "source": [
    "# Проверим пропорции выборки в тестовом наборе данных:\n",
    "print(test.sex.value_counts())"
   ]
  },
  {
   "cell_type": "code",
   "execution_count": 14,
   "id": "c83c0c33",
   "metadata": {
    "execution": {
     "iopub.execute_input": "2022-01-19T07:08:03.815928Z",
     "iopub.status.busy": "2022-01-19T07:08:03.814850Z",
     "iopub.status.idle": "2022-01-19T07:08:03.827367Z",
     "shell.execute_reply": "2022-01-19T07:08:03.826913Z",
     "shell.execute_reply.started": "2022-01-18T12:31:08.270167Z"
    },
    "papermill": {
     "duration": 0.113614,
     "end_time": "2022-01-19T07:08:03.827514",
     "exception": false,
     "start_time": "2022-01-19T07:08:03.713900",
     "status": "completed"
    },
    "tags": []
   },
   "outputs": [],
   "source": [
    "# Преобразуем в числовой-бинарный, где: 1 == 'M', 0 == 'F'\n",
    "train.sex = (train.sex == 'M').astype('int32')\n",
    "test.sex = (test.sex == 'M').astype('int32')\n",
    "\n",
    "# binary_futures(train, test, {'sex': 'M'})"
   ]
  },
  {
   "cell_type": "markdown",
   "id": "46237742",
   "metadata": {
    "papermill": {
     "duration": 0.087649,
     "end_time": "2022-01-19T07:08:04.001644",
     "exception": false,
     "start_time": "2022-01-19T07:08:03.913995",
     "status": "completed"
    },
    "tags": []
   },
   "source": [
    "#### 'car', 'car_type'"
   ]
  },
  {
   "cell_type": "code",
   "execution_count": 15,
   "id": "c0b6ea91",
   "metadata": {
    "execution": {
     "iopub.execute_input": "2022-01-19T07:08:04.200095Z",
     "iopub.status.busy": "2022-01-19T07:08:04.199183Z",
     "iopub.status.idle": "2022-01-19T07:08:04.230728Z",
     "shell.execute_reply": "2022-01-19T07:08:04.231285Z",
     "shell.execute_reply.started": "2022-01-18T12:31:08.295969Z"
    },
    "papermill": {
     "duration": 0.141462,
     "end_time": "2022-01-19T07:08:04.231502",
     "exception": false,
     "start_time": "2022-01-19T07:08:04.090040",
     "status": "completed"
    },
    "tags": []
   },
   "outputs": [
    {
     "name": "stdout",
     "output_type": "stream",
     "text": [
      "N    49832\n",
      "Y    23967\n",
      "Name: car, dtype: int64\n",
      "N    59791\n",
      "Y    14008\n",
      "Name: car_type, dtype: int64\n"
     ]
    },
    {
     "data": {
      "text/html": [
       "<div>\n",
       "<style scoped>\n",
       "    .dataframe tbody tr th:only-of-type {\n",
       "        vertical-align: middle;\n",
       "    }\n",
       "\n",
       "    .dataframe tbody tr th {\n",
       "        vertical-align: top;\n",
       "    }\n",
       "\n",
       "    .dataframe thead th {\n",
       "        text-align: right;\n",
       "    }\n",
       "</style>\n",
       "<table border=\"1\" class=\"dataframe\">\n",
       "  <thead>\n",
       "    <tr style=\"text-align: right;\">\n",
       "      <th></th>\n",
       "      <th>default</th>\n",
       "      <th>0</th>\n",
       "      <th>1</th>\n",
       "    </tr>\n",
       "    <tr>\n",
       "      <th>car</th>\n",
       "      <th>car_type</th>\n",
       "      <th></th>\n",
       "      <th></th>\n",
       "    </tr>\n",
       "  </thead>\n",
       "  <tbody>\n",
       "    <tr>\n",
       "      <th>N</th>\n",
       "      <th>N</th>\n",
       "      <td>86.303981</td>\n",
       "      <td>13.696019</td>\n",
       "    </tr>\n",
       "    <tr>\n",
       "      <th rowspan=\"2\" valign=\"top\">Y</th>\n",
       "      <th>N</th>\n",
       "      <td>86.725575</td>\n",
       "      <td>13.274425</td>\n",
       "    </tr>\n",
       "    <tr>\n",
       "      <th>Y</th>\n",
       "      <td>91.254997</td>\n",
       "      <td>8.745003</td>\n",
       "    </tr>\n",
       "  </tbody>\n",
       "</table>\n",
       "</div>"
      ],
      "text/plain": [
       "default               0          1\n",
       "car car_type                      \n",
       "N   N         86.303981  13.696019\n",
       "Y   N         86.725575  13.274425\n",
       "    Y         91.254997   8.745003"
      ]
     },
     "execution_count": 15,
     "metadata": {},
     "output_type": "execute_result"
    }
   ],
   "source": [
    "# Посмотрим на пропорции выборки:\n",
    "print(train.car.value_counts())\n",
    "print(train.car_type.value_counts())\n",
    "pd.crosstab([ train.car, train.car_type], train.default, normalize='index')*100"
   ]
  },
  {
   "cell_type": "markdown",
   "id": "770da96d",
   "metadata": {
    "papermill": {
     "duration": 0.08667,
     "end_time": "2022-01-19T07:08:04.406301",
     "exception": false,
     "start_time": "2022-01-19T07:08:04.319631",
     "status": "completed"
    },
    "tags": []
   },
   "source": [
    "Видим, что приблизительно треть выборки имеют автомобиль, иномаркой владеют около 20% выборки.\n",
    "При этом вероятность дефолта существенно снижается только для категории лиц владеющих иномаркой - 8,7% (для владельцев отечественного авто и не имеющих авто вероятность дефолта практически одинакова - 13,3% и 13,7% соответственно).\n",
    "\n",
    "##### Следовательно делаем вывод, что признак \"car\" - не значительный."
   ]
  },
  {
   "cell_type": "code",
   "execution_count": 16,
   "id": "10612afb",
   "metadata": {
    "execution": {
     "iopub.execute_input": "2022-01-19T07:08:04.597361Z",
     "iopub.status.busy": "2022-01-19T07:08:04.596621Z",
     "iopub.status.idle": "2022-01-19T07:08:04.599896Z",
     "shell.execute_reply": "2022-01-19T07:08:04.600561Z",
     "shell.execute_reply.started": "2022-01-18T12:31:08.351347Z"
    },
    "papermill": {
     "duration": 0.10684,
     "end_time": "2022-01-19T07:08:04.600747",
     "exception": false,
     "start_time": "2022-01-19T07:08:04.493907",
     "status": "completed"
    },
    "tags": []
   },
   "outputs": [
    {
     "name": "stdout",
     "output_type": "stream",
     "text": [
      "N    67.286583\n",
      "Y    32.713417\n",
      "Name: car, dtype: float64\n",
      "N    80.742249\n",
      "Y    19.257751\n",
      "Name: car_type, dtype: float64\n"
     ]
    }
   ],
   "source": [
    "# Проверим пропорции выборки в тестовом наборе данных:\n",
    "print(test.car.value_counts(normalize=True)*100)\n",
    "print(test.car_type.value_counts(normalize=True)*100)"
   ]
  },
  {
   "cell_type": "code",
   "execution_count": 17,
   "id": "4986588c",
   "metadata": {
    "execution": {
     "iopub.execute_input": "2022-01-19T07:08:04.792729Z",
     "iopub.status.busy": "2022-01-19T07:08:04.791840Z",
     "iopub.status.idle": "2022-01-19T07:08:04.819833Z",
     "shell.execute_reply": "2022-01-19T07:08:04.819362Z",
     "shell.execute_reply.started": "2022-01-18T12:31:08.369783Z"
    },
    "papermill": {
     "duration": 0.130364,
     "end_time": "2022-01-19T07:08:04.819961",
     "exception": false,
     "start_time": "2022-01-19T07:08:04.689597",
     "status": "completed"
    },
    "tags": []
   },
   "outputs": [],
   "source": [
    "# Преобразуем в числовой-бинарный, где: 1 == 'Y', 0 == 'N'\n",
    "train.car = (train.car == 'Y').astype('int32')\n",
    "test.car = (test.car == 'Y').astype('int32')\n",
    "\n",
    "train.car_type = (train.car_type == 'Y').astype('int32')\n",
    "test.car_type = (test.car_type == 'Y').astype('int32')\n",
    "\n",
    "# binary_futures(train, test, {'car': 'Y, 'car_type': 'Y'})"
   ]
  },
  {
   "cell_type": "markdown",
   "id": "4c651d5b",
   "metadata": {
    "papermill": {
     "duration": 0.098586,
     "end_time": "2022-01-19T07:08:05.005953",
     "exception": false,
     "start_time": "2022-01-19T07:08:04.907367",
     "status": "completed"
    },
    "tags": []
   },
   "source": [
    "#### 'foreign_passport'"
   ]
  },
  {
   "cell_type": "code",
   "execution_count": 18,
   "id": "3cc4d371",
   "metadata": {
    "execution": {
     "iopub.execute_input": "2022-01-19T07:08:05.197592Z",
     "iopub.status.busy": "2022-01-19T07:08:05.185400Z",
     "iopub.status.idle": "2022-01-19T07:08:05.223371Z",
     "shell.execute_reply": "2022-01-19T07:08:05.223975Z",
     "shell.execute_reply.started": "2022-01-18T12:31:08.41699Z"
    },
    "papermill": {
     "duration": 0.130116,
     "end_time": "2022-01-19T07:08:05.224165",
     "exception": false,
     "start_time": "2022-01-19T07:08:05.094049",
     "status": "completed"
    },
    "tags": []
   },
   "outputs": [
    {
     "name": "stdout",
     "output_type": "stream",
     "text": [
      "N    85.005217\n",
      "Y    14.994783\n",
      "Name: foreign_passport, dtype: float64\n"
     ]
    },
    {
     "data": {
      "text/html": [
       "<div>\n",
       "<style scoped>\n",
       "    .dataframe tbody tr th:only-of-type {\n",
       "        vertical-align: middle;\n",
       "    }\n",
       "\n",
       "    .dataframe tbody tr th {\n",
       "        vertical-align: top;\n",
       "    }\n",
       "\n",
       "    .dataframe thead th {\n",
       "        text-align: right;\n",
       "    }\n",
       "</style>\n",
       "<table border=\"1\" class=\"dataframe\">\n",
       "  <thead>\n",
       "    <tr style=\"text-align: right;\">\n",
       "      <th>default</th>\n",
       "      <th>0</th>\n",
       "      <th>1</th>\n",
       "    </tr>\n",
       "    <tr>\n",
       "      <th>foreign_passport</th>\n",
       "      <th></th>\n",
       "      <th></th>\n",
       "    </tr>\n",
       "  </thead>\n",
       "  <tbody>\n",
       "    <tr>\n",
       "      <th>N</th>\n",
       "      <td>86.367622</td>\n",
       "      <td>13.632378</td>\n",
       "    </tr>\n",
       "    <tr>\n",
       "      <th>Y</th>\n",
       "      <td>92.589915</td>\n",
       "      <td>7.410085</td>\n",
       "    </tr>\n",
       "  </tbody>\n",
       "</table>\n",
       "</div>"
      ],
      "text/plain": [
       "default                   0          1\n",
       "foreign_passport                      \n",
       "N                 86.367622  13.632378\n",
       "Y                 92.589915   7.410085"
      ]
     },
     "execution_count": 18,
     "metadata": {},
     "output_type": "execute_result"
    }
   ],
   "source": [
    "# Посмотрим на пропорции выборки:\n",
    "print(train.foreign_passport.value_counts(normalize=True)*100)\n",
    "pd.crosstab(train.foreign_passport, train.default, normalize='index')*100"
   ]
  },
  {
   "cell_type": "markdown",
   "id": "5bc9f860",
   "metadata": {
    "papermill": {
     "duration": 0.089568,
     "end_time": "2022-01-19T07:08:05.403624",
     "exception": false,
     "start_time": "2022-01-19T07:08:05.314056",
     "status": "completed"
    },
    "tags": []
   },
   "source": [
    "##### Как видим для категории лиц имеющих загранпаспорт вероятность дефолта практически в два раза ниже, чем для остальных: 7,4% против 13,6%"
   ]
  },
  {
   "cell_type": "code",
   "execution_count": 19,
   "id": "387f58a2",
   "metadata": {
    "execution": {
     "iopub.execute_input": "2022-01-19T07:08:05.590897Z",
     "iopub.status.busy": "2022-01-19T07:08:05.590145Z",
     "iopub.status.idle": "2022-01-19T07:08:05.593504Z",
     "shell.execute_reply": "2022-01-19T07:08:05.594093Z",
     "shell.execute_reply.started": "2022-01-18T12:31:08.457579Z"
    },
    "papermill": {
     "duration": 0.102504,
     "end_time": "2022-01-19T07:08:05.594283",
     "exception": false,
     "start_time": "2022-01-19T07:08:05.491779",
     "status": "completed"
    },
    "tags": []
   },
   "outputs": [
    {
     "name": "stdout",
     "output_type": "stream",
     "text": [
      "N    85.251314\n",
      "Y    14.748686\n",
      "Name: foreign_passport, dtype: float64\n"
     ]
    }
   ],
   "source": [
    "# Проверим пропорции выборки в тестовом наборе данных:\n",
    "print(test.foreign_passport.value_counts(normalize=True)*100)"
   ]
  },
  {
   "cell_type": "code",
   "execution_count": 20,
   "id": "c9ee6b0d",
   "metadata": {
    "execution": {
     "iopub.execute_input": "2022-01-19T07:08:05.789803Z",
     "iopub.status.busy": "2022-01-19T07:08:05.788862Z",
     "iopub.status.idle": "2022-01-19T07:08:05.799436Z",
     "shell.execute_reply": "2022-01-19T07:08:05.798970Z",
     "shell.execute_reply.started": "2022-01-18T12:31:08.470427Z"
    },
    "papermill": {
     "duration": 0.112915,
     "end_time": "2022-01-19T07:08:05.799577",
     "exception": false,
     "start_time": "2022-01-19T07:08:05.686662",
     "status": "completed"
    },
    "tags": []
   },
   "outputs": [],
   "source": [
    "# Преобразуем в числовой-бинарный, где: 1 == 'Y', 0 == 'N'\n",
    "train.foreign_passport = (train.foreign_passport == 'Y').astype('int32')\n",
    "test.foreign_passport = (test.foreign_passport == 'Y').astype('int32')\n",
    "\n",
    "# binary_futures(train, test, {'foreign_passport': 'Y'})"
   ]
  },
  {
   "cell_type": "markdown",
   "id": "9e86cb48",
   "metadata": {
    "papermill": {
     "duration": 0.090881,
     "end_time": "2022-01-19T07:08:05.978733",
     "exception": false,
     "start_time": "2022-01-19T07:08:05.887852",
     "status": "completed"
    },
    "tags": []
   },
   "source": [
    "#### 'education'\n",
    "* SCH - High School (9-12 класс)\n",
    "* UGR - Undergraduate (бакалавриат, 4 года)\n",
    "* GRD - Graduate (магистратура, 6 лет)\n",
    "* PGR - Postgraduate (докторантура, 10 лет)\n",
    "* ACD - ... видимо что-то типа ученой степени"
   ]
  },
  {
   "cell_type": "code",
   "execution_count": 21,
   "id": "5f01aeb5",
   "metadata": {
    "execution": {
     "iopub.execute_input": "2022-01-19T07:08:06.177997Z",
     "iopub.status.busy": "2022-01-19T07:08:06.177227Z",
     "iopub.status.idle": "2022-01-19T07:08:06.180356Z",
     "shell.execute_reply": "2022-01-19T07:08:06.180833Z",
     "shell.execute_reply.started": "2022-01-18T12:31:08.497122Z"
    },
    "papermill": {
     "duration": 0.112978,
     "end_time": "2022-01-19T07:08:06.180983",
     "exception": false,
     "start_time": "2022-01-19T07:08:06.068005",
     "status": "completed"
    },
    "tags": []
   },
   "outputs": [
    {
     "name": "stdout",
     "output_type": "stream",
     "text": [
      "SCH    52.876504\n",
      "GRD    31.792576\n",
      "UGR    13.356556\n",
      "PGR     1.710390\n",
      "ACD     0.263974\n",
      "Name: education, dtype: float64\n",
      "SCH    52.899552\n",
      "GRD    31.519155\n",
      "UGR    13.632594\n",
      "PGR     1.680579\n",
      "ACD     0.268119\n",
      "Name: education, dtype: float64\n"
     ]
    }
   ],
   "source": [
    "# Проверим пропорции выборки в обучающем и тестовом наборе данных:\n",
    "print(train.education.value_counts(normalize=True)*100)\n",
    "print(test.education.value_counts(normalize=True)*100)"
   ]
  },
  {
   "cell_type": "code",
   "execution_count": 22,
   "id": "d21e13cc",
   "metadata": {
    "execution": {
     "iopub.execute_input": "2022-01-19T07:08:06.371382Z",
     "iopub.status.busy": "2022-01-19T07:08:06.370155Z",
     "iopub.status.idle": "2022-01-19T07:08:06.397519Z",
     "shell.execute_reply": "2022-01-19T07:08:06.397987Z",
     "shell.execute_reply.started": "2022-01-18T12:31:08.520705Z"
    },
    "papermill": {
     "duration": 0.120318,
     "end_time": "2022-01-19T07:08:06.398129",
     "exception": false,
     "start_time": "2022-01-19T07:08:06.277811",
     "status": "completed"
    },
    "tags": []
   },
   "outputs": [
    {
     "data": {
      "text/html": [
       "<div>\n",
       "<style scoped>\n",
       "    .dataframe tbody tr th:only-of-type {\n",
       "        vertical-align: middle;\n",
       "    }\n",
       "\n",
       "    .dataframe tbody tr th {\n",
       "        vertical-align: top;\n",
       "    }\n",
       "\n",
       "    .dataframe thead th {\n",
       "        text-align: right;\n",
       "    }\n",
       "</style>\n",
       "<table border=\"1\" class=\"dataframe\">\n",
       "  <thead>\n",
       "    <tr style=\"text-align: right;\">\n",
       "      <th>default</th>\n",
       "      <th>0</th>\n",
       "      <th>1</th>\n",
       "    </tr>\n",
       "    <tr>\n",
       "      <th>education</th>\n",
       "      <th></th>\n",
       "      <th></th>\n",
       "    </tr>\n",
       "  </thead>\n",
       "  <tbody>\n",
       "    <tr>\n",
       "      <th>ACD</th>\n",
       "      <td>95.876289</td>\n",
       "      <td>4.123711</td>\n",
       "    </tr>\n",
       "    <tr>\n",
       "      <th>GRD</th>\n",
       "      <td>90.990798</td>\n",
       "      <td>9.009202</td>\n",
       "    </tr>\n",
       "    <tr>\n",
       "      <th>PGR</th>\n",
       "      <td>93.556086</td>\n",
       "      <td>6.443914</td>\n",
       "    </tr>\n",
       "    <tr>\n",
       "      <th>SCH</th>\n",
       "      <td>84.940813</td>\n",
       "      <td>15.059187</td>\n",
       "    </tr>\n",
       "    <tr>\n",
       "      <th>UGR</th>\n",
       "      <td>86.848003</td>\n",
       "      <td>13.151997</td>\n",
       "    </tr>\n",
       "  </tbody>\n",
       "</table>\n",
       "</div>"
      ],
      "text/plain": [
       "default            0          1\n",
       "education                      \n",
       "ACD        95.876289   4.123711\n",
       "GRD        90.990798   9.009202\n",
       "PGR        93.556086   6.443914\n",
       "SCH        84.940813  15.059187\n",
       "UGR        86.848003  13.151997"
      ]
     },
     "execution_count": 22,
     "metadata": {},
     "output_type": "execute_result"
    }
   ],
   "source": [
    "# посмотрим на корреляцию уровня образования с дефолтом:\n",
    "pd.crosstab(train.education, train.default, normalize='index')*100"
   ]
  },
  {
   "cell_type": "code",
   "execution_count": 23,
   "id": "dd964746",
   "metadata": {
    "execution": {
     "iopub.execute_input": "2022-01-19T07:08:06.597642Z",
     "iopub.status.busy": "2022-01-19T07:08:06.597017Z",
     "iopub.status.idle": "2022-01-19T07:08:06.605430Z",
     "shell.execute_reply": "2022-01-19T07:08:06.605947Z",
     "shell.execute_reply.started": "2022-01-18T12:31:08.562228Z"
    },
    "papermill": {
     "duration": 0.112023,
     "end_time": "2022-01-19T07:08:06.606097",
     "exception": false,
     "start_time": "2022-01-19T07:08:06.494074",
     "status": "completed"
    },
    "tags": []
   },
   "outputs": [
    {
     "data": {
      "text/plain": [
       "0    88.6\n",
       "1    11.4\n",
       "Name: default, dtype: float64"
      ]
     },
     "execution_count": 23,
     "metadata": {},
     "output_type": "execute_result"
    }
   ],
   "source": [
    "# проверим какова вероятность дефолта для клиентов с неуказанным уровнем образования:\n",
    "na_edu_default = round(train[train.education.isna()].default.value_counts(normalize=True)*100, 2)\n",
    "na_edu_default"
   ]
  },
  {
   "cell_type": "markdown",
   "id": "ae154bb1",
   "metadata": {
    "papermill": {
     "duration": 0.090745,
     "end_time": "2022-01-19T07:08:06.792354",
     "exception": false,
     "start_time": "2022-01-19T07:08:06.701609",
     "status": "completed"
    },
    "tags": []
   },
   "source": [
    "##### Как видим вероятность дефолта для категории лиц с пропуском данных в образовании - 11,4%, в то время как для наиболее распространенной категории (SCH) - 15%. Следовательно заменять пропущенные данные самым распространенным - плохая идея. Заменим степень образования и пропуски на соответствующую вероятность дефолта."
   ]
  },
  {
   "cell_type": "code",
   "execution_count": 24,
   "id": "213f3e15",
   "metadata": {
    "execution": {
     "iopub.execute_input": "2022-01-19T07:08:06.991947Z",
     "iopub.status.busy": "2022-01-19T07:08:06.990887Z",
     "iopub.status.idle": "2022-01-19T07:08:07.055306Z",
     "shell.execute_reply": "2022-01-19T07:08:07.055833Z",
     "shell.execute_reply.started": "2022-01-18T12:31:08.58261Z"
    },
    "papermill": {
     "duration": 0.173642,
     "end_time": "2022-01-19T07:08:07.056018",
     "exception": false,
     "start_time": "2022-01-19T07:08:06.882376",
     "status": "completed"
    },
    "tags": []
   },
   "outputs": [
    {
     "data": {
      "text/html": [
       "<div>\n",
       "<style scoped>\n",
       "    .dataframe tbody tr th:only-of-type {\n",
       "        vertical-align: middle;\n",
       "    }\n",
       "\n",
       "    .dataframe tbody tr th {\n",
       "        vertical-align: top;\n",
       "    }\n",
       "\n",
       "    .dataframe thead th {\n",
       "        text-align: right;\n",
       "    }\n",
       "</style>\n",
       "<table border=\"1\" class=\"dataframe\">\n",
       "  <thead>\n",
       "    <tr style=\"text-align: right;\">\n",
       "      <th>default</th>\n",
       "      <th>0</th>\n",
       "      <th>1</th>\n",
       "    </tr>\n",
       "    <tr>\n",
       "      <th>education</th>\n",
       "      <th></th>\n",
       "      <th></th>\n",
       "    </tr>\n",
       "  </thead>\n",
       "  <tbody>\n",
       "    <tr>\n",
       "      <th>4.12</th>\n",
       "      <td>186</td>\n",
       "      <td>8</td>\n",
       "    </tr>\n",
       "    <tr>\n",
       "      <th>6.44</th>\n",
       "      <td>1176</td>\n",
       "      <td>81</td>\n",
       "    </tr>\n",
       "    <tr>\n",
       "      <th>9.01</th>\n",
       "      <td>21260</td>\n",
       "      <td>2105</td>\n",
       "    </tr>\n",
       "    <tr>\n",
       "      <th>11.40</th>\n",
       "      <td>272</td>\n",
       "      <td>35</td>\n",
       "    </tr>\n",
       "    <tr>\n",
       "      <th>13.15</th>\n",
       "      <td>8525</td>\n",
       "      <td>1291</td>\n",
       "    </tr>\n",
       "    <tr>\n",
       "      <th>15.06</th>\n",
       "      <td>33008</td>\n",
       "      <td>5852</td>\n",
       "    </tr>\n",
       "  </tbody>\n",
       "</table>\n",
       "</div>"
      ],
      "text/plain": [
       "default        0     1\n",
       "education             \n",
       "4.12         186     8\n",
       "6.44        1176    81\n",
       "9.01       21260  2105\n",
       "11.40        272    35\n",
       "13.15       8525  1291\n",
       "15.06      33008  5852"
      ]
     },
     "execution_count": 24,
     "metadata": {},
     "output_type": "execute_result"
    }
   ],
   "source": [
    "# создадим словарь для ординального преобразования, где в качестве величины будет соответтвующая вероятность дефолта:\n",
    "edu_dict = round(pd.crosstab(train.education, train.default, normalize='index').iloc[:, 1]*100, 2)\n",
    "\n",
    "# заменим значения в исследуемом параметре:\n",
    "train.education = train.education.map(edu_dict)\n",
    "test.education = test.education.map(edu_dict)\n",
    "\n",
    "# для пропушенных данных по образованию заменим на соответствующую вероятность 11.4%:\n",
    "train.education.fillna(na_edu_default[1], inplace=True)\n",
    "test.education.fillna(na_edu_default[1], inplace=True)\n",
    "\n",
    "# в результате получаем в качестве значения данного парамтера числовую вероятность дефолта по соотвествующей группе:\n",
    "pd.crosstab(train.education, train.default)"
   ]
  },
  {
   "cell_type": "markdown",
   "id": "88977aae",
   "metadata": {
    "papermill": {
     "duration": 0.088977,
     "end_time": "2022-01-19T07:08:07.243346",
     "exception": false,
     "start_time": "2022-01-19T07:08:07.154369",
     "status": "completed"
    },
    "tags": []
   },
   "source": [
    "#### 'app_date'"
   ]
  },
  {
   "cell_type": "code",
   "execution_count": 25,
   "id": "7657a6bc",
   "metadata": {
    "execution": {
     "iopub.execute_input": "2022-01-19T07:08:07.427906Z",
     "iopub.status.busy": "2022-01-19T07:08:07.427009Z",
     "iopub.status.idle": "2022-01-19T07:08:29.504883Z",
     "shell.execute_reply": "2022-01-19T07:08:29.504349Z",
     "shell.execute_reply.started": "2022-01-18T12:31:08.642462Z"
    },
    "papermill": {
     "duration": 22.172158,
     "end_time": "2022-01-19T07:08:29.505025",
     "exception": false,
     "start_time": "2022-01-19T07:08:07.332867",
     "status": "completed"
    },
    "tags": []
   },
   "outputs": [],
   "source": [
    "# приведем значения к формату datetime:\n",
    "train.app_date = train.app_date.apply(pd.to_datetime)\n",
    "test.app_date = test.app_date.apply(pd.to_datetime)"
   ]
  },
  {
   "cell_type": "code",
   "execution_count": 26,
   "id": "c7eb705d",
   "metadata": {
    "execution": {
     "iopub.execute_input": "2022-01-19T07:08:29.691370Z",
     "iopub.status.busy": "2022-01-19T07:08:29.690672Z",
     "iopub.status.idle": "2022-01-19T07:08:29.720761Z",
     "shell.execute_reply": "2022-01-19T07:08:29.721271Z",
     "shell.execute_reply.started": "2022-01-18T12:31:30.549867Z"
    },
    "papermill": {
     "duration": 0.125149,
     "end_time": "2022-01-19T07:08:29.721421",
     "exception": false,
     "start_time": "2022-01-19T07:08:29.596272",
     "status": "completed"
    },
    "tags": []
   },
   "outputs": [
    {
     "data": {
      "text/html": [
       "<div>\n",
       "<style scoped>\n",
       "    .dataframe tbody tr th:only-of-type {\n",
       "        vertical-align: middle;\n",
       "    }\n",
       "\n",
       "    .dataframe tbody tr th {\n",
       "        vertical-align: top;\n",
       "    }\n",
       "\n",
       "    .dataframe thead th {\n",
       "        text-align: right;\n",
       "    }\n",
       "</style>\n",
       "<table border=\"1\" class=\"dataframe\">\n",
       "  <thead>\n",
       "    <tr style=\"text-align: right;\">\n",
       "      <th>default</th>\n",
       "      <th>0</th>\n",
       "      <th>1</th>\n",
       "    </tr>\n",
       "    <tr>\n",
       "      <th>month</th>\n",
       "      <th></th>\n",
       "      <th></th>\n",
       "    </tr>\n",
       "  </thead>\n",
       "  <tbody>\n",
       "    <tr>\n",
       "      <th>1</th>\n",
       "      <td>85.765819</td>\n",
       "      <td>14.234181</td>\n",
       "    </tr>\n",
       "    <tr>\n",
       "      <th>2</th>\n",
       "      <td>86.737298</td>\n",
       "      <td>13.262702</td>\n",
       "    </tr>\n",
       "    <tr>\n",
       "      <th>3</th>\n",
       "      <td>87.246199</td>\n",
       "      <td>12.753801</td>\n",
       "    </tr>\n",
       "    <tr>\n",
       "      <th>4</th>\n",
       "      <td>89.407906</td>\n",
       "      <td>10.592094</td>\n",
       "    </tr>\n",
       "  </tbody>\n",
       "</table>\n",
       "</div>"
      ],
      "text/plain": [
       "default          0          1\n",
       "month                        \n",
       "1        85.765819  14.234181\n",
       "2        86.737298  13.262702\n",
       "3        87.246199  12.753801\n",
       "4        89.407906  10.592094"
      ]
     },
     "execution_count": 26,
     "metadata": {},
     "output_type": "execute_result"
    }
   ],
   "source": [
    "# добавим новый параметр - month:\n",
    "train['month'] = train.app_date.dt.month\n",
    "test['month'] = test.app_date.dt.month\n",
    "pd.crosstab([train.month], train.default, normalize='index')*100"
   ]
  },
  {
   "cell_type": "code",
   "execution_count": 27,
   "id": "73a94380",
   "metadata": {
    "execution": {
     "iopub.execute_input": "2022-01-19T07:08:29.918310Z",
     "iopub.status.busy": "2022-01-19T07:08:29.917410Z",
     "iopub.status.idle": "2022-01-19T07:08:30.285894Z",
     "shell.execute_reply": "2022-01-19T07:08:30.286682Z",
     "shell.execute_reply.started": "2022-01-18T12:31:30.586421Z"
    },
    "papermill": {
     "duration": 0.469281,
     "end_time": "2022-01-19T07:08:30.287050",
     "exception": false,
     "start_time": "2022-01-19T07:08:29.817769",
     "status": "completed"
    },
    "tags": []
   },
   "outputs": [
    {
     "data": {
      "text/plain": [
       "<AxesSubplot:>"
      ]
     },
     "execution_count": 27,
     "metadata": {},
     "output_type": "execute_result"
    },
    {
     "data": {
      "image/png": "[encoded data removed]",
      "text/plain": [
       "<Figure size 432x288 with 1 Axes>"
      ]
     },
     "metadata": {
      "needs_background": "light"
     },
     "output_type": "display_data"
    }
   ],
   "source": [
    "# добавим новый параметр - clients_day, кол-во клиентов в день:\n",
    "dates_dict = train.app_date.value_counts().to_dict()\n",
    "train['clients_day'] = train.app_date.map(dates_dict)\n",
    "test['clients_day'] = train.app_date.map(dates_dict)\n",
    "train.clients_day.hist()"
   ]
  },
  {
   "cell_type": "code",
   "execution_count": 28,
   "id": "fa1ffba4",
   "metadata": {
    "execution": {
     "iopub.execute_input": "2022-01-19T07:08:30.585710Z",
     "iopub.status.busy": "2022-01-19T07:08:30.584810Z",
     "iopub.status.idle": "2022-01-19T07:08:31.306361Z",
     "shell.execute_reply": "2022-01-19T07:08:31.306771Z",
     "shell.execute_reply.started": "2022-01-18T12:31:30.806157Z"
    },
    "papermill": {
     "duration": 0.85888,
     "end_time": "2022-01-19T07:08:31.306925",
     "exception": false,
     "start_time": "2022-01-19T07:08:30.448045",
     "status": "completed"
    },
    "tags": []
   },
   "outputs": [
    {
     "data": {
      "text/plain": [
       "<seaborn.axisgrid.FacetGrid at 0x7fd5e95d8160>"
      ]
     },
     "execution_count": 28,
     "metadata": {},
     "output_type": "execute_result"
    },
    {
     "data": {
      "image/png": "[encoded data removed]",
      "text/plain": [
       "<Figure size 403.375x360 with 1 Axes>"
      ]
     },
     "metadata": {
      "needs_background": "light"
     },
     "output_type": "display_data"
    }
   ],
   "source": [
    "# добавим новый параметр - numb_weeks, номер недели (на основе данных train):\n",
    "train['numb_weeks'] = train.app_date.dt.week\n",
    "test['numb_weeks'] = test.app_date.dt.week\n",
    "sns.displot(train, x=\"numb_weeks\", hue=\"default\", multiple=\"fill\")  # , kind=\"kde\""
   ]
  },
  {
   "cell_type": "code",
   "execution_count": 29,
   "id": "07c172fe",
   "metadata": {
    "execution": {
     "iopub.execute_input": "2022-01-19T07:08:31.493893Z",
     "iopub.status.busy": "2022-01-19T07:08:31.493267Z",
     "iopub.status.idle": "2022-01-19T07:08:31.496385Z",
     "shell.execute_reply": "2022-01-19T07:08:31.495980Z",
     "shell.execute_reply.started": "2022-01-18T12:31:31.516746Z"
    },
    "papermill": {
     "duration": 0.098367,
     "end_time": "2022-01-19T07:08:31.496532",
     "exception": false,
     "start_time": "2022-01-19T07:08:31.398165",
     "status": "completed"
    },
    "tags": []
   },
   "outputs": [],
   "source": [
    "# поиск зависимости вероятности дефолта от дня месяца, дня недели или декады результата не дал:\n",
    "# train['day'] = train.app_date.dt.day\n",
    "# train['day_of_week'] = train.app_date.dt.dayofweek\n",
    "# train['decade'] = 0\n",
    "# train['decade'][train.day <= 10] = 1\n",
    "# train['decade'][train.day.between(11, 20)] = 2\n",
    "# train['decade'][train.day > 20] = 3"
   ]
  },
  {
   "cell_type": "code",
   "execution_count": 30,
   "id": "73f41827",
   "metadata": {
    "execution": {
     "iopub.execute_input": "2022-01-19T07:08:31.688002Z",
     "iopub.status.busy": "2022-01-19T07:08:31.686856Z",
     "iopub.status.idle": "2022-01-19T07:08:31.707445Z",
     "shell.execute_reply": "2022-01-19T07:08:31.706978Z",
     "shell.execute_reply.started": "2022-01-18T12:31:31.5227Z"
    },
    "papermill": {
     "duration": 0.119192,
     "end_time": "2022-01-19T07:08:31.707610",
     "exception": false,
     "start_time": "2022-01-19T07:08:31.588418",
     "status": "completed"
    },
    "tags": []
   },
   "outputs": [],
   "source": [
    "# теперь можем удалять исходный параметр:\n",
    "train.drop(['app_date'], axis=1, inplace=True)\n",
    "test.drop(['app_date'], axis=1, inplace=True)"
   ]
  },
  {
   "cell_type": "markdown",
   "id": "cc7ac9b7",
   "metadata": {
    "papermill": {
     "duration": 0.091361,
     "end_time": "2022-01-19T07:08:31.890887",
     "exception": false,
     "start_time": "2022-01-19T07:08:31.799526",
     "status": "completed"
    },
    "tags": []
   },
   "source": [
    "### 'good_work'"
   ]
  },
  {
   "cell_type": "code",
   "execution_count": 31,
   "id": "251df96a",
   "metadata": {
    "execution": {
     "iopub.execute_input": "2022-01-19T07:08:32.083444Z",
     "iopub.status.busy": "2022-01-19T07:08:32.082525Z",
     "iopub.status.idle": "2022-01-19T07:08:32.104016Z",
     "shell.execute_reply": "2022-01-19T07:08:32.104419Z",
     "shell.execute_reply.started": "2022-01-18T12:31:31.547772Z"
    },
    "papermill": {
     "duration": 0.122429,
     "end_time": "2022-01-19T07:08:32.104593",
     "exception": false,
     "start_time": "2022-01-19T07:08:31.982164",
     "status": "completed"
    },
    "tags": []
   },
   "outputs": [
    {
     "name": "stdout",
     "output_type": "stream",
     "text": [
      "0    83.510617\n",
      "1    16.489383\n",
      "Name: good_work, dtype: float64\n"
     ]
    },
    {
     "data": {
      "text/html": [
       "<div>\n",
       "<style scoped>\n",
       "    .dataframe tbody tr th:only-of-type {\n",
       "        vertical-align: middle;\n",
       "    }\n",
       "\n",
       "    .dataframe tbody tr th {\n",
       "        vertical-align: top;\n",
       "    }\n",
       "\n",
       "    .dataframe thead th {\n",
       "        text-align: right;\n",
       "    }\n",
       "</style>\n",
       "<table border=\"1\" class=\"dataframe\">\n",
       "  <thead>\n",
       "    <tr style=\"text-align: right;\">\n",
       "      <th>default</th>\n",
       "      <th>0</th>\n",
       "      <th>1</th>\n",
       "    </tr>\n",
       "    <tr>\n",
       "      <th>good_work</th>\n",
       "      <th></th>\n",
       "      <th></th>\n",
       "    </tr>\n",
       "  </thead>\n",
       "  <tbody>\n",
       "    <tr>\n",
       "      <th>0</th>\n",
       "      <td>86.659095</td>\n",
       "      <td>13.340905</td>\n",
       "    </tr>\n",
       "    <tr>\n",
       "      <th>1</th>\n",
       "      <td>90.549758</td>\n",
       "      <td>9.450242</td>\n",
       "    </tr>\n",
       "  </tbody>\n",
       "</table>\n",
       "</div>"
      ],
      "text/plain": [
       "default            0          1\n",
       "good_work                      \n",
       "0          86.659095  13.340905\n",
       "1          90.549758   9.450242"
      ]
     },
     "execution_count": 31,
     "metadata": {},
     "output_type": "execute_result"
    }
   ],
   "source": [
    "# Посмотрим на пропорции выборки:\n",
    "print(train.good_work.value_counts(normalize=True)*100)\n",
    "pd.crosstab(train.good_work, train.default, normalize='index')*100"
   ]
  },
  {
   "cell_type": "markdown",
   "id": "9b862bfc",
   "metadata": {
    "papermill": {
     "duration": 0.091896,
     "end_time": "2022-01-19T07:08:32.289050",
     "exception": false,
     "start_time": "2022-01-19T07:08:32.197154",
     "status": "completed"
    },
    "tags": []
   },
   "source": [
    "##### Присутствует зависимость вероятности дефолта от наличия хорошей работы."
   ]
  },
  {
   "cell_type": "code",
   "execution_count": 32,
   "id": "3a1bfb68",
   "metadata": {
    "execution": {
     "iopub.execute_input": "2022-01-19T07:08:32.481708Z",
     "iopub.status.busy": "2022-01-19T07:08:32.480924Z",
     "iopub.status.idle": "2022-01-19T07:08:32.483687Z",
     "shell.execute_reply": "2022-01-19T07:08:32.484185Z",
     "shell.execute_reply.started": "2022-01-18T12:31:31.577254Z"
    },
    "papermill": {
     "duration": 0.101856,
     "end_time": "2022-01-19T07:08:32.484323",
     "exception": false,
     "start_time": "2022-01-19T07:08:32.382467",
     "status": "completed"
    },
    "tags": []
   },
   "outputs": [
    {
     "data": {
      "text/plain": [
       "0    83.322787\n",
       "1    16.677213\n",
       "Name: good_work, dtype: float64"
      ]
     },
     "execution_count": 32,
     "metadata": {},
     "output_type": "execute_result"
    }
   ],
   "source": [
    "# Проверим пропорции на тестовом наборе:\n",
    "test.good_work.value_counts(normalize=True)*100"
   ]
  },
  {
   "cell_type": "markdown",
   "id": "0ee79a4f",
   "metadata": {
    "papermill": {
     "duration": 0.092041,
     "end_time": "2022-01-19T07:08:32.670276",
     "exception": false,
     "start_time": "2022-01-19T07:08:32.578235",
     "status": "completed"
    },
    "tags": []
   },
   "source": [
    "### 'region_rating'"
   ]
  },
  {
   "cell_type": "code",
   "execution_count": 33,
   "id": "5e4c43e4",
   "metadata": {
    "execution": {
     "iopub.execute_input": "2022-01-19T07:08:32.860571Z",
     "iopub.status.busy": "2022-01-19T07:08:32.859752Z",
     "iopub.status.idle": "2022-01-19T07:08:32.880131Z",
     "shell.execute_reply": "2022-01-19T07:08:32.880574Z",
     "shell.execute_reply.started": "2022-01-18T12:31:31.589828Z"
    },
    "papermill": {
     "duration": 0.117773,
     "end_time": "2022-01-19T07:08:32.880732",
     "exception": false,
     "start_time": "2022-01-19T07:08:32.762959",
     "status": "completed"
    },
    "tags": []
   },
   "outputs": [
    {
     "data": {
      "text/html": [
       "<div>\n",
       "<style scoped>\n",
       "    .dataframe tbody tr th:only-of-type {\n",
       "        vertical-align: middle;\n",
       "    }\n",
       "\n",
       "    .dataframe tbody tr th {\n",
       "        vertical-align: top;\n",
       "    }\n",
       "\n",
       "    .dataframe thead th {\n",
       "        text-align: right;\n",
       "    }\n",
       "</style>\n",
       "<table border=\"1\" class=\"dataframe\">\n",
       "  <thead>\n",
       "    <tr style=\"text-align: right;\">\n",
       "      <th>default</th>\n",
       "      <th>0</th>\n",
       "      <th>1</th>\n",
       "    </tr>\n",
       "    <tr>\n",
       "      <th>region_rating</th>\n",
       "      <th></th>\n",
       "      <th></th>\n",
       "    </tr>\n",
       "  </thead>\n",
       "  <tbody>\n",
       "    <tr>\n",
       "      <th>20</th>\n",
       "      <td>78.640777</td>\n",
       "      <td>21.359223</td>\n",
       "    </tr>\n",
       "    <tr>\n",
       "      <th>30</th>\n",
       "      <td>81.000000</td>\n",
       "      <td>19.000000</td>\n",
       "    </tr>\n",
       "    <tr>\n",
       "      <th>40</th>\n",
       "      <td>83.029850</td>\n",
       "      <td>16.970150</td>\n",
       "    </tr>\n",
       "    <tr>\n",
       "      <th>50</th>\n",
       "      <td>86.385932</td>\n",
       "      <td>13.614068</td>\n",
       "    </tr>\n",
       "    <tr>\n",
       "      <th>60</th>\n",
       "      <td>87.116641</td>\n",
       "      <td>12.883359</td>\n",
       "    </tr>\n",
       "    <tr>\n",
       "      <th>70</th>\n",
       "      <td>90.756574</td>\n",
       "      <td>9.243426</td>\n",
       "    </tr>\n",
       "    <tr>\n",
       "      <th>80</th>\n",
       "      <td>92.684628</td>\n",
       "      <td>7.315372</td>\n",
       "    </tr>\n",
       "  </tbody>\n",
       "</table>\n",
       "</div>"
      ],
      "text/plain": [
       "default                0          1\n",
       "region_rating                      \n",
       "20             78.640777  21.359223\n",
       "30             81.000000  19.000000\n",
       "40             83.029850  16.970150\n",
       "50             86.385932  13.614068\n",
       "60             87.116641  12.883359\n",
       "70             90.756574   9.243426\n",
       "80             92.684628   7.315372"
      ]
     },
     "execution_count": 33,
     "metadata": {},
     "output_type": "execute_result"
    }
   ],
   "source": [
    "# Посмотрим на распределение:\n",
    "pd.crosstab(train.region_rating, train.default, normalize='index')*100"
   ]
  },
  {
   "cell_type": "markdown",
   "id": "b292eb7d",
   "metadata": {
    "papermill": {
     "duration": 0.092438,
     "end_time": "2022-01-19T07:08:33.065983",
     "exception": false,
     "start_time": "2022-01-19T07:08:32.973545",
     "status": "completed"
    },
    "tags": []
   },
   "source": [
    "##### Прослеживается хорошая линейная зависимость."
   ]
  },
  {
   "cell_type": "code",
   "execution_count": 34,
   "id": "af72991e",
   "metadata": {
    "execution": {
     "iopub.execute_input": "2022-01-19T07:08:33.257770Z",
     "iopub.status.busy": "2022-01-19T07:08:33.256871Z",
     "iopub.status.idle": "2022-01-19T07:08:33.264718Z",
     "shell.execute_reply": "2022-01-19T07:08:33.265335Z",
     "shell.execute_reply.started": "2022-01-18T12:31:31.616125Z"
    },
    "papermill": {
     "duration": 0.107535,
     "end_time": "2022-01-19T07:08:33.265528",
     "exception": false,
     "start_time": "2022-01-19T07:08:33.157993",
     "status": "completed"
    },
    "tags": []
   },
   "outputs": [
    {
     "name": "stdout",
     "output_type": "stream",
     "text": [
      "20     0.279137\n",
      "30     0.406510\n",
      "40    16.296969\n",
      "50    37.294543\n",
      "60    21.782138\n",
      "70     8.399843\n",
      "80    15.540861\n",
      "Name: region_rating, dtype: float64\n"
     ]
    },
    {
     "data": {
      "text/plain": [
       "20     0.294368\n",
       "30     0.368648\n",
       "40    16.286555\n",
       "50    37.024402\n",
       "60    21.799774\n",
       "70     8.542188\n",
       "80    15.684063\n",
       "Name: region_rating, dtype: float64"
      ]
     },
     "execution_count": 34,
     "metadata": {},
     "output_type": "execute_result"
    }
   ],
   "source": [
    "# посмотрим на пропорции в обучающем и тестовом наборе данных:\n",
    "print(train.region_rating.value_counts(normalize=True).sort_index()*100)\n",
    "test.region_rating.value_counts(normalize=True).sort_index()*100"
   ]
  },
  {
   "cell_type": "markdown",
   "id": "942cee6e",
   "metadata": {
    "papermill": {
     "duration": 0.09261,
     "end_time": "2022-01-19T07:08:33.454761",
     "exception": false,
     "start_time": "2022-01-19T07:08:33.362151",
     "status": "completed"
    },
    "tags": []
   },
   "source": [
    "### 'work_address'"
   ]
  },
  {
   "cell_type": "code",
   "execution_count": 35,
   "id": "96b2ff26",
   "metadata": {
    "execution": {
     "iopub.execute_input": "2022-01-19T07:08:33.644838Z",
     "iopub.status.busy": "2022-01-19T07:08:33.644240Z",
     "iopub.status.idle": "2022-01-19T07:08:33.664814Z",
     "shell.execute_reply": "2022-01-19T07:08:33.664105Z",
     "shell.execute_reply.started": "2022-01-18T12:31:31.630582Z"
    },
    "papermill": {
     "duration": 0.117851,
     "end_time": "2022-01-19T07:08:33.664936",
     "exception": false,
     "start_time": "2022-01-19T07:08:33.547085",
     "status": "completed"
    },
    "tags": []
   },
   "outputs": [
    {
     "data": {
      "text/html": [
       "<div>\n",
       "<style scoped>\n",
       "    .dataframe tbody tr th:only-of-type {\n",
       "        vertical-align: middle;\n",
       "    }\n",
       "\n",
       "    .dataframe tbody tr th {\n",
       "        vertical-align: top;\n",
       "    }\n",
       "\n",
       "    .dataframe thead th {\n",
       "        text-align: right;\n",
       "    }\n",
       "</style>\n",
       "<table border=\"1\" class=\"dataframe\">\n",
       "  <thead>\n",
       "    <tr style=\"text-align: right;\">\n",
       "      <th>default</th>\n",
       "      <th>0</th>\n",
       "      <th>1</th>\n",
       "    </tr>\n",
       "    <tr>\n",
       "      <th>work_address</th>\n",
       "      <th></th>\n",
       "      <th></th>\n",
       "    </tr>\n",
       "  </thead>\n",
       "  <tbody>\n",
       "    <tr>\n",
       "      <th>1</th>\n",
       "      <td>92.584593</td>\n",
       "      <td>7.415407</td>\n",
       "    </tr>\n",
       "    <tr>\n",
       "      <th>2</th>\n",
       "      <td>89.749342</td>\n",
       "      <td>10.250658</td>\n",
       "    </tr>\n",
       "    <tr>\n",
       "      <th>3</th>\n",
       "      <td>85.204297</td>\n",
       "      <td>14.795703</td>\n",
       "    </tr>\n",
       "  </tbody>\n",
       "</table>\n",
       "</div>"
      ],
      "text/plain": [
       "default               0          1\n",
       "work_address                      \n",
       "1             92.584593   7.415407\n",
       "2             89.749342  10.250658\n",
       "3             85.204297  14.795703"
      ]
     },
     "execution_count": 35,
     "metadata": {},
     "output_type": "execute_result"
    }
   ],
   "source": [
    "# Посмотрим на распределение вероятности дефолта:\n",
    "pd.crosstab(train.work_address, train.default, normalize='index')*100"
   ]
  },
  {
   "cell_type": "code",
   "execution_count": 36,
   "id": "3d6fba0f",
   "metadata": {
    "execution": {
     "iopub.execute_input": "2022-01-19T07:08:33.864955Z",
     "iopub.status.busy": "2022-01-19T07:08:33.864349Z",
     "iopub.status.idle": "2022-01-19T07:08:33.870480Z",
     "shell.execute_reply": "2022-01-19T07:08:33.871061Z",
     "shell.execute_reply.started": "2022-01-18T12:31:31.65675Z"
    },
    "papermill": {
     "duration": 0.111126,
     "end_time": "2022-01-19T07:08:33.871245",
     "exception": false,
     "start_time": "2022-01-19T07:08:33.760119",
     "status": "completed"
    },
    "tags": []
   },
   "outputs": [
    {
     "name": "stdout",
     "output_type": "stream",
     "text": [
      "1    11.292836\n",
      "2    27.786284\n",
      "3    60.920880\n",
      "Name: work_address, dtype: float64\n"
     ]
    },
    {
     "data": {
      "text/plain": [
       "1    10.839363\n",
       "2    28.212606\n",
       "3    60.948032\n",
       "Name: work_address, dtype: float64"
      ]
     },
     "execution_count": 36,
     "metadata": {},
     "output_type": "execute_result"
    }
   ],
   "source": [
    "# Проверим пропорции выборки для обучащей и тестовых выборок:\n",
    "print(train.work_address.value_counts(normalize=True).sort_index()*100)\n",
    "test.work_address.value_counts(normalize=True).sort_index()*100"
   ]
  },
  {
   "cell_type": "markdown",
   "id": "b6e06260",
   "metadata": {
    "papermill": {
     "duration": 0.095382,
     "end_time": "2022-01-19T07:08:34.061521",
     "exception": false,
     "start_time": "2022-01-19T07:08:33.966139",
     "status": "completed"
    },
    "tags": []
   },
   "source": [
    "### 'home_address'"
   ]
  },
  {
   "cell_type": "code",
   "execution_count": 37,
   "id": "6250293c",
   "metadata": {
    "execution": {
     "iopub.execute_input": "2022-01-19T07:08:34.255682Z",
     "iopub.status.busy": "2022-01-19T07:08:34.254830Z",
     "iopub.status.idle": "2022-01-19T07:08:34.274045Z",
     "shell.execute_reply": "2022-01-19T07:08:34.274534Z",
     "shell.execute_reply.started": "2022-01-18T12:31:31.671549Z"
    },
    "papermill": {
     "duration": 0.118545,
     "end_time": "2022-01-19T07:08:34.274699",
     "exception": false,
     "start_time": "2022-01-19T07:08:34.156154",
     "status": "completed"
    },
    "tags": []
   },
   "outputs": [
    {
     "data": {
      "text/html": [
       "<div>\n",
       "<style scoped>\n",
       "    .dataframe tbody tr th:only-of-type {\n",
       "        vertical-align: middle;\n",
       "    }\n",
       "\n",
       "    .dataframe tbody tr th {\n",
       "        vertical-align: top;\n",
       "    }\n",
       "\n",
       "    .dataframe thead th {\n",
       "        text-align: right;\n",
       "    }\n",
       "</style>\n",
       "<table border=\"1\" class=\"dataframe\">\n",
       "  <thead>\n",
       "    <tr style=\"text-align: right;\">\n",
       "      <th>default</th>\n",
       "      <th>0</th>\n",
       "      <th>1</th>\n",
       "    </tr>\n",
       "    <tr>\n",
       "      <th>home_address</th>\n",
       "      <th></th>\n",
       "      <th></th>\n",
       "    </tr>\n",
       "  </thead>\n",
       "  <tbody>\n",
       "    <tr>\n",
       "      <th>1</th>\n",
       "      <td>90.710450</td>\n",
       "      <td>9.289550</td>\n",
       "    </tr>\n",
       "    <tr>\n",
       "      <th>2</th>\n",
       "      <td>84.485434</td>\n",
       "      <td>15.514566</td>\n",
       "    </tr>\n",
       "    <tr>\n",
       "      <th>3</th>\n",
       "      <td>88.394277</td>\n",
       "      <td>11.605723</td>\n",
       "    </tr>\n",
       "  </tbody>\n",
       "</table>\n",
       "</div>"
      ],
      "text/plain": [
       "default               0          1\n",
       "home_address                      \n",
       "1             90.710450   9.289550\n",
       "2             84.485434  15.514566\n",
       "3             88.394277  11.605723"
      ]
     },
     "execution_count": 37,
     "metadata": {},
     "output_type": "execute_result"
    }
   ],
   "source": [
    "# Посмотрим на пропорции вероятности дефолта:\n",
    "pd.crosstab(train.home_address, train.default, normalize='index')*100"
   ]
  },
  {
   "cell_type": "markdown",
   "id": "76edac6e",
   "metadata": {
    "papermill": {
     "duration": 0.094112,
     "end_time": "2022-01-19T07:08:34.467735",
     "exception": false,
     "start_time": "2022-01-19T07:08:34.373623",
     "status": "completed"
    },
    "tags": []
   },
   "source": [
    "##### Наблюдается не линейное распределение (с пиком для home_address=2)."
   ]
  },
  {
   "cell_type": "code",
   "execution_count": 38,
   "id": "a9cc0fc8",
   "metadata": {
    "execution": {
     "iopub.execute_input": "2022-01-19T07:08:34.671695Z",
     "iopub.status.busy": "2022-01-19T07:08:34.670906Z",
     "iopub.status.idle": "2022-01-19T07:08:34.676120Z",
     "shell.execute_reply": "2022-01-19T07:08:34.675518Z",
     "shell.execute_reply.started": "2022-01-18T12:31:31.696874Z"
    },
    "papermill": {
     "duration": 0.112656,
     "end_time": "2022-01-19T07:08:34.676282",
     "exception": false,
     "start_time": "2022-01-19T07:08:34.563626",
     "status": "completed"
    },
    "tags": []
   },
   "outputs": [
    {
     "name": "stdout",
     "output_type": "stream",
     "text": [
      "1    44.153715\n",
      "2    54.141655\n",
      "3     1.704630\n",
      "Name: home_address, dtype: float64\n"
     ]
    },
    {
     "data": {
      "text/plain": [
       "1    44.301081\n",
       "2    54.017992\n",
       "3     1.680927\n",
       "Name: home_address, dtype: float64"
      ]
     },
     "execution_count": 38,
     "metadata": {},
     "output_type": "execute_result"
    }
   ],
   "source": [
    "# Проверим распределение для обучащей и тестовых выборок:\n",
    "print(train.home_address.value_counts(normalize=True).sort_index()*100)\n",
    "test.home_address.value_counts(normalize=True).sort_index()*100"
   ]
  },
  {
   "cell_type": "code",
   "execution_count": 39,
   "id": "e0f02bc9",
   "metadata": {
    "execution": {
     "iopub.execute_input": "2022-01-19T07:08:34.910785Z",
     "iopub.status.busy": "2022-01-19T07:08:34.909262Z",
     "iopub.status.idle": "2022-01-19T07:08:34.951247Z",
     "shell.execute_reply": "2022-01-19T07:08:34.952102Z",
     "shell.execute_reply.started": "2022-01-18T12:31:31.710901Z"
    },
    "papermill": {
     "duration": 0.16375,
     "end_time": "2022-01-19T07:08:34.952304",
     "exception": false,
     "start_time": "2022-01-19T07:08:34.788554",
     "status": "completed"
    },
    "tags": []
   },
   "outputs": [
    {
     "data": {
      "text/html": [
       "<div>\n",
       "<style scoped>\n",
       "    .dataframe tbody tr th:only-of-type {\n",
       "        vertical-align: middle;\n",
       "    }\n",
       "\n",
       "    .dataframe tbody tr th {\n",
       "        vertical-align: top;\n",
       "    }\n",
       "\n",
       "    .dataframe thead th {\n",
       "        text-align: right;\n",
       "    }\n",
       "</style>\n",
       "<table border=\"1\" class=\"dataframe\">\n",
       "  <thead>\n",
       "    <tr style=\"text-align: right;\">\n",
       "      <th>default</th>\n",
       "      <th>0</th>\n",
       "      <th>1</th>\n",
       "    </tr>\n",
       "    <tr>\n",
       "      <th>home_address</th>\n",
       "      <th></th>\n",
       "      <th></th>\n",
       "    </tr>\n",
       "  </thead>\n",
       "  <tbody>\n",
       "    <tr>\n",
       "      <th>1.0</th>\n",
       "      <td>90.710450</td>\n",
       "      <td>9.289550</td>\n",
       "    </tr>\n",
       "    <tr>\n",
       "      <th>1.5</th>\n",
       "      <td>88.394277</td>\n",
       "      <td>11.605723</td>\n",
       "    </tr>\n",
       "    <tr>\n",
       "      <th>2.0</th>\n",
       "      <td>84.485434</td>\n",
       "      <td>15.514566</td>\n",
       "    </tr>\n",
       "  </tbody>\n",
       "</table>\n",
       "</div>"
      ],
      "text/plain": [
       "default               0          1\n",
       "home_address                      \n",
       "1.0           90.710450   9.289550\n",
       "1.5           88.394277  11.605723\n",
       "2.0           84.485434  15.514566"
      ]
     },
     "execution_count": 39,
     "metadata": {},
     "output_type": "execute_result"
    }
   ],
   "source": [
    "# учитывая вероятность дефолта для класса home_address=3 (11,6%), логичней поместить его на промежуточный (между 1 и 2):\n",
    "train.home_address[train.home_address == 3] = 1.5\n",
    "test.home_address[test.home_address == 3] = 1.5\n",
    "\n",
    "# # учитывая малое кол-во выборки для класса \"3\" и низкую вероятность дефолта для этого же класса (11,6%), что ближе к классу \"1\", можем их объеденить:\n",
    "# train.home_address[train.home_address == 3] = 1\n",
    "# test.home_address[test.home_address == 3] = 1\n",
    "\n",
    "pd.crosstab(train.home_address, train.default, normalize='index')*100"
   ]
  },
  {
   "cell_type": "markdown",
   "id": "cca1e7ba",
   "metadata": {
    "papermill": {
     "duration": 0.102099,
     "end_time": "2022-01-19T07:08:35.156201",
     "exception": false,
     "start_time": "2022-01-19T07:08:35.054102",
     "status": "completed"
    },
    "tags": []
   },
   "source": [
    "### 'sna'"
   ]
  },
  {
   "cell_type": "code",
   "execution_count": 40,
   "id": "967f2528",
   "metadata": {
    "execution": {
     "iopub.execute_input": "2022-01-19T07:08:35.380492Z",
     "iopub.status.busy": "2022-01-19T07:08:35.379503Z",
     "iopub.status.idle": "2022-01-19T07:08:35.400627Z",
     "shell.execute_reply": "2022-01-19T07:08:35.401579Z",
     "shell.execute_reply.started": "2022-01-18T12:31:31.750579Z"
    },
    "papermill": {
     "duration": 0.132476,
     "end_time": "2022-01-19T07:08:35.401751",
     "exception": false,
     "start_time": "2022-01-19T07:08:35.269275",
     "status": "completed"
    },
    "tags": []
   },
   "outputs": [
    {
     "data": {
      "text/html": [
       "<div>\n",
       "<style scoped>\n",
       "    .dataframe tbody tr th:only-of-type {\n",
       "        vertical-align: middle;\n",
       "    }\n",
       "\n",
       "    .dataframe tbody tr th {\n",
       "        vertical-align: top;\n",
       "    }\n",
       "\n",
       "    .dataframe thead th {\n",
       "        text-align: right;\n",
       "    }\n",
       "</style>\n",
       "<table border=\"1\" class=\"dataframe\">\n",
       "  <thead>\n",
       "    <tr style=\"text-align: right;\">\n",
       "      <th>default</th>\n",
       "      <th>0</th>\n",
       "      <th>1</th>\n",
       "    </tr>\n",
       "    <tr>\n",
       "      <th>sna</th>\n",
       "      <th></th>\n",
       "      <th></th>\n",
       "    </tr>\n",
       "  </thead>\n",
       "  <tbody>\n",
       "    <tr>\n",
       "      <th>1</th>\n",
       "      <td>90.179912</td>\n",
       "      <td>9.820088</td>\n",
       "    </tr>\n",
       "    <tr>\n",
       "      <th>2</th>\n",
       "      <td>85.017881</td>\n",
       "      <td>14.982119</td>\n",
       "    </tr>\n",
       "    <tr>\n",
       "      <th>3</th>\n",
       "      <td>84.234780</td>\n",
       "      <td>15.765220</td>\n",
       "    </tr>\n",
       "    <tr>\n",
       "      <th>4</th>\n",
       "      <td>78.849264</td>\n",
       "      <td>21.150736</td>\n",
       "    </tr>\n",
       "  </tbody>\n",
       "</table>\n",
       "</div>"
      ],
      "text/plain": [
       "default          0          1\n",
       "sna                          \n",
       "1        90.179912   9.820088\n",
       "2        85.017881  14.982119\n",
       "3        84.234780  15.765220\n",
       "4        78.849264  21.150736"
      ]
     },
     "execution_count": 40,
     "metadata": {},
     "output_type": "execute_result"
    }
   ],
   "source": [
    "# Посмотрим на распределение вероятноти дефолта:\n",
    "pd.crosstab(train.sna, train.default, normalize='index')*100"
   ]
  },
  {
   "cell_type": "markdown",
   "id": "0df0cb56",
   "metadata": {
    "papermill": {
     "duration": 0.095634,
     "end_time": "2022-01-19T07:08:35.596575",
     "exception": false,
     "start_time": "2022-01-19T07:08:35.500941",
     "status": "completed"
    },
    "tags": []
   },
   "source": [
    "##### Видим, что для групп sna=3 и sna=2 близкие по значению вероятности дефолта."
   ]
  },
  {
   "cell_type": "code",
   "execution_count": 41,
   "id": "3c558d58",
   "metadata": {
    "execution": {
     "iopub.execute_input": "2022-01-19T07:08:35.798410Z",
     "iopub.status.busy": "2022-01-19T07:08:35.797431Z",
     "iopub.status.idle": "2022-01-19T07:08:35.803511Z",
     "shell.execute_reply": "2022-01-19T07:08:35.802927Z",
     "shell.execute_reply.started": "2022-01-18T12:31:31.781618Z"
    },
    "papermill": {
     "duration": 0.111395,
     "end_time": "2022-01-19T07:08:35.803674",
     "exception": false,
     "start_time": "2022-01-19T07:08:35.692279",
     "status": "completed"
    },
    "tags": []
   },
   "outputs": [
    {
     "name": "stdout",
     "output_type": "stream",
     "text": [
      "1    64.094364\n",
      "2    14.398569\n",
      "3     5.586797\n",
      "4    15.920270\n",
      "Name: sna, dtype: float64\n"
     ]
    },
    {
     "data": {
      "text/plain": [
       "1    64.320889\n",
       "2    14.322265\n",
       "3     5.587499\n",
       "4    15.769347\n",
       "Name: sna, dtype: float64"
      ]
     },
     "execution_count": 41,
     "metadata": {},
     "output_type": "execute_result"
    }
   ],
   "source": [
    "# посмотрим на пропорции выборки по категориям:\n",
    "print(train.sna.value_counts(normalize=True).sort_index()*100)\n",
    "test.sna.value_counts(normalize=True).sort_index()*100"
   ]
  },
  {
   "cell_type": "code",
   "execution_count": 42,
   "id": "45428a99",
   "metadata": {
    "execution": {
     "iopub.execute_input": "2022-01-19T07:08:36.004620Z",
     "iopub.status.busy": "2022-01-19T07:08:36.003027Z",
     "iopub.status.idle": "2022-01-19T07:08:36.005185Z",
     "shell.execute_reply": "2022-01-19T07:08:36.005612Z",
     "shell.execute_reply.started": "2022-01-18T12:31:31.800358Z"
    },
    "papermill": {
     "duration": 0.10465,
     "end_time": "2022-01-19T07:08:36.005760",
     "exception": false,
     "start_time": "2022-01-19T07:08:35.901110",
     "status": "completed"
    },
    "tags": []
   },
   "outputs": [],
   "source": [
    "# # учитывая небольшое кол-во для группы sna=3 и близкое значение вероятности дефолта с группой sna=2 - можем их объеденить\n",
    "# train.sna = train.sna.apply(lambda x: 2.5 if x in [2, 3] else x)\n",
    "# test.sna = test.sna.apply(lambda x: 2.5 if x in [2, 3] else x)\n",
    "# pd.crosstab(train.sna, train.default, normalize='index')*100"
   ]
  },
  {
   "cell_type": "markdown",
   "id": "4a871407",
   "metadata": {
    "papermill": {
     "duration": 0.096325,
     "end_time": "2022-01-19T07:08:36.199129",
     "exception": false,
     "start_time": "2022-01-19T07:08:36.102804",
     "status": "completed"
    },
    "tags": []
   },
   "source": [
    "### 'first_time'"
   ]
  },
  {
   "cell_type": "code",
   "execution_count": 43,
   "id": "085bec26",
   "metadata": {
    "execution": {
     "iopub.execute_input": "2022-01-19T07:08:36.397035Z",
     "iopub.status.busy": "2022-01-19T07:08:36.396214Z",
     "iopub.status.idle": "2022-01-19T07:08:36.414913Z",
     "shell.execute_reply": "2022-01-19T07:08:36.415328Z",
     "shell.execute_reply.started": "2022-01-18T12:31:31.808624Z"
    },
    "papermill": {
     "duration": 0.120175,
     "end_time": "2022-01-19T07:08:36.415486",
     "exception": false,
     "start_time": "2022-01-19T07:08:36.295311",
     "status": "completed"
    },
    "tags": []
   },
   "outputs": [
    {
     "data": {
      "text/html": [
       "<div>\n",
       "<style scoped>\n",
       "    .dataframe tbody tr th:only-of-type {\n",
       "        vertical-align: middle;\n",
       "    }\n",
       "\n",
       "    .dataframe tbody tr th {\n",
       "        vertical-align: top;\n",
       "    }\n",
       "\n",
       "    .dataframe thead th {\n",
       "        text-align: right;\n",
       "    }\n",
       "</style>\n",
       "<table border=\"1\" class=\"dataframe\">\n",
       "  <thead>\n",
       "    <tr style=\"text-align: right;\">\n",
       "      <th>default</th>\n",
       "      <th>0</th>\n",
       "      <th>1</th>\n",
       "    </tr>\n",
       "    <tr>\n",
       "      <th>first_time</th>\n",
       "      <th></th>\n",
       "      <th></th>\n",
       "    </tr>\n",
       "  </thead>\n",
       "  <tbody>\n",
       "    <tr>\n",
       "      <th>1</th>\n",
       "      <td>81.387368</td>\n",
       "      <td>18.612632</td>\n",
       "    </tr>\n",
       "    <tr>\n",
       "      <th>2</th>\n",
       "      <td>84.457123</td>\n",
       "      <td>15.542877</td>\n",
       "    </tr>\n",
       "    <tr>\n",
       "      <th>3</th>\n",
       "      <td>87.973124</td>\n",
       "      <td>12.026876</td>\n",
       "    </tr>\n",
       "    <tr>\n",
       "      <th>4</th>\n",
       "      <td>91.796979</td>\n",
       "      <td>8.203021</td>\n",
       "    </tr>\n",
       "  </tbody>\n",
       "</table>\n",
       "</div>"
      ],
      "text/plain": [
       "default             0          1\n",
       "first_time                      \n",
       "1           81.387368  18.612632\n",
       "2           84.457123  15.542877\n",
       "3           87.973124  12.026876\n",
       "4           91.796979   8.203021"
      ]
     },
     "execution_count": 43,
     "metadata": {},
     "output_type": "execute_result"
    }
   ],
   "source": [
    "# Посмотрим на распределение вероятноти дефолта:\n",
    "pd.crosstab(train.first_time, train.default, normalize='index')*100"
   ]
  },
  {
   "cell_type": "code",
   "execution_count": 44,
   "id": "265d4814",
   "metadata": {
    "execution": {
     "iopub.execute_input": "2022-01-19T07:08:36.619076Z",
     "iopub.status.busy": "2022-01-19T07:08:36.612399Z",
     "iopub.status.idle": "2022-01-19T07:08:36.623182Z",
     "shell.execute_reply": "2022-01-19T07:08:36.623761Z",
     "shell.execute_reply.started": "2022-01-18T12:31:31.835912Z"
    },
    "papermill": {
     "duration": 0.111411,
     "end_time": "2022-01-19T07:08:36.623937",
     "exception": false,
     "start_time": "2022-01-19T07:08:36.512526",
     "status": "completed"
    },
    "tags": []
   },
   "outputs": [
    {
     "name": "stdout",
     "output_type": "stream",
     "text": [
      "1    16.584236\n",
      "2    15.675009\n",
      "3    42.351522\n",
      "4    25.389233\n",
      "Name: first_time, dtype: float64\n"
     ]
    },
    {
     "data": {
      "text/plain": [
       "1    16.663457\n",
       "2    15.623538\n",
       "3    42.182729\n",
       "4    25.530276\n",
       "Name: first_time, dtype: float64"
      ]
     },
     "execution_count": 44,
     "metadata": {},
     "output_type": "execute_result"
    }
   ],
   "source": [
    "# посмотрим на пропорции выборки по категориям:\n",
    "print(train.first_time.value_counts(normalize=True).sort_index()*100)\n",
    "test.first_time.value_counts(normalize=True).sort_index()*100"
   ]
  },
  {
   "cell_type": "markdown",
   "id": "a2902656",
   "metadata": {
    "papermill": {
     "duration": 0.097978,
     "end_time": "2022-01-19T07:08:36.820158",
     "exception": false,
     "start_time": "2022-01-19T07:08:36.722180",
     "status": "completed"
    },
    "tags": []
   },
   "source": [
    "### Итоги анализа (\"вероятности дефолта\" обозначим как: \"ВД\"):\n",
    "* sex - пол заемщика, - не формирует выраженной зависимости ВД;\n",
    "* car - флаг наличия автомобиля, - рассмотрев совместно с признаком car_type можно утвердать что данный признак не формирует зависимости к ВД;\n",
    "* car_type - флаг автомобиля иномарки, - формирует хорошо выраженную зависимость ВД;\n",
    "* foreign_passport - наличие загранпаспорта, - присутствует выраженная зависимость ВД;\n",
    "* education - уровень образования, - присутствуют пропуски данных; преобразовали категории в соответствущие вероятности дефолта.\n",
    "* app_date - дата подачи заявки, - на основании сформированно несколько новых признаков с выраженной зависимостью ВД;\n",
    "* good_work - флаг наличия “хорошей” работы, - присутствует выраженная зависимость ВД;\n",
    "* region_rating - рейтинг региона, - присутствует выраженная зависимость ВД;\n",
    "* home_address - категоризатор домашнего адреса, - присутствует выраженная зависимость ВД;\n",
    "* work_address - категоризатор рабочего адреса, - присутствует выраженная зависимость ВД;\n",
    "* sna - связь заемщика с клиентами банка - можно отнести к ординальному типу признаков с линейным ростом ВД;\n",
    "* first_time - давность наличия информации о заемщике - обратная линейная зависимость ВД."
   ]
  },
  {
   "cell_type": "markdown",
   "id": "302ea606",
   "metadata": {
    "papermill": {
     "duration": 0.105325,
     "end_time": "2022-01-19T07:08:37.030387",
     "exception": false,
     "start_time": "2022-01-19T07:08:36.925062",
     "status": "completed"
    },
    "tags": []
   },
   "source": [
    "#### 'sex' + 'car' = 'sex_car' - заменим два бесполезных признака на один полезный"
   ]
  },
  {
   "cell_type": "code",
   "execution_count": 45,
   "id": "8dea6446",
   "metadata": {
    "execution": {
     "iopub.execute_input": "2022-01-19T07:08:37.236284Z",
     "iopub.status.busy": "2022-01-19T07:08:37.235389Z",
     "iopub.status.idle": "2022-01-19T07:08:37.256293Z",
     "shell.execute_reply": "2022-01-19T07:08:37.255879Z",
     "shell.execute_reply.started": "2022-01-18T12:31:31.851892Z"
    },
    "papermill": {
     "duration": 0.123105,
     "end_time": "2022-01-19T07:08:37.256409",
     "exception": false,
     "start_time": "2022-01-19T07:08:37.133304",
     "status": "completed"
    },
    "tags": []
   },
   "outputs": [
    {
     "data": {
      "text/html": [
       "<div>\n",
       "<style scoped>\n",
       "    .dataframe tbody tr th:only-of-type {\n",
       "        vertical-align: middle;\n",
       "    }\n",
       "\n",
       "    .dataframe tbody tr th {\n",
       "        vertical-align: top;\n",
       "    }\n",
       "\n",
       "    .dataframe thead th {\n",
       "        text-align: right;\n",
       "    }\n",
       "</style>\n",
       "<table border=\"1\" class=\"dataframe\">\n",
       "  <thead>\n",
       "    <tr style=\"text-align: right;\">\n",
       "      <th></th>\n",
       "      <th>default</th>\n",
       "      <th>0</th>\n",
       "      <th>1</th>\n",
       "    </tr>\n",
       "    <tr>\n",
       "      <th>sex</th>\n",
       "      <th>car</th>\n",
       "      <th></th>\n",
       "      <th></th>\n",
       "    </tr>\n",
       "  </thead>\n",
       "  <tbody>\n",
       "    <tr>\n",
       "      <th rowspan=\"2\" valign=\"top\">0</th>\n",
       "      <th>0</th>\n",
       "      <td>87.243951</td>\n",
       "      <td>12.756049</td>\n",
       "    </tr>\n",
       "    <tr>\n",
       "      <th>1</th>\n",
       "      <td>90.260710</td>\n",
       "      <td>9.739290</td>\n",
       "    </tr>\n",
       "    <tr>\n",
       "      <th rowspan=\"2\" valign=\"top\">1</th>\n",
       "      <th>0</th>\n",
       "      <td>84.484891</td>\n",
       "      <td>15.515109</td>\n",
       "    </tr>\n",
       "    <tr>\n",
       "      <th>1</th>\n",
       "      <td>88.866317</td>\n",
       "      <td>11.133683</td>\n",
       "    </tr>\n",
       "  </tbody>\n",
       "</table>\n",
       "</div>"
      ],
      "text/plain": [
       "default          0          1\n",
       "sex car                      \n",
       "0   0    87.243951  12.756049\n",
       "    1    90.260710   9.739290\n",
       "1   0    84.484891  15.515109\n",
       "    1    88.866317  11.133683"
      ]
     },
     "execution_count": 45,
     "metadata": {},
     "output_type": "execute_result"
    }
   ],
   "source": [
    "pd.crosstab([train.sex, train.car], train.default, normalize='index')*100"
   ]
  },
  {
   "cell_type": "code",
   "execution_count": 46,
   "id": "279cdc10",
   "metadata": {
    "execution": {
     "iopub.execute_input": "2022-01-19T07:08:37.466933Z",
     "iopub.status.busy": "2022-01-19T07:08:37.466058Z",
     "iopub.status.idle": "2022-01-19T07:08:37.502332Z",
     "shell.execute_reply": "2022-01-19T07:08:37.502794Z",
     "shell.execute_reply.started": "2022-01-18T12:31:31.878631Z"
    },
    "papermill": {
     "duration": 0.145199,
     "end_time": "2022-01-19T07:08:37.502945",
     "exception": false,
     "start_time": "2022-01-19T07:08:37.357746",
     "status": "completed"
    },
    "tags": []
   },
   "outputs": [
    {
     "data": {
      "text/html": [
       "<div>\n",
       "<style scoped>\n",
       "    .dataframe tbody tr th:only-of-type {\n",
       "        vertical-align: middle;\n",
       "    }\n",
       "\n",
       "    .dataframe tbody tr th {\n",
       "        vertical-align: top;\n",
       "    }\n",
       "\n",
       "    .dataframe thead th {\n",
       "        text-align: right;\n",
       "    }\n",
       "</style>\n",
       "<table border=\"1\" class=\"dataframe\">\n",
       "  <thead>\n",
       "    <tr style=\"text-align: right;\">\n",
       "      <th>default</th>\n",
       "      <th>0</th>\n",
       "      <th>1</th>\n",
       "    </tr>\n",
       "    <tr>\n",
       "      <th>sex_car</th>\n",
       "      <th></th>\n",
       "      <th></th>\n",
       "    </tr>\n",
       "  </thead>\n",
       "  <tbody>\n",
       "    <tr>\n",
       "      <th>1</th>\n",
       "      <td>90.260710</td>\n",
       "      <td>9.739290</td>\n",
       "    </tr>\n",
       "    <tr>\n",
       "      <th>2</th>\n",
       "      <td>88.866317</td>\n",
       "      <td>11.133683</td>\n",
       "    </tr>\n",
       "    <tr>\n",
       "      <th>3</th>\n",
       "      <td>87.243951</td>\n",
       "      <td>12.756049</td>\n",
       "    </tr>\n",
       "    <tr>\n",
       "      <th>4</th>\n",
       "      <td>84.484891</td>\n",
       "      <td>15.515109</td>\n",
       "    </tr>\n",
       "  </tbody>\n",
       "</table>\n",
       "</div>"
      ],
      "text/plain": [
       "default          0          1\n",
       "sex_car                      \n",
       "1        90.260710   9.739290\n",
       "2        88.866317  11.133683\n",
       "3        87.243951  12.756049\n",
       "4        84.484891  15.515109"
      ]
     },
     "execution_count": 46,
     "metadata": {},
     "output_type": "execute_result"
    }
   ],
   "source": [
    "train['sex_car'] = 0\n",
    "train['sex_car'][(train.car == 1)&(train.sex == 0)] = 1\n",
    "train['sex_car'][(train.car == 1)&(train.sex == 1)] = 2\n",
    "train['sex_car'][(train.car == 0)&(train.sex == 0)] = 3\n",
    "train['sex_car'][(train.car == 0)&(train.sex == 1)] = 4\n",
    "\n",
    "test['sex_car'] = 0\n",
    "test['sex_car'][(test.car == 1)&(test.sex == 0)] = 1\n",
    "test['sex_car'][(test.car == 1)&(test.sex == 1)] = 2\n",
    "test['sex_car'][(test.car == 0)&(test.sex == 0)] = 3\n",
    "test['sex_car'][(test.car == 0)&(test.sex == 1)] = 4\n",
    "\n",
    "pd.crosstab(train.sex_car, train.default, normalize='index')*100"
   ]
  },
  {
   "cell_type": "code",
   "execution_count": 47,
   "id": "a2fa5fe7",
   "metadata": {
    "execution": {
     "iopub.execute_input": "2022-01-19T07:08:37.706480Z",
     "iopub.status.busy": "2022-01-19T07:08:37.705252Z",
     "iopub.status.idle": "2022-01-19T07:08:37.720798Z",
     "shell.execute_reply": "2022-01-19T07:08:37.721248Z",
     "shell.execute_reply.started": "2022-01-18T12:31:31.928651Z"
    },
    "papermill": {
     "duration": 0.11953,
     "end_time": "2022-01-19T07:08:37.721398",
     "exception": false,
     "start_time": "2022-01-19T07:08:37.601868",
     "status": "completed"
    },
    "tags": []
   },
   "outputs": [],
   "source": [
    "# Удалим ранее отбракованные (или оптимизированные в новые признаки) данные:\n",
    "train.drop(['sex', 'car'], axis=1, inplace=True)  # \n",
    "test.drop(['sex', 'car'], axis=1, inplace=True)   # "
   ]
  },
  {
   "cell_type": "markdown",
   "id": "be6f6789",
   "metadata": {
    "execution": {
     "iopub.execute_input": "2022-01-04T08:09:12.256678Z",
     "iopub.status.busy": "2022-01-04T08:09:12.256134Z",
     "iopub.status.idle": "2022-01-04T08:09:12.266345Z",
     "shell.execute_reply": "2022-01-04T08:09:12.265076Z",
     "shell.execute_reply.started": "2022-01-04T08:09:12.256617Z"
    },
    "papermill": {
     "duration": 0.100331,
     "end_time": "2022-01-19T07:08:37.921002",
     "exception": false,
     "start_time": "2022-01-19T07:08:37.820671",
     "status": "completed"
    },
    "tags": []
   },
   "source": [
    "## 3. Анализ и обработка числовых признаков:"
   ]
  },
  {
   "cell_type": "markdown",
   "id": "772af4ce",
   "metadata": {
    "papermill": {
     "duration": 0.099961,
     "end_time": "2022-01-19T07:08:38.119481",
     "exception": false,
     "start_time": "2022-01-19T07:08:38.019520",
     "status": "completed"
    },
    "tags": []
   },
   "source": [
    "### 'client_id'"
   ]
  },
  {
   "cell_type": "code",
   "execution_count": 48,
   "id": "046a7f6f",
   "metadata": {
    "execution": {
     "iopub.execute_input": "2022-01-19T07:08:38.322298Z",
     "iopub.status.busy": "2022-01-19T07:08:38.321373Z",
     "iopub.status.idle": "2022-01-19T07:08:38.327808Z",
     "shell.execute_reply": "2022-01-19T07:08:38.328223Z",
     "shell.execute_reply.started": "2022-01-18T12:31:31.947495Z"
    },
    "papermill": {
     "duration": 0.110874,
     "end_time": "2022-01-19T07:08:38.328361",
     "exception": false,
     "start_time": "2022-01-19T07:08:38.217487",
     "status": "completed"
    },
    "tags": []
   },
   "outputs": [
    {
     "data": {
      "text/plain": [
       "True"
      ]
     },
     "execution_count": 48,
     "metadata": {},
     "output_type": "execute_result"
    }
   ],
   "source": [
    "# Убедимся что все записи уникальны (train + test):\n",
    "id_all = train.client_id.append(test.client_id)\n",
    "id_all.shape[0] == id_all.nunique()"
   ]
  },
  {
   "cell_type": "code",
   "execution_count": 49,
   "id": "c9cdc849",
   "metadata": {
    "execution": {
     "iopub.execute_input": "2022-01-19T07:08:38.531077Z",
     "iopub.status.busy": "2022-01-19T07:08:38.530209Z",
     "iopub.status.idle": "2022-01-19T07:08:38.564786Z",
     "shell.execute_reply": "2022-01-19T07:08:38.565239Z",
     "shell.execute_reply.started": "2022-01-18T12:31:31.96142Z"
    },
    "papermill": {
     "duration": 0.13805,
     "end_time": "2022-01-19T07:08:38.565415",
     "exception": false,
     "start_time": "2022-01-19T07:08:38.427365",
     "status": "completed"
    },
    "tags": []
   },
   "outputs": [
    {
     "data": {
      "text/html": [
       "<div>\n",
       "<style scoped>\n",
       "    .dataframe tbody tr th:only-of-type {\n",
       "        vertical-align: middle;\n",
       "    }\n",
       "\n",
       "    .dataframe tbody tr th {\n",
       "        vertical-align: top;\n",
       "    }\n",
       "\n",
       "    .dataframe thead th {\n",
       "        text-align: right;\n",
       "    }\n",
       "</style>\n",
       "<table border=\"1\" class=\"dataframe\">\n",
       "  <thead>\n",
       "    <tr style=\"text-align: right;\">\n",
       "      <th></th>\n",
       "      <th>client_id</th>\n",
       "      <th>education</th>\n",
       "      <th>age</th>\n",
       "      <th>car_type</th>\n",
       "      <th>decline_app_cnt</th>\n",
       "      <th>good_work</th>\n",
       "      <th>score_bki</th>\n",
       "      <th>bki_request_cnt</th>\n",
       "      <th>region_rating</th>\n",
       "      <th>home_address</th>\n",
       "      <th>work_address</th>\n",
       "      <th>income</th>\n",
       "      <th>sna</th>\n",
       "      <th>first_time</th>\n",
       "      <th>foreign_passport</th>\n",
       "      <th>default</th>\n",
       "      <th>month</th>\n",
       "      <th>clients_day</th>\n",
       "      <th>numb_weeks</th>\n",
       "      <th>sex_car</th>\n",
       "    </tr>\n",
       "  </thead>\n",
       "  <tbody>\n",
       "    <tr>\n",
       "      <th>24222</th>\n",
       "      <td>1</td>\n",
       "      <td>15.06</td>\n",
       "      <td>27</td>\n",
       "      <td>1</td>\n",
       "      <td>0</td>\n",
       "      <td>0</td>\n",
       "      <td>-1.917831</td>\n",
       "      <td>0</td>\n",
       "      <td>40</td>\n",
       "      <td>2.0</td>\n",
       "      <td>3</td>\n",
       "      <td>32000</td>\n",
       "      <td>1</td>\n",
       "      <td>4</td>\n",
       "      <td>0</td>\n",
       "      <td>0</td>\n",
       "      <td>1</td>\n",
       "      <td>43</td>\n",
       "      <td>1</td>\n",
       "      <td>2</td>\n",
       "    </tr>\n",
       "    <tr>\n",
       "      <th>4824</th>\n",
       "      <td>2</td>\n",
       "      <td>9.01</td>\n",
       "      <td>26</td>\n",
       "      <td>0</td>\n",
       "      <td>0</td>\n",
       "      <td>0</td>\n",
       "      <td>-1.153144</td>\n",
       "      <td>2</td>\n",
       "      <td>60</td>\n",
       "      <td>2.0</td>\n",
       "      <td>3</td>\n",
       "      <td>50000</td>\n",
       "      <td>2</td>\n",
       "      <td>1</td>\n",
       "      <td>0</td>\n",
       "      <td>0</td>\n",
       "      <td>1</td>\n",
       "      <td>43</td>\n",
       "      <td>1</td>\n",
       "      <td>3</td>\n",
       "    </tr>\n",
       "    <tr>\n",
       "      <th>62792</th>\n",
       "      <td>3</td>\n",
       "      <td>15.06</td>\n",
       "      <td>35</td>\n",
       "      <td>0</td>\n",
       "      <td>0</td>\n",
       "      <td>1</td>\n",
       "      <td>-1.732810</td>\n",
       "      <td>0</td>\n",
       "      <td>40</td>\n",
       "      <td>1.0</td>\n",
       "      <td>2</td>\n",
       "      <td>20000</td>\n",
       "      <td>4</td>\n",
       "      <td>3</td>\n",
       "      <td>0</td>\n",
       "      <td>0</td>\n",
       "      <td>1</td>\n",
       "      <td>43</td>\n",
       "      <td>1</td>\n",
       "      <td>4</td>\n",
       "    </tr>\n",
       "    <tr>\n",
       "      <th>10525</th>\n",
       "      <td>5</td>\n",
       "      <td>13.15</td>\n",
       "      <td>24</td>\n",
       "      <td>0</td>\n",
       "      <td>0</td>\n",
       "      <td>0</td>\n",
       "      <td>-1.914581</td>\n",
       "      <td>1</td>\n",
       "      <td>50</td>\n",
       "      <td>2.0</td>\n",
       "      <td>3</td>\n",
       "      <td>27000</td>\n",
       "      <td>1</td>\n",
       "      <td>2</td>\n",
       "      <td>0</td>\n",
       "      <td>0</td>\n",
       "      <td>1</td>\n",
       "      <td>43</td>\n",
       "      <td>1</td>\n",
       "      <td>3</td>\n",
       "    </tr>\n",
       "    <tr>\n",
       "      <th>57653</th>\n",
       "      <td>6</td>\n",
       "      <td>15.06</td>\n",
       "      <td>35</td>\n",
       "      <td>1</td>\n",
       "      <td>0</td>\n",
       "      <td>0</td>\n",
       "      <td>-1.920823</td>\n",
       "      <td>4</td>\n",
       "      <td>40</td>\n",
       "      <td>2.0</td>\n",
       "      <td>3</td>\n",
       "      <td>35000</td>\n",
       "      <td>4</td>\n",
       "      <td>3</td>\n",
       "      <td>0</td>\n",
       "      <td>0</td>\n",
       "      <td>1</td>\n",
       "      <td>43</td>\n",
       "      <td>1</td>\n",
       "      <td>2</td>\n",
       "    </tr>\n",
       "    <tr>\n",
       "      <th>...</th>\n",
       "      <td>...</td>\n",
       "      <td>...</td>\n",
       "      <td>...</td>\n",
       "      <td>...</td>\n",
       "      <td>...</td>\n",
       "      <td>...</td>\n",
       "      <td>...</td>\n",
       "      <td>...</td>\n",
       "      <td>...</td>\n",
       "      <td>...</td>\n",
       "      <td>...</td>\n",
       "      <td>...</td>\n",
       "      <td>...</td>\n",
       "      <td>...</td>\n",
       "      <td>...</td>\n",
       "      <td>...</td>\n",
       "      <td>...</td>\n",
       "      <td>...</td>\n",
       "      <td>...</td>\n",
       "      <td>...</td>\n",
       "    </tr>\n",
       "    <tr>\n",
       "      <th>14007</th>\n",
       "      <td>110142</td>\n",
       "      <td>15.06</td>\n",
       "      <td>48</td>\n",
       "      <td>0</td>\n",
       "      <td>0</td>\n",
       "      <td>1</td>\n",
       "      <td>-2.064421</td>\n",
       "      <td>3</td>\n",
       "      <td>80</td>\n",
       "      <td>2.0</td>\n",
       "      <td>3</td>\n",
       "      <td>60000</td>\n",
       "      <td>1</td>\n",
       "      <td>2</td>\n",
       "      <td>0</td>\n",
       "      <td>0</td>\n",
       "      <td>4</td>\n",
       "      <td>584</td>\n",
       "      <td>18</td>\n",
       "      <td>4</td>\n",
       "    </tr>\n",
       "    <tr>\n",
       "      <th>56358</th>\n",
       "      <td>110143</td>\n",
       "      <td>9.01</td>\n",
       "      <td>42</td>\n",
       "      <td>0</td>\n",
       "      <td>0</td>\n",
       "      <td>0</td>\n",
       "      <td>-1.864372</td>\n",
       "      <td>2</td>\n",
       "      <td>50</td>\n",
       "      <td>2.0</td>\n",
       "      <td>3</td>\n",
       "      <td>70000</td>\n",
       "      <td>1</td>\n",
       "      <td>4</td>\n",
       "      <td>0</td>\n",
       "      <td>0</td>\n",
       "      <td>4</td>\n",
       "      <td>584</td>\n",
       "      <td>18</td>\n",
       "      <td>3</td>\n",
       "    </tr>\n",
       "    <tr>\n",
       "      <th>61140</th>\n",
       "      <td>110145</td>\n",
       "      <td>9.01</td>\n",
       "      <td>39</td>\n",
       "      <td>0</td>\n",
       "      <td>0</td>\n",
       "      <td>0</td>\n",
       "      <td>-1.682339</td>\n",
       "      <td>2</td>\n",
       "      <td>40</td>\n",
       "      <td>2.0</td>\n",
       "      <td>3</td>\n",
       "      <td>30000</td>\n",
       "      <td>1</td>\n",
       "      <td>4</td>\n",
       "      <td>0</td>\n",
       "      <td>0</td>\n",
       "      <td>4</td>\n",
       "      <td>584</td>\n",
       "      <td>18</td>\n",
       "      <td>3</td>\n",
       "    </tr>\n",
       "    <tr>\n",
       "      <th>48975</th>\n",
       "      <td>110146</td>\n",
       "      <td>13.15</td>\n",
       "      <td>27</td>\n",
       "      <td>0</td>\n",
       "      <td>0</td>\n",
       "      <td>1</td>\n",
       "      <td>-2.497592</td>\n",
       "      <td>0</td>\n",
       "      <td>80</td>\n",
       "      <td>2.0</td>\n",
       "      <td>3</td>\n",
       "      <td>60000</td>\n",
       "      <td>1</td>\n",
       "      <td>1</td>\n",
       "      <td>0</td>\n",
       "      <td>0</td>\n",
       "      <td>4</td>\n",
       "      <td>584</td>\n",
       "      <td>18</td>\n",
       "      <td>2</td>\n",
       "    </tr>\n",
       "    <tr>\n",
       "      <th>44067</th>\n",
       "      <td>110147</td>\n",
       "      <td>15.06</td>\n",
       "      <td>52</td>\n",
       "      <td>0</td>\n",
       "      <td>0</td>\n",
       "      <td>0</td>\n",
       "      <td>-2.066131</td>\n",
       "      <td>3</td>\n",
       "      <td>50</td>\n",
       "      <td>1.0</td>\n",
       "      <td>3</td>\n",
       "      <td>35000</td>\n",
       "      <td>1</td>\n",
       "      <td>3</td>\n",
       "      <td>0</td>\n",
       "      <td>1</td>\n",
       "      <td>4</td>\n",
       "      <td>584</td>\n",
       "      <td>18</td>\n",
       "      <td>1</td>\n",
       "    </tr>\n",
       "  </tbody>\n",
       "</table>\n",
       "<p>73799 rows × 20 columns</p>\n",
       "</div>"
      ],
      "text/plain": [
       "       client_id  education  age  car_type  decline_app_cnt  good_work  score_bki  bki_request_cnt  region_rating  home_address  \\\n",
       "24222          1      15.06   27         1                0          0  -1.917831                0             40           2.0   \n",
       "4824           2       9.01   26         0                0          0  -1.153144                2             60           2.0   \n",
       "62792          3      15.06   35         0                0          1  -1.732810                0             40           1.0   \n",
       "10525          5      13.15   24         0                0          0  -1.914581                1             50           2.0   \n",
       "57653          6      15.06   35         1                0          0  -1.920823                4             40           2.0   \n",
       "...          ...        ...  ...       ...              ...        ...        ...              ...            ...           ...   \n",
       "14007     110142      15.06   48         0                0          1  -2.064421                3             80           2.0   \n",
       "56358     110143       9.01   42         0                0          0  -1.864372                2             50           2.0   \n",
       "61140     110145       9.01   39         0                0          0  -1.682339                2             40           2.0   \n",
       "48975     110146      13.15   27         0                0          1  -2.497592                0             80           2.0   \n",
       "44067     110147      15.06   52         0                0          0  -2.066131                3             50           1.0   \n",
       "\n",
       "       work_address  income  sna  first_time  foreign_passport  default  month  clients_day  numb_weeks  sex_car  \n",
       "24222             3   32000    1           4                 0        0      1           43           1        2  \n",
       "4824              3   50000    2           1                 0        0      1           43           1        3  \n",
       "62792             2   20000    4           3                 0        0      1           43           1        4  \n",
       "10525             3   27000    1           2                 0        0      1           43           1        3  \n",
       "57653             3   35000    4           3                 0        0      1           43           1        2  \n",
       "...             ...     ...  ...         ...               ...      ...    ...          ...         ...      ...  \n",
       "14007             3   60000    1           2                 0        0      4          584          18        4  \n",
       "56358             3   70000    1           4                 0        0      4          584          18        3  \n",
       "61140             3   30000    1           4                 0        0      4          584          18        3  \n",
       "48975             3   60000    1           1                 0        0      4          584          18        2  \n",
       "44067             3   35000    1           3                 0        1      4          584          18        1  \n",
       "\n",
       "[73799 rows x 20 columns]"
      ]
     },
     "execution_count": 49,
     "metadata": {},
     "output_type": "execute_result"
    }
   ],
   "source": [
    "# заметив что у client_id почти 100% корреляция с параметром month, проверим его очередность:\n",
    "train.sort_values('client_id')"
   ]
  },
  {
   "cell_type": "markdown",
   "id": "0ce57682",
   "metadata": {
    "papermill": {
     "duration": 0.098874,
     "end_time": "2022-01-19T07:08:38.768611",
     "exception": false,
     "start_time": "2022-01-19T07:08:38.669737",
     "status": "completed"
    },
    "tags": []
   },
   "source": [
    "##### Делаем вывод, что данный параметр соответствует порядковому номеру подачи заявки клиентом (начиная с 01.01.2014 и заканчивая 30.04.2014). Данный параметр не несет ни какой фундаментальной (логической) ценности для выявления закономерности по вероятности дефолта."
   ]
  },
  {
   "cell_type": "markdown",
   "id": "d30f42b8",
   "metadata": {
    "papermill": {
     "duration": 0.098976,
     "end_time": "2022-01-19T07:08:38.969472",
     "exception": false,
     "start_time": "2022-01-19T07:08:38.870496",
     "status": "completed"
    },
    "tags": []
   },
   "source": [
    "### 'age'"
   ]
  },
  {
   "cell_type": "code",
   "execution_count": 50,
   "id": "30494068",
   "metadata": {
    "execution": {
     "iopub.execute_input": "2022-01-19T07:08:39.172846Z",
     "iopub.status.busy": "2022-01-19T07:08:39.171829Z",
     "iopub.status.idle": "2022-01-19T07:08:39.805256Z",
     "shell.execute_reply": "2022-01-19T07:08:39.804592Z",
     "shell.execute_reply.started": "2022-01-18T12:31:31.999663Z"
    },
    "papermill": {
     "duration": 0.736857,
     "end_time": "2022-01-19T07:08:39.805444",
     "exception": false,
     "start_time": "2022-01-19T07:08:39.068587",
     "status": "completed"
    },
    "tags": []
   },
   "outputs": [
    {
     "data": {
      "text/plain": [
       "<seaborn.axisgrid.FacetGrid at 0x7fd5cdd19be0>"
      ]
     },
     "execution_count": 50,
     "metadata": {},
     "output_type": "execute_result"
    },
    {
     "data": {
      "image/png": "[encoded data removed]",
      "text/plain": [
       "<Figure size 720x360 with 2 Axes>"
      ]
     },
     "metadata": {
      "needs_background": "light"
     },
     "output_type": "display_data"
    }
   ],
   "source": [
    "# Посмотрим на возрастное распределение по дефолтам:\n",
    "sns.displot(train, x=\"age\", col=\"default\", bins=52)"
   ]
  },
  {
   "cell_type": "code",
   "execution_count": 51,
   "id": "fe80594c",
   "metadata": {
    "execution": {
     "iopub.execute_input": "2022-01-19T07:08:40.019120Z",
     "iopub.status.busy": "2022-01-19T07:08:40.018282Z",
     "iopub.status.idle": "2022-01-19T07:08:40.223689Z",
     "shell.execute_reply": "2022-01-19T07:08:40.223217Z",
     "shell.execute_reply.started": "2022-01-18T12:31:32.877013Z"
    },
    "papermill": {
     "duration": 0.317037,
     "end_time": "2022-01-19T07:08:40.223826",
     "exception": false,
     "start_time": "2022-01-19T07:08:39.906789",
     "status": "completed"
    },
    "tags": []
   },
   "outputs": [
    {
     "data": {
      "text/plain": [
       "<AxesSubplot:xlabel='age', ylabel='default_%'>"
      ]
     },
     "execution_count": 51,
     "metadata": {},
     "output_type": "execute_result"
    },
    {
     "data": {
      "image/png": "[encoded data removed]",
      "text/plain": [
       "<Figure size 432x288 with 1 Axes>"
      ]
     },
     "metadata": {
      "needs_background": "light"
     },
     "output_type": "display_data"
    }
   ],
   "source": [
    "# Для адекватного восприятия данного распределения (дефолтов по возрасту) - приведем расчеты к относительному виду, (%):\n",
    "df_age = pd.DataFrame()\n",
    "df_age['default_0'] = train.age[train.default == 0].value_counts()\n",
    "df_age['default_1'] = train.age[train.default == 1].value_counts()\n",
    "df_age['default_%'] = df_age['default_1'] / (df_age['default_0'] + df_age['default_1']) * 100\n",
    "df_age['age'] = df_age.index\n",
    "\n",
    "# видим параболическую зависимость вероятности дефолта от возраста (c минимумом в области 55 лет и возрастанием по краям диапазона):\n",
    "df_age.plot(x='age', y='default_%', kind='scatter')"
   ]
  },
  {
   "cell_type": "code",
   "execution_count": 52,
   "id": "8605beed",
   "metadata": {
    "execution": {
     "iopub.execute_input": "2022-01-19T07:08:40.436409Z",
     "iopub.status.busy": "2022-01-19T07:08:40.435569Z",
     "iopub.status.idle": "2022-01-19T07:08:40.663300Z",
     "shell.execute_reply": "2022-01-19T07:08:40.663903Z",
     "shell.execute_reply.started": "2022-01-18T12:31:33.088548Z"
    },
    "papermill": {
     "duration": 0.339293,
     "end_time": "2022-01-19T07:08:40.664075",
     "exception": false,
     "start_time": "2022-01-19T07:08:40.324782",
     "status": "completed"
    },
    "tags": []
   },
   "outputs": [
    {
     "data": {
      "text/plain": [
       "<AxesSubplot:xlabel='age', ylabel='%%'>"
      ]
     },
     "execution_count": 52,
     "metadata": {},
     "output_type": "execute_result"
    },
    {
     "data": {
      "image/png": "[encoded data removed]",
      "text/plain": [
       "<Figure size 432x288 with 1 Axes>"
      ]
     },
     "metadata": {
      "needs_background": "light"
     },
     "output_type": "display_data"
    }
   ],
   "source": [
    "# для лучшей апроксимации сгладим статистику объеденив в группы по 5-летним диапазонам:\n",
    "df_age.age = df_age.age.apply(lambda x: (x // 5) * 5)\n",
    "df_age_group5 = df_age.groupby(['age'])[['default_0', 'default_1']].sum()\n",
    "df_age_group5['%%'] = df_age_group5['default_1'] / (df_age_group5['default_0'] + df_age_group5['default_1'])\n",
    "df_age_group5['age'] = df_age_group5.index\n",
    "df_age_group5.plot(x='age', y='%%', kind='scatter')"
   ]
  },
  {
   "cell_type": "code",
   "execution_count": 53,
   "id": "67994304",
   "metadata": {
    "execution": {
     "iopub.execute_input": "2022-01-19T07:08:40.938214Z",
     "iopub.status.busy": "2022-01-19T07:08:40.937271Z",
     "iopub.status.idle": "2022-01-19T07:08:40.987967Z",
     "shell.execute_reply": "2022-01-19T07:08:40.988854Z",
     "shell.execute_reply.started": "2022-01-18T12:31:33.318533Z"
    },
    "papermill": {
     "duration": 0.211108,
     "end_time": "2022-01-19T07:08:40.989102",
     "exception": false,
     "start_time": "2022-01-19T07:08:40.777994",
     "status": "completed"
    },
    "tags": []
   },
   "outputs": [],
   "source": [
    "# используем данные вероятности дефолта для возрастных групп в обучающем и тестовом наборах данных:\n",
    "dict_default_by_age = round(df_age_group5['%%']*100, 3).to_dict()\n",
    "\n",
    "# проведем преобразование:\n",
    "train['age'] = train.age.apply(lambda x: (x // 5) * 5).map(dict_default_by_age)\n",
    "test['age'] = test.age.apply(lambda x: (x // 5) * 5).map(dict_default_by_age)"
   ]
  },
  {
   "cell_type": "markdown",
   "id": "78d4f3eb",
   "metadata": {
    "papermill": {
     "duration": 0.166865,
     "end_time": "2022-01-19T07:08:41.327506",
     "exception": false,
     "start_time": "2022-01-19T07:08:41.160641",
     "status": "completed"
    },
    "tags": []
   },
   "source": [
    "### 'decline_app_cnt'"
   ]
  },
  {
   "cell_type": "code",
   "execution_count": 54,
   "id": "49bf924f",
   "metadata": {
    "execution": {
     "iopub.execute_input": "2022-01-19T07:08:41.620580Z",
     "iopub.status.busy": "2022-01-19T07:08:41.619911Z",
     "iopub.status.idle": "2022-01-19T07:08:41.622625Z",
     "shell.execute_reply": "2022-01-19T07:08:41.623034Z",
     "shell.execute_reply.started": "2022-01-18T12:31:33.391927Z"
    },
    "papermill": {
     "duration": 0.129535,
     "end_time": "2022-01-19T07:08:41.623178",
     "exception": false,
     "start_time": "2022-01-19T07:08:41.493643",
     "status": "completed"
    },
    "tags": []
   },
   "outputs": [
    {
     "data": {
      "text/plain": [
       "0     61214\n",
       "1      8397\n",
       "2      2468\n",
       "3       903\n",
       "4       414\n",
       "5       165\n",
       "6       113\n",
       "7        48\n",
       "9        24\n",
       "8        19\n",
       "10       11\n",
       "11        9\n",
       "13        3\n",
       "14        2\n",
       "12        2\n",
       "16        2\n",
       "19        1\n",
       "22        1\n",
       "33        1\n",
       "15        1\n",
       "24        1\n",
       "Name: decline_app_cnt, dtype: int64"
      ]
     },
     "execution_count": 54,
     "metadata": {},
     "output_type": "execute_result"
    }
   ],
   "source": [
    "# Посмотрим какое имеем колличественное распределение:\n",
    "train.decline_app_cnt.value_counts()"
   ]
  },
  {
   "cell_type": "code",
   "execution_count": 55,
   "id": "e19c943d",
   "metadata": {
    "execution": {
     "iopub.execute_input": "2022-01-19T07:08:41.832825Z",
     "iopub.status.busy": "2022-01-19T07:08:41.832108Z",
     "iopub.status.idle": "2022-01-19T07:08:41.855951Z",
     "shell.execute_reply": "2022-01-19T07:08:41.855346Z",
     "shell.execute_reply.started": "2022-01-18T12:31:33.403725Z"
    },
    "papermill": {
     "duration": 0.131681,
     "end_time": "2022-01-19T07:08:41.856095",
     "exception": false,
     "start_time": "2022-01-19T07:08:41.724414",
     "status": "completed"
    },
    "tags": []
   },
   "outputs": [
    {
     "data": {
      "text/html": [
       "<div>\n",
       "<style scoped>\n",
       "    .dataframe tbody tr th:only-of-type {\n",
       "        vertical-align: middle;\n",
       "    }\n",
       "\n",
       "    .dataframe tbody tr th {\n",
       "        vertical-align: top;\n",
       "    }\n",
       "\n",
       "    .dataframe thead th {\n",
       "        text-align: right;\n",
       "    }\n",
       "</style>\n",
       "<table border=\"1\" class=\"dataframe\">\n",
       "  <thead>\n",
       "    <tr style=\"text-align: right;\">\n",
       "      <th>default</th>\n",
       "      <th>0</th>\n",
       "      <th>1</th>\n",
       "    </tr>\n",
       "    <tr>\n",
       "      <th>decline_app_cnt</th>\n",
       "      <th></th>\n",
       "      <th></th>\n",
       "    </tr>\n",
       "  </thead>\n",
       "  <tbody>\n",
       "    <tr>\n",
       "      <th>0</th>\n",
       "      <td>89.046623</td>\n",
       "      <td>10.953377</td>\n",
       "    </tr>\n",
       "    <tr>\n",
       "      <th>1</th>\n",
       "      <td>81.219483</td>\n",
       "      <td>18.780517</td>\n",
       "    </tr>\n",
       "    <tr>\n",
       "      <th>2</th>\n",
       "      <td>75.648298</td>\n",
       "      <td>24.351702</td>\n",
       "    </tr>\n",
       "    <tr>\n",
       "      <th>3</th>\n",
       "      <td>71.569767</td>\n",
       "      <td>28.430233</td>\n",
       "    </tr>\n",
       "  </tbody>\n",
       "</table>\n",
       "</div>"
      ],
      "text/plain": [
       "default                  0          1\n",
       "decline_app_cnt                      \n",
       "0                89.046623  10.953377\n",
       "1                81.219483  18.780517\n",
       "2                75.648298  24.351702\n",
       "3                71.569767  28.430233"
      ]
     },
     "execution_count": 55,
     "metadata": {},
     "output_type": "execute_result"
    }
   ],
   "source": [
    "# сгруппируем малочисленные группы и посмотрим на вероятности дефолтов:\n",
    "train.decline_app_cnt[train.decline_app_cnt > 3] = 3\n",
    "test.decline_app_cnt[test.decline_app_cnt > 3] = 3\n",
    "pd.crosstab(train.decline_app_cnt, train.default, normalize='index')*100"
   ]
  },
  {
   "cell_type": "code",
   "execution_count": 56,
   "id": "1ea2b8f0",
   "metadata": {
    "execution": {
     "iopub.execute_input": "2022-01-19T07:08:42.067968Z",
     "iopub.status.busy": "2022-01-19T07:08:42.067080Z",
     "iopub.status.idle": "2022-01-19T07:08:42.068759Z",
     "shell.execute_reply": "2022-01-19T07:08:42.069257Z",
     "shell.execute_reply.started": "2022-01-18T12:31:33.43632Z"
    },
    "papermill": {
     "duration": 0.110282,
     "end_time": "2022-01-19T07:08:42.069394",
     "exception": false,
     "start_time": "2022-01-19T07:08:41.959112",
     "status": "completed"
    },
    "tags": []
   },
   "outputs": [],
   "source": [
    "# # другие варианты группировок и dummy-разложения не принесли улучшения значения для f1:\n",
    "# train = pd.get_dummies(train, columns=['decline_app_cnt'])\n",
    "# test = pd.get_dummies(test, columns=['decline_app_cnt'])\n",
    "\n",
    "# # создадим словарь вероятности дефолта для соответствующих группировок (по кол-ву предыдущих отказов):\n",
    "# dict_default_by_decline_app_cnt = pd.crosstab(train.decline_app_cnt, train.default, normalize='index')*100\n",
    "\n",
    "# # добавим параметр характеризующий вероятность дефолта для соответствующей группы \"количества отказанных прошлых заявок\":\n",
    "# train['decline_app_cnt'] = train.decline_app_cnt .map(dict_default_by_decline_app_cnt.iloc[:, -1])\n",
    "# test['decline_app_cnt'] = test.decline_app_cn.map(dict_default_by_decline_app_cnt.iloc[:, -1])\n",
    "# train.decline_app_cnt.value_counts(normalize=True)*100"
   ]
  },
  {
   "cell_type": "markdown",
   "id": "196f2241",
   "metadata": {
    "papermill": {
     "duration": 0.102768,
     "end_time": "2022-01-19T07:08:42.274270",
     "exception": false,
     "start_time": "2022-01-19T07:08:42.171502",
     "status": "completed"
    },
    "tags": []
   },
   "source": [
    "### 'score_bki'"
   ]
  },
  {
   "cell_type": "code",
   "execution_count": 57,
   "id": "83776ebb",
   "metadata": {
    "execution": {
     "iopub.execute_input": "2022-01-19T07:08:42.494544Z",
     "iopub.status.busy": "2022-01-19T07:08:42.493710Z",
     "iopub.status.idle": "2022-01-19T07:08:43.185191Z",
     "shell.execute_reply": "2022-01-19T07:08:43.185626Z",
     "shell.execute_reply.started": "2022-01-18T12:31:33.442714Z"
    },
    "papermill": {
     "duration": 0.807197,
     "end_time": "2022-01-19T07:08:43.185777",
     "exception": false,
     "start_time": "2022-01-19T07:08:42.378580",
     "status": "completed"
    },
    "tags": []
   },
   "outputs": [
    {
     "data": {
      "text/plain": [
       "<AxesSubplot:xlabel='score_bki', ylabel='Density'>"
      ]
     },
     "execution_count": 57,
     "metadata": {},
     "output_type": "execute_result"
    },
    {
     "data": {
      "image/png": "[encoded data removed]",
      "text/plain": [
       "<Figure size 432x288 with 1 Axes>"
      ]
     },
     "metadata": {
      "needs_background": "light"
     },
     "output_type": "display_data"
    }
   ],
   "source": [
    "# Посмотрим на распределение:\n",
    "sns.distplot(train.score_bki)"
   ]
  },
  {
   "cell_type": "code",
   "execution_count": 58,
   "id": "5faeb15a",
   "metadata": {
    "execution": {
     "iopub.execute_input": "2022-01-19T07:08:43.396224Z",
     "iopub.status.busy": "2022-01-19T07:08:43.395406Z",
     "iopub.status.idle": "2022-01-19T07:08:44.792508Z",
     "shell.execute_reply": "2022-01-19T07:08:44.793116Z",
     "shell.execute_reply.started": "2022-01-18T12:31:34.132659Z"
    },
    "papermill": {
     "duration": 1.503947,
     "end_time": "2022-01-19T07:08:44.793337",
     "exception": false,
     "start_time": "2022-01-19T07:08:43.289390",
     "status": "completed"
    },
    "tags": []
   },
   "outputs": [
    {
     "data": {
      "text/plain": [
       "<seaborn.axisgrid.FacetGrid at 0x7fd580b88a60>"
      ]
     },
     "execution_count": 58,
     "metadata": {},
     "output_type": "execute_result"
    },
    {
     "data": {
      "image/png": "[encoded data removed]",
      "text/plain": [
       "<Figure size 403.375x360 with 1 Axes>"
      ]
     },
     "metadata": {
      "needs_background": "light"
     },
     "output_type": "display_data"
    }
   ],
   "source": [
    "sns.displot(train, x=\"score_bki\", hue=\"default\", multiple=\"fill\")  # , kind=\"kde\""
   ]
  },
  {
   "cell_type": "markdown",
   "id": "84f66bb7",
   "metadata": {
    "papermill": {
     "duration": 0.173585,
     "end_time": "2022-01-19T07:08:45.176468",
     "exception": false,
     "start_time": "2022-01-19T07:08:45.002883",
     "status": "completed"
    },
    "tags": []
   },
   "source": [
    "##### Видим, что на малочисленных хвостах ((-4;-3) и (-0.5;0.2))  присутствуют разброд и шатания.\n",
    "##### Но попытка произвести обработку для сглаживания распределения не привела к улучшению точности модели."
   ]
  },
  {
   "cell_type": "code",
   "execution_count": 59,
   "id": "e5cf0e92",
   "metadata": {
    "execution": {
     "iopub.execute_input": "2022-01-19T07:08:45.476858Z",
     "iopub.status.busy": "2022-01-19T07:08:45.475234Z",
     "iopub.status.idle": "2022-01-19T07:08:45.477441Z",
     "shell.execute_reply": "2022-01-19T07:08:45.477991Z",
     "shell.execute_reply.started": "2022-01-18T12:31:35.178302Z"
    },
    "papermill": {
     "duration": 0.130474,
     "end_time": "2022-01-19T07:08:45.478152",
     "exception": false,
     "start_time": "2022-01-19T07:08:45.347678",
     "status": "completed"
    },
    "tags": []
   },
   "outputs": [],
   "source": [
    "# # сгрупируем левый хвост:\n",
    "# train.score_bki[train.score_bki < - 3.5] = - 3.5\n",
    "# test.score_bki[test.score_bki < - 3.5] = - 3.5\n",
    "\n",
    "# # произведем сглаживание данных с шагом 0.2:\n",
    "# train.score_bki = train.score_bki.apply(lambda x: (x*10//2)/5)\n",
    "# test.score_bki = test.score_bki.apply(lambda x: (x*10//2)/5)\n",
    "# # произведем сглаживание данных с шагом 0.1:\n",
    "# train.score_bki = train.score_bki.apply(lambda x: x*10//1/10)\n",
    "# test.score_bki = test.score_bki.apply(lambda x: x*10//1/10)\n",
    "\n",
    "# # предположим что значения больше 0 - это ошибка и исправим для них знак:\n",
    "# train.score_bki[train.score_bki > 0] = - train.score_bki\n",
    "# test.score_bki[test.score_bki > 0] = - test.score_bki\n",
    "\n",
    "# sns.displot(train, x=\"score_bki\", hue=\"default\", multiple=\"fill\")"
   ]
  },
  {
   "cell_type": "markdown",
   "id": "e8ba2650",
   "metadata": {
    "papermill": {
     "duration": 0.105032,
     "end_time": "2022-01-19T07:08:45.689323",
     "exception": false,
     "start_time": "2022-01-19T07:08:45.584291",
     "status": "completed"
    },
    "tags": []
   },
   "source": [
    "### 'bki_request_cnt'"
   ]
  },
  {
   "cell_type": "code",
   "execution_count": 60,
   "id": "78cd35ad",
   "metadata": {
    "execution": {
     "iopub.execute_input": "2022-01-19T07:08:45.907061Z",
     "iopub.status.busy": "2022-01-19T07:08:45.906193Z",
     "iopub.status.idle": "2022-01-19T07:08:45.930788Z",
     "shell.execute_reply": "2022-01-19T07:08:45.931244Z",
     "shell.execute_reply.started": "2022-01-18T12:31:35.184869Z"
    },
    "papermill": {
     "duration": 0.136719,
     "end_time": "2022-01-19T07:08:45.931399",
     "exception": false,
     "start_time": "2022-01-19T07:08:45.794680",
     "status": "completed"
    },
    "tags": []
   },
   "outputs": [
    {
     "data": {
      "text/html": [
       "<div>\n",
       "<style scoped>\n",
       "    .dataframe tbody tr th:only-of-type {\n",
       "        vertical-align: middle;\n",
       "    }\n",
       "\n",
       "    .dataframe tbody tr th {\n",
       "        vertical-align: top;\n",
       "    }\n",
       "\n",
       "    .dataframe thead th {\n",
       "        text-align: right;\n",
       "    }\n",
       "</style>\n",
       "<table border=\"1\" class=\"dataframe\">\n",
       "  <thead>\n",
       "    <tr style=\"text-align: right;\">\n",
       "      <th>default</th>\n",
       "      <th>0</th>\n",
       "      <th>1</th>\n",
       "    </tr>\n",
       "    <tr>\n",
       "      <th>bki_request_cnt</th>\n",
       "      <th></th>\n",
       "      <th></th>\n",
       "    </tr>\n",
       "  </thead>\n",
       "  <tbody>\n",
       "    <tr>\n",
       "      <th>0</th>\n",
       "      <td>17540</td>\n",
       "      <td>1841</td>\n",
       "    </tr>\n",
       "    <tr>\n",
       "      <th>1</th>\n",
       "      <td>16105</td>\n",
       "      <td>2171</td>\n",
       "    </tr>\n",
       "    <tr>\n",
       "      <th>2</th>\n",
       "      <td>11929</td>\n",
       "      <td>1820</td>\n",
       "    </tr>\n",
       "    <tr>\n",
       "      <th>3</th>\n",
       "      <td>7849</td>\n",
       "      <td>1338</td>\n",
       "    </tr>\n",
       "    <tr>\n",
       "      <th>4</th>\n",
       "      <td>4776</td>\n",
       "      <td>851</td>\n",
       "    </tr>\n",
       "    <tr>\n",
       "      <th>5</th>\n",
       "      <td>2714</td>\n",
       "      <td>554</td>\n",
       "    </tr>\n",
       "    <tr>\n",
       "      <th>6</th>\n",
       "      <td>1425</td>\n",
       "      <td>279</td>\n",
       "    </tr>\n",
       "    <tr>\n",
       "      <th>7</th>\n",
       "      <td>718</td>\n",
       "      <td>134</td>\n",
       "    </tr>\n",
       "    <tr>\n",
       "      <th>8</th>\n",
       "      <td>410</td>\n",
       "      <td>98</td>\n",
       "    </tr>\n",
       "    <tr>\n",
       "      <th>9</th>\n",
       "      <td>241</td>\n",
       "      <td>58</td>\n",
       "    </tr>\n",
       "    <tr>\n",
       "      <th>10</th>\n",
       "      <td>185</td>\n",
       "      <td>40</td>\n",
       "    </tr>\n",
       "    <tr>\n",
       "      <th>11</th>\n",
       "      <td>142</td>\n",
       "      <td>46</td>\n",
       "    </tr>\n",
       "    <tr>\n",
       "      <th>12</th>\n",
       "      <td>107</td>\n",
       "      <td>37</td>\n",
       "    </tr>\n",
       "    <tr>\n",
       "      <th>13</th>\n",
       "      <td>68</td>\n",
       "      <td>26</td>\n",
       "    </tr>\n",
       "    <tr>\n",
       "      <th>14</th>\n",
       "      <td>70</td>\n",
       "      <td>16</td>\n",
       "    </tr>\n",
       "    <tr>\n",
       "      <th>15</th>\n",
       "      <td>39</td>\n",
       "      <td>15</td>\n",
       "    </tr>\n",
       "    <tr>\n",
       "      <th>16</th>\n",
       "      <td>26</td>\n",
       "      <td>9</td>\n",
       "    </tr>\n",
       "    <tr>\n",
       "      <th>17</th>\n",
       "      <td>12</td>\n",
       "      <td>7</td>\n",
       "    </tr>\n",
       "    <tr>\n",
       "      <th>18</th>\n",
       "      <td>14</td>\n",
       "      <td>8</td>\n",
       "    </tr>\n",
       "    <tr>\n",
       "      <th>19</th>\n",
       "      <td>15</td>\n",
       "      <td>3</td>\n",
       "    </tr>\n",
       "    <tr>\n",
       "      <th>20</th>\n",
       "      <td>5</td>\n",
       "      <td>4</td>\n",
       "    </tr>\n",
       "    <tr>\n",
       "      <th>21</th>\n",
       "      <td>9</td>\n",
       "      <td>3</td>\n",
       "    </tr>\n",
       "    <tr>\n",
       "      <th>22</th>\n",
       "      <td>4</td>\n",
       "      <td>0</td>\n",
       "    </tr>\n",
       "    <tr>\n",
       "      <th>23</th>\n",
       "      <td>4</td>\n",
       "      <td>3</td>\n",
       "    </tr>\n",
       "    <tr>\n",
       "      <th>24</th>\n",
       "      <td>8</td>\n",
       "      <td>3</td>\n",
       "    </tr>\n",
       "    <tr>\n",
       "      <th>25</th>\n",
       "      <td>2</td>\n",
       "      <td>0</td>\n",
       "    </tr>\n",
       "    <tr>\n",
       "      <th>26</th>\n",
       "      <td>2</td>\n",
       "      <td>0</td>\n",
       "    </tr>\n",
       "    <tr>\n",
       "      <th>27</th>\n",
       "      <td>0</td>\n",
       "      <td>2</td>\n",
       "    </tr>\n",
       "    <tr>\n",
       "      <th>28</th>\n",
       "      <td>3</td>\n",
       "      <td>1</td>\n",
       "    </tr>\n",
       "    <tr>\n",
       "      <th>29</th>\n",
       "      <td>0</td>\n",
       "      <td>1</td>\n",
       "    </tr>\n",
       "    <tr>\n",
       "      <th>32</th>\n",
       "      <td>1</td>\n",
       "      <td>1</td>\n",
       "    </tr>\n",
       "    <tr>\n",
       "      <th>33</th>\n",
       "      <td>1</td>\n",
       "      <td>0</td>\n",
       "    </tr>\n",
       "    <tr>\n",
       "      <th>34</th>\n",
       "      <td>1</td>\n",
       "      <td>0</td>\n",
       "    </tr>\n",
       "    <tr>\n",
       "      <th>36</th>\n",
       "      <td>1</td>\n",
       "      <td>0</td>\n",
       "    </tr>\n",
       "    <tr>\n",
       "      <th>41</th>\n",
       "      <td>0</td>\n",
       "      <td>1</td>\n",
       "    </tr>\n",
       "    <tr>\n",
       "      <th>45</th>\n",
       "      <td>0</td>\n",
       "      <td>1</td>\n",
       "    </tr>\n",
       "    <tr>\n",
       "      <th>46</th>\n",
       "      <td>0</td>\n",
       "      <td>1</td>\n",
       "    </tr>\n",
       "    <tr>\n",
       "      <th>53</th>\n",
       "      <td>1</td>\n",
       "      <td>0</td>\n",
       "    </tr>\n",
       "  </tbody>\n",
       "</table>\n",
       "</div>"
      ],
      "text/plain": [
       "default              0     1\n",
       "bki_request_cnt             \n",
       "0                17540  1841\n",
       "1                16105  2171\n",
       "2                11929  1820\n",
       "3                 7849  1338\n",
       "4                 4776   851\n",
       "5                 2714   554\n",
       "6                 1425   279\n",
       "7                  718   134\n",
       "8                  410    98\n",
       "9                  241    58\n",
       "10                 185    40\n",
       "11                 142    46\n",
       "12                 107    37\n",
       "13                  68    26\n",
       "14                  70    16\n",
       "15                  39    15\n",
       "16                  26     9\n",
       "17                  12     7\n",
       "18                  14     8\n",
       "19                  15     3\n",
       "20                   5     4\n",
       "21                   9     3\n",
       "22                   4     0\n",
       "23                   4     3\n",
       "24                   8     3\n",
       "25                   2     0\n",
       "26                   2     0\n",
       "27                   0     2\n",
       "28                   3     1\n",
       "29                   0     1\n",
       "32                   1     1\n",
       "33                   1     0\n",
       "34                   1     0\n",
       "36                   1     0\n",
       "41                   0     1\n",
       "45                   0     1\n",
       "46                   0     1\n",
       "53                   1     0"
      ]
     },
     "execution_count": 60,
     "metadata": {},
     "output_type": "execute_result"
    }
   ],
   "source": [
    "# Посмотрим на распределение:\n",
    "pd.crosstab(train.bki_request_cnt, train.default)"
   ]
  },
  {
   "cell_type": "code",
   "execution_count": 61,
   "id": "479afff9",
   "metadata": {
    "execution": {
     "iopub.execute_input": "2022-01-19T07:08:46.156604Z",
     "iopub.status.busy": "2022-01-19T07:08:46.155736Z",
     "iopub.status.idle": "2022-01-19T07:08:46.190315Z",
     "shell.execute_reply": "2022-01-19T07:08:46.190731Z",
     "shell.execute_reply.started": "2022-01-18T12:31:35.218734Z"
    },
    "papermill": {
     "duration": 0.15067,
     "end_time": "2022-01-19T07:08:46.190911",
     "exception": false,
     "start_time": "2022-01-19T07:08:46.040241",
     "status": "completed"
    },
    "tags": []
   },
   "outputs": [
    {
     "data": {
      "text/html": [
       "<div>\n",
       "<style scoped>\n",
       "    .dataframe tbody tr th:only-of-type {\n",
       "        vertical-align: middle;\n",
       "    }\n",
       "\n",
       "    .dataframe tbody tr th {\n",
       "        vertical-align: top;\n",
       "    }\n",
       "\n",
       "    .dataframe thead th {\n",
       "        text-align: right;\n",
       "    }\n",
       "</style>\n",
       "<table border=\"1\" class=\"dataframe\">\n",
       "  <thead>\n",
       "    <tr style=\"text-align: right;\">\n",
       "      <th>default</th>\n",
       "      <th>0</th>\n",
       "      <th>1</th>\n",
       "    </tr>\n",
       "    <tr>\n",
       "      <th>bki_request_cnt</th>\n",
       "      <th></th>\n",
       "      <th></th>\n",
       "    </tr>\n",
       "  </thead>\n",
       "  <tbody>\n",
       "    <tr>\n",
       "      <th>0</th>\n",
       "      <td>90.501006</td>\n",
       "      <td>9.498994</td>\n",
       "    </tr>\n",
       "    <tr>\n",
       "      <th>1</th>\n",
       "      <td>88.121033</td>\n",
       "      <td>11.878967</td>\n",
       "    </tr>\n",
       "    <tr>\n",
       "      <th>2</th>\n",
       "      <td>86.762674</td>\n",
       "      <td>13.237326</td>\n",
       "    </tr>\n",
       "    <tr>\n",
       "      <th>3</th>\n",
       "      <td>85.435942</td>\n",
       "      <td>14.564058</td>\n",
       "    </tr>\n",
       "    <tr>\n",
       "      <th>4</th>\n",
       "      <td>84.123657</td>\n",
       "      <td>15.876343</td>\n",
       "    </tr>\n",
       "    <tr>\n",
       "      <th>8</th>\n",
       "      <td>81.007752</td>\n",
       "      <td>18.992248</td>\n",
       "    </tr>\n",
       "    <tr>\n",
       "      <th>11</th>\n",
       "      <td>75.265018</td>\n",
       "      <td>24.734982</td>\n",
       "    </tr>\n",
       "    <tr>\n",
       "      <th>16</th>\n",
       "      <td>69.426752</td>\n",
       "      <td>30.573248</td>\n",
       "    </tr>\n",
       "  </tbody>\n",
       "</table>\n",
       "</div>"
      ],
      "text/plain": [
       "default                  0          1\n",
       "bki_request_cnt                      \n",
       "0                90.501006   9.498994\n",
       "1                88.121033  11.878967\n",
       "2                86.762674  13.237326\n",
       "3                85.435942  14.564058\n",
       "4                84.123657  15.876343\n",
       "8                81.007752  18.992248\n",
       "11               75.265018  24.734982\n",
       "16               69.426752  30.573248"
      ]
     },
     "execution_count": 61,
     "metadata": {},
     "output_type": "execute_result"
    }
   ],
   "source": [
    "# Проведем группировку кол-ва запросов для балансировки и сглаживания зависимости:\n",
    "train.bki_request_cnt[train.bki_request_cnt > 16] = 16\n",
    "train.bki_request_cnt[train.bki_request_cnt.between(11, 15)] = 11\n",
    "train.bki_request_cnt[train.bki_request_cnt.between(8, 10)] = 8\n",
    "train.bki_request_cnt[train.bki_request_cnt.between(4, 7)] = 4\n",
    "\n",
    "test.bki_request_cnt[test.bki_request_cnt > 16] = 16\n",
    "test.bki_request_cnt[test.bki_request_cnt.between(11, 15)] = 11\n",
    "test.bki_request_cnt[test.bki_request_cnt.between(8, 10)] = 8\n",
    "test.bki_request_cnt[test.bki_request_cnt.between(4, 7)] = 4\n",
    "\n",
    "pd.crosstab(train.bki_request_cnt, train.default, normalize='index')*100"
   ]
  },
  {
   "cell_type": "markdown",
   "id": "4e4aedf0",
   "metadata": {
    "papermill": {
     "duration": 0.107334,
     "end_time": "2022-01-19T07:08:46.405575",
     "exception": false,
     "start_time": "2022-01-19T07:08:46.298241",
     "status": "completed"
    },
    "tags": []
   },
   "source": [
    "### 'income'"
   ]
  },
  {
   "cell_type": "code",
   "execution_count": 62,
   "id": "1647945a",
   "metadata": {
    "execution": {
     "iopub.execute_input": "2022-01-19T07:08:46.643252Z",
     "iopub.status.busy": "2022-01-19T07:08:46.642388Z",
     "iopub.status.idle": "2022-01-19T07:08:47.194506Z",
     "shell.execute_reply": "2022-01-19T07:08:47.194895Z",
     "shell.execute_reply.started": "2022-01-18T12:31:35.264236Z"
    },
    "papermill": {
     "duration": 0.681503,
     "end_time": "2022-01-19T07:08:47.195050",
     "exception": false,
     "start_time": "2022-01-19T07:08:46.513547",
     "status": "completed"
    },
    "tags": []
   },
   "outputs": [
    {
     "data": {
      "text/plain": [
       "<AxesSubplot:xlabel='income', ylabel='Density'>"
      ]
     },
     "execution_count": 62,
     "metadata": {},
     "output_type": "execute_result"
    },
    {
     "data": {
      "image/png": "[encoded data removed]",
      "text/plain": [
       "<Figure size 432x288 with 1 Axes>"
      ]
     },
     "metadata": {
      "needs_background": "light"
     },
     "output_type": "display_data"
    }
   ],
   "source": [
    "# Посмотрим на распределение доходов:\n",
    "sns.distplot(train.income, bins=25)"
   ]
  },
  {
   "cell_type": "code",
   "execution_count": 63,
   "id": "d82fbd7d",
   "metadata": {
    "execution": {
     "iopub.execute_input": "2022-01-19T07:08:47.416220Z",
     "iopub.status.busy": "2022-01-19T07:08:47.414831Z",
     "iopub.status.idle": "2022-01-19T07:08:48.201947Z",
     "shell.execute_reply": "2022-01-19T07:08:48.202347Z",
     "shell.execute_reply.started": "2022-01-18T12:31:35.839092Z"
    },
    "papermill": {
     "duration": 0.899875,
     "end_time": "2022-01-19T07:08:48.202525",
     "exception": false,
     "start_time": "2022-01-19T07:08:47.302650",
     "status": "completed"
    },
    "tags": []
   },
   "outputs": [
    {
     "data": {
      "text/plain": [
       "<AxesSubplot:xlabel='income', ylabel='Density'>"
      ]
     },
     "execution_count": 63,
     "metadata": {},
     "output_type": "execute_result"
    },
    {
     "data": {
      "image/png": "[encoded data removed]",
      "text/plain": [
       "<Figure size 432x288 with 1 Axes>"
      ]
     },
     "metadata": {
      "needs_background": "light"
     },
     "output_type": "display_data"
    }
   ],
   "source": [
    "# Без логарифмического преобразования тут не обойтись:\n",
    "train['income'] = np.log(train['income'] + 1)\n",
    "test['income'] = np.log(test['income'] + 1)\n",
    "\n",
    "sns.distplot(train.income, bins=100)"
   ]
  },
  {
   "cell_type": "code",
   "execution_count": 64,
   "id": "0f082890",
   "metadata": {
    "execution": {
     "iopub.execute_input": "2022-01-19T07:08:48.472721Z",
     "iopub.status.busy": "2022-01-19T07:08:48.471615Z",
     "iopub.status.idle": "2022-01-19T07:08:48.524546Z",
     "shell.execute_reply": "2022-01-19T07:08:48.524971Z",
     "shell.execute_reply.started": "2022-01-18T12:31:36.626587Z"
    },
    "papermill": {
     "duration": 0.214298,
     "end_time": "2022-01-19T07:08:48.525119",
     "exception": false,
     "start_time": "2022-01-19T07:08:48.310821",
     "status": "completed"
    },
    "tags": []
   },
   "outputs": [
    {
     "data": {
      "text/html": [
       "<div>\n",
       "<style scoped>\n",
       "    .dataframe tbody tr th:only-of-type {\n",
       "        vertical-align: middle;\n",
       "    }\n",
       "\n",
       "    .dataframe tbody tr th {\n",
       "        vertical-align: top;\n",
       "    }\n",
       "\n",
       "    .dataframe thead th {\n",
       "        text-align: right;\n",
       "    }\n",
       "</style>\n",
       "<table border=\"1\" class=\"dataframe\">\n",
       "  <thead>\n",
       "    <tr style=\"text-align: right;\">\n",
       "      <th>default</th>\n",
       "      <th>0</th>\n",
       "      <th>1</th>\n",
       "    </tr>\n",
       "    <tr>\n",
       "      <th>income</th>\n",
       "      <th></th>\n",
       "      <th></th>\n",
       "    </tr>\n",
       "  </thead>\n",
       "  <tbody>\n",
       "    <tr>\n",
       "      <th>8.5</th>\n",
       "      <td>86.313131</td>\n",
       "      <td>13.686869</td>\n",
       "    </tr>\n",
       "    <tr>\n",
       "      <th>9.0</th>\n",
       "      <td>86.045549</td>\n",
       "      <td>13.954451</td>\n",
       "    </tr>\n",
       "    <tr>\n",
       "      <th>9.5</th>\n",
       "      <td>84.940284</td>\n",
       "      <td>15.059716</td>\n",
       "    </tr>\n",
       "    <tr>\n",
       "      <th>10.0</th>\n",
       "      <td>86.288477</td>\n",
       "      <td>13.711523</td>\n",
       "    </tr>\n",
       "    <tr>\n",
       "      <th>10.5</th>\n",
       "      <td>88.840448</td>\n",
       "      <td>11.159552</td>\n",
       "    </tr>\n",
       "    <tr>\n",
       "      <th>11.0</th>\n",
       "      <td>90.699746</td>\n",
       "      <td>9.300254</td>\n",
       "    </tr>\n",
       "    <tr>\n",
       "      <th>11.5</th>\n",
       "      <td>91.998774</td>\n",
       "      <td>8.001226</td>\n",
       "    </tr>\n",
       "    <tr>\n",
       "      <th>12.0</th>\n",
       "      <td>90.238095</td>\n",
       "      <td>9.761905</td>\n",
       "    </tr>\n",
       "  </tbody>\n",
       "</table>\n",
       "</div>"
      ],
      "text/plain": [
       "default          0          1\n",
       "income                       \n",
       "8.5      86.313131  13.686869\n",
       "9.0      86.045549  13.954451\n",
       "9.5      84.940284  15.059716\n",
       "10.0     86.288477  13.711523\n",
       "10.5     88.840448  11.159552\n",
       "11.0     90.699746   9.300254\n",
       "11.5     91.998774   8.001226\n",
       "12.0     90.238095   9.761905"
      ]
     },
     "execution_count": 64,
     "metadata": {},
     "output_type": "execute_result"
    }
   ],
   "source": [
    "# произведем сглаживание данных с шагом 0.5:\n",
    "train.income = train.income.apply(lambda x: ((x * 10) // 5) / 2)\n",
    "test.income = test.income.apply(lambda x: ((x * 10) // 5) / 2)\n",
    "\n",
    "# Проведем группировки для сглаживания зависимости:\n",
    "train.income[train.income < 8.5] = 8.5\n",
    "test.income[test.income < 8.5] = 8.5\n",
    "train.income[train.income > 12] = 12\n",
    "test.income[test.income > 12] = 12\n",
    "\n",
    "pd.crosstab(train.income, train.default, normalize='index')*100"
   ]
  },
  {
   "cell_type": "code",
   "execution_count": 65,
   "id": "d4e1cfc8",
   "metadata": {
    "execution": {
     "iopub.execute_input": "2022-01-19T07:08:48.748007Z",
     "iopub.status.busy": "2022-01-19T07:08:48.747125Z",
     "iopub.status.idle": "2022-01-19T07:08:48.748943Z",
     "shell.execute_reply": "2022-01-19T07:08:48.749391Z",
     "shell.execute_reply.started": "2022-01-18T12:31:36.731112Z"
    },
    "papermill": {
     "duration": 0.115056,
     "end_time": "2022-01-19T07:08:48.749543",
     "exception": false,
     "start_time": "2022-01-19T07:08:48.634487",
     "status": "completed"
    },
    "tags": []
   },
   "outputs": [],
   "source": [
    "# # Попытка развернуть параболу к линейному виду, не привела к улучшению ф-меры на тесте:\n",
    "# train.income = abs(train.income - 9.5)\n",
    "# test.income = abs(test.income - 9.5)\n",
    "# pd.crosstab(train.income, train.default, normalize='index')*100"
   ]
  },
  {
   "cell_type": "markdown",
   "id": "38c6153a",
   "metadata": {
    "papermill": {
     "duration": 0.108709,
     "end_time": "2022-01-19T07:08:48.968109",
     "exception": false,
     "start_time": "2022-01-19T07:08:48.859400",
     "status": "completed"
    },
    "tags": []
   },
   "source": [
    "### Итоги анализа (\"вероятности дефолта\" обозначим как: \"ВД\"):\n",
    "* client_id - идентификатор клиента - не имеет смысла, просто порядковый номер клиента;\n",
    "* age - возраст заемщика - формирует параболическую зависимость ВД с минимумом в районе 55 лет и резким ростом после 70 лет;\n",
    "* decline_app_cnt - количество отказанных прошлых заявок - хорошо выраженная зависимость ВД, наблюдается практический линейный рост;\n",
    "* score_bki - скоринговый балл по данным из БКИ - имеет структуру нормального распределения, формирует параболическую зависимость ВД с минимумов в районе -2,8 и бОльшим максимумом в правом хвосте;\n",
    "* bki_request_cnt - количество запросов в БКИ - повторяет зависимость как и у параметра decline_app_cnt, - практический линейный рост;\n",
    "* income - доход заемщика - после логарифмического преобразования имеет структуру нормального распределения, но при этом зависимсоть ВД носит не линейный характер;"
   ]
  },
  {
   "cell_type": "code",
   "execution_count": 66,
   "id": "dbbbfe89",
   "metadata": {
    "execution": {
     "iopub.execute_input": "2022-01-19T07:08:49.190841Z",
     "iopub.status.busy": "2022-01-19T07:08:49.189969Z",
     "iopub.status.idle": "2022-01-19T07:08:49.205704Z",
     "shell.execute_reply": "2022-01-19T07:08:49.205090Z",
     "shell.execute_reply.started": "2022-01-18T12:31:36.738065Z"
    },
    "papermill": {
     "duration": 0.127168,
     "end_time": "2022-01-19T07:08:49.205834",
     "exception": false,
     "start_time": "2022-01-19T07:08:49.078666",
     "status": "completed"
    },
    "tags": []
   },
   "outputs": [],
   "source": [
    "# Удалим ранее отбракованные (или оптимизированные в новые признаки) данные:\n",
    "train.drop(['client_id'], axis=1, inplace=True)  # \n",
    "test.drop(['client_id'], axis=1, inplace=True)   # "
   ]
  },
  {
   "cell_type": "markdown",
   "id": "27c73f65",
   "metadata": {
    "papermill": {
     "duration": 0.109111,
     "end_time": "2022-01-19T07:08:49.422779",
     "exception": false,
     "start_time": "2022-01-19T07:08:49.313668",
     "status": "completed"
    },
    "tags": []
   },
   "source": [
    "## 4. Матрица корреляции и оценка значимости:"
   ]
  },
  {
   "cell_type": "code",
   "execution_count": 67,
   "id": "bb2a144b",
   "metadata": {
    "execution": {
     "iopub.execute_input": "2022-01-19T07:08:49.648406Z",
     "iopub.status.busy": "2022-01-19T07:08:49.647214Z",
     "iopub.status.idle": "2022-01-19T07:08:51.690602Z",
     "shell.execute_reply": "2022-01-19T07:08:51.691031Z",
     "shell.execute_reply.started": "2022-01-18T12:31:36.753322Z"
    },
    "papermill": {
     "duration": 2.158894,
     "end_time": "2022-01-19T07:08:51.691176",
     "exception": false,
     "start_time": "2022-01-19T07:08:49.532282",
     "status": "completed"
    },
    "tags": []
   },
   "outputs": [
    {
     "data": {
      "text/plain": [
       "<AxesSubplot:>"
      ]
     },
     "execution_count": 67,
     "metadata": {},
     "output_type": "execute_result"
    },
    {
     "data": {
      "image/png": "[encoded data removed]",
      "text/plain": [
       "<Figure size 1152x576 with 2 Axes>"
      ]
     },
     "metadata": {
      "needs_background": "light"
     },
     "output_type": "display_data"
    }
   ],
   "source": [
    "plt.figure(figsize=(16, 8))\n",
    "sns.heatmap(train.corr().abs(), annot=True, cmap='coolwarm', fmt='.3f', annot_kws={'size':10})"
   ]
  },
  {
   "cell_type": "code",
   "execution_count": 68,
   "id": "4ddb9d07",
   "metadata": {
    "execution": {
     "iopub.execute_input": "2022-01-19T07:08:51.946667Z",
     "iopub.status.busy": "2022-01-19T07:08:51.945776Z",
     "iopub.status.idle": "2022-01-19T07:09:05.568740Z",
     "shell.execute_reply": "2022-01-19T07:09:05.568267Z",
     "shell.execute_reply.started": "2022-01-18T12:31:38.80194Z"
    },
    "papermill": {
     "duration": 13.763396,
     "end_time": "2022-01-19T07:09:05.568876",
     "exception": false,
     "start_time": "2022-01-19T07:08:51.805480",
     "status": "completed"
    },
    "tags": []
   },
   "outputs": [
    {
     "data": {
      "text/plain": [
       "numb_weeks          0.000000\n",
       "good_work           0.000611\n",
       "clients_day         0.001377\n",
       "car_type            0.001695\n",
       "foreign_passport    0.002092\n",
       "age                 0.004395\n",
       "region_rating       0.004749\n",
       "sex_car             0.004859\n",
       "bki_request_cnt     0.005133\n",
       "income              0.005393\n",
       "month               0.005761\n",
       "education           0.008598\n",
       "decline_app_cnt     0.008598\n",
       "work_address        0.008674\n",
       "first_time          0.009085\n",
       "sna                 0.011342\n",
       "home_address        0.012215\n",
       "score_bki           0.016763\n",
       "dtype: float64"
      ]
     },
     "execution_count": 68,
     "metadata": {},
     "output_type": "execute_result"
    }
   ],
   "source": [
    "# Для оценки значимости переменных будем использовать функцию mutual_info_classif:\n",
    "imp_cat = pd.Series(mutual_info_classif(train.drop(columns='default', axis=1), train['default'], \n",
    "                                        discrete_features='auto', random_state=100), \n",
    "                    index=train.drop(columns='default', axis=1).columns.values)\n",
    "imp_cat.sort_values()"
   ]
  },
  {
   "cell_type": "code",
   "execution_count": 69,
   "id": "9d650cff",
   "metadata": {
    "execution": {
     "iopub.execute_input": "2022-01-19T07:09:05.811490Z",
     "iopub.status.busy": "2022-01-19T07:09:05.810523Z",
     "iopub.status.idle": "2022-01-19T07:09:05.812361Z",
     "shell.execute_reply": "2022-01-19T07:09:05.812840Z",
     "shell.execute_reply.started": "2022-01-18T12:31:52.293392Z"
    },
    "papermill": {
     "duration": 0.129943,
     "end_time": "2022-01-19T07:09:05.812993",
     "exception": false,
     "start_time": "2022-01-19T07:09:05.683050",
     "status": "completed"
    },
    "tags": []
   },
   "outputs": [],
   "source": [
    "# Учитывая высокую корреляцию между 'month' и 'numb_weeks', и отсутствие \"значимости\" для 'numb_weeks', - удалим последний:\n",
    "train.drop(['numb_weeks'], axis=1, inplace=True)   \n",
    "test.drop(['numb_weeks'], axis=1, inplace=True)"
   ]
  },
  {
   "cell_type": "markdown",
   "id": "dc8e267b",
   "metadata": {
    "papermill": {
     "duration": 0.113532,
     "end_time": "2022-01-19T07:09:06.041362",
     "exception": false,
     "start_time": "2022-01-19T07:09:05.927830",
     "status": "completed"
    },
    "tags": []
   },
   "source": [
    "## 5. Feature Engineering:"
   ]
  },
  {
   "cell_type": "markdown",
   "id": "54af6b74",
   "metadata": {
    "papermill": {
     "duration": 0.113198,
     "end_time": "2022-01-19T07:09:06.273802",
     "exception": false,
     "start_time": "2022-01-19T07:09:06.160604",
     "status": "completed"
    },
    "tags": []
   },
   "source": [
    "##### Синтетическая генерация новых признаков (из имеющихся) не увенчалась положительной прибавкой для f1."
   ]
  },
  {
   "cell_type": "code",
   "execution_count": 70,
   "id": "2fb8b6d0",
   "metadata": {
    "execution": {
     "iopub.execute_input": "2022-01-19T07:09:06.507560Z",
     "iopub.status.busy": "2022-01-19T07:09:06.505983Z",
     "iopub.status.idle": "2022-01-19T07:09:06.508148Z",
     "shell.execute_reply": "2022-01-19T07:09:06.508585Z",
     "shell.execute_reply.started": "2022-01-18T12:31:52.303817Z"
    },
    "papermill": {
     "duration": 0.120694,
     "end_time": "2022-01-19T07:09:06.508734",
     "exception": false,
     "start_time": "2022-01-19T07:09:06.388040",
     "status": "completed"
    },
    "tags": []
   },
   "outputs": [],
   "source": [
    "# # Разобъем оставшиеся признаки на три категории:\n",
    "# columns_bins = ['car_type', 'good_work', 'home_address', 'work_address', 'sna', 'first_time', 'foreign_passport', 'month']\n",
    "# columns_cat = ['education', 'age', 'decline_app_cnt', 'region_rating', 'income']\n",
    "# columns_numb = ['score_bki', 'clients_day', 'defaults_day', 'numb_weeks', 'bki_request_cnt']\n",
    "\n",
    "# # На основании этих категорий сформируем комбинации:\n",
    "# bins_3 = list(combinations(columns_bins, 3))\n",
    "# cat_3 = list(combinations(columns_cat, 3))\n",
    "# numb_3 = list(combinations(columns_numb, 3))\n",
    "\n",
    "# print('combinations(columns_bins, 3): ', len(bins_3))\n",
    "# print('combinations(columns_cat, 3): ', len(cat_3))\n",
    "# print('combinations(columns_numb, 3): ', len(numb_3))"
   ]
  },
  {
   "cell_type": "code",
   "execution_count": 71,
   "id": "b22e3d4c",
   "metadata": {
    "execution": {
     "iopub.execute_input": "2022-01-19T07:09:06.746222Z",
     "iopub.status.busy": "2022-01-19T07:09:06.745266Z",
     "iopub.status.idle": "2022-01-19T07:09:06.747261Z",
     "shell.execute_reply": "2022-01-19T07:09:06.747715Z",
     "shell.execute_reply.started": "2022-01-18T12:31:52.323897Z"
    },
    "papermill": {
     "duration": 0.125514,
     "end_time": "2022-01-19T07:09:06.747859",
     "exception": false,
     "start_time": "2022-01-19T07:09:06.622345",
     "status": "completed"
    },
    "tags": []
   },
   "outputs": [],
   "source": [
    "# # 1. Добавим весь перечень синтезированных парметров bins_3:\n",
    "# for x, y, z in bins_3:\n",
    "#     train['dif1_' + str(x) + str(y) + str(z)] = train[x] + train[y] - train[z]\n",
    "#     train['dif2_' + str(x) + str(y) + str(z)] = train[x] - train[y] + train[z]\n",
    "#     train['dif3_' + str(x) + str(y) + str(z)] = train[x] - train[y] - train[z]\n",
    "\n",
    "# # 2. С помощью mutual_info_classif отберем лучшие из новых параметров:\n",
    "# dif1_home_address sna foreign_passport    0.016630\n",
    "# dif2_car_type home_address first_time     0.015406\n",
    "# dif3_car_type work_address sna            0.015467\n",
    "\n",
    "# 3. Добавим новые параметры в train и test:\n",
    "# train['1'] = train['home_address'] + train['sna'] - train['foreign_passport']\n",
    "# train['2'] = train['car_type'] - train['home_address'] + train['first_time']\n",
    "# train['3'] = train['car_type'] - train['work_address'] - train['sna']\n",
    "# test['1'] = test['home_address'] + test['sna'] - test['foreign_passport']\n",
    "# test['2'] = test['car_type'] - test['home_address'] + test['first_time']\n",
    "# test['3'] = test['car_type'] - test['work_address'] - test['sna']"
   ]
  },
  {
   "cell_type": "code",
   "execution_count": 72,
   "id": "efcb4bc7",
   "metadata": {
    "execution": {
     "iopub.execute_input": "2022-01-19T07:09:06.994837Z",
     "iopub.status.busy": "2022-01-19T07:09:06.993203Z",
     "iopub.status.idle": "2022-01-19T07:09:06.995411Z",
     "shell.execute_reply": "2022-01-19T07:09:06.995853Z",
     "shell.execute_reply.started": "2022-01-18T12:31:52.33665Z"
    },
    "papermill": {
     "duration": 0.125524,
     "end_time": "2022-01-19T07:09:06.995995",
     "exception": false,
     "start_time": "2022-01-19T07:09:06.870471",
     "status": "completed"
    },
    "tags": []
   },
   "outputs": [],
   "source": [
    "# # 1. Добавим весь перечень синтезированных парметров cat_3:\n",
    "# for x, y, z in cat_3:\n",
    "#     train['dif1_' + str(x) + str(y) + str(z)] = train[x] + train[y] - train[z]\n",
    "#     train['dif2_' + str(x) + str(y) + str(z)] = train[x] - train[y] + train[z]\n",
    "#     train['dif3_' + str(x) + str(y) + str(z)] = train[x] - train[y] - train[z]\n",
    "#     train['mult1_' + str(x) + str(y) + str(z)] = (train[x] - train[y]) / (train[x] + train[y])\n",
    "#     train['mult2_' + str(x) + str(y) + str(z)] = (train[x] - train[z]) / (train[x] + train[z])\n",
    "#     train['mult3_' + str(x) + str(y) + str(z)] = (train[y] - train[z]) / (train[y] + train[z])\n",
    "    \n",
    "    \n",
    "# # 2. С помощью mutual_info_classif отберем лучшие из новых параметров:\n",
    "# dif3_education decline_app_cnt region_rating     0.015614\n",
    "\n",
    "# # 3. Добавим новые параметры в train и test:\n",
    "# train['4'] = train['decline_app_cnt'] - train['bki_request_cnt'] - train['education']\n",
    "# train['5'] = train['decline_app_cnt'] * train['education']\n",
    "# test['4'] = test['decline_app_cnt'] - test['bki_request_cnt'] - test['education']\n",
    "# test['5'] = test['decline_app_cnt'] * test['education']"
   ]
  },
  {
   "cell_type": "code",
   "execution_count": 73,
   "id": "e4fb3aff",
   "metadata": {
    "execution": {
     "iopub.execute_input": "2022-01-19T07:09:07.234670Z",
     "iopub.status.busy": "2022-01-19T07:09:07.233744Z",
     "iopub.status.idle": "2022-01-19T07:09:07.236327Z",
     "shell.execute_reply": "2022-01-19T07:09:07.235901Z",
     "shell.execute_reply.started": "2022-01-18T12:31:52.34782Z"
    },
    "papermill": {
     "duration": 0.122763,
     "end_time": "2022-01-19T07:09:07.236465",
     "exception": false,
     "start_time": "2022-01-19T07:09:07.113702",
     "status": "completed"
    },
    "tags": []
   },
   "outputs": [],
   "source": [
    "# # 1. Добавим весь перечень синтезированных парметров numb_3:\n",
    "# for x, y, z in numb_3:\n",
    "#     train['dif1_' + str(x) + str(y) + str(z)] = train[x] + train[y] - train[z]\n",
    "#     train['dif2_' + str(x) + str(y) + str(z)] = train[x] - train[y] + train[z]\n",
    "#     train['dif3_' + str(x) + str(y) + str(z)] = train[x] - train[y] - train[z]\n",
    "#     train['mult1_' + str(x) + str(y) + str(z)] = pow(abs((train[x] - train[y]) * train[z]), 0.5)\n",
    "#     train['mult2_' + str(x) + str(y) + str(z)] = pow(abs((train[x] - train[z]) * train[y]), 0.5)\n",
    "#     train['mult3_' + str(x) + str(y) + str(z)] = pow(abs((train[y] - train[z]) * train[x]), 0.5)\n",
    "\n",
    "# # 2. С помощью mutual_info_classif отберем лучшие из новых параметров:\n",
    "# mult1_score_bki clients_day numb_weeks         0.016457\n",
    "# mult_score_bki income                      0.018898\n",
    "# sum_score_bki region_rating                0.022869\n",
    "\n",
    "# # 3. Добавим новые параметры в train и test:\n",
    "# train['6'] = train['score_bki'] + train['clients_day']\n",
    "# train['7'] = train['score_bki'] * train['income']\n",
    "# train['8'] = train['score_bki'] + train['region_rating']\n",
    "# test['6'] = test['score_bki'] + test['clients_day']\n",
    "# test['7'] = test['score_bki'] * test['income']\n",
    "# test['8'] = test['score_bki'] + test['region_rating']"
   ]
  },
  {
   "cell_type": "code",
   "execution_count": 74,
   "id": "a92be934",
   "metadata": {
    "execution": {
     "iopub.execute_input": "2022-01-19T07:09:07.470640Z",
     "iopub.status.busy": "2022-01-19T07:09:07.469855Z",
     "iopub.status.idle": "2022-01-19T07:09:07.472352Z",
     "shell.execute_reply": "2022-01-19T07:09:07.471924Z",
     "shell.execute_reply.started": "2022-01-18T12:31:52.364019Z"
    },
    "papermill": {
     "duration": 0.121018,
     "end_time": "2022-01-19T07:09:07.472491",
     "exception": false,
     "start_time": "2022-01-19T07:09:07.351473",
     "status": "completed"
    },
    "tags": []
   },
   "outputs": [],
   "source": [
    "# imp_cat = pd.Series(mutual_info_classif(train.drop(columns='default', axis=1), train['default'], \n",
    "#                                         discrete_features='auto', random_state=100), \n",
    "#                     index=train.drop(columns='default', axis=1).columns.values)\n",
    "# imp_cat.sort_values()"
   ]
  },
  {
   "cell_type": "markdown",
   "id": "c17682bf",
   "metadata": {
    "papermill": {
     "duration": 0.113496,
     "end_time": "2022-01-19T07:09:07.700220",
     "exception": false,
     "start_time": "2022-01-19T07:09:07.586724",
     "status": "completed"
    },
    "tags": []
   },
   "source": [
    "## 6. Нормализация и балансировка обучающей выборки:"
   ]
  },
  {
   "cell_type": "code",
   "execution_count": 75,
   "id": "9a159c12",
   "metadata": {
    "execution": {
     "iopub.execute_input": "2022-01-19T07:09:07.938057Z",
     "iopub.status.busy": "2022-01-19T07:09:07.937068Z",
     "iopub.status.idle": "2022-01-19T07:09:09.476630Z",
     "shell.execute_reply": "2022-01-19T07:09:09.476168Z",
     "shell.execute_reply.started": "2022-01-18T12:31:52.378957Z"
    },
    "papermill": {
     "duration": 1.663212,
     "end_time": "2022-01-19T07:09:09.476760",
     "exception": false,
     "start_time": "2022-01-19T07:09:07.813548",
     "status": "completed"
    },
    "tags": []
   },
   "outputs": [
    {
     "data": {
      "text/plain": [
       "((59039, 17), (103142, 17), (103142, 17))"
      ]
     },
     "execution_count": 75,
     "metadata": {},
     "output_type": "execute_result"
    }
   ],
   "source": [
    "# Проведем нормализацию обработанных параметров:\n",
    "scaler=RobustScaler()    # на test показал слегка лучше результат, чем MinMaxScaler()\n",
    "columns = train.drop(columns='default', axis=1).columns.values\n",
    "train[columns] = scaler.fit_transform(train.drop(columns='default', axis=1).values)\n",
    "test[columns] = scaler.transform(test.values)\n",
    "\n",
    "# Для балансировки (класса default=1) разделим нашу выборку train на обучающую и валидационну):\n",
    "X = train.drop(columns='default', axis=1)\n",
    "y = train['default'].values\n",
    "X_train, X_valid, y_train, y_valid = train_test_split(X, y, test_size=0.20, random_state=SEED)\n",
    "\n",
    "# Протестируем два варианта балансировки:\n",
    "# 1. RandomOverSampler расширения выборки:\n",
    "from imblearn.over_sampling import RandomOverSampler\n",
    "oversam = RandomOverSampler(sampling_strategy='minority', random_state=SEED)\n",
    "X_over, y_over = oversam.fit_resample(X_train, y_train)\n",
    "\n",
    "# 2. SMOTE расширения выборки:\n",
    "from imblearn.over_sampling import SMOTE\n",
    "smot = SMOTE(sampling_strategy='minority', random_state=SEED)\n",
    "X_smot, y_smot = smot.fit_resample(X_train, y_train)\n",
    "\n",
    "X_train.shape, X_over.shape, X_smot.shape"
   ]
  },
  {
   "cell_type": "markdown",
   "id": "e0d776f1",
   "metadata": {
    "papermill": {
     "duration": 0.113302,
     "end_time": "2022-01-19T07:09:09.703597",
     "exception": false,
     "start_time": "2022-01-19T07:09:09.590295",
     "status": "completed"
    },
    "tags": []
   },
   "source": [
    "## 7. Подбор гиперпараметров:"
   ]
  },
  {
   "cell_type": "code",
   "execution_count": 76,
   "id": "b75df1c2",
   "metadata": {
    "execution": {
     "iopub.execute_input": "2022-01-19T07:09:09.939316Z",
     "iopub.status.busy": "2022-01-19T07:09:09.938500Z",
     "iopub.status.idle": "2022-01-19T07:09:09.940987Z",
     "shell.execute_reply": "2022-01-19T07:09:09.940466Z",
     "shell.execute_reply.started": "2022-01-18T12:31:54.311574Z"
    },
    "papermill": {
     "duration": 0.124077,
     "end_time": "2022-01-19T07:09:09.941099",
     "exception": false,
     "start_time": "2022-01-19T07:09:09.817022",
     "status": "completed"
    },
    "tags": []
   },
   "outputs": [],
   "source": [
    "C = np.logspace(0, -2, 10)       # [1, 1e-1, 1e-2, 1e-3]\n",
    "iters = [15, 25, 50, 75]\n",
    "epsilon_stop = [1e-4]\n",
    "class_weight = [None]         # выбрать в случаи подбора параметров для сбалансированных выборок\n",
    "# class_weight = ['balanced']   # для несбалансированной выборки\n",
    "param_grid = [\n",
    "    {'C': C,\n",
    "     'penalty': ['l1'],\n",
    "     'solver': ['liblinear'],\n",
    "     'class_weight': class_weight,\n",
    "     'multi_class': ['auto'],\n",
    "     'max_iter': iters,\n",
    "     'tol': epsilon_stop},\n",
    "    {'C': C,\n",
    "     'penalty': ['l2'],\n",
    "     'solver': ['liblinear', 'newton-cg', 'lbfgs', 'saga'],\n",
    "     'class_weight': class_weight,\n",
    "     'multi_class': ['auto'],\n",
    "     'max_iter': iters,\n",
    "     'tol':epsilon_stop},\n",
    "    {'C': C,\n",
    "     'penalty': ['elasticnet'],\n",
    "     'solver': ['saga'],\n",
    "     'class_weight': class_weight,\n",
    "     'multi_class': ['auto'],\n",
    "     'max_iter': iters,\n",
    "     'tol':epsilon_stop},\n",
    "    {'C': ['none'],\n",
    "     'penalty': ['none'],\n",
    "     'solver': ['lbfgs', 'sag'],\n",
    "     'class_weight': class_weight,\n",
    "     'multi_class': ['auto'],\n",
    "     'max_iter': iters,\n",
    "     'tol':epsilon_stop}]"
   ]
  },
  {
   "cell_type": "markdown",
   "id": "aa318e19",
   "metadata": {
    "papermill": {
     "duration": 0.113841,
     "end_time": "2022-01-19T07:09:10.168204",
     "exception": false,
     "start_time": "2022-01-19T07:09:10.054363",
     "status": "completed"
    },
    "tags": []
   },
   "source": [
    "##### Далее код скрыт, так как его выполнение занимает много времени, а параметры уже зафиксированны."
   ]
  },
  {
   "cell_type": "code",
   "execution_count": 77,
   "id": "c367e281",
   "metadata": {
    "execution": {
     "iopub.execute_input": "2022-01-19T07:09:10.400622Z",
     "iopub.status.busy": "2022-01-19T07:09:10.399731Z",
     "iopub.status.idle": "2022-01-19T07:09:10.401511Z",
     "shell.execute_reply": "2022-01-19T07:09:10.402090Z",
     "shell.execute_reply.started": "2022-01-18T12:31:54.325523Z"
    },
    "papermill": {
     "duration": 0.11994,
     "end_time": "2022-01-19T07:09:10.402234",
     "exception": false,
     "start_time": "2022-01-19T07:09:10.282294",
     "status": "completed"
    },
    "tags": []
   },
   "outputs": [],
   "source": [
    "# Разбиение на обучающую и валидационную часть, используя один из двух вариантов расширения:\n",
    "# X_train, y_train = X_over, y_over\n",
    "# X_train, y_train = X_smot, y_smot\n",
    "\n",
    "# model = LogisticRegression()  # solver='liblinear'\n",
    "# model.fit(X_train, y_train)\n",
    "\n",
    "# # Произведем поиск гиперпараметров GridSearchCV при помощи перебора параметров по сетке param_grid:\n",
    "# grid_search = GridSearchCV(model, param_grid, scoring='f1', n_jobs=-1, cv=5)\n",
    "# grid_search.fit(X_train, y_train)\n",
    "# # grid_search.best_params_\n",
    "\n",
    "# # Печатаем параметры развернуто:\n",
    "# best_model = grid_search.best_estimator_\n",
    "# best_parameters = best_model.get_params()\n",
    "# for param_name in sorted(best_parameters.keys()):\n",
    "#     print('\\t%s: %r' % (param_name, best_parameters[param_name]))"
   ]
  },
  {
   "cell_type": "markdown",
   "id": "9981aee3",
   "metadata": {
    "papermill": {
     "duration": 0.113271,
     "end_time": "2022-01-19T07:09:10.629158",
     "exception": false,
     "start_time": "2022-01-19T07:09:10.515887",
     "status": "completed"
    },
    "tags": []
   },
   "source": [
    "### Выбор одного из вариантов обучающей выборки и соотвествующих подобранных гиперпараметров:"
   ]
  },
  {
   "cell_type": "code",
   "execution_count": 78,
   "id": "ee34274a",
   "metadata": {
    "execution": {
     "iopub.execute_input": "2022-01-19T07:09:10.868813Z",
     "iopub.status.busy": "2022-01-19T07:09:10.867227Z",
     "iopub.status.idle": "2022-01-19T07:09:10.869377Z",
     "shell.execute_reply": "2022-01-19T07:09:10.869824Z",
     "shell.execute_reply.started": "2022-01-18T12:31:54.342734Z"
    },
    "papermill": {
     "duration": 0.126202,
     "end_time": "2022-01-19T07:09:10.869965",
     "exception": false,
     "start_time": "2022-01-19T07:09:10.743763",
     "status": "completed"
    },
    "tags": []
   },
   "outputs": [],
   "source": [
    "# 1. Изначальная обучающая выборка train с соответствующими гиперпараметрами:\n",
    "# X, y = X_train, y_train\n",
    "# model = LogisticRegression(C=1, class_weight='balanced', max_iter=75, penalty='none', solver='sag', tol=1e-4, multi_class='auto')\n",
    "\n",
    "# 2. Расширение обучающего датасэта с помощью RandomOverSampler и соответствующие оптипальные гиперпараметры под него:\n",
    "X, y = X_over, y_over\n",
    "model = LogisticRegression(C=1e-1, class_weight=None, max_iter=50, penalty='l2', solver='liblinear', tol=1e-4, multi_class='auto')\n",
    "# model = LogisticRegression(C=1e-2, class_weight=None, max_iter=25, penalty='l2', solver='lbfgs', tol=1e-4, multi_class='auto')\n",
    "\n",
    "# 3. Расширение обучающего датасэта с помощью SMOTE (и соответствующие оптипальные гиперпараметры под него):\n",
    "# X, y = X_smot, y_smot\n",
    "# model = LogisticRegression(C=1e-1, class_weight=None, max_iter=100, penalty='l2', solver='newton-cg', tol=1e-4, multi_class='auto')"
   ]
  },
  {
   "cell_type": "markdown",
   "id": "897d1e99",
   "metadata": {
    "papermill": {
     "duration": 0.113651,
     "end_time": "2022-01-19T07:09:11.098918",
     "exception": false,
     "start_time": "2022-01-19T07:09:10.985267",
     "status": "completed"
    },
    "tags": []
   },
   "source": [
    "## 8. Обучение модели:"
   ]
  },
  {
   "cell_type": "markdown",
   "id": "d0c63121",
   "metadata": {
    "papermill": {
     "duration": 0.121717,
     "end_time": "2022-01-19T07:09:11.334476",
     "exception": false,
     "start_time": "2022-01-19T07:09:11.212759",
     "status": "completed"
    },
    "tags": []
   },
   "source": [
    "### Проверка на наличие паразитных параметров:"
   ]
  },
  {
   "cell_type": "markdown",
   "id": "14485cc3",
   "metadata": {
    "papermill": {
     "duration": 0.1146,
     "end_time": "2022-01-19T07:09:11.565136",
     "exception": false,
     "start_time": "2022-01-19T07:09:11.450536",
     "status": "completed"
    },
    "tags": []
   },
   "source": [
    "##### Проверив на test видим, что исключение любого из оставшихся параметров ухудшает результат расчета модели по f1."
   ]
  },
  {
   "cell_type": "code",
   "execution_count": 79,
   "id": "5c939c27",
   "metadata": {
    "execution": {
     "iopub.execute_input": "2022-01-19T07:09:11.799868Z",
     "iopub.status.busy": "2022-01-19T07:09:11.799051Z",
     "iopub.status.idle": "2022-01-19T07:09:11.801485Z",
     "shell.execute_reply": "2022-01-19T07:09:11.801063Z",
     "shell.execute_reply.started": "2022-01-18T12:31:54.364673Z"
    },
    "papermill": {
     "duration": 0.122794,
     "end_time": "2022-01-19T07:09:11.801612",
     "exception": false,
     "start_time": "2022-01-19T07:09:11.678818",
     "status": "completed"
    },
    "tags": []
   },
   "outputs": [],
   "source": [
    "# # Для начала зафиксируем результат по метрике f1 (с порогом отсечения 0,5):\n",
    "# model_check = model\n",
    "# model_check.fit(X, y)\n",
    "# y_pred = model_check.predict(X_valid)\n",
    "# f1_score(y_valid, y_pred).T"
   ]
  },
  {
   "cell_type": "code",
   "execution_count": 80,
   "id": "a4b3714b",
   "metadata": {
    "execution": {
     "iopub.execute_input": "2022-01-19T07:09:12.035673Z",
     "iopub.status.busy": "2022-01-19T07:09:12.034786Z",
     "iopub.status.idle": "2022-01-19T07:09:12.036359Z",
     "shell.execute_reply": "2022-01-19T07:09:12.036807Z",
     "shell.execute_reply.started": "2022-01-18T12:31:54.376674Z"
    },
    "papermill": {
     "duration": 0.121143,
     "end_time": "2022-01-19T07:09:12.036950",
     "exception": false,
     "start_time": "2022-01-19T07:09:11.915807",
     "status": "completed"
    },
    "tags": []
   },
   "outputs": [],
   "source": [
    "# # Определившись с выбором гиперпараметров и вариантом обучающей выборки еще раз проверим, исключая каждый параметры по очереди, что паразитных не осталось:\n",
    "# dict_exc_param = {}\n",
    "# for param in X.columns.values:\n",
    "#     model_check_1 = model\n",
    "#     model_check_1.fit(X.drop(columns=param, axis=1), y)\n",
    "#     y_pred = model_check_1.predict(X_valid.drop(columns=param, axis=1))\n",
    "#     dict_exc_param[param] = f1_score(y_valid, y_pred).T\n",
    "\n",
    "# # Напечатаем трое наилучших f1 с соответствующими исключенными параметрами:\n",
    "# sorted(dict_exc_param.items(), key=lambda x: -x[1])[:7]"
   ]
  },
  {
   "cell_type": "markdown",
   "id": "692bc46a",
   "metadata": {
    "papermill": {
     "duration": 0.113418,
     "end_time": "2022-01-19T07:09:12.264170",
     "exception": false,
     "start_time": "2022-01-19T07:09:12.150752",
     "status": "completed"
    },
    "tags": []
   },
   "source": [
    "### Проверим выбранную модель с тремя разными вариантами разбиения обучающей выборки:"
   ]
  },
  {
   "cell_type": "markdown",
   "id": "2b554260",
   "metadata": {
    "papermill": {
     "duration": 0.113133,
     "end_time": "2022-01-19T07:09:12.491317",
     "exception": false,
     "start_time": "2022-01-19T07:09:12.378184",
     "status": "completed"
    },
    "tags": []
   },
   "source": [
    "### 1. LogisticRegression + TrainTestSplit"
   ]
  },
  {
   "cell_type": "code",
   "execution_count": 81,
   "id": "0a1ea4dd",
   "metadata": {
    "execution": {
     "iopub.execute_input": "2022-01-19T07:09:12.726727Z",
     "iopub.status.busy": "2022-01-19T07:09:12.725864Z",
     "iopub.status.idle": "2022-01-19T07:09:13.845180Z",
     "shell.execute_reply": "2022-01-19T07:09:13.844242Z",
     "shell.execute_reply.started": "2022-01-18T12:31:54.389493Z"
    },
    "papermill": {
     "duration": 1.241065,
     "end_time": "2022-01-19T07:09:13.845316",
     "exception": false,
     "start_time": "2022-01-19T07:09:12.604251",
     "status": "completed"
    },
    "tags": []
   },
   "outputs": [
    {
     "data": {
      "text/html": [
       "<div>\n",
       "<style scoped>\n",
       "    .dataframe tbody tr th:only-of-type {\n",
       "        vertical-align: middle;\n",
       "    }\n",
       "\n",
       "    .dataframe tbody tr th {\n",
       "        vertical-align: top;\n",
       "    }\n",
       "\n",
       "    .dataframe thead th {\n",
       "        text-align: right;\n",
       "    }\n",
       "</style>\n",
       "<table border=\"1\" class=\"dataframe\">\n",
       "  <thead>\n",
       "    <tr style=\"text-align: right;\">\n",
       "      <th></th>\n",
       "      <th>T_def_0</th>\n",
       "      <th>F_def_0</th>\n",
       "      <th>F_def_1</th>\n",
       "      <th>T_def_1</th>\n",
       "      <th>f1_score</th>\n",
       "      <th>BAS</th>\n",
       "      <th>profit</th>\n",
       "    </tr>\n",
       "  </thead>\n",
       "  <tbody>\n",
       "    <tr>\n",
       "      <th>0.50</th>\n",
       "      <td>8599</td>\n",
       "      <td>4257</td>\n",
       "      <td>608</td>\n",
       "      <td>1296</td>\n",
       "      <td>0.347593</td>\n",
       "      <td>0.674771</td>\n",
       "      <td>774</td>\n",
       "    </tr>\n",
       "    <tr>\n",
       "      <th>0.51</th>\n",
       "      <td>8822</td>\n",
       "      <td>4034</td>\n",
       "      <td>643</td>\n",
       "      <td>1261</td>\n",
       "      <td>0.350326</td>\n",
       "      <td>0.674253</td>\n",
       "      <td>905</td>\n",
       "    </tr>\n",
       "    <tr>\n",
       "      <th>0.52</th>\n",
       "      <td>9032</td>\n",
       "      <td>3824</td>\n",
       "      <td>674</td>\n",
       "      <td>1230</td>\n",
       "      <td>0.353550</td>\n",
       "      <td>0.674280</td>\n",
       "      <td>1046</td>\n",
       "    </tr>\n",
       "    <tr>\n",
       "      <th>0.53</th>\n",
       "      <td>9232</td>\n",
       "      <td>3624</td>\n",
       "      <td>709</td>\n",
       "      <td>1195</td>\n",
       "      <td>0.355496</td>\n",
       "      <td>0.672867</td>\n",
       "      <td>1131</td>\n",
       "    </tr>\n",
       "    <tr>\n",
       "      <th>0.54</th>\n",
       "      <td>9415</td>\n",
       "      <td>3441</td>\n",
       "      <td>737</td>\n",
       "      <td>1167</td>\n",
       "      <td>0.358415</td>\n",
       "      <td>0.672632</td>\n",
       "      <td>1245</td>\n",
       "    </tr>\n",
       "    <tr>\n",
       "      <th>0.55</th>\n",
       "      <td>9571</td>\n",
       "      <td>3285</td>\n",
       "      <td>780</td>\n",
       "      <td>1124</td>\n",
       "      <td>0.356091</td>\n",
       "      <td>0.667407</td>\n",
       "      <td>1170</td>\n",
       "    </tr>\n",
       "    <tr>\n",
       "      <th>0.56</th>\n",
       "      <td>9767</td>\n",
       "      <td>3089</td>\n",
       "      <td>816</td>\n",
       "      <td>1088</td>\n",
       "      <td>0.357836</td>\n",
       "      <td>0.665576</td>\n",
       "      <td>1238</td>\n",
       "    </tr>\n",
       "    <tr>\n",
       "      <th>0.57</th>\n",
       "      <td>9940</td>\n",
       "      <td>2916</td>\n",
       "      <td>847</td>\n",
       "      <td>1057</td>\n",
       "      <td>0.359707</td>\n",
       "      <td>0.664163</td>\n",
       "      <td>1305</td>\n",
       "    </tr>\n",
       "    <tr>\n",
       "      <th>0.58</th>\n",
       "      <td>10109</td>\n",
       "      <td>2747</td>\n",
       "      <td>879</td>\n",
       "      <td>1025</td>\n",
       "      <td>0.361170</td>\n",
       "      <td>0.662333</td>\n",
       "      <td>1355</td>\n",
       "    </tr>\n",
       "    <tr>\n",
       "      <th>0.59</th>\n",
       "      <td>10254</td>\n",
       "      <td>2602</td>\n",
       "      <td>921</td>\n",
       "      <td>983</td>\n",
       "      <td>0.358171</td>\n",
       "      <td>0.656943</td>\n",
       "      <td>1267</td>\n",
       "    </tr>\n",
       "    <tr>\n",
       "      <th>0.60</th>\n",
       "      <td>10432</td>\n",
       "      <td>2424</td>\n",
       "      <td>971</td>\n",
       "      <td>933</td>\n",
       "      <td>0.354685</td>\n",
       "      <td>0.650735</td>\n",
       "      <td>1173</td>\n",
       "    </tr>\n",
       "    <tr>\n",
       "      <th>0.61</th>\n",
       "      <td>10576</td>\n",
       "      <td>2280</td>\n",
       "      <td>1006</td>\n",
       "      <td>898</td>\n",
       "      <td>0.353404</td>\n",
       "      <td>0.647145</td>\n",
       "      <td>1146</td>\n",
       "    </tr>\n",
       "    <tr>\n",
       "      <th>0.62</th>\n",
       "      <td>10723</td>\n",
       "      <td>2133</td>\n",
       "      <td>1041</td>\n",
       "      <td>863</td>\n",
       "      <td>0.352245</td>\n",
       "      <td>0.643671</td>\n",
       "      <td>1125</td>\n",
       "    </tr>\n",
       "    <tr>\n",
       "      <th>0.63</th>\n",
       "      <td>10856</td>\n",
       "      <td>2000</td>\n",
       "      <td>1064</td>\n",
       "      <td>840</td>\n",
       "      <td>0.354132</td>\n",
       "      <td>0.642804</td>\n",
       "      <td>1184</td>\n",
       "    </tr>\n",
       "    <tr>\n",
       "      <th>0.64</th>\n",
       "      <td>10994</td>\n",
       "      <td>1862</td>\n",
       "      <td>1107</td>\n",
       "      <td>797</td>\n",
       "      <td>0.349332</td>\n",
       "      <td>0.636879</td>\n",
       "      <td>1073</td>\n",
       "    </tr>\n",
       "  </tbody>\n",
       "</table>\n",
       "</div>"
      ],
      "text/plain": [
       "      T_def_0  F_def_0  F_def_1  T_def_1  f1_score       BAS  profit\n",
       "0.50     8599     4257      608     1296  0.347593  0.674771     774\n",
       "0.51     8822     4034      643     1261  0.350326  0.674253     905\n",
       "0.52     9032     3824      674     1230  0.353550  0.674280    1046\n",
       "0.53     9232     3624      709     1195  0.355496  0.672867    1131\n",
       "0.54     9415     3441      737     1167  0.358415  0.672632    1245\n",
       "0.55     9571     3285      780     1124  0.356091  0.667407    1170\n",
       "0.56     9767     3089      816     1088  0.357836  0.665576    1238\n",
       "0.57     9940     2916      847     1057  0.359707  0.664163    1305\n",
       "0.58    10109     2747      879     1025  0.361170  0.662333    1355\n",
       "0.59    10254     2602      921      983  0.358171  0.656943    1267\n",
       "0.60    10432     2424      971      933  0.354685  0.650735    1173\n",
       "0.61    10576     2280     1006      898  0.353404  0.647145    1146\n",
       "0.62    10723     2133     1041      863  0.352245  0.643671    1125\n",
       "0.63    10856     2000     1064      840  0.354132  0.642804    1184\n",
       "0.64    10994     1862     1107      797  0.349332  0.636879    1073"
      ]
     },
     "execution_count": 81,
     "metadata": {},
     "output_type": "execute_result"
    }
   ],
   "source": [
    "model_LR = model\n",
    "model_LR.fit(X, y)\n",
    "y_pred_proba = model_LR.predict_proba(X_valid)\n",
    "\n",
    "matrix = pd.DataFrame()\n",
    "res = pd.DataFrame(y_pred_proba[:, 1], columns=['prob'])\n",
    "\n",
    "for threshold in range(50, 65, 1):  # 50, 70, 1\n",
    "    y_pred_cut = res.prob.apply(lambda x: 1 if x >= threshold/100 else 0)\n",
    "    T_def_0, F_def_0, F_def_1, T_def_1 = confusion_matrix(y_valid, y_pred_cut).ravel()\n",
    "    f1 = f1_score(y_valid, y_pred_cut.values).T\n",
    "    BAS = balanced_accuracy_score(y_valid, y_pred_cut.values)\n",
    "    matrix = matrix.append(pd.DataFrame(data=[[T_def_0, F_def_0, F_def_1, T_def_1, f1, BAS]], \n",
    "                                        columns=['T_def_0', 'F_def_0', 'F_def_1', 'T_def_1', 'f1_score', 'BAS'], \n",
    "                                        index=[threshold/100]))\n",
    "\n",
    "matrix['profit'] = matrix.T_def_0 - matrix.F_def_0 + matrix.T_def_1 - 8 * matrix.F_def_1\n",
    "\n",
    "# Три лучших результата (по метрике f1) будем записывать в новую таблицу:\n",
    "top3_model_LR = matrix.sort_values(by='f1_score', ascending=False).iloc[:3]\n",
    "\n",
    "matrix"
   ]
  },
  {
   "cell_type": "code",
   "execution_count": 82,
   "id": "9f2bb580",
   "metadata": {
    "execution": {
     "iopub.execute_input": "2022-01-19T07:09:14.213334Z",
     "iopub.status.busy": "2022-01-19T07:09:14.212416Z",
     "iopub.status.idle": "2022-01-19T07:09:14.826670Z",
     "shell.execute_reply": "2022-01-19T07:09:14.827056Z",
     "shell.execute_reply.started": "2022-01-18T12:31:55.65201Z"
    },
    "papermill": {
     "duration": 0.830196,
     "end_time": "2022-01-19T07:09:14.827220",
     "exception": false,
     "start_time": "2022-01-19T07:09:13.997024",
     "status": "completed"
    },
    "tags": []
   },
   "outputs": [
    {
     "name": "stdout",
     "output_type": "stream",
     "text": [
      "              precision    recall  f1-score   support\n",
      "\n",
      "           0       0.92      0.79      0.85     12856\n",
      "           1       0.27      0.54      0.36      1904\n",
      "\n",
      "    accuracy                           0.75     14760\n",
      "   macro avg       0.60      0.66      0.60     14760\n",
      "weighted avg       0.84      0.75      0.79     14760\n",
      "\n"
     ]
    }
   ],
   "source": [
    "max_f1 = matrix[matrix.f1_score == matrix.f1_score.max()].index\n",
    "y_pred_prob = pd.DataFrame(model_LR.predict_proba(X_valid))\n",
    "y_pred = y_pred_prob.iloc[:, -1].apply(lambda x: 1 if x >= max_f1 else 0)\n",
    "print(classification_report(y_valid, y_pred))"
   ]
  },
  {
   "cell_type": "markdown",
   "id": "3a7a5557",
   "metadata": {
    "papermill": {
     "duration": 0.119986,
     "end_time": "2022-01-19T07:09:15.070406",
     "exception": false,
     "start_time": "2022-01-19T07:09:14.950420",
     "status": "completed"
    },
    "tags": []
   },
   "source": [
    "### Построим ROC_AUC:"
   ]
  },
  {
   "cell_type": "code",
   "execution_count": 83,
   "id": "f02e8746",
   "metadata": {
    "execution": {
     "iopub.execute_input": "2022-01-19T07:09:15.311826Z",
     "iopub.status.busy": "2022-01-19T07:09:15.310946Z",
     "iopub.status.idle": "2022-01-19T07:09:15.555108Z",
     "shell.execute_reply": "2022-01-19T07:09:15.555588Z",
     "shell.execute_reply.started": "2022-01-18T12:31:56.16799Z"
    },
    "papermill": {
     "duration": 0.370623,
     "end_time": "2022-01-19T07:09:15.555745",
     "exception": false,
     "start_time": "2022-01-19T07:09:15.185122",
     "status": "completed"
    },
    "tags": []
   },
   "outputs": [
    {
     "data": {
      "text/plain": [
       "<matplotlib.legend.Legend at 0x7fd577818b80>"
      ]
     },
     "execution_count": 83,
     "metadata": {},
     "output_type": "execute_result"
    },
    {
     "data": {
      "image/png": "[encoded data removed]",
      "text/plain": [
       "<Figure size 432x288 with 1 Axes>"
      ]
     },
     "metadata": {
      "needs_background": "light"
     },
     "output_type": "display_data"
    }
   ],
   "source": [
    "y_pred_proba = model_LR.predict_proba(X_valid)\n",
    "roc_auc = roc_auc_score(y_valid, y_pred_proba[:, 1])\n",
    "fpr, tpr, thresholds = roc_curve(y_valid, y_pred_proba[:, 1])\n",
    "plt.figure()\n",
    "plt.plot([0, 1], label='Baseline', linestyle='--')\n",
    "plt.plot(fpr, tpr, label='Regression')\n",
    "plt.title('Logistic Regression ROC AUC = %0.3f' % roc_auc)\n",
    "plt.ylabel('True Positive Rate')\n",
    "plt.xlabel('False Positive Rate')\n",
    "plt.legend(loc='lower right')"
   ]
  },
  {
   "cell_type": "markdown",
   "id": "54732579",
   "metadata": {
    "papermill": {
     "duration": 0.116042,
     "end_time": "2022-01-19T07:09:15.792101",
     "exception": false,
     "start_time": "2022-01-19T07:09:15.676059",
     "status": "completed"
    },
    "tags": []
   },
   "source": [
    "### Проверка модели на переобучение:"
   ]
  },
  {
   "cell_type": "code",
   "execution_count": 84,
   "id": "41575c0d",
   "metadata": {
    "execution": {
     "iopub.execute_input": "2022-01-19T07:09:16.033910Z",
     "iopub.status.busy": "2022-01-19T07:09:16.033051Z",
     "iopub.status.idle": "2022-01-19T07:09:18.077939Z",
     "shell.execute_reply": "2022-01-19T07:09:18.079059Z",
     "shell.execute_reply.started": "2022-01-18T12:31:56.428057Z"
    },
    "papermill": {
     "duration": 2.170344,
     "end_time": "2022-01-19T07:09:18.079273",
     "exception": false,
     "start_time": "2022-01-19T07:09:15.908929",
     "status": "completed"
    },
    "tags": []
   },
   "outputs": [
    {
     "name": "stdout",
     "output_type": "stream",
     "text": [
      "[train] F1-score = 0.67 +/- 0.00\n",
      "[valid] F1-score = 0.67 +/- 0.00\n"
     ]
    },
    {
     "data": {
      "image/png": "[encoded data removed]",
      "text/plain": [
       "<Figure size 1080x360 with 1 Axes>"
      ]
     },
     "metadata": {
      "needs_background": "light"
     },
     "output_type": "display_data"
    }
   ],
   "source": [
    "# Чтобы проверить наличие переобученния модели воспользуемся функцией cross_validate:\n",
    "cv_metrics = cross_validate(model_LR, X, y, cv=5, scoring='f1_micro', return_train_score=True)\n",
    "\n",
    "def plot_cv_metrics(cv_metrics):\n",
    "    avg_f1_train, std_f1_train = cv_metrics['train_score'].mean(), cv_metrics['train_score'].std()\n",
    "    avg_f1_valid, std_f1_valid = cv_metrics['test_score'].mean(), cv_metrics['test_score'].std()\n",
    "    print('[train] F1-score = {:.2f} +/- {:.2f}'.format(avg_f1_train, std_f1_train))\n",
    "    print('[valid] F1-score = {:.2f} +/- {:.2f}'.format(avg_f1_valid, std_f1_valid))\n",
    "    \n",
    "    plt.figure(figsize=(15, 5))\n",
    "\n",
    "    plt.plot(cv_metrics['train_score'], label='train', marker='.')\n",
    "    plt.plot(cv_metrics['test_score'], label='valid', marker='.')\n",
    "\n",
    "    plt.ylim([0., 1.]);\n",
    "    plt.xlabel('CV iteration', fontsize=15)\n",
    "    plt.ylabel('F1-score', fontsize=15)\n",
    "    plt.legend(fontsize=15)\n",
    "    \n",
    "plot_cv_metrics(cv_metrics)"
   ]
  },
  {
   "cell_type": "markdown",
   "id": "6b82d905",
   "metadata": {
    "papermill": {
     "duration": 0.192429,
     "end_time": "2022-01-19T07:09:18.465927",
     "exception": false,
     "start_time": "2022-01-19T07:09:18.273498",
     "status": "completed"
    },
    "tags": []
   },
   "source": [
    "### 2. LogisticRegression + StratifiedShuffleSplit"
   ]
  },
  {
   "cell_type": "code",
   "execution_count": 85,
   "id": "591a8bc6",
   "metadata": {
    "execution": {
     "iopub.execute_input": "2022-01-19T07:09:18.762632Z",
     "iopub.status.busy": "2022-01-19T07:09:18.761018Z",
     "iopub.status.idle": "2022-01-19T07:09:18.763204Z",
     "shell.execute_reply": "2022-01-19T07:09:18.763641Z",
     "shell.execute_reply.started": "2022-01-18T12:31:58.21759Z"
    },
    "papermill": {
     "duration": 0.123543,
     "end_time": "2022-01-19T07:09:18.763786",
     "exception": false,
     "start_time": "2022-01-19T07:09:18.640243",
     "status": "completed"
    },
    "tags": []
   },
   "outputs": [],
   "source": [
    "SPLIT = 10   # используем для StratifiedShuffleSplit и KFold"
   ]
  },
  {
   "cell_type": "code",
   "execution_count": 86,
   "id": "34d36f24",
   "metadata": {
    "execution": {
     "iopub.execute_input": "2022-01-19T07:09:19.008753Z",
     "iopub.status.busy": "2022-01-19T07:09:19.007872Z",
     "iopub.status.idle": "2022-01-19T07:09:20.654242Z",
     "shell.execute_reply": "2022-01-19T07:09:20.654716Z",
     "shell.execute_reply.started": "2022-01-18T12:31:58.223814Z"
    },
    "papermill": {
     "duration": 1.774318,
     "end_time": "2022-01-19T07:09:20.654876",
     "exception": false,
     "start_time": "2022-01-19T07:09:18.880558",
     "status": "completed"
    },
    "tags": []
   },
   "outputs": [
    {
     "data": {
      "text/html": [
       "<div>\n",
       "<style scoped>\n",
       "    .dataframe tbody tr th:only-of-type {\n",
       "        vertical-align: middle;\n",
       "    }\n",
       "\n",
       "    .dataframe tbody tr th {\n",
       "        vertical-align: top;\n",
       "    }\n",
       "\n",
       "    .dataframe thead th {\n",
       "        text-align: right;\n",
       "    }\n",
       "</style>\n",
       "<table border=\"1\" class=\"dataframe\">\n",
       "  <thead>\n",
       "    <tr style=\"text-align: right;\">\n",
       "      <th></th>\n",
       "      <th>T_def_0</th>\n",
       "      <th>F_def_0</th>\n",
       "      <th>F_def_1</th>\n",
       "      <th>T_def_1</th>\n",
       "      <th>f1_score</th>\n",
       "      <th>BAS</th>\n",
       "      <th>profit</th>\n",
       "    </tr>\n",
       "  </thead>\n",
       "  <tbody>\n",
       "    <tr>\n",
       "      <th>0.50</th>\n",
       "      <td>8595</td>\n",
       "      <td>4261</td>\n",
       "      <td>611</td>\n",
       "      <td>1293</td>\n",
       "      <td>0.346742</td>\n",
       "      <td>0.673828</td>\n",
       "      <td>739</td>\n",
       "    </tr>\n",
       "    <tr>\n",
       "      <th>0.51</th>\n",
       "      <td>8821</td>\n",
       "      <td>4035</td>\n",
       "      <td>642</td>\n",
       "      <td>1262</td>\n",
       "      <td>0.350507</td>\n",
       "      <td>0.674477</td>\n",
       "      <td>912</td>\n",
       "    </tr>\n",
       "    <tr>\n",
       "      <th>0.52</th>\n",
       "      <td>9028</td>\n",
       "      <td>3828</td>\n",
       "      <td>669</td>\n",
       "      <td>1235</td>\n",
       "      <td>0.354528</td>\n",
       "      <td>0.675437</td>\n",
       "      <td>1083</td>\n",
       "    </tr>\n",
       "    <tr>\n",
       "      <th>0.53</th>\n",
       "      <td>9234</td>\n",
       "      <td>3622</td>\n",
       "      <td>709</td>\n",
       "      <td>1195</td>\n",
       "      <td>0.355602</td>\n",
       "      <td>0.672945</td>\n",
       "      <td>1135</td>\n",
       "    </tr>\n",
       "    <tr>\n",
       "      <th>0.54</th>\n",
       "      <td>9414</td>\n",
       "      <td>3442</td>\n",
       "      <td>736</td>\n",
       "      <td>1168</td>\n",
       "      <td>0.358612</td>\n",
       "      <td>0.672855</td>\n",
       "      <td>1252</td>\n",
       "    </tr>\n",
       "    <tr>\n",
       "      <th>0.55</th>\n",
       "      <td>9574</td>\n",
       "      <td>3282</td>\n",
       "      <td>776</td>\n",
       "      <td>1128</td>\n",
       "      <td>0.357301</td>\n",
       "      <td>0.668574</td>\n",
       "      <td>1212</td>\n",
       "    </tr>\n",
       "    <tr>\n",
       "      <th>0.56</th>\n",
       "      <td>9764</td>\n",
       "      <td>3092</td>\n",
       "      <td>814</td>\n",
       "      <td>1090</td>\n",
       "      <td>0.358199</td>\n",
       "      <td>0.665984</td>\n",
       "      <td>1250</td>\n",
       "    </tr>\n",
       "    <tr>\n",
       "      <th>0.57</th>\n",
       "      <td>9938</td>\n",
       "      <td>2918</td>\n",
       "      <td>847</td>\n",
       "      <td>1057</td>\n",
       "      <td>0.359585</td>\n",
       "      <td>0.664086</td>\n",
       "      <td>1301</td>\n",
       "    </tr>\n",
       "    <tr>\n",
       "      <th>0.58</th>\n",
       "      <td>10101</td>\n",
       "      <td>2755</td>\n",
       "      <td>884</td>\n",
       "      <td>1020</td>\n",
       "      <td>0.359218</td>\n",
       "      <td>0.660709</td>\n",
       "      <td>1294</td>\n",
       "    </tr>\n",
       "    <tr>\n",
       "      <th>0.59</th>\n",
       "      <td>10262</td>\n",
       "      <td>2594</td>\n",
       "      <td>922</td>\n",
       "      <td>982</td>\n",
       "      <td>0.358394</td>\n",
       "      <td>0.656991</td>\n",
       "      <td>1274</td>\n",
       "    </tr>\n",
       "    <tr>\n",
       "      <th>0.60</th>\n",
       "      <td>10414</td>\n",
       "      <td>2442</td>\n",
       "      <td>969</td>\n",
       "      <td>935</td>\n",
       "      <td>0.354100</td>\n",
       "      <td>0.650561</td>\n",
       "      <td>1155</td>\n",
       "    </tr>\n",
       "    <tr>\n",
       "      <th>0.61</th>\n",
       "      <td>10566</td>\n",
       "      <td>2290</td>\n",
       "      <td>1005</td>\n",
       "      <td>899</td>\n",
       "      <td>0.353034</td>\n",
       "      <td>0.647018</td>\n",
       "      <td>1135</td>\n",
       "    </tr>\n",
       "    <tr>\n",
       "      <th>0.62</th>\n",
       "      <td>10717</td>\n",
       "      <td>2139</td>\n",
       "      <td>1038</td>\n",
       "      <td>866</td>\n",
       "      <td>0.352821</td>\n",
       "      <td>0.644225</td>\n",
       "      <td>1140</td>\n",
       "    </tr>\n",
       "    <tr>\n",
       "      <th>0.63</th>\n",
       "      <td>10849</td>\n",
       "      <td>2007</td>\n",
       "      <td>1062</td>\n",
       "      <td>842</td>\n",
       "      <td>0.354303</td>\n",
       "      <td>0.643057</td>\n",
       "      <td>1188</td>\n",
       "    </tr>\n",
       "    <tr>\n",
       "      <th>0.64</th>\n",
       "      <td>10993</td>\n",
       "      <td>1863</td>\n",
       "      <td>1102</td>\n",
       "      <td>802</td>\n",
       "      <td>0.351062</td>\n",
       "      <td>0.638153</td>\n",
       "      <td>1116</td>\n",
       "    </tr>\n",
       "  </tbody>\n",
       "</table>\n",
       "</div>"
      ],
      "text/plain": [
       "      T_def_0  F_def_0  F_def_1  T_def_1  f1_score       BAS  profit\n",
       "0.50     8595     4261      611     1293  0.346742  0.673828     739\n",
       "0.51     8821     4035      642     1262  0.350507  0.674477     912\n",
       "0.52     9028     3828      669     1235  0.354528  0.675437    1083\n",
       "0.53     9234     3622      709     1195  0.355602  0.672945    1135\n",
       "0.54     9414     3442      736     1168  0.358612  0.672855    1252\n",
       "0.55     9574     3282      776     1128  0.357301  0.668574    1212\n",
       "0.56     9764     3092      814     1090  0.358199  0.665984    1250\n",
       "0.57     9938     2918      847     1057  0.359585  0.664086    1301\n",
       "0.58    10101     2755      884     1020  0.359218  0.660709    1294\n",
       "0.59    10262     2594      922      982  0.358394  0.656991    1274\n",
       "0.60    10414     2442      969      935  0.354100  0.650561    1155\n",
       "0.61    10566     2290     1005      899  0.353034  0.647018    1135\n",
       "0.62    10717     2139     1038      866  0.352821  0.644225    1140\n",
       "0.63    10849     2007     1062      842  0.354303  0.643057    1188\n",
       "0.64    10993     1863     1102      802  0.351062  0.638153    1116"
      ]
     },
     "execution_count": 86,
     "metadata": {},
     "output_type": "execute_result"
    }
   ],
   "source": [
    "model_LR_sss = model\n",
    "sss = StratifiedShuffleSplit(n_splits=SPLIT, random_state=SEED)\n",
    "\n",
    "train_index, valid_index = [split for split in sss.split(X, y)][0]\n",
    "\n",
    "X_train_sss = X.iloc[train_index, :]\n",
    "y_train_sss = y[train_index]\n",
    "X_valid_sss = X.iloc[valid_index, :]\n",
    "y_valid_sss = y[valid_index]\n",
    "\n",
    "model_LR_sss.fit(X_train_sss, y_train_sss)\n",
    "y_pred_proba = model_LR_sss.predict_proba(X_valid)\n",
    "\n",
    "matrix = pd.DataFrame()\n",
    "res = pd.DataFrame(y_pred_proba[:, 1], columns=['prob'])\n",
    "\n",
    "for threshold in range(50, 65, 1):\n",
    "    y_pred_cut = res.prob.apply(lambda x: 1 if x >= threshold/100 else 0)\n",
    "    T_def_0, F_def_0, F_def_1, T_def_1 = confusion_matrix(y_valid, y_pred_cut).ravel()\n",
    "    f1 = f1_score(y_valid, y_pred_cut.values).T\n",
    "    BAS = balanced_accuracy_score(y_valid, y_pred_cut.values)\n",
    "    matrix = matrix.append(pd.DataFrame(data=[[T_def_0, F_def_0, F_def_1, T_def_1, f1, BAS]], \n",
    "                                        columns=['T_def_0', 'F_def_0', 'F_def_1', 'T_def_1', 'f1_score', 'BAS'], \n",
    "                                        index=[threshold/100]))\n",
    "\n",
    "matrix['profit'] = matrix.T_def_0 - matrix.F_def_0 + matrix.T_def_1 - 8 * matrix.F_def_1\n",
    "\n",
    "# Будем записывать три лучших результата (по метрике f1) в новую таблицу:\n",
    "top3_model_LR_sss = matrix.sort_values(by='f1_score', ascending=False).iloc[:3]\n",
    "matrix"
   ]
  },
  {
   "cell_type": "code",
   "execution_count": 87,
   "id": "ce3276fd",
   "metadata": {
    "execution": {
     "iopub.execute_input": "2022-01-19T07:09:20.909504Z",
     "iopub.status.busy": "2022-01-19T07:09:20.908177Z",
     "iopub.status.idle": "2022-01-19T07:09:21.422117Z",
     "shell.execute_reply": "2022-01-19T07:09:21.422569Z",
     "shell.execute_reply.started": "2022-01-18T12:31:59.851721Z"
    },
    "papermill": {
     "duration": 0.642944,
     "end_time": "2022-01-19T07:09:21.422732",
     "exception": false,
     "start_time": "2022-01-19T07:09:20.779788",
     "status": "completed"
    },
    "tags": []
   },
   "outputs": [
    {
     "name": "stdout",
     "output_type": "stream",
     "text": [
      "              precision    recall  f1-score   support\n",
      "\n",
      "           0       0.92      0.77      0.84     12856\n",
      "           1       0.27      0.56      0.36      1904\n",
      "\n",
      "    accuracy                           0.74     14760\n",
      "   macro avg       0.59      0.66      0.60     14760\n",
      "weighted avg       0.84      0.74      0.78     14760\n",
      "\n"
     ]
    }
   ],
   "source": [
    "max_f1 = matrix[matrix.f1_score == matrix.f1_score.max()].index\n",
    "y_pred_prob = pd.DataFrame(model_LR_sss.predict_proba(X_valid))\n",
    "y_pred = y_pred_prob.iloc[:, -1].apply(lambda x: 1 if x >= max_f1 else 0)\n",
    "print(classification_report(y_valid, y_pred))"
   ]
  },
  {
   "cell_type": "markdown",
   "id": "b52e28af",
   "metadata": {
    "papermill": {
     "duration": 0.117451,
     "end_time": "2022-01-19T07:09:21.657474",
     "exception": false,
     "start_time": "2022-01-19T07:09:21.540023",
     "status": "completed"
    },
    "tags": []
   },
   "source": [
    "### 3. LogisticRegression + KFold"
   ]
  },
  {
   "cell_type": "code",
   "execution_count": 88,
   "id": "7b4eefca",
   "metadata": {
    "execution": {
     "iopub.execute_input": "2022-01-19T07:09:21.904303Z",
     "iopub.status.busy": "2022-01-19T07:09:21.903544Z",
     "iopub.status.idle": "2022-01-19T07:09:25.149959Z",
     "shell.execute_reply": "2022-01-19T07:09:25.150618Z",
     "shell.execute_reply.started": "2022-01-18T12:32:00.366583Z"
    },
    "papermill": {
     "duration": 3.375981,
     "end_time": "2022-01-19T07:09:25.150837",
     "exception": false,
     "start_time": "2022-01-19T07:09:21.774856",
     "status": "completed"
    },
    "tags": []
   },
   "outputs": [
    {
     "data": {
      "text/html": [
       "<div>\n",
       "<style scoped>\n",
       "    .dataframe tbody tr th:only-of-type {\n",
       "        vertical-align: middle;\n",
       "    }\n",
       "\n",
       "    .dataframe tbody tr th {\n",
       "        vertical-align: top;\n",
       "    }\n",
       "\n",
       "    .dataframe thead th {\n",
       "        text-align: right;\n",
       "    }\n",
       "</style>\n",
       "<table border=\"1\" class=\"dataframe\">\n",
       "  <thead>\n",
       "    <tr style=\"text-align: right;\">\n",
       "      <th></th>\n",
       "      <th>T_def_0</th>\n",
       "      <th>F_def_0</th>\n",
       "      <th>F_def_1</th>\n",
       "      <th>T_def_1</th>\n",
       "      <th>f1_score</th>\n",
       "      <th>BAS</th>\n",
       "      <th>profit</th>\n",
       "    </tr>\n",
       "  </thead>\n",
       "  <tbody>\n",
       "    <tr>\n",
       "      <th>0.50</th>\n",
       "      <td>8610</td>\n",
       "      <td>4246</td>\n",
       "      <td>615</td>\n",
       "      <td>1289</td>\n",
       "      <td>0.346552</td>\n",
       "      <td>0.673361</td>\n",
       "      <td>733</td>\n",
       "    </tr>\n",
       "    <tr>\n",
       "      <th>0.51</th>\n",
       "      <td>8825</td>\n",
       "      <td>4031</td>\n",
       "      <td>644</td>\n",
       "      <td>1260</td>\n",
       "      <td>0.350243</td>\n",
       "      <td>0.674107</td>\n",
       "      <td>902</td>\n",
       "    </tr>\n",
       "    <tr>\n",
       "      <th>0.52</th>\n",
       "      <td>9040</td>\n",
       "      <td>3816</td>\n",
       "      <td>676</td>\n",
       "      <td>1228</td>\n",
       "      <td>0.353483</td>\n",
       "      <td>0.674066</td>\n",
       "      <td>1044</td>\n",
       "    </tr>\n",
       "    <tr>\n",
       "      <th>0.53</th>\n",
       "      <td>9240</td>\n",
       "      <td>3616</td>\n",
       "      <td>710</td>\n",
       "      <td>1194</td>\n",
       "      <td>0.355675</td>\n",
       "      <td>0.672916</td>\n",
       "      <td>1138</td>\n",
       "    </tr>\n",
       "    <tr>\n",
       "      <th>0.54</th>\n",
       "      <td>9411</td>\n",
       "      <td>3445</td>\n",
       "      <td>737</td>\n",
       "      <td>1167</td>\n",
       "      <td>0.358195</td>\n",
       "      <td>0.672476</td>\n",
       "      <td>1237</td>\n",
       "    </tr>\n",
       "    <tr>\n",
       "      <th>0.55</th>\n",
       "      <td>9591</td>\n",
       "      <td>3265</td>\n",
       "      <td>779</td>\n",
       "      <td>1125</td>\n",
       "      <td>0.357483</td>\n",
       "      <td>0.668447</td>\n",
       "      <td>1219</td>\n",
       "    </tr>\n",
       "    <tr>\n",
       "      <th>0.56</th>\n",
       "      <td>9775</td>\n",
       "      <td>3081</td>\n",
       "      <td>815</td>\n",
       "      <td>1089</td>\n",
       "      <td>0.358578</td>\n",
       "      <td>0.666150</td>\n",
       "      <td>1263</td>\n",
       "    </tr>\n",
       "    <tr>\n",
       "      <th>0.57</th>\n",
       "      <td>9948</td>\n",
       "      <td>2908</td>\n",
       "      <td>851</td>\n",
       "      <td>1053</td>\n",
       "      <td>0.359079</td>\n",
       "      <td>0.663424</td>\n",
       "      <td>1285</td>\n",
       "    </tr>\n",
       "    <tr>\n",
       "      <th>0.58</th>\n",
       "      <td>10118</td>\n",
       "      <td>2738</td>\n",
       "      <td>879</td>\n",
       "      <td>1025</td>\n",
       "      <td>0.361743</td>\n",
       "      <td>0.662683</td>\n",
       "      <td>1373</td>\n",
       "    </tr>\n",
       "    <tr>\n",
       "      <th>0.59</th>\n",
       "      <td>10262</td>\n",
       "      <td>2594</td>\n",
       "      <td>924</td>\n",
       "      <td>980</td>\n",
       "      <td>0.357795</td>\n",
       "      <td>0.656466</td>\n",
       "      <td>1256</td>\n",
       "    </tr>\n",
       "    <tr>\n",
       "      <th>0.60</th>\n",
       "      <td>10431</td>\n",
       "      <td>2425</td>\n",
       "      <td>972</td>\n",
       "      <td>932</td>\n",
       "      <td>0.354305</td>\n",
       "      <td>0.650434</td>\n",
       "      <td>1162</td>\n",
       "    </tr>\n",
       "    <tr>\n",
       "      <th>0.61</th>\n",
       "      <td>10587</td>\n",
       "      <td>2269</td>\n",
       "      <td>1013</td>\n",
       "      <td>891</td>\n",
       "      <td>0.351896</td>\n",
       "      <td>0.645734</td>\n",
       "      <td>1105</td>\n",
       "    </tr>\n",
       "    <tr>\n",
       "      <th>0.62</th>\n",
       "      <td>10726</td>\n",
       "      <td>2130</td>\n",
       "      <td>1041</td>\n",
       "      <td>863</td>\n",
       "      <td>0.352461</td>\n",
       "      <td>0.643787</td>\n",
       "      <td>1131</td>\n",
       "    </tr>\n",
       "    <tr>\n",
       "      <th>0.63</th>\n",
       "      <td>10853</td>\n",
       "      <td>2003</td>\n",
       "      <td>1065</td>\n",
       "      <td>839</td>\n",
       "      <td>0.353561</td>\n",
       "      <td>0.642424</td>\n",
       "      <td>1169</td>\n",
       "    </tr>\n",
       "    <tr>\n",
       "      <th>0.64</th>\n",
       "      <td>10991</td>\n",
       "      <td>1865</td>\n",
       "      <td>1106</td>\n",
       "      <td>798</td>\n",
       "      <td>0.349464</td>\n",
       "      <td>0.637025</td>\n",
       "      <td>1076</td>\n",
       "    </tr>\n",
       "  </tbody>\n",
       "</table>\n",
       "</div>"
      ],
      "text/plain": [
       "      T_def_0  F_def_0  F_def_1  T_def_1  f1_score       BAS  profit\n",
       "0.50     8610     4246      615     1289  0.346552  0.673361     733\n",
       "0.51     8825     4031      644     1260  0.350243  0.674107     902\n",
       "0.52     9040     3816      676     1228  0.353483  0.674066    1044\n",
       "0.53     9240     3616      710     1194  0.355675  0.672916    1138\n",
       "0.54     9411     3445      737     1167  0.358195  0.672476    1237\n",
       "0.55     9591     3265      779     1125  0.357483  0.668447    1219\n",
       "0.56     9775     3081      815     1089  0.358578  0.666150    1263\n",
       "0.57     9948     2908      851     1053  0.359079  0.663424    1285\n",
       "0.58    10118     2738      879     1025  0.361743  0.662683    1373\n",
       "0.59    10262     2594      924      980  0.357795  0.656466    1256\n",
       "0.60    10431     2425      972      932  0.354305  0.650434    1162\n",
       "0.61    10587     2269     1013      891  0.351896  0.645734    1105\n",
       "0.62    10726     2130     1041      863  0.352461  0.643787    1131\n",
       "0.63    10853     2003     1065      839  0.353561  0.642424    1169\n",
       "0.64    10991     1865     1106      798  0.349464  0.637025    1076"
      ]
     },
     "execution_count": 88,
     "metadata": {},
     "output_type": "execute_result"
    }
   ],
   "source": [
    "model_LR_kf = model\n",
    "kf = KFold(n_splits=SPLIT, shuffle=True, random_state=SEED)\n",
    "\n",
    "for train_index, test_index in kf.split(X, y):\n",
    "    X_train_kf = X.iloc[train_index, :]\n",
    "    y_train_kf = y[train_index]\n",
    "    X_test_kf = X.iloc[test_index, :]\n",
    "    y_test_kf = y[test_index]\n",
    "    model_LR_kf.fit(X_train_kf, y_train_kf)\n",
    "\n",
    "y_pred_proba = model_LR_kf.predict_proba(X_valid)\n",
    "\n",
    "matrix = pd.DataFrame()\n",
    "res = pd.DataFrame(y_pred_proba[:, 1], columns=['prob'])\n",
    "\n",
    "for threshold in range(50, 65, 1):\n",
    "    y_pred_cut = res.prob.apply(lambda x: 1 if x >= threshold/100 else 0)\n",
    "    T_def_0, F_def_0, F_def_1, T_def_1 = confusion_matrix(y_valid, y_pred_cut).ravel()\n",
    "    f1 = f1_score(y_valid, y_pred_cut.values).T\n",
    "    BAS = balanced_accuracy_score(y_valid, y_pred_cut.values)\n",
    "    matrix = matrix.append(pd.DataFrame(data=[[T_def_0, F_def_0, F_def_1, T_def_1, f1, BAS]], \n",
    "                                        columns=['T_def_0', 'F_def_0', 'F_def_1', 'T_def_1', 'f1_score', 'BAS'], \n",
    "                                        index=[threshold/100]))\n",
    "\n",
    "matrix['profit'] = matrix.T_def_0 - matrix.F_def_0 + matrix.T_def_1 - 8 * matrix.F_def_1\n",
    "\n",
    "# Будем записывать три лучших результата (по метрике f1) в новую таблицу:\n",
    "top3_model_LR_kf = matrix.sort_values(by='f1_score', ascending=False).iloc[:3]\n",
    "matrix"
   ]
  },
  {
   "cell_type": "code",
   "execution_count": 89,
   "id": "aa86727c",
   "metadata": {
    "execution": {
     "iopub.execute_input": "2022-01-19T07:09:25.555597Z",
     "iopub.status.busy": "2022-01-19T07:09:25.554746Z",
     "iopub.status.idle": "2022-01-19T07:09:26.053064Z",
     "shell.execute_reply": "2022-01-19T07:09:26.053565Z",
     "shell.execute_reply.started": "2022-01-18T12:32:03.424883Z"
    },
    "papermill": {
     "duration": 0.698519,
     "end_time": "2022-01-19T07:09:26.053732",
     "exception": false,
     "start_time": "2022-01-19T07:09:25.355213",
     "status": "completed"
    },
    "tags": []
   },
   "outputs": [
    {
     "name": "stdout",
     "output_type": "stream",
     "text": [
      "              precision    recall  f1-score   support\n",
      "\n",
      "           0       0.92      0.79      0.85     12856\n",
      "           1       0.27      0.54      0.36      1904\n",
      "\n",
      "    accuracy                           0.75     14760\n",
      "   macro avg       0.60      0.66      0.61     14760\n",
      "weighted avg       0.84      0.75      0.79     14760\n",
      "\n"
     ]
    }
   ],
   "source": [
    "max_f1 = matrix[matrix.f1_score == matrix.f1_score.max()].index\n",
    "y_pred_prob = pd.DataFrame(model_LR_kf.predict_proba(X_valid))\n",
    "y_pred = y_pred_prob.iloc[:, -1].apply(lambda x: 1 if x >= max_f1 else 0)\n",
    "print(classification_report(y_valid, y_pred))"
   ]
  },
  {
   "cell_type": "markdown",
   "id": "9c13a796",
   "metadata": {
    "papermill": {
     "duration": 0.119386,
     "end_time": "2022-01-19T07:09:26.291768",
     "exception": false,
     "start_time": "2022-01-19T07:09:26.172382",
     "status": "completed"
    },
    "tags": []
   },
   "source": [
    "## 9. Submission"
   ]
  },
  {
   "cell_type": "code",
   "execution_count": 90,
   "id": "fc599adc",
   "metadata": {
    "execution": {
     "iopub.execute_input": "2022-01-19T07:09:26.540210Z",
     "iopub.status.busy": "2022-01-19T07:09:26.539327Z",
     "iopub.status.idle": "2022-01-19T07:09:26.547836Z",
     "shell.execute_reply": "2022-01-19T07:09:26.548374Z",
     "shell.execute_reply.started": "2022-01-18T12:32:03.939212Z"
    },
    "papermill": {
     "duration": 0.138763,
     "end_time": "2022-01-19T07:09:26.548566",
     "exception": false,
     "start_time": "2022-01-19T07:09:26.409803",
     "status": "completed"
    },
    "tags": []
   },
   "outputs": [
    {
     "data": {
      "text/html": [
       "<div>\n",
       "<style scoped>\n",
       "    .dataframe tbody tr th:only-of-type {\n",
       "        vertical-align: middle;\n",
       "    }\n",
       "\n",
       "    .dataframe tbody tr th {\n",
       "        vertical-align: top;\n",
       "    }\n",
       "\n",
       "    .dataframe thead th {\n",
       "        text-align: right;\n",
       "    }\n",
       "</style>\n",
       "<table border=\"1\" class=\"dataframe\">\n",
       "  <thead>\n",
       "    <tr style=\"text-align: right;\">\n",
       "      <th></th>\n",
       "      <th></th>\n",
       "      <th>T_def_0</th>\n",
       "      <th>F_def_0</th>\n",
       "      <th>F_def_1</th>\n",
       "      <th>T_def_1</th>\n",
       "      <th>f1_score</th>\n",
       "      <th>BAS</th>\n",
       "      <th>profit</th>\n",
       "    </tr>\n",
       "  </thead>\n",
       "  <tbody>\n",
       "    <tr>\n",
       "      <th rowspan=\"3\" valign=\"top\">model_LR</th>\n",
       "      <th>0.58</th>\n",
       "      <td>10109</td>\n",
       "      <td>2747</td>\n",
       "      <td>879</td>\n",
       "      <td>1025</td>\n",
       "      <td>0.361170</td>\n",
       "      <td>0.662333</td>\n",
       "      <td>1355</td>\n",
       "    </tr>\n",
       "    <tr>\n",
       "      <th>0.57</th>\n",
       "      <td>9940</td>\n",
       "      <td>2916</td>\n",
       "      <td>847</td>\n",
       "      <td>1057</td>\n",
       "      <td>0.359707</td>\n",
       "      <td>0.664163</td>\n",
       "      <td>1305</td>\n",
       "    </tr>\n",
       "    <tr>\n",
       "      <th>0.54</th>\n",
       "      <td>9415</td>\n",
       "      <td>3441</td>\n",
       "      <td>737</td>\n",
       "      <td>1167</td>\n",
       "      <td>0.358415</td>\n",
       "      <td>0.672632</td>\n",
       "      <td>1245</td>\n",
       "    </tr>\n",
       "    <tr>\n",
       "      <th rowspan=\"3\" valign=\"top\">model_LR_sss</th>\n",
       "      <th>0.57</th>\n",
       "      <td>9938</td>\n",
       "      <td>2918</td>\n",
       "      <td>847</td>\n",
       "      <td>1057</td>\n",
       "      <td>0.359585</td>\n",
       "      <td>0.664086</td>\n",
       "      <td>1301</td>\n",
       "    </tr>\n",
       "    <tr>\n",
       "      <th>0.58</th>\n",
       "      <td>10101</td>\n",
       "      <td>2755</td>\n",
       "      <td>884</td>\n",
       "      <td>1020</td>\n",
       "      <td>0.359218</td>\n",
       "      <td>0.660709</td>\n",
       "      <td>1294</td>\n",
       "    </tr>\n",
       "    <tr>\n",
       "      <th>0.54</th>\n",
       "      <td>9414</td>\n",
       "      <td>3442</td>\n",
       "      <td>736</td>\n",
       "      <td>1168</td>\n",
       "      <td>0.358612</td>\n",
       "      <td>0.672855</td>\n",
       "      <td>1252</td>\n",
       "    </tr>\n",
       "    <tr>\n",
       "      <th rowspan=\"3\" valign=\"top\">model_LR_kf</th>\n",
       "      <th>0.58</th>\n",
       "      <td>10118</td>\n",
       "      <td>2738</td>\n",
       "      <td>879</td>\n",
       "      <td>1025</td>\n",
       "      <td>0.361743</td>\n",
       "      <td>0.662683</td>\n",
       "      <td>1373</td>\n",
       "    </tr>\n",
       "    <tr>\n",
       "      <th>0.57</th>\n",
       "      <td>9948</td>\n",
       "      <td>2908</td>\n",
       "      <td>851</td>\n",
       "      <td>1053</td>\n",
       "      <td>0.359079</td>\n",
       "      <td>0.663424</td>\n",
       "      <td>1285</td>\n",
       "    </tr>\n",
       "    <tr>\n",
       "      <th>0.56</th>\n",
       "      <td>9775</td>\n",
       "      <td>3081</td>\n",
       "      <td>815</td>\n",
       "      <td>1089</td>\n",
       "      <td>0.358578</td>\n",
       "      <td>0.666150</td>\n",
       "      <td>1263</td>\n",
       "    </tr>\n",
       "  </tbody>\n",
       "</table>\n",
       "</div>"
      ],
      "text/plain": [
       "                   T_def_0  F_def_0  F_def_1  T_def_1  f1_score       BAS  profit\n",
       "model_LR     0.58    10109     2747      879     1025  0.361170  0.662333    1355\n",
       "             0.57     9940     2916      847     1057  0.359707  0.664163    1305\n",
       "             0.54     9415     3441      737     1167  0.358415  0.672632    1245\n",
       "model_LR_sss 0.57     9938     2918      847     1057  0.359585  0.664086    1301\n",
       "             0.58    10101     2755      884     1020  0.359218  0.660709    1294\n",
       "             0.54     9414     3442      736     1168  0.358612  0.672855    1252\n",
       "model_LR_kf  0.58    10118     2738      879     1025  0.361743  0.662683    1373\n",
       "             0.57     9948     2908      851     1053  0.359079  0.663424    1285\n",
       "             0.56     9775     3081      815     1089  0.358578  0.666150    1263"
      ]
     },
     "execution_count": 90,
     "metadata": {},
     "output_type": "execute_result"
    }
   ],
   "source": [
    "# Выбирем лучшую модель и порог отсечения:\n",
    "top_score_df = pd.DataFrame()\n",
    "top_score_df = pd.concat([top3_model_LR, top3_model_LR_sss, top3_model_LR_kf], keys=['model_LR', 'model_LR_sss', 'model_LR_kf'])\n",
    "top_score_df"
   ]
  },
  {
   "cell_type": "code",
   "execution_count": 91,
   "id": "f4a78e61",
   "metadata": {
    "execution": {
     "iopub.execute_input": "2022-01-19T07:09:26.790685Z",
     "iopub.status.busy": "2022-01-19T07:09:26.790109Z",
     "iopub.status.idle": "2022-01-19T07:09:26.793860Z",
     "shell.execute_reply": "2022-01-19T07:09:26.793398Z",
     "shell.execute_reply.started": "2022-01-18T12:32:03.960706Z"
    },
    "papermill": {
     "duration": 0.125751,
     "end_time": "2022-01-19T07:09:26.793976",
     "exception": false,
     "start_time": "2022-01-19T07:09:26.668225",
     "status": "completed"
    },
    "tags": []
   },
   "outputs": [],
   "source": [
    "# Лучшие полученные результаты по f1 на валидации (но с ухудшением на test):\n",
    "# 0.362998 - model_LR\n",
    "# 0.364388 - model_LR_sss\n",
    "# 0.363171 - model_LR_kf"
   ]
  },
  {
   "cell_type": "code",
   "execution_count": 92,
   "id": "a1fb0d5c",
   "metadata": {
    "execution": {
     "iopub.execute_input": "2022-01-19T07:09:27.043582Z",
     "iopub.status.busy": "2022-01-19T07:09:27.042390Z",
     "iopub.status.idle": "2022-01-19T07:09:27.208485Z",
     "shell.execute_reply": "2022-01-19T07:09:27.208046Z",
     "shell.execute_reply.started": "2022-01-18T12:32:03.966614Z"
    },
    "papermill": {
     "duration": 0.296414,
     "end_time": "2022-01-19T07:09:27.208625",
     "exception": false,
     "start_time": "2022-01-19T07:09:26.912211",
     "status": "completed"
    },
    "tags": []
   },
   "outputs": [
    {
     "name": "stdout",
     "output_type": "stream",
     "text": [
      "(36349, 2)\n"
     ]
    },
    {
     "data": {
      "text/html": [
       "<div>\n",
       "<style scoped>\n",
       "    .dataframe tbody tr th:only-of-type {\n",
       "        vertical-align: middle;\n",
       "    }\n",
       "\n",
       "    .dataframe tbody tr th {\n",
       "        vertical-align: top;\n",
       "    }\n",
       "\n",
       "    .dataframe thead th {\n",
       "        text-align: right;\n",
       "    }\n",
       "</style>\n",
       "<table border=\"1\" class=\"dataframe\">\n",
       "  <thead>\n",
       "    <tr style=\"text-align: right;\">\n",
       "      <th></th>\n",
       "      <th>client_id</th>\n",
       "      <th>default</th>\n",
       "    </tr>\n",
       "  </thead>\n",
       "  <tbody>\n",
       "    <tr>\n",
       "      <th>0</th>\n",
       "      <td>74835</td>\n",
       "      <td>0</td>\n",
       "    </tr>\n",
       "    <tr>\n",
       "      <th>1</th>\n",
       "      <td>17527</td>\n",
       "      <td>1</td>\n",
       "    </tr>\n",
       "    <tr>\n",
       "      <th>2</th>\n",
       "      <td>75683</td>\n",
       "      <td>0</td>\n",
       "    </tr>\n",
       "    <tr>\n",
       "      <th>3</th>\n",
       "      <td>26883</td>\n",
       "      <td>0</td>\n",
       "    </tr>\n",
       "    <tr>\n",
       "      <th>4</th>\n",
       "      <td>28862</td>\n",
       "      <td>0</td>\n",
       "    </tr>\n",
       "  </tbody>\n",
       "</table>\n",
       "</div>"
      ],
      "text/plain": [
       "   client_id  default\n",
       "0      74835        0\n",
       "1      17527        1\n",
       "2      75683        0\n",
       "3      26883        0\n",
       "4      28862        0"
      ]
     },
     "execution_count": 92,
     "metadata": {},
     "output_type": "execute_result"
    }
   ],
   "source": [
    "# На основании рассчитаных ранее результатов по f1 выберем соответвующую модель и порог отсечения:\n",
    "threshold_cut = 0.588 # загрузив несколько раз submission установим более точно порог отсечения.\n",
    "predict_submission = model_LR.predict_proba(test)    # X_Over, 0.588; f1=0.35401\n",
    "# predict_submission = model_LR_sss.predict_proba(test)  \n",
    "# predict_submission = model_LR_kf.predict_proba(test)\n",
    "\n",
    "# Загружаем итоговый расчет в 'submission.csv':\n",
    "sample_submission = pd.read_csv(DATA_DIR+'/sample_submission.csv')\n",
    "sample_submission['default'] = predict_submission[:, -1]\n",
    "sample_submission['default'] = sample_submission['default'].apply(lambda x: 1 if x >= threshold_cut else 0)\n",
    "sample_submission.to_csv('submission.csv', index=False)\n",
    "\n",
    "print(sample_submission.shape)\n",
    "sample_submission.head(5)"
   ]
  },
  {
   "cell_type": "markdown",
   "id": "cae8e9de",
   "metadata": {
    "papermill": {
     "duration": 0.119491,
     "end_time": "2022-01-19T07:09:27.446927",
     "exception": false,
     "start_time": "2022-01-19T07:09:27.327436",
     "status": "completed"
    },
    "tags": []
   },
   "source": [
    "## 10. Выводы:"
   ]
  },
  {
   "cell_type": "markdown",
   "id": "120ca80e",
   "metadata": {
    "papermill": {
     "duration": 0.118771,
     "end_time": "2022-01-19T07:09:27.684818",
     "exception": false,
     "start_time": "2022-01-19T07:09:27.566047",
     "status": "completed"
    },
    "tags": []
   },
   "source": [
    "Достич максимального результата в 0,35554 (submission на test) фактически удалось за счет следующих действий:\n",
    "* обработка первичных признаков (группировок, преобразования категориальных в ординальные или числовые признаки), создания новых признаков ('month', 'sex_car') и удаления не эффективных ('client_id', 'car', 'sex');\n",
    "* нормализации всей выборки (RobustScaler) и балансировки обучающей выборки (RandomOverSampler);\n",
    "* применения модели LogisticRegression и подбор гиперпараметров методом GridSearchCV;\n",
    "* определением оптимального порого отсечения вероятности дефолта (благодарность за подсказку - Daniil Martsenyuk).\n",
    "\n",
    "При этом было затрачено огромное кол-во времени в попытках улучшить качество прогноза модели (наверное около 90% от общего затраченного времени), но практически с нулевым результатом (или на уровне прироста +0,001-0,002). Проблема заключалось в том что при определенных изменениях в обработке данных получал прирост f1 для валидационной выборки (до 0,364), но при этом одновременно получал ухудшение результата на итоговом наборе данных (test), что требовало фактически проверки каждого незначительного изменения на submission. Так же усложняло задачу то что для валидационной выборки оптимальный порог отсечения определялся на уровне 0,56-0,57, в то время как для итогового набора данных оптимальный порог отсечения находился в районе 0,59."
   ]
  }
 ],
 "metadata": {
  "kernelspec": {
   "display_name": "Python 3",
   "language": "python",
   "name": "python3"
  },
  "language_info": {
   "codemirror_mode": {
    "name": "ipython",
    "version": 3
   },
   "file_extension": ".py",
   "mimetype": "text/x-python",
   "name": "python",
   "nbconvert_exporter": "python",
   "pygments_lexer": "ipython3",
   "version": "3.9.10"
  },
  "papermill": {
   "default_parameters": {},
   "duration": 101.370656,
   "end_time": "2022-01-19T07:09:28.513634",
   "environment_variables": {},
   "exception": null,
   "input_path": "__notebook__.ipynb",
   "output_path": "__notebook__.ipynb",
   "parameters": {},
   "start_time": "2022-01-19T07:07:47.142978",
   "version": "2.3.3"
  }
 },
 "nbformat": 4,
 "nbformat_minor": 5
}
